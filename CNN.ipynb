{
 "cells": [
  {
   "cell_type": "markdown",
   "metadata": {
    "id": "c1mOQMtve_1h"
   },
   "source": [
    "Import Necessary Libraries"
   ]
  },
  {
   "cell_type": "code",
   "execution_count": 1,
   "metadata": {
    "id": "9vprswKAZFsV"
   },
   "outputs": [],
   "source": [
    "import numpy as np\n",
    "import pandas as pd\n",
    "import matplotlib.pyplot as plt\n",
    "from sklearn.metrics import accuracy_score,confusion_matrix,classification_report,roc_auc_score,roc_curve,precision_recall_curve,f1_score,auc\n",
    "from sklearn.metrics import f1_score, accuracy_score, precision_score, recall_score, make_scorer\n",
    "from sklearn.model_selection import train_test_split\n",
    "from time import time\n",
    "import nltk\n",
    "from nltk.stem import PorterStemmer,WordNetLemmatizer\n",
    "from nltk.corpus import stopwords\n",
    "from collections import Counter\n",
    "import tensorflow \n",
    "from keras.preprocessing.text import Tokenizer\n",
    "from tensorflow.keras.preprocessing.text import one_hot\n",
    "from tensorflow.keras.preprocessing.sequence import pad_sequences\n",
    "from tensorflow.keras import layers\n",
    "from tensorflow.keras.models import Model\n",
    "import re\n",
    "import gensim"
   ]
  },
  {
   "cell_type": "markdown",
   "metadata": {
    "id": "2L_-_XJ4HY27"
   },
   "source": [
    "Import Dataset"
   ]
  },
  {
   "cell_type": "code",
   "execution_count": 2,
   "metadata": {
    "id": "Ros9Llm1lVDg"
   },
   "outputs": [],
   "source": [
    "formspring='https://raw.githubusercontent.com/eimearfoley/CyberBullyingDetection/master/data/formspring.csv'"
   ]
  },
  {
   "cell_type": "code",
   "execution_count": 3,
   "metadata": {
    "id": "7491c915"
   },
   "outputs": [],
   "source": [
    "df=pd.read_csv(formspring)"
   ]
  },
  {
   "cell_type": "markdown",
   "metadata": {
    "id": "J7pwz3lxLg5w"
   },
   "source": [
    "Analyze Dataset"
   ]
  },
  {
   "cell_type": "code",
   "execution_count": 4,
   "metadata": {
    "colab": {
     "base_uri": "https://localhost:8080/",
     "height": 611
    },
    "id": "_nPQHXRoFlYJ",
    "outputId": "360d160f-7ca4-42d9-9029-cd0e2fbb18bc"
   },
   "outputs": [
    {
     "name": "stdout",
     "output_type": "stream",
     "text": [
      "<class 'pandas.core.frame.DataFrame'>\n",
      "RangeIndex: 12901 entries, 0 to 12900\n",
      "Data columns (total 14 columns):\n",
      " #   Column     Non-Null Count  Dtype \n",
      "---  ------     --------------  ----- \n",
      " 0   userid     12896 non-null  object\n",
      " 1   post       12852 non-null  object\n",
      " 2   ques       12852 non-null  object\n",
      " 3   ans        12820 non-null  object\n",
      " 4   asker      12801 non-null  object\n",
      " 5   ans1       12759 non-null  object\n",
      " 6   severity1  12788 non-null  object\n",
      " 7   bully1     1909 non-null   object\n",
      " 8   ans2       12701 non-null  object\n",
      " 9   severity2  12739 non-null  object\n",
      " 10  bully2     1786 non-null   object\n",
      " 11  ans3       12655 non-null  object\n",
      " 12  severity3  12698 non-null  object\n",
      " 13  bully3     1780 non-null   object\n",
      "dtypes: object(14)\n",
      "memory usage: 1.4+ MB\n"
     ]
    },
    {
     "data": {
      "text/html": [
       "<div>\n",
       "<style scoped>\n",
       "    .dataframe tbody tr th:only-of-type {\n",
       "        vertical-align: middle;\n",
       "    }\n",
       "\n",
       "    .dataframe tbody tr th {\n",
       "        vertical-align: top;\n",
       "    }\n",
       "\n",
       "    .dataframe thead th {\n",
       "        text-align: right;\n",
       "    }\n",
       "</style>\n",
       "<table border=\"1\" class=\"dataframe\">\n",
       "  <thead>\n",
       "    <tr style=\"text-align: right;\">\n",
       "      <th></th>\n",
       "      <th>userid</th>\n",
       "      <th>post</th>\n",
       "      <th>ques</th>\n",
       "      <th>ans</th>\n",
       "      <th>asker</th>\n",
       "      <th>ans1</th>\n",
       "      <th>severity1</th>\n",
       "      <th>bully1</th>\n",
       "      <th>ans2</th>\n",
       "      <th>severity2</th>\n",
       "      <th>bully2</th>\n",
       "      <th>ans3</th>\n",
       "      <th>severity3</th>\n",
       "      <th>bully3</th>\n",
       "    </tr>\n",
       "  </thead>\n",
       "  <tbody>\n",
       "    <tr>\n",
       "      <th>0</th>\n",
       "      <td>aguitarplayer94</td>\n",
       "      <td>Q: what&amp;#039;s your favorite song? :D&lt;br&gt;A: I ...</td>\n",
       "      <td>what&amp;#039;s your favorite song? :D&lt;br&gt;</td>\n",
       "      <td>I like too many songs to have a favorite</td>\n",
       "      <td>None</td>\n",
       "      <td>No</td>\n",
       "      <td>0</td>\n",
       "      <td>NaN</td>\n",
       "      <td>No</td>\n",
       "      <td>0</td>\n",
       "      <td>NaN</td>\n",
       "      <td>No</td>\n",
       "      <td>0</td>\n",
       "      <td>NaN</td>\n",
       "    </tr>\n",
       "    <tr>\n",
       "      <th>1</th>\n",
       "      <td>aprilpooh15</td>\n",
       "      <td>Q: &lt;3&lt;br&gt;A: &lt;/3 ? haha jk! &lt;33</td>\n",
       "      <td>&lt;3</td>\n",
       "      <td>&lt;/3 ? haha jk! &lt;33</td>\n",
       "      <td>None</td>\n",
       "      <td>No</td>\n",
       "      <td>0</td>\n",
       "      <td>NaN</td>\n",
       "      <td>No</td>\n",
       "      <td>0</td>\n",
       "      <td>NaN</td>\n",
       "      <td>No</td>\n",
       "      <td>0</td>\n",
       "      <td>NaN</td>\n",
       "    </tr>\n",
       "    <tr>\n",
       "      <th>2</th>\n",
       "      <td>aprilpooh15</td>\n",
       "      <td>Q: &amp;quot;hey angel  you duh sexy&amp;quot;&lt;br&gt;A: R...</td>\n",
       "      <td>&amp;quot;hey angel  you duh sexy&amp;quot;</td>\n",
       "      <td>Really?!?! Thanks?! haha</td>\n",
       "      <td>None</td>\n",
       "      <td>No</td>\n",
       "      <td>0</td>\n",
       "      <td>NaN</td>\n",
       "      <td>No</td>\n",
       "      <td>0</td>\n",
       "      <td>NaN</td>\n",
       "      <td>No</td>\n",
       "      <td>0</td>\n",
       "      <td>NaN</td>\n",
       "    </tr>\n",
       "    <tr>\n",
       "      <th>3</th>\n",
       "      <td>aprilpooh15</td>\n",
       "      <td>Q: (:&lt;br&gt;A: ;(</td>\n",
       "      <td>(:</td>\n",
       "      <td>;(</td>\n",
       "      <td>None</td>\n",
       "      <td>No</td>\n",
       "      <td>0</td>\n",
       "      <td>NaN</td>\n",
       "      <td>No</td>\n",
       "      <td>0</td>\n",
       "      <td>NaN</td>\n",
       "      <td>No</td>\n",
       "      <td>0</td>\n",
       "      <td>NaN</td>\n",
       "    </tr>\n",
       "    <tr>\n",
       "      <th>4</th>\n",
       "      <td>aprilpooh15</td>\n",
       "      <td>Q: ******************MEOWWW*******************...</td>\n",
       "      <td>******************MEOWWW*************************</td>\n",
       "      <td>*RAWR*?</td>\n",
       "      <td>None</td>\n",
       "      <td>No</td>\n",
       "      <td>0</td>\n",
       "      <td>NaN</td>\n",
       "      <td>No</td>\n",
       "      <td>0</td>\n",
       "      <td>NaN</td>\n",
       "      <td>No</td>\n",
       "      <td>0</td>\n",
       "      <td>NaN</td>\n",
       "    </tr>\n",
       "  </tbody>\n",
       "</table>\n",
       "</div>"
      ],
      "text/plain": [
       "            userid  ... bully3\n",
       "0  aguitarplayer94  ...    NaN\n",
       "1      aprilpooh15  ...    NaN\n",
       "2      aprilpooh15  ...    NaN\n",
       "3      aprilpooh15  ...    NaN\n",
       "4      aprilpooh15  ...    NaN\n",
       "\n",
       "[5 rows x 14 columns]"
      ]
     },
     "execution_count": 4,
     "metadata": {
      "tags": []
     },
     "output_type": "execute_result"
    }
   ],
   "source": [
    "df.info()\n",
    "df.head()"
   ]
  },
  {
   "cell_type": "code",
   "execution_count": 5,
   "metadata": {
    "colab": {
     "base_uri": "https://localhost:8080/"
    },
    "id": "7nH9GH1dGby0",
    "outputId": "6a1cf3d8-48c0-4ae7-912b-9ff6a311b11f"
   },
   "outputs": [
    {
     "data": {
      "text/plain": [
       "0    Q: what&#039;s your favorite song? :D<br>A: I ...\n",
       "1                       Q: <3<br>A: </3 ? haha jk! <33\n",
       "2    Q: &quot;hey angel  you duh sexy&quot;<br>A: R...\n",
       "3                                       Q: (:<br>A: ;(\n",
       "4    Q: ******************MEOWWW*******************...\n",
       "5    Q: any makeup tips? i suck at doing my makeup ...\n",
       "6    Q: Apriiiiiiiiiiiill!!! I miss uuuu! It&#039;s...\n",
       "7    Q: Are you a morning or night person?<br>A: Ni...\n",
       "8    Q: are you a trusting person?<br>A: alreadi an...\n",
       "9    Q: are you a trusting person?<br>A: Yes veryy ...\n",
       "Name: post, dtype: object"
      ]
     },
     "execution_count": 5,
     "metadata": {
      "tags": []
     },
     "output_type": "execute_result"
    }
   ],
   "source": [
    "df['post'][:10]"
   ]
  },
  {
   "cell_type": "code",
   "execution_count": 6,
   "metadata": {
    "colab": {
     "base_uri": "https://localhost:8080/"
    },
    "id": "lVCmGlRNGb1F",
    "outputId": "7b3b52e8-400f-4df7-e28c-d42de534359c"
   },
   "outputs": [
    {
     "data": {
      "text/plain": [
       "0               what&#039;s your favorite song? :D<br>\n",
       "1                                                   <3\n",
       "2                  &quot;hey angel  you duh sexy&quot;\n",
       "3                                                   (:\n",
       "4    ******************MEOWWW*************************\n",
       "5       any makeup tips? i suck at doing my makeup lol\n",
       "6    Apriiiiiiiiiiiill!!! I miss uuuu! It&#039;s Em...\n",
       "7                   Are you a morning or night person?\n",
       "8                           are you a trusting person?\n",
       "9                           are you a trusting person?\n",
       "Name: ques, dtype: object"
      ]
     },
     "execution_count": 6,
     "metadata": {
      "tags": []
     },
     "output_type": "execute_result"
    }
   ],
   "source": [
    "df['ques'][:10]"
   ]
  },
  {
   "cell_type": "code",
   "execution_count": 7,
   "metadata": {
    "colab": {
     "base_uri": "https://localhost:8080/"
    },
    "id": "i2OAxdCGGb57",
    "outputId": "89b13b7d-303e-425c-860e-f67b7081ac6a"
   },
   "outputs": [
    {
     "data": {
      "text/plain": [
       "0             I like too many songs to have a favorite\n",
       "1                                   </3 ? haha jk! <33\n",
       "2                             Really?!?! Thanks?! haha\n",
       "3                                                   ;(\n",
       "4                                              *RAWR*?\n",
       "5     Sure! Like tell me wht u wnna know?! Like wht...\n",
       "6     EMMA hahahahah :D I MISSSSSeddd YUHHHHh 22222...\n",
       "7                                      Night 4shuree!!\n",
       "8                                       alreadi answrd\n",
       "9         Yes veryy trustin person!!! May i help yuh:!\n",
       "Name: ans, dtype: object"
      ]
     },
     "execution_count": 7,
     "metadata": {
      "tags": []
     },
     "output_type": "execute_result"
    }
   ],
   "source": [
    "df['ans'][:10]"
   ]
  },
  {
   "cell_type": "code",
   "execution_count": 8,
   "metadata": {
    "colab": {
     "base_uri": "https://localhost:8080/"
    },
    "id": "uWXkkBEHMOTJ",
    "outputId": "6c78eca6-2016-4a8f-8dfc-2cf57569a0ba"
   },
   "outputs": [
    {
     "data": {
      "text/plain": [
       "100    NaN\n",
       "101    NaN\n",
       "102    NaN\n",
       "103    NaN\n",
       "104    NaN\n",
       "105    NaN\n",
       "106    NaN\n",
       "107    NaN\n",
       "108    NaN\n",
       "109    NaN\n",
       "Name: bully1, dtype: object"
      ]
     },
     "execution_count": 8,
     "metadata": {
      "tags": []
     },
     "output_type": "execute_result"
    }
   ],
   "source": [
    "df['bully1'][100:110]"
   ]
  },
  {
   "cell_type": "code",
   "execution_count": 9,
   "metadata": {
    "colab": {
     "base_uri": "https://localhost:8080/"
    },
    "id": "EDf-GYvgL9Bn",
    "outputId": "e4de7fa0-1590-45f7-c1f0-5e171af68626"
   },
   "outputs": [
    {
     "data": {
      "text/plain": [
       "None                               593\n",
       "Na                                  89\n",
       "N/A.                                74\n",
       "N/a                                 47\n",
       "no                                  47\n",
       "                                  ... \n",
       "sexual                               1\n",
       "listen asshole                       1\n",
       "\"\"\"sexy, dumbasssssss, bitch\"\"\"      1\n",
       "Prank call this person               1\n",
       "BULLSHIT                             1\n",
       "Name: bully1, Length: 1012, dtype: int64"
      ]
     },
     "execution_count": 9,
     "metadata": {
      "tags": []
     },
     "output_type": "execute_result"
    }
   ],
   "source": [
    "df['bully1'].value_counts()"
   ]
  },
  {
   "cell_type": "code",
   "execution_count": 10,
   "metadata": {
    "colab": {
     "base_uri": "https://localhost:8080/"
    },
    "id": "pVs5_cAbQPsY",
    "outputId": "f4415828-5cb3-4c94-a33c-ef1e077fcf74"
   },
   "outputs": [
    {
     "name": "stdout",
     "output_type": "stream",
     "text": [
      "No     11693\n",
      "Yes     1038\n",
      "0         12\n",
      "5          5\n",
      "3          5\n",
      "1          2\n",
      "4          1\n",
      "7          1\n",
      "2          1\n",
      "6          1\n",
      "Name: ans1, dtype: int64\n",
      "No     11696\n",
      "Yes     1005\n",
      "Name: ans2, dtype: int64\n",
      "No     11711\n",
      "Yes      944\n",
      "Name: ans3, dtype: int64\n"
     ]
    }
   ],
   "source": [
    "print(df['ans1'].value_counts())\n",
    "print(df['ans2'].value_counts())\n",
    "print(df['ans3'].value_counts())"
   ]
  },
  {
   "cell_type": "code",
   "execution_count": 11,
   "metadata": {
    "id": "JBWzu5jkM6px"
   },
   "outputs": [],
   "source": [
    "df = df[df['post'].notna()]"
   ]
  },
  {
   "cell_type": "code",
   "execution_count": 12,
   "metadata": {
    "colab": {
     "base_uri": "https://localhost:8080/"
    },
    "id": "9yQWU1x3NNYn",
    "outputId": "c58809b5-fae0-4814-8c02-f6fd64e3a5ae"
   },
   "outputs": [
    {
     "name": "stdout",
     "output_type": "stream",
     "text": [
      "<class 'pandas.core.frame.DataFrame'>\n",
      "Int64Index: 12852 entries, 0 to 12900\n",
      "Data columns (total 14 columns):\n",
      " #   Column     Non-Null Count  Dtype \n",
      "---  ------     --------------  ----- \n",
      " 0   userid     12852 non-null  object\n",
      " 1   post       12852 non-null  object\n",
      " 2   ques       12850 non-null  object\n",
      " 3   ans        12819 non-null  object\n",
      " 4   asker      12801 non-null  object\n",
      " 5   ans1       12759 non-null  object\n",
      " 6   severity1  12788 non-null  object\n",
      " 7   bully1     1909 non-null   object\n",
      " 8   ans2       12701 non-null  object\n",
      " 9   severity2  12739 non-null  object\n",
      " 10  bully2     1786 non-null   object\n",
      " 11  ans3       12655 non-null  object\n",
      " 12  severity3  12698 non-null  object\n",
      " 13  bully3     1780 non-null   object\n",
      "dtypes: object(14)\n",
      "memory usage: 1.5+ MB\n"
     ]
    }
   ],
   "source": [
    "df.info()"
   ]
  },
  {
   "cell_type": "code",
   "execution_count": 13,
   "metadata": {
    "id": "7eJuUpDRtA6r"
   },
   "outputs": [],
   "source": [
    "ans=np.array(df['ans'])\n",
    "ques=np.array(df['ques'])\n",
    "posts=[]\n",
    "for i in range (0,len(ans)):\n",
    "  posts.append(str(ques[i])+str(ans[i]))"
   ]
  },
  {
   "cell_type": "code",
   "execution_count": 14,
   "metadata": {
    "colab": {
     "base_uri": "https://localhost:8080/"
    },
    "id": "8dkVwBrwLZz6",
    "outputId": "58dc8b41-30e0-4183-acd4-7fd7809b3e84"
   },
   "outputs": [
    {
     "name": "stdout",
     "output_type": "stream",
     "text": [
      "what&#039;s your favorite song? :D<br>\n",
      " I like too many songs to have a favorite\n",
      "what&#039;s your favorite song? :D<br> I like too many songs to have a favorite\n"
     ]
    }
   ],
   "source": [
    "print(ques[0])\n",
    "print(ans[0])\n",
    "print(posts[0])"
   ]
  },
  {
   "cell_type": "code",
   "execution_count": 15,
   "metadata": {
    "id": "qG2W5gupMb9q"
   },
   "outputs": [],
   "source": [
    "y1=np.array(df['ans1'])\n",
    "y2=np.array(df['ans2'])\n",
    "y3=np.array(df['ans3'])"
   ]
  },
  {
   "cell_type": "code",
   "execution_count": 16,
   "metadata": {
    "id": "dl0ihqhIMcAR"
   },
   "outputs": [],
   "source": [
    "X=[]\n",
    "y=[]\n",
    "for i in range (len(posts)):\n",
    "  X.append(posts[i])\n",
    "  if y1[i]=='Yes' :\n",
    "    y.append(1)\n",
    "  else:\n",
    "    y.append(0)"
   ]
  },
  {
   "cell_type": "markdown",
   "metadata": {
    "id": "FUvDvIm9HfYr"
   },
   "source": [
    "Data Preprocessing"
   ]
  },
  {
   "cell_type": "code",
   "execution_count": 17,
   "metadata": {
    "id": "SZDZvbuw6COP"
   },
   "outputs": [],
   "source": [
    "X=np.array(X)\n",
    "X=np.reshape(X,(-1,1))\n",
    "y=np.array(y)\n"
   ]
  },
  {
   "cell_type": "code",
   "execution_count": 18,
   "metadata": {
    "colab": {
     "base_uri": "https://localhost:8080/"
    },
    "id": "vtw63dq4j3Fi",
    "outputId": "cb6f2cdd-29d1-49ce-bb89-903720bbd786"
   },
   "outputs": [
    {
     "data": {
      "text/plain": [
       "((12852, 1), (12852,))"
      ]
     },
     "execution_count": 18,
     "metadata": {
      "tags": []
     },
     "output_type": "execute_result"
    }
   ],
   "source": [
    "X.shape,y.shape"
   ]
  },
  {
   "cell_type": "code",
   "execution_count": 19,
   "metadata": {
    "colab": {
     "base_uri": "https://localhost:8080/"
    },
    "id": "gB03Pki46Id3",
    "outputId": "bc514d1e-0969-4fd6-9d16-a258ae24699c"
   },
   "outputs": [
    {
     "name": "stdout",
     "output_type": "stream",
     "text": [
      "Counter({0: 11814, 1: 1038})\n"
     ]
    }
   ],
   "source": [
    "print(Counter(y))"
   ]
  },
  {
   "cell_type": "code",
   "execution_count": 20,
   "metadata": {
    "colab": {
     "base_uri": "https://localhost:8080/"
    },
    "id": "XV4wOnkSiBY5",
    "outputId": "bc1c2cbb-a66d-4aa5-826b-b0625ce43436"
   },
   "outputs": [
    {
     "name": "stderr",
     "output_type": "stream",
     "text": [
      "/usr/local/lib/python3.7/dist-packages/sklearn/externals/six.py:31: FutureWarning: The module is deprecated in version 0.21 and will be removed in version 0.23 since we've dropped support for Python 2.7. Please rely on the official version of six (https://pypi.org/project/six/).\n",
      "  \"(https://pypi.org/project/six/).\", FutureWarning)\n",
      "/usr/local/lib/python3.7/dist-packages/sklearn/utils/deprecation.py:144: FutureWarning: The sklearn.neighbors.base module is  deprecated in version 0.22 and will be removed in version 0.24. The corresponding classes / functions should instead be imported from sklearn.neighbors. Anything that cannot be imported from sklearn.neighbors is now part of the private API.\n",
      "  warnings.warn(message, FutureWarning)\n",
      "/usr/local/lib/python3.7/dist-packages/sklearn/utils/deprecation.py:87: FutureWarning: Function safe_indexing is deprecated; safe_indexing is deprecated in version 0.22 and will be removed in version 0.24.\n",
      "  warnings.warn(msg, category=FutureWarning)\n"
     ]
    }
   ],
   "source": [
    "from imblearn.over_sampling import RandomOverSampler\n",
    "oversample = RandomOverSampler( sampling_strategy=0.3)\n",
    "X,y=oversample.fit_sample(X,y)"
   ]
  },
  {
   "cell_type": "code",
   "execution_count": 21,
   "metadata": {
    "colab": {
     "base_uri": "https://localhost:8080/"
    },
    "id": "7R444fV0iBcA",
    "outputId": "95248366-9e80-4073-bd61-d93b97dd037a"
   },
   "outputs": [
    {
     "data": {
      "text/plain": [
       "((15358, 1), (15358,))"
      ]
     },
     "execution_count": 21,
     "metadata": {
      "tags": []
     },
     "output_type": "execute_result"
    }
   ],
   "source": [
    "X.shape,y.shape"
   ]
  },
  {
   "cell_type": "code",
   "execution_count": 22,
   "metadata": {
    "colab": {
     "base_uri": "https://localhost:8080/"
    },
    "id": "ai-eGnUsif2b",
    "outputId": "928e2ad4-5107-4941-f4f8-4562af580fc0"
   },
   "outputs": [
    {
     "name": "stdout",
     "output_type": "stream",
     "text": [
      "Counter({0: 11814, 1: 3544})\n"
     ]
    }
   ],
   "source": [
    "print(Counter(y))"
   ]
  },
  {
   "cell_type": "code",
   "execution_count": 23,
   "metadata": {
    "colab": {
     "base_uri": "https://localhost:8080/"
    },
    "id": "ba6ee1ef",
    "outputId": "a203439f-7017-4833-8efa-ccc105ab0064"
   },
   "outputs": [
    {
     "data": {
      "text/plain": [
       "(array([['what&#039;s your favorite song? :D<br> I like too many songs to have a favorite'],\n",
       "        ['<3 </3 ? haha jk! <33'],\n",
       "        ['&quot;hey angel  you duh sexy&quot; Really?!?! Thanks?! haha'],\n",
       "        ['(: ;('],\n",
       "        ['******************MEOWWW************************* *RAWR*?'],\n",
       "        ['any makeup tips? i suck at doing my makeup lol Sure! Like tell me wht u wnna know?! Like wht do you use?!']],\n",
       "       dtype='<U5541'), array([0, 0, 0, 0, 0, 0]))"
      ]
     },
     "execution_count": 23,
     "metadata": {
      "tags": []
     },
     "output_type": "execute_result"
    }
   ],
   "source": [
    "X[:6],y[:6]"
   ]
  },
  {
   "cell_type": "code",
   "execution_count": 24,
   "metadata": {
    "colab": {
     "base_uri": "https://localhost:8080/"
    },
    "id": "_cG4qU-7rdIq",
    "outputId": "42da75ef-fc15-4082-cd14-18eedda30887"
   },
   "outputs": [
    {
     "data": {
      "text/plain": [
       "numpy.ndarray"
      ]
     },
     "execution_count": 24,
     "metadata": {
      "tags": []
     },
     "output_type": "execute_result"
    }
   ],
   "source": [
    "type(X)"
   ]
  },
  {
   "cell_type": "code",
   "execution_count": 25,
   "metadata": {
    "id": "9wY_CE8ZtYsF"
   },
   "outputs": [],
   "source": [
    "X=[str(x) for x in X]"
   ]
  },
  {
   "cell_type": "code",
   "execution_count": 26,
   "metadata": {
    "colab": {
     "base_uri": "https://localhost:8080/"
    },
    "id": "Atsi-ufJtZVS",
    "outputId": "57a18d74-24fc-44e1-d7da-8dfe849be0e4"
   },
   "outputs": [
    {
     "data": {
      "text/plain": [
       "list"
      ]
     },
     "execution_count": 26,
     "metadata": {
      "tags": []
     },
     "output_type": "execute_result"
    }
   ],
   "source": [
    "type(X)"
   ]
  },
  {
   "cell_type": "markdown",
   "metadata": {
    "id": "yV4l-CayHmkq"
   },
   "source": [
    "Create Word Embeddings"
   ]
  },
  {
   "cell_type": "code",
   "execution_count": 28,
   "metadata": {
    "id": "976031f6"
   },
   "outputs": [],
   "source": [
    "stopwords=stopwords.words('english')"
   ]
  },
  {
   "cell_type": "code",
   "execution_count": 29,
   "metadata": {
    "id": "u5YLxR_8-YtW"
   },
   "outputs": [],
   "source": [
    "contractions =dict({ \n",
    "\"ain't\": \"am not\",\n",
    "\"aren't\": \"are not\",\n",
    "\"can't\": \"cannot\",\n",
    "\"can't've\": \"cannot have\",\n",
    "\"'cause\": \"because\",\n",
    "\"could've\": \"could have\",\n",
    "\"couldn't\": \"could not\",\n",
    "\"couldn't've\": \"could not have\",\n",
    "\"didn't\": \"did not\",\n",
    "\"doesn't\": \"does not\",\n",
    "\"don't\": \"do not\",\n",
    "\"hadn't\": \"had not\",\n",
    "\"hadn't've\": \"had not have\",\n",
    "\"hasn't\": \"has not\",\n",
    "\"haven't\": \"have not\",\n",
    "\"he'd\": \" he would\",\n",
    "\"he'd've\": \"he would have\",\n",
    "\"he'll\": \"he will\",\n",
    "\"he'll've\": \"he will have\",\n",
    "\"he's\": \"he is\",\n",
    "\"how'd\": \"how did\",\n",
    "\"how'd'y\": \"how do you\",\n",
    "\"how'll\": \"how will\",\n",
    "\"how's\": \"how is\",\n",
    "\"i'd\": \"i would\",\n",
    "\"i'd've\": \"i would have\",\n",
    "\"i'll\": \"i will\",\n",
    "\"i'll've\": \"i will have\",\n",
    "\"i'm\": \"i am\",\n",
    "\"i've\": \"i have\",\n",
    "\"isn't\": \"is not\",\n",
    "\"it'd\": \"it would\",\n",
    "\"it'd've\": \"it would have\",\n",
    "\"it'll\": \"it will\",\n",
    "\"it'll've\": \"it will have\",\n",
    "\"it's\": \"it is\",\n",
    "\"let's\": \"let us\",\n",
    "\"ma'am\": \"madam\",\n",
    "\"mayn't\": \"may not\",\n",
    "\"might've\": \"might have\",\n",
    "\"mightn't\": \"might not\",\n",
    "\"mightn't've\": \"might not have\",\n",
    "\"must've\": \"must have\",\n",
    "\"mustn't\": \"must not\",\n",
    "\"mustn't've\": \"must not have\",\n",
    "\"needn't\": \"need not\",\n",
    "\"needn't've\": \"need not have\",\n",
    "\"o'clock\": \"of the clock\",\n",
    "\"oughtn't\": \"ought not\",\n",
    "\"oughtn't've\": \"ought not have\",\n",
    "\"shan't\": \"shall not\",\n",
    "\"sha'n't\": \"shall not\",\n",
    "\"shan't've\": \"shall not have\",\n",
    "\"she'd\": \"she would\",\n",
    "\"she'd've\": \"she would have\",\n",
    "\"she'll\": \"she will\",\n",
    "\"she'll've\": \"she will have\",\n",
    "\"she's\": \"she is\",\n",
    "\"should've\": \"should have\",\n",
    "\"shouldn't\": \"should not\",\n",
    "\"shouldn't've\": \"should not have\",\n",
    "\"so've\": \"so have\",\n",
    "\"so's\": \"so is\",\n",
    "\"that'd\": \"that would\",\n",
    "\"that'd've\": \"that would have\",\n",
    "\"that's\": \"that has\",\n",
    "\"there'd\": \"there would\",\n",
    "\"there'd've\": \"there would have\",\n",
    "\"there's\": \"there is\",\n",
    "\"they'd\": \"they had\",\n",
    "\"they'd've\": \"they would have\",\n",
    "\"they'll\": \"they will\",\n",
    "\"they'll've\": \"they will have\",\n",
    "\"they're\": \"they are\",\n",
    "\"they've\": \"they have\",\n",
    "\"to've\": \"to have\",\n",
    "\"wasn't\": \"was not\",\n",
    "\"we'd\": \"we would\",\n",
    "\"we'd've\": \"we would have\",\n",
    "\"we'll\": \"we will\",\n",
    "\"we'll've\": \"we will have\",\n",
    "\"we're\": \"we are\",\n",
    "\"we've\": \"we have\",\n",
    "\"weren't\": \"were not\",\n",
    "\"what'll\": \"what will\",\n",
    "\"what'll've\": \"what will have\",\n",
    "\"what're\": \"what are\",\n",
    "\"what's\": \"what is\",\n",
    "\"what've\": \"what have\",\n",
    "\"when's\": \"when is\",\n",
    "\"when've\": \"when have\",\n",
    "\"where'd\": \"where did\",\n",
    "\"where's\": \"where is\",\n",
    "\"where've\": \"where have\",\n",
    "\"who'll\": \"who will\",\n",
    "\"who'll've\": \"who will have\",\n",
    "\"who's\": \"who has\",\n",
    "\"who've\": \"who have\",\n",
    "\"why's\": \"why has\",\n",
    "\"why've\": \"why have\",\n",
    "\"will've\": \"will have\",\n",
    "\"won't\": \"will not\",\n",
    "\"won't've\": \"will not have\",\n",
    "\"would've\": \"would have\",\n",
    "\"wouldn't\": \"would not\",\n",
    "\"wouldn't've\": \"would not have\",\n",
    "\"y'all\": \"you all\",\n",
    "\"y'all'd\": \"you all would\",\n",
    "\"y'all'd've\": \"you all would have\",\n",
    "\"y'all're\": \"you all are\",\n",
    "\"y'all've\": \"you all have\",\n",
    "\"you'd\": \"you would\",\n",
    "\"you'd've\": \"you would have\",\n",
    "\"you'll\": \"you will\",\n",
    "\"you'll've\": \"you will have\",\n",
    "\"you're\": \"you are\",\n",
    "\"you've\": \"you have\",\n",
    "\"ain’t\": \"am not\",\n",
    "\"aren’t\": \"are not\",\n",
    "\"can’t\": \"cannot\",\n",
    "\"can’t’ve\": \"cannot have\",\n",
    "\"’cause\": \"because\",\n",
    "\"could’ve\": \"could have\",\n",
    "\"couldn’t\": \"could not\",\n",
    "\"couldn’t’ve\": \"could not have\",\n",
    "\"didn’t\": \"did not\",\n",
    "\"doesn’t\": \"does not\",\n",
    "\"don’t\": \"do not\",\n",
    "\"hadn’t\": \"had not\",\n",
    "\"hadn’t’ve\": \"had not have\",\n",
    "\"hasn’t\": \"has not\",\n",
    "\"haven’t\": \"have not\",\n",
    "\"he’d\": \" he would\",\n",
    "\"he’d’ve\": \"he would have\",\n",
    "\"he’ll\": \"he will\",\n",
    "\"he’ll’ve\": \"he will have\",\n",
    "\"he’s\": \"he is\",\n",
    "\"how’d\": \"how did\",\n",
    "\"how’d’y\": \"how do you\",\n",
    "\"how’ll\": \"how will\",\n",
    "\"how’s\": \"how is\",\n",
    "\"i’d\": \"i would\",\n",
    "\"i’d’ve\": \"i would have\",\n",
    "\"i’ll\": \"i will\",\n",
    "\"i’ll’ve\": \"i will have\",\n",
    "\"i’m\": \"i am\",\n",
    "\"i’ve\": \"i have\",\n",
    "\"isn’t\": \"is not\",\n",
    "\"it’d\": \"it would\",\n",
    "\"it’d’ve\": \"it would have\",\n",
    "\"it’ll\": \"it will\",\n",
    "\"it’ll’ve\": \"it will have\",\n",
    "\"it’s\": \"it is\",\n",
    "\"let’s\": \"let us\",\n",
    "\"ma’am\": \"madam\",\n",
    "\"mayn’t\": \"may not\",\n",
    "\"might’ve\": \"might have\",\n",
    "\"mightn’t\": \"might not\",\n",
    "\"mightn’t’ve\": \"might not have\",\n",
    "\"must’ve\": \"must have\",\n",
    "\"mustn’t\": \"must not\",\n",
    "\"mustn’t’ve\": \"must not have\",\n",
    "\"needn’t\": \"need not\",\n",
    "\"needn’t’ve\": \"need not have\",\n",
    "\"o’clock\": \"of the clock\",\n",
    "\"oughtn’t\": \"ought not\",\n",
    "\"oughtn’t’ve\": \"ought not have\",\n",
    "\"shan’t\": \"shall not\",\n",
    "\"sha’n’t\": \"shall not\",\n",
    "\"shan’t’ve\": \"shall not have\",\n",
    "\"she’d\": \"she would\",\n",
    "\"she’d’ve\": \"she would have\",\n",
    "\"she’ll\": \"she will\",\n",
    "\"she’ll’ve\": \"she will have\",\n",
    "\"she’s\": \"she is\",\n",
    "\"should’ve\": \"should have\",\n",
    "\"shouldn’t\": \"should not\",\n",
    "\"shouldn’t’ve\": \"should not have\",\n",
    "\"so’ve\": \"so have\",\n",
    "\"so’s\": \"so is\",\n",
    "\"that’d\": \"that would\",\n",
    "\"that’d’ve\": \"that would have\",\n",
    "\"that’s\": \"that has\",\n",
    "\"there’d\": \"there would\",\n",
    "\"there’d’ve\": \"there would have\",\n",
    "\"there’s\": \"there is\",\n",
    "\"they’d\": \"they had\",\n",
    "\"they’d’ve\": \"they would have\",\n",
    "\"they’ll\": \"they will\",\n",
    "\"they’ll’ve\": \"they will have\",\n",
    "\"they’re\": \"they are\",\n",
    "\"they’ve\": \"they have\",\n",
    "\"to’ve\": \"to have\",\n",
    "\"wasn’t\": \"was not\",\n",
    "\"we’d\": \"we would\",\n",
    "\"we’d’ve\": \"we would have\",\n",
    "\"we’ll\": \"we will\",\n",
    "\"we’ll’ve\": \"we will have\",\n",
    "\"we’re\": \"we are\",\n",
    "\"we’ve\": \"we have\",\n",
    "\"weren’t\": \"were not\",\n",
    "\"what’ll\": \"what will\",\n",
    "\"what’ll’ve\": \"what will have\",\n",
    "\"what’re\": \"what are\",\n",
    "\"what’s\": \"what is\",\n",
    "\"what’ve\": \"what have\",\n",
    "\"when’s\": \"when is\",\n",
    "\"when’ve\": \"when have\",\n",
    "\"where’d\": \"where did\",\n",
    "\"where’s\": \"where is\",\n",
    "\"where’ve\": \"where have\",\n",
    "\"who’ll\": \"who will\",\n",
    "\"who’ll’ve\": \"who will have\",\n",
    "\"who’s\": \"who has\",\n",
    "\"who’ve\": \"who have\",\n",
    "\"why’s\": \"why has\",\n",
    "\"why’ve\": \"why have\",\n",
    "\"will’ve\": \"will have\",\n",
    "\"won’t\": \"will not\",\n",
    "\"won’t’ve\": \"will not have\",\n",
    "\"would’ve\": \"would have\",\n",
    "\"wouldn’t\": \"would not\",\n",
    "\"wouldn’t’ve\": \"would not have\",\n",
    "\"y’all\": \"you all\",\n",
    "\"y’all’d\": \"you all would\",\n",
    "\"y’all’d’ve\": \"you all would have\",\n",
    "\"y’all’re\": \"you all are\",\n",
    "\"y’all’ve\": \"you all have\",\n",
    "\"you’d\": \"you would\",\n",
    "\"you’d’ve\": \"you would have\",\n",
    "\"you’ll\": \"you will\",\n",
    "\"you’ll’ve\": \"you will have\",\n",
    "\"you’re\": \"you are\",\n",
    "\"you’ve\": \"you have\"\n",
    "})"
   ]
  },
  {
   "cell_type": "code",
   "execution_count": 30,
   "metadata": {
    "colab": {
     "base_uri": "https://localhost:8080/",
     "height": 36
    },
    "id": "OUJpctSYB_q2",
    "outputId": "f7856bb0-71f8-49f9-f2c3-997db0b99575"
   },
   "outputs": [
    {
     "data": {
      "application/vnd.google.colaboratory.intrinsic+json": {
       "type": "string"
      },
      "text/plain": [
       "'it is'"
      ]
     },
     "execution_count": 30,
     "metadata": {
      "tags": []
     },
     "output_type": "execute_result"
    }
   ],
   "source": [
    "contractions[\"it’s\"]"
   ]
  },
  {
   "cell_type": "code",
   "execution_count": 31,
   "metadata": {
    "id": "oIRl1hlFB7nr"
   },
   "outputs": [],
   "source": [
    "X_train,X_test,y_train,y_test=train_test_split(X,y,test_size=0.3,random_state=42)"
   ]
  },
  {
   "cell_type": "code",
   "execution_count": 32,
   "metadata": {
    "colab": {
     "base_uri": "https://localhost:8080/"
    },
    "id": "Vv4CkbMZibG5",
    "outputId": "2ed7f7e4-ae9d-4c46-d286-665afebd969f"
   },
   "outputs": [
    {
     "name": "stdout",
     "output_type": "stream",
     "text": [
      "Counter({0: 8273, 1: 2477})\n",
      "Counter({0: 3541, 1: 1067})\n"
     ]
    }
   ],
   "source": [
    "print(Counter(y_train))\n",
    "print(Counter(y_test))"
   ]
  },
  {
   "cell_type": "code",
   "execution_count": 33,
   "metadata": {
    "id": "bae61091"
   },
   "outputs": [],
   "source": [
    "def cleanText(X):\n",
    "  corpus=[]\n",
    "  for para in X:\n",
    "      sentences=nltk.sent_tokenize(str(para))\n",
    "      temp=[]\n",
    "      for sentence in sentences:\n",
    "          sentence=sentence.lower()\n",
    "          cleanr = re.compile('<.*?>')\n",
    "          sentence = re.sub(cleanr, '', sentence)\n",
    "          sentence=re.sub(r'[\\!\"#$%&\\*+,./;<=>?@_`|~=]','',sentence)\n",
    "          sentence=re.sub(r'[0-9]+', '',sentence)\n",
    "          words=sentence.split()\n",
    "          words_list=[]\n",
    "          for word in words:\n",
    "            if word in contractions:\n",
    "              words_list.append(contractions[word])\n",
    "            elif word not in stopwords:\n",
    "              words_list.append(WordNetLemmatizer().lemmatize(word) )\n",
    "          sent=' '.join(words_list)\n",
    "          sent=re.sub(pattern=r'\\'',repl='',string=sent)\n",
    "          temp.append(sent)\n",
    "      corpus.append('. '.join(temp))\n",
    "  return corpus"
   ]
  },
  {
   "cell_type": "code",
   "execution_count": 34,
   "metadata": {
    "id": "A8-6W_1EEE7F"
   },
   "outputs": [],
   "source": [
    "corpus=cleanText(X_train)\n",
    "lst_corpus = []\n",
    "for string in corpus:\n",
    "   lst_words = string.split()\n",
    "   lst_grams = [\" \".join(lst_words[i:i+1]) \n",
    "               for i in range(0, len(lst_words), 1)]\n",
    "   lst_corpus.append(lst_grams)\n"
   ]
  },
  {
   "cell_type": "code",
   "execution_count": 35,
   "metadata": {
    "colab": {
     "base_uri": "https://localhost:8080/"
    },
    "id": "ba1885b5",
    "outputId": "77e46382-8b4f-495f-ece0-86a8f83deca5"
   },
   "outputs": [
    {
     "name": "stdout",
     "output_type": "stream",
     "text": [
      "10750\n",
      "10750\n"
     ]
    }
   ],
   "source": [
    "print(len(corpus))\n",
    "print(len(lst_corpus))"
   ]
  },
  {
   "cell_type": "code",
   "execution_count": 36,
   "metadata": {
    "colab": {
     "base_uri": "https://localhost:8080/"
    },
    "id": "DLqwnA7EeFby",
    "outputId": "115d60cc-9dee-489b-af8e-11b34a63ad6d"
   },
   "outputs": [
    {
     "data": {
      "text/plain": [
       "['[awhh shit dx man. (: taelin walker webb ]',\n",
       " '[if could watch one tv show would. office ]',\n",
       " '[why cant fuck get girl. :] god really hope ashley haha. (:r ashley: talking time hahahaha (r someone else: because i am straight hun. sorryyy (]',\n",
       " '[its prolly think wanted know thought :) welll]',\n",
       " '[holar :) wasup]',\n",
       " '[lol :] anonymous]']"
      ]
     },
     "execution_count": 36,
     "metadata": {
      "tags": []
     },
     "output_type": "execute_result"
    }
   ],
   "source": [
    "corpus[:6]"
   ]
  },
  {
   "cell_type": "code",
   "execution_count": 37,
   "metadata": {
    "colab": {
     "base_uri": "https://localhost:8080/"
    },
    "id": "46rzxT-3eIaw",
    "outputId": "b91e3830-18c7-4dfb-98ba-82413d6626b3"
   },
   "outputs": [
    {
     "data": {
      "text/plain": [
       "[['[awhh', 'shit', 'dx', 'man.', '(:', 'taelin', 'walker', 'webb', ']'],\n",
       " ['[if', 'could', 'watch', 'one', 'tv', 'show', 'would.', 'office', ']'],\n",
       " ['[why',\n",
       "  'cant',\n",
       "  'fuck',\n",
       "  'get',\n",
       "  'girl.',\n",
       "  ':]',\n",
       "  'god',\n",
       "  'really',\n",
       "  'hope',\n",
       "  'ashley',\n",
       "  'haha.',\n",
       "  '(:r',\n",
       "  'ashley:',\n",
       "  'talking',\n",
       "  'time',\n",
       "  'hahahaha',\n",
       "  '(r',\n",
       "  'someone',\n",
       "  'else:',\n",
       "  'because',\n",
       "  'i',\n",
       "  'am',\n",
       "  'straight',\n",
       "  'hun.',\n",
       "  'sorryyy',\n",
       "  '(]'],\n",
       " ['[its', 'prolly', 'think', 'wanted', 'know', 'thought', ':)', 'welll]'],\n",
       " ['[holar', ':)', 'wasup]'],\n",
       " ['[lol', ':]', 'anonymous]']]"
      ]
     },
     "execution_count": 37,
     "metadata": {
      "tags": []
     },
     "output_type": "execute_result"
    }
   ],
   "source": [
    "lst_corpus[:6]"
   ]
  },
  {
   "cell_type": "code",
   "execution_count": 38,
   "metadata": {
    "id": "e6VHxE5lEE_0"
   },
   "outputs": [],
   "source": [
    "tokenizer = Tokenizer()\n",
    "tokenizer.fit_on_texts(lst_corpus)\n",
    "dic_vocabulary = tokenizer.word_index"
   ]
  },
  {
   "cell_type": "code",
   "execution_count": 39,
   "metadata": {
    "id": "6GgXTvQzEFB5"
   },
   "outputs": [],
   "source": [
    "X_train= tokenizer.texts_to_sequences(lst_corpus)"
   ]
  },
  {
   "cell_type": "code",
   "execution_count": 40,
   "metadata": {
    "id": "jrI1gUIWDlFM"
   },
   "outputs": [],
   "source": [
    "arr=[]\n",
    "arr=[len(x) for x in corpus if len(x)<500]"
   ]
  },
  {
   "cell_type": "code",
   "execution_count": 41,
   "metadata": {
    "colab": {
     "base_uri": "https://localhost:8080/",
     "height": 265
    },
    "id": "4rlCzdbUDrIL",
    "outputId": "3f8cf9b4-d0aa-4890-e740-25e7105878b4"
   },
   "outputs": [
    {
     "data": {
      "image/png": "[encoded data removed]",
      "text/plain": [
       "<Figure size 432x288 with 1 Axes>"
      ]
     },
     "metadata": {
      "needs_background": "light",
      "tags": []
     },
     "output_type": "display_data"
    }
   ],
   "source": [
    "plt.hist(arr,bins=100)\n",
    "plt.show()"
   ]
  },
  {
   "cell_type": "code",
   "execution_count": 42,
   "metadata": {
    "id": "b193836d"
   },
   "outputs": [],
   "source": [
    "max_length=100\n",
    "X_train=pad_sequences(X_train,maxlen=max_length,padding='post')"
   ]
  },
  {
   "cell_type": "code",
   "execution_count": 43,
   "metadata": {
    "colab": {
     "base_uri": "https://localhost:8080/"
    },
    "id": "95132ca6",
    "outputId": "0baaf102-5921-4f2e-defc-ccd1b11b0eca"
   },
   "outputs": [
    {
     "data": {
      "text/plain": [
       "((10750, 100), (10750,))"
      ]
     },
     "execution_count": 43,
     "metadata": {
      "tags": []
     },
     "output_type": "execute_result"
    }
   ],
   "source": [
    "X_train.shape,y_train.shape"
   ]
  },
  {
   "cell_type": "code",
   "execution_count": 44,
   "metadata": {
    "id": "gjsMZBInG-JM"
   },
   "outputs": [],
   "source": [
    "corpus=cleanText(X_test)\n",
    "\n",
    "lst_corpus_test = []\n",
    "for string in corpus:\n",
    "    lst_words = string.split()\n",
    "    lst_grams = [\" \".join(lst_words[i:i+1]) for i in range(0, \n",
    "                 len(lst_words), 1)]\n",
    "    lst_corpus_test.append(lst_grams)\n",
    "\n",
    "X_test = tokenizer.texts_to_sequences(lst_corpus_test)\n",
    "\n",
    "X_test=pad_sequences(X_test,maxlen=max_length,padding='post')"
   ]
  },
  {
   "cell_type": "code",
   "execution_count": 45,
   "metadata": {
    "colab": {
     "base_uri": "https://localhost:8080/"
    },
    "id": "3Aim9Gb1UTvK",
    "outputId": "822eb535-df80-423f-893e-393e39f5f5de"
   },
   "outputs": [
    {
     "name": "stdout",
     "output_type": "stream",
     "text": [
      "4608\n",
      "10750\n"
     ]
    }
   ],
   "source": [
    "print(len(corpus))\n",
    "print(len(lst_corpus))"
   ]
  },
  {
   "cell_type": "code",
   "execution_count": 46,
   "metadata": {
    "colab": {
     "base_uri": "https://localhost:8080/"
    },
    "id": "6S5M4rARMQS3",
    "outputId": "52d541a6-d102-4de0-ccbf-993729064832"
   },
   "outputs": [
    {
     "data": {
      "text/plain": [
       "((4608, 100), (4608,))"
      ]
     },
     "execution_count": 46,
     "metadata": {
      "tags": []
     },
     "output_type": "execute_result"
    }
   ],
   "source": [
    "X_test.shape,y_test.shape"
   ]
  },
  {
   "cell_type": "code",
   "execution_count": 47,
   "metadata": {
    "id": "K_m0eilnB-Sg"
   },
   "outputs": [],
   "source": [
    "filter_sizes = [2,3,4]\n",
    "num_filters = 100\n",
    "drop = 0.5"
   ]
  },
  {
   "cell_type": "code",
   "execution_count": 48,
   "metadata": {
    "id": "uyFNKPpHGDX1"
   },
   "outputs": [],
   "source": [
    "def pipeline(X_train, y_train, X_test, y_test,n,flag): \n",
    "   \n",
    "    results = {}\n",
    "    final_results = []\n",
    "    for num in n:  \n",
    "\n",
    "      wv_model = gensim.models.word2vec.Word2Vec(lst_corpus,size=num,window=4,min_count=1,sg=flag,iter=30)\n",
    "\n",
    "      embedding_dim = num\n",
    "      embedding_matrix = np.zeros((len(dic_vocabulary)+1, embedding_dim))\n",
    "      for word, i in tokenizer.word_index.items():\n",
    "        try:\n",
    "            embedding_matrix[i]=wv_model[word]\n",
    "        except:\n",
    "            pass\n",
    "\n",
    "      tensorflow.keras.backend.clear_session()\n",
    "      \n",
    "      #CNN\n",
    "      embedding_layer=layers.Embedding(input_dim=embedding_matrix.shape[0],output_dim=embedding_matrix.shape[1],weights=[embedding_matrix],input_length=max_length,trainable=False)\n",
    "\n",
    "      inputs = layers.Input(shape=(max_length,), dtype='int32')\n",
    "      embedding = embedding_layer(inputs)\n",
    "\n",
    "      reshape = layers.Reshape((max_length,embedding_dim,1))(embedding)\n",
    "\n",
    "      conv_0 = layers.Conv2D(num_filters, kernel_size=(filter_sizes[0], embedding_dim), padding='valid', kernel_initializer='normal', activation='relu')(reshape)\n",
    "      conv_1 = layers.Conv2D(num_filters, kernel_size=(filter_sizes[1], embedding_dim), padding='valid', kernel_initializer='normal', activation='relu')(reshape)\n",
    "      conv_2 = layers.Conv2D(num_filters, kernel_size=(filter_sizes[2], embedding_dim), padding='valid', kernel_initializer='normal', activation='relu')(reshape)\n",
    "\n",
    "      maxpool_0 = layers.MaxPool2D(pool_size=(max_length - filter_sizes[0] + 1, 1), strides=(1,1), padding='valid')(conv_0)\n",
    "      maxpool_1 = layers.MaxPool2D(pool_size=(max_length - filter_sizes[1] + 1, 1), strides=(1,1), padding='valid')(conv_1)\n",
    "      maxpool_2 = layers.MaxPool2D(pool_size=(max_length - filter_sizes[2] + 1, 1), strides=(1,1), padding='valid')(conv_2)\n",
    "\n",
    "      concatenated_tensor = layers.Concatenate(axis=1)([maxpool_0, maxpool_1, maxpool_2])\n",
    "      flatten = layers.Flatten()(concatenated_tensor)\n",
    "      dropout = layers.Dropout(drop)(flatten)\n",
    "      output = layers.Dense(units=1, activation='sigmoid')(dropout)\n",
    "\n",
    "      model = Model(inputs=inputs, outputs=output)\n",
    "\n",
    "      model.compile(optimizer='adam', loss='binary_crossentropy', metrics=['accuracy'])\n",
    "\n",
    "      start=time()\n",
    "      model.fit(X_train,y_train,epochs=10)\n",
    "      end=time()\n",
    "      \n",
    "        \n",
    "      results['Algorithm'] = 'embedding'+str(num)\n",
    "\n",
    "      start = time() \n",
    "      predictions_test = model.predict(X_test)\n",
    "      predictions_test=[np.round(i) for i in predictions_test]\n",
    "      end = time() \n",
    "    \n",
    "      results['Prediction Time'] = end - start\n",
    "\n",
    "      results['Accuracy'] = accuracy_score(y_test, predictions_test)\n",
    "\n",
    "      results['F1 Score'] = f1_score(y_test, predictions_test)\n",
    "      \n",
    "      results['AUC Score'] = roc_auc_score(y_test, predictions_test)\n",
    "\n",
    "      results['Precision'] = precision_score(y_test, predictions_test)\n",
    "\n",
    "      results['Recall'] = recall_score(y_test, predictions_test)\n",
    "\n",
    "      \n",
    "      final_results.append(results.copy())\n",
    "    return final_results"
   ]
  },
  {
   "cell_type": "code",
   "execution_count": 49,
   "metadata": {
    "id": "V7_SsxBNlp8H"
   },
   "outputs": [],
   "source": [
    "n=[50,100,150,200,250,300,350,400]"
   ]
  },
  {
   "cell_type": "markdown",
   "metadata": {
    "id": "CvWcTG0TlrUN"
   },
   "source": [
    "CBOW"
   ]
  },
  {
   "cell_type": "code",
   "execution_count": 50,
   "metadata": {
    "colab": {
     "base_uri": "https://localhost:8080/"
    },
    "id": "rAP19LRVMCYO",
    "outputId": "2966f12f-5d41-4cde-d9ab-f94cc3eb3ece"
   },
   "outputs": [
    {
     "name": "stderr",
     "output_type": "stream",
     "text": [
      "/usr/local/lib/python3.7/dist-packages/ipykernel_launcher.py:13: DeprecationWarning: Call to deprecated `__getitem__` (Method will be removed in 4.0.0, use self.wv.__getitem__() instead).\n",
      "  del sys.path[0]\n"
     ]
    },
    {
     "name": "stdout",
     "output_type": "stream",
     "text": [
      "Epoch 1/10\n",
      "336/336 [==============================] - 5s 6ms/step - loss: 0.4909 - accuracy: 0.8025\n",
      "Epoch 2/10\n",
      "336/336 [==============================] - 2s 5ms/step - loss: 0.3706 - accuracy: 0.8464\n",
      "Epoch 3/10\n",
      "336/336 [==============================] - 2s 5ms/step - loss: 0.3251 - accuracy: 0.8658\n",
      "Epoch 4/10\n",
      "336/336 [==============================] - 2s 5ms/step - loss: 0.2939 - accuracy: 0.8783\n",
      "Epoch 5/10\n",
      "336/336 [==============================] - 2s 5ms/step - loss: 0.2739 - accuracy: 0.8890\n",
      "Epoch 6/10\n",
      "336/336 [==============================] - 2s 5ms/step - loss: 0.2547 - accuracy: 0.8993\n",
      "Epoch 7/10\n",
      "336/336 [==============================] - 2s 5ms/step - loss: 0.2399 - accuracy: 0.9059\n",
      "Epoch 8/10\n",
      "336/336 [==============================] - 2s 5ms/step - loss: 0.2264 - accuracy: 0.9108\n",
      "Epoch 9/10\n",
      "336/336 [==============================] - 2s 5ms/step - loss: 0.2145 - accuracy: 0.9140\n",
      "Epoch 10/10\n",
      "336/336 [==============================] - 2s 5ms/step - loss: 0.2036 - accuracy: 0.9214\n"
     ]
    },
    {
     "name": "stderr",
     "output_type": "stream",
     "text": [
      "/usr/local/lib/python3.7/dist-packages/ipykernel_launcher.py:13: DeprecationWarning: Call to deprecated `__getitem__` (Method will be removed in 4.0.0, use self.wv.__getitem__() instead).\n",
      "  del sys.path[0]\n"
     ]
    },
    {
     "name": "stdout",
     "output_type": "stream",
     "text": [
      "Epoch 1/10\n",
      "336/336 [==============================] - 3s 8ms/step - loss: 0.4861 - accuracy: 0.8017\n",
      "Epoch 2/10\n",
      "336/336 [==============================] - 2s 7ms/step - loss: 0.3585 - accuracy: 0.8530\n",
      "Epoch 3/10\n",
      "336/336 [==============================] - 2s 7ms/step - loss: 0.3219 - accuracy: 0.8630\n",
      "Epoch 4/10\n",
      "336/336 [==============================] - 2s 7ms/step - loss: 0.2899 - accuracy: 0.8817\n",
      "Epoch 5/10\n",
      "336/336 [==============================] - 2s 7ms/step - loss: 0.2602 - accuracy: 0.8975\n",
      "Epoch 6/10\n",
      "336/336 [==============================] - 2s 7ms/step - loss: 0.2535 - accuracy: 0.8997\n",
      "Epoch 7/10\n",
      "336/336 [==============================] - 2s 7ms/step - loss: 0.2380 - accuracy: 0.9064\n",
      "Epoch 8/10\n",
      "336/336 [==============================] - 2s 7ms/step - loss: 0.2216 - accuracy: 0.9153\n",
      "Epoch 9/10\n",
      "336/336 [==============================] - 2s 7ms/step - loss: 0.2045 - accuracy: 0.9198\n",
      "Epoch 10/10\n",
      "336/336 [==============================] - 2s 7ms/step - loss: 0.2000 - accuracy: 0.9208\n"
     ]
    },
    {
     "name": "stderr",
     "output_type": "stream",
     "text": [
      "/usr/local/lib/python3.7/dist-packages/ipykernel_launcher.py:13: DeprecationWarning: Call to deprecated `__getitem__` (Method will be removed in 4.0.0, use self.wv.__getitem__() instead).\n",
      "  del sys.path[0]\n"
     ]
    },
    {
     "name": "stdout",
     "output_type": "stream",
     "text": [
      "Epoch 1/10\n",
      "336/336 [==============================] - 3s 5ms/step - loss: 0.4859 - accuracy: 0.8080\n",
      "Epoch 2/10\n",
      "336/336 [==============================] - 1s 4ms/step - loss: 0.3621 - accuracy: 0.8484\n",
      "Epoch 3/10\n",
      "336/336 [==============================] - 1s 4ms/step - loss: 0.3196 - accuracy: 0.8689\n",
      "Epoch 4/10\n",
      "336/336 [==============================] - 1s 4ms/step - loss: 0.2960 - accuracy: 0.8801\n",
      "Epoch 5/10\n",
      "336/336 [==============================] - 1s 4ms/step - loss: 0.2688 - accuracy: 0.8905\n",
      "Epoch 6/10\n",
      "336/336 [==============================] - 1s 4ms/step - loss: 0.2551 - accuracy: 0.8981\n",
      "Epoch 7/10\n",
      "336/336 [==============================] - 1s 4ms/step - loss: 0.2401 - accuracy: 0.9047\n",
      "Epoch 8/10\n",
      "336/336 [==============================] - 1s 4ms/step - loss: 0.2290 - accuracy: 0.9098\n",
      "Epoch 9/10\n",
      "336/336 [==============================] - 1s 4ms/step - loss: 0.2130 - accuracy: 0.9186\n",
      "Epoch 10/10\n",
      "336/336 [==============================] - 1s 4ms/step - loss: 0.2125 - accuracy: 0.9196\n"
     ]
    },
    {
     "name": "stderr",
     "output_type": "stream",
     "text": [
      "/usr/local/lib/python3.7/dist-packages/ipykernel_launcher.py:13: DeprecationWarning: Call to deprecated `__getitem__` (Method will be removed in 4.0.0, use self.wv.__getitem__() instead).\n",
      "  del sys.path[0]\n"
     ]
    },
    {
     "name": "stdout",
     "output_type": "stream",
     "text": [
      "Epoch 1/10\n",
      "336/336 [==============================] - 3s 6ms/step - loss: 0.4886 - accuracy: 0.8069\n",
      "Epoch 2/10\n",
      "336/336 [==============================] - 2s 5ms/step - loss: 0.3648 - accuracy: 0.8500\n",
      "Epoch 3/10\n",
      "336/336 [==============================] - 2s 5ms/step - loss: 0.3269 - accuracy: 0.8655\n",
      "Epoch 4/10\n",
      "336/336 [==============================] - 2s 5ms/step - loss: 0.2978 - accuracy: 0.8776\n",
      "Epoch 5/10\n",
      "336/336 [==============================] - 2s 5ms/step - loss: 0.2799 - accuracy: 0.8887\n",
      "Epoch 6/10\n",
      "336/336 [==============================] - 2s 5ms/step - loss: 0.2566 - accuracy: 0.8961\n",
      "Epoch 7/10\n",
      "336/336 [==============================] - 2s 5ms/step - loss: 0.2481 - accuracy: 0.9026\n",
      "Epoch 8/10\n",
      "336/336 [==============================] - 2s 5ms/step - loss: 0.2340 - accuracy: 0.9103\n",
      "Epoch 9/10\n",
      "336/336 [==============================] - 2s 5ms/step - loss: 0.2212 - accuracy: 0.9134\n",
      "Epoch 10/10\n",
      "336/336 [==============================] - 2s 5ms/step - loss: 0.2086 - accuracy: 0.9175\n"
     ]
    },
    {
     "name": "stderr",
     "output_type": "stream",
     "text": [
      "/usr/local/lib/python3.7/dist-packages/ipykernel_launcher.py:13: DeprecationWarning: Call to deprecated `__getitem__` (Method will be removed in 4.0.0, use self.wv.__getitem__() instead).\n",
      "  del sys.path[0]\n"
     ]
    },
    {
     "name": "stdout",
     "output_type": "stream",
     "text": [
      "Epoch 1/10\n",
      "336/336 [==============================] - 3s 7ms/step - loss: 0.4714 - accuracy: 0.8138\n",
      "Epoch 2/10\n",
      "336/336 [==============================] - 2s 5ms/step - loss: 0.3680 - accuracy: 0.8483\n",
      "Epoch 3/10\n",
      "336/336 [==============================] - 2s 5ms/step - loss: 0.3271 - accuracy: 0.8660\n",
      "Epoch 4/10\n",
      "336/336 [==============================] - 2s 5ms/step - loss: 0.2996 - accuracy: 0.8788\n",
      "Epoch 5/10\n",
      "336/336 [==============================] - 2s 5ms/step - loss: 0.2760 - accuracy: 0.8901\n",
      "Epoch 6/10\n",
      "336/336 [==============================] - 2s 5ms/step - loss: 0.2638 - accuracy: 0.8949\n",
      "Epoch 7/10\n",
      "336/336 [==============================] - 2s 5ms/step - loss: 0.2476 - accuracy: 0.9032\n",
      "Epoch 8/10\n",
      "336/336 [==============================] - 2s 5ms/step - loss: 0.2291 - accuracy: 0.9113\n",
      "Epoch 9/10\n",
      "336/336 [==============================] - 2s 5ms/step - loss: 0.2258 - accuracy: 0.9131\n",
      "Epoch 10/10\n",
      "336/336 [==============================] - 2s 5ms/step - loss: 0.2128 - accuracy: 0.9158\n"
     ]
    },
    {
     "name": "stderr",
     "output_type": "stream",
     "text": [
      "/usr/local/lib/python3.7/dist-packages/ipykernel_launcher.py:13: DeprecationWarning: Call to deprecated `__getitem__` (Method will be removed in 4.0.0, use self.wv.__getitem__() instead).\n",
      "  del sys.path[0]\n"
     ]
    },
    {
     "name": "stdout",
     "output_type": "stream",
     "text": [
      "Epoch 1/10\n",
      "336/336 [==============================] - 3s 6ms/step - loss: 0.4893 - accuracy: 0.8095\n",
      "Epoch 2/10\n",
      "336/336 [==============================] - 2s 6ms/step - loss: 0.3605 - accuracy: 0.8490\n",
      "Epoch 3/10\n",
      "336/336 [==============================] - 2s 6ms/step - loss: 0.3223 - accuracy: 0.8660\n",
      "Epoch 4/10\n",
      "336/336 [==============================] - 2s 6ms/step - loss: 0.2971 - accuracy: 0.8793\n",
      "Epoch 5/10\n",
      "336/336 [==============================] - 2s 6ms/step - loss: 0.2759 - accuracy: 0.8916\n",
      "Epoch 6/10\n",
      "336/336 [==============================] - 2s 6ms/step - loss: 0.2677 - accuracy: 0.8940\n",
      "Epoch 7/10\n",
      "336/336 [==============================] - 2s 6ms/step - loss: 0.2482 - accuracy: 0.9019\n",
      "Epoch 8/10\n",
      "336/336 [==============================] - 2s 6ms/step - loss: 0.2352 - accuracy: 0.9074\n",
      "Epoch 9/10\n",
      "336/336 [==============================] - 2s 6ms/step - loss: 0.2182 - accuracy: 0.9125\n",
      "Epoch 10/10\n",
      "336/336 [==============================] - 2s 6ms/step - loss: 0.2195 - accuracy: 0.9147\n"
     ]
    },
    {
     "name": "stderr",
     "output_type": "stream",
     "text": [
      "/usr/local/lib/python3.7/dist-packages/ipykernel_launcher.py:13: DeprecationWarning: Call to deprecated `__getitem__` (Method will be removed in 4.0.0, use self.wv.__getitem__() instead).\n",
      "  del sys.path[0]\n"
     ]
    },
    {
     "name": "stdout",
     "output_type": "stream",
     "text": [
      "Epoch 1/10\n",
      "336/336 [==============================] - 3s 7ms/step - loss: 0.5017 - accuracy: 0.8073\n",
      "Epoch 2/10\n",
      "336/336 [==============================] - 2s 6ms/step - loss: 0.3734 - accuracy: 0.8437\n",
      "Epoch 3/10\n",
      "336/336 [==============================] - 2s 6ms/step - loss: 0.3301 - accuracy: 0.8651\n",
      "Epoch 4/10\n",
      "336/336 [==============================] - 2s 6ms/step - loss: 0.2989 - accuracy: 0.8780\n",
      "Epoch 5/10\n",
      "336/336 [==============================] - 2s 6ms/step - loss: 0.2758 - accuracy: 0.8870\n",
      "Epoch 6/10\n",
      "336/336 [==============================] - 2s 6ms/step - loss: 0.2677 - accuracy: 0.8913\n",
      "Epoch 7/10\n",
      "336/336 [==============================] - 2s 6ms/step - loss: 0.2492 - accuracy: 0.9032\n",
      "Epoch 8/10\n",
      "336/336 [==============================] - 2s 6ms/step - loss: 0.2392 - accuracy: 0.9072\n",
      "Epoch 9/10\n",
      "336/336 [==============================] - 2s 6ms/step - loss: 0.2218 - accuracy: 0.9123\n",
      "Epoch 10/10\n",
      "336/336 [==============================] - 2s 6ms/step - loss: 0.2177 - accuracy: 0.9169\n"
     ]
    },
    {
     "name": "stderr",
     "output_type": "stream",
     "text": [
      "/usr/local/lib/python3.7/dist-packages/ipykernel_launcher.py:13: DeprecationWarning: Call to deprecated `__getitem__` (Method will be removed in 4.0.0, use self.wv.__getitem__() instead).\n",
      "  del sys.path[0]\n"
     ]
    },
    {
     "name": "stdout",
     "output_type": "stream",
     "text": [
      "Epoch 1/10\n",
      "336/336 [==============================] - 3s 8ms/step - loss: 0.4734 - accuracy: 0.8111\n",
      "Epoch 2/10\n",
      "336/336 [==============================] - 2s 7ms/step - loss: 0.3733 - accuracy: 0.8457\n",
      "Epoch 3/10\n",
      "336/336 [==============================] - 2s 7ms/step - loss: 0.3295 - accuracy: 0.8649\n",
      "Epoch 4/10\n",
      "336/336 [==============================] - 2s 7ms/step - loss: 0.3066 - accuracy: 0.8741\n",
      "Epoch 5/10\n",
      "336/336 [==============================] - 2s 7ms/step - loss: 0.2914 - accuracy: 0.8814\n",
      "Epoch 6/10\n",
      "336/336 [==============================] - 2s 7ms/step - loss: 0.2685 - accuracy: 0.8904\n",
      "Epoch 7/10\n",
      "336/336 [==============================] - 2s 7ms/step - loss: 0.2535 - accuracy: 0.8987\n",
      "Epoch 8/10\n",
      "336/336 [==============================] - 2s 7ms/step - loss: 0.2373 - accuracy: 0.9041\n",
      "Epoch 9/10\n",
      "336/336 [==============================] - 2s 7ms/step - loss: 0.2342 - accuracy: 0.9059\n",
      "Epoch 10/10\n",
      "336/336 [==============================] - 2s 7ms/step - loss: 0.2189 - accuracy: 0.9134\n"
     ]
    }
   ],
   "source": [
    "re = pipeline(X_train, y_train, X_test, y_test,n,0)\n",
    "results = pd.DataFrame(re)\n",
    "results = results.reindex(columns = ['Algorithm', 'Accuracy', 'Precision', 'Recall', 'F1 Score','AUC Score', 'Prediction Time'])"
   ]
  },
  {
   "cell_type": "code",
   "execution_count": 51,
   "metadata": {
    "colab": {
     "base_uri": "https://localhost:8080/",
     "height": 296
    },
    "id": "11F8ZNzlwVYC",
    "outputId": "2f03497b-3a9e-44c5-b9d4-4445f6938951"
   },
   "outputs": [
    {
     "data": {
      "text/html": [
       "<div>\n",
       "<style scoped>\n",
       "    .dataframe tbody tr th:only-of-type {\n",
       "        vertical-align: middle;\n",
       "    }\n",
       "\n",
       "    .dataframe tbody tr th {\n",
       "        vertical-align: top;\n",
       "    }\n",
       "\n",
       "    .dataframe thead th {\n",
       "        text-align: right;\n",
       "    }\n",
       "</style>\n",
       "<table border=\"1\" class=\"dataframe\">\n",
       "  <thead>\n",
       "    <tr style=\"text-align: right;\">\n",
       "      <th></th>\n",
       "      <th>Algorithm</th>\n",
       "      <th>Accuracy</th>\n",
       "      <th>Precision</th>\n",
       "      <th>Recall</th>\n",
       "      <th>F1 Score</th>\n",
       "      <th>AUC Score</th>\n",
       "      <th>Prediction Time</th>\n",
       "    </tr>\n",
       "  </thead>\n",
       "  <tbody>\n",
       "    <tr>\n",
       "      <th>0</th>\n",
       "      <td>embedding50</td>\n",
       "      <td>0.900391</td>\n",
       "      <td>0.817992</td>\n",
       "      <td>0.732896</td>\n",
       "      <td>0.773109</td>\n",
       "      <td>0.841879</td>\n",
       "      <td>0.735198</td>\n",
       "    </tr>\n",
       "    <tr>\n",
       "      <th>1</th>\n",
       "      <td>embedding100</td>\n",
       "      <td>0.893012</td>\n",
       "      <td>0.795267</td>\n",
       "      <td>0.724461</td>\n",
       "      <td>0.758215</td>\n",
       "      <td>0.834131</td>\n",
       "      <td>0.717314</td>\n",
       "    </tr>\n",
       "    <tr>\n",
       "      <th>2</th>\n",
       "      <td>embedding150</td>\n",
       "      <td>0.891493</td>\n",
       "      <td>0.875497</td>\n",
       "      <td>0.619494</td>\n",
       "      <td>0.725576</td>\n",
       "      <td>0.796474</td>\n",
       "      <td>0.387625</td>\n",
       "    </tr>\n",
       "    <tr>\n",
       "      <th>3</th>\n",
       "      <td>embedding200</td>\n",
       "      <td>0.892795</td>\n",
       "      <td>0.784508</td>\n",
       "      <td>0.740394</td>\n",
       "      <td>0.761813</td>\n",
       "      <td>0.839556</td>\n",
       "      <td>0.315750</td>\n",
       "    </tr>\n",
       "    <tr>\n",
       "      <th>4</th>\n",
       "      <td>embedding250</td>\n",
       "      <td>0.888889</td>\n",
       "      <td>0.823050</td>\n",
       "      <td>0.662605</td>\n",
       "      <td>0.734164</td>\n",
       "      <td>0.809840</td>\n",
       "      <td>0.357130</td>\n",
       "    </tr>\n",
       "    <tr>\n",
       "      <th>5</th>\n",
       "      <td>embedding300</td>\n",
       "      <td>0.892144</td>\n",
       "      <td>0.837678</td>\n",
       "      <td>0.662605</td>\n",
       "      <td>0.739927</td>\n",
       "      <td>0.811958</td>\n",
       "      <td>0.713460</td>\n",
       "    </tr>\n",
       "    <tr>\n",
       "      <th>6</th>\n",
       "      <td>embedding350</td>\n",
       "      <td>0.893663</td>\n",
       "      <td>0.823793</td>\n",
       "      <td>0.687910</td>\n",
       "      <td>0.749745</td>\n",
       "      <td>0.821786</td>\n",
       "      <td>0.708582</td>\n",
       "    </tr>\n",
       "    <tr>\n",
       "      <th>7</th>\n",
       "      <td>embedding400</td>\n",
       "      <td>0.890842</td>\n",
       "      <td>0.794979</td>\n",
       "      <td>0.712277</td>\n",
       "      <td>0.751359</td>\n",
       "      <td>0.828463</td>\n",
       "      <td>0.712023</td>\n",
       "    </tr>\n",
       "  </tbody>\n",
       "</table>\n",
       "</div>"
      ],
      "text/plain": [
       "      Algorithm  Accuracy  Precision  ...  F1 Score  AUC Score  Prediction Time\n",
       "0   embedding50  0.900391   0.817992  ...  0.773109   0.841879         0.735198\n",
       "1  embedding100  0.893012   0.795267  ...  0.758215   0.834131         0.717314\n",
       "2  embedding150  0.891493   0.875497  ...  0.725576   0.796474         0.387625\n",
       "3  embedding200  0.892795   0.784508  ...  0.761813   0.839556         0.315750\n",
       "4  embedding250  0.888889   0.823050  ...  0.734164   0.809840         0.357130\n",
       "5  embedding300  0.892144   0.837678  ...  0.739927   0.811958         0.713460\n",
       "6  embedding350  0.893663   0.823793  ...  0.749745   0.821786         0.708582\n",
       "7  embedding400  0.890842   0.794979  ...  0.751359   0.828463         0.712023\n",
       "\n",
       "[8 rows x 7 columns]"
      ]
     },
     "execution_count": 51,
     "metadata": {
      "tags": []
     },
     "output_type": "execute_result"
    }
   ],
   "source": [
    "results"
   ]
  },
  {
   "cell_type": "code",
   "execution_count": 52,
   "metadata": {
    "id": "scsssMTcwdJN"
   },
   "outputs": [],
   "source": [
    "y1=results['AUC Score']"
   ]
  },
  {
   "cell_type": "code",
   "execution_count": 53,
   "metadata": {
    "colab": {
     "base_uri": "https://localhost:8080/",
     "height": 296
    },
    "id": "twTKYt-AMP2N",
    "outputId": "2f4ab67d-e084-41d4-d4d5-4a55c05d6748"
   },
   "outputs": [
    {
     "data": {
      "text/html": [
       "<div>\n",
       "<style scoped>\n",
       "    .dataframe tbody tr th:only-of-type {\n",
       "        vertical-align: middle;\n",
       "    }\n",
       "\n",
       "    .dataframe tbody tr th {\n",
       "        vertical-align: top;\n",
       "    }\n",
       "\n",
       "    .dataframe thead th {\n",
       "        text-align: right;\n",
       "    }\n",
       "</style>\n",
       "<table border=\"1\" class=\"dataframe\">\n",
       "  <thead>\n",
       "    <tr style=\"text-align: right;\">\n",
       "      <th></th>\n",
       "      <th>Algorithm</th>\n",
       "      <th>Accuracy</th>\n",
       "      <th>Precision</th>\n",
       "      <th>Recall</th>\n",
       "      <th>F1 Score</th>\n",
       "      <th>AUC Score</th>\n",
       "      <th>Prediction Time</th>\n",
       "    </tr>\n",
       "  </thead>\n",
       "  <tbody>\n",
       "    <tr>\n",
       "      <th>0</th>\n",
       "      <td>embedding50</td>\n",
       "      <td>0.900391</td>\n",
       "      <td>0.817992</td>\n",
       "      <td>0.732896</td>\n",
       "      <td>0.773109</td>\n",
       "      <td>0.841879</td>\n",
       "      <td>0.735198</td>\n",
       "    </tr>\n",
       "    <tr>\n",
       "      <th>1</th>\n",
       "      <td>embedding200</td>\n",
       "      <td>0.892795</td>\n",
       "      <td>0.784508</td>\n",
       "      <td>0.740394</td>\n",
       "      <td>0.761813</td>\n",
       "      <td>0.839556</td>\n",
       "      <td>0.315750</td>\n",
       "    </tr>\n",
       "    <tr>\n",
       "      <th>2</th>\n",
       "      <td>embedding100</td>\n",
       "      <td>0.893012</td>\n",
       "      <td>0.795267</td>\n",
       "      <td>0.724461</td>\n",
       "      <td>0.758215</td>\n",
       "      <td>0.834131</td>\n",
       "      <td>0.717314</td>\n",
       "    </tr>\n",
       "    <tr>\n",
       "      <th>3</th>\n",
       "      <td>embedding400</td>\n",
       "      <td>0.890842</td>\n",
       "      <td>0.794979</td>\n",
       "      <td>0.712277</td>\n",
       "      <td>0.751359</td>\n",
       "      <td>0.828463</td>\n",
       "      <td>0.712023</td>\n",
       "    </tr>\n",
       "    <tr>\n",
       "      <th>4</th>\n",
       "      <td>embedding350</td>\n",
       "      <td>0.893663</td>\n",
       "      <td>0.823793</td>\n",
       "      <td>0.687910</td>\n",
       "      <td>0.749745</td>\n",
       "      <td>0.821786</td>\n",
       "      <td>0.708582</td>\n",
       "    </tr>\n",
       "    <tr>\n",
       "      <th>5</th>\n",
       "      <td>embedding300</td>\n",
       "      <td>0.892144</td>\n",
       "      <td>0.837678</td>\n",
       "      <td>0.662605</td>\n",
       "      <td>0.739927</td>\n",
       "      <td>0.811958</td>\n",
       "      <td>0.713460</td>\n",
       "    </tr>\n",
       "    <tr>\n",
       "      <th>6</th>\n",
       "      <td>embedding250</td>\n",
       "      <td>0.888889</td>\n",
       "      <td>0.823050</td>\n",
       "      <td>0.662605</td>\n",
       "      <td>0.734164</td>\n",
       "      <td>0.809840</td>\n",
       "      <td>0.357130</td>\n",
       "    </tr>\n",
       "    <tr>\n",
       "      <th>7</th>\n",
       "      <td>embedding150</td>\n",
       "      <td>0.891493</td>\n",
       "      <td>0.875497</td>\n",
       "      <td>0.619494</td>\n",
       "      <td>0.725576</td>\n",
       "      <td>0.796474</td>\n",
       "      <td>0.387625</td>\n",
       "    </tr>\n",
       "  </tbody>\n",
       "</table>\n",
       "</div>"
      ],
      "text/plain": [
       "      Algorithm  Accuracy  Precision  ...  F1 Score  AUC Score  Prediction Time\n",
       "0   embedding50  0.900391   0.817992  ...  0.773109   0.841879         0.735198\n",
       "1  embedding200  0.892795   0.784508  ...  0.761813   0.839556         0.315750\n",
       "2  embedding100  0.893012   0.795267  ...  0.758215   0.834131         0.717314\n",
       "3  embedding400  0.890842   0.794979  ...  0.751359   0.828463         0.712023\n",
       "4  embedding350  0.893663   0.823793  ...  0.749745   0.821786         0.708582\n",
       "5  embedding300  0.892144   0.837678  ...  0.739927   0.811958         0.713460\n",
       "6  embedding250  0.888889   0.823050  ...  0.734164   0.809840         0.357130\n",
       "7  embedding150  0.891493   0.875497  ...  0.725576   0.796474         0.387625\n",
       "\n",
       "[8 rows x 7 columns]"
      ]
     },
     "execution_count": 53,
     "metadata": {
      "tags": []
     },
     "output_type": "execute_result"
    }
   ],
   "source": [
    "results.sort_values(by = 'AUC Score', inplace = True, ascending = False)\n",
    "results.reset_index(drop = True)"
   ]
  },
  {
   "cell_type": "markdown",
   "metadata": {
    "id": "zFEgZzYznJwT"
   },
   "source": [
    "SKIP GRAM"
   ]
  },
  {
   "cell_type": "code",
   "execution_count": 54,
   "metadata": {
    "colab": {
     "base_uri": "https://localhost:8080/"
    },
    "id": "j2HUW8VLnIXt",
    "outputId": "d69784c8-bc9b-4b73-bdc6-b49710b7f1e6"
   },
   "outputs": [
    {
     "name": "stderr",
     "output_type": "stream",
     "text": [
      "/usr/local/lib/python3.7/dist-packages/ipykernel_launcher.py:13: DeprecationWarning: Call to deprecated `__getitem__` (Method will be removed in 4.0.0, use self.wv.__getitem__() instead).\n",
      "  del sys.path[0]\n"
     ]
    },
    {
     "name": "stdout",
     "output_type": "stream",
     "text": [
      "Epoch 1/10\n",
      "336/336 [==============================] - 2s 5ms/step - loss: 0.4248 - accuracy: 0.8249\n",
      "Epoch 2/10\n",
      "336/336 [==============================] - 2s 5ms/step - loss: 0.3352 - accuracy: 0.8607\n",
      "Epoch 3/10\n",
      "336/336 [==============================] - 2s 5ms/step - loss: 0.2795 - accuracy: 0.8879\n",
      "Epoch 4/10\n",
      "336/336 [==============================] - 2s 5ms/step - loss: 0.2302 - accuracy: 0.9089\n",
      "Epoch 5/10\n",
      "336/336 [==============================] - 2s 5ms/step - loss: 0.1988 - accuracy: 0.9251\n",
      "Epoch 6/10\n",
      "336/336 [==============================] - 2s 5ms/step - loss: 0.1716 - accuracy: 0.9394\n",
      "Epoch 7/10\n",
      "336/336 [==============================] - 2s 5ms/step - loss: 0.1536 - accuracy: 0.9438\n",
      "Epoch 8/10\n",
      "336/336 [==============================] - 2s 5ms/step - loss: 0.1302 - accuracy: 0.9534\n",
      "Epoch 9/10\n",
      "336/336 [==============================] - 2s 5ms/step - loss: 0.1152 - accuracy: 0.9601\n",
      "Epoch 10/10\n",
      "336/336 [==============================] - 2s 5ms/step - loss: 0.1058 - accuracy: 0.9642\n"
     ]
    },
    {
     "name": "stderr",
     "output_type": "stream",
     "text": [
      "/usr/local/lib/python3.7/dist-packages/ipykernel_launcher.py:13: DeprecationWarning: Call to deprecated `__getitem__` (Method will be removed in 4.0.0, use self.wv.__getitem__() instead).\n",
      "  del sys.path[0]\n"
     ]
    },
    {
     "name": "stdout",
     "output_type": "stream",
     "text": [
      "Epoch 1/10\n",
      "336/336 [==============================] - 3s 8ms/step - loss: 0.4255 - accuracy: 0.8218\n",
      "Epoch 2/10\n",
      "336/336 [==============================] - 2s 7ms/step - loss: 0.3124 - accuracy: 0.8752\n",
      "Epoch 3/10\n",
      "336/336 [==============================] - 2s 7ms/step - loss: 0.2459 - accuracy: 0.9034\n",
      "Epoch 4/10\n",
      "336/336 [==============================] - 2s 7ms/step - loss: 0.1973 - accuracy: 0.9258\n",
      "Epoch 5/10\n",
      "336/336 [==============================] - 2s 7ms/step - loss: 0.1615 - accuracy: 0.9413\n",
      "Epoch 6/10\n",
      "336/336 [==============================] - 2s 7ms/step - loss: 0.1373 - accuracy: 0.9482\n",
      "Epoch 7/10\n",
      "336/336 [==============================] - 2s 7ms/step - loss: 0.1196 - accuracy: 0.9562\n",
      "Epoch 8/10\n",
      "336/336 [==============================] - 2s 7ms/step - loss: 0.1004 - accuracy: 0.9642\n",
      "Epoch 9/10\n",
      "336/336 [==============================] - 2s 7ms/step - loss: 0.0871 - accuracy: 0.9705\n",
      "Epoch 10/10\n",
      "336/336 [==============================] - 2s 7ms/step - loss: 0.0844 - accuracy: 0.9691\n"
     ]
    },
    {
     "name": "stderr",
     "output_type": "stream",
     "text": [
      "/usr/local/lib/python3.7/dist-packages/ipykernel_launcher.py:13: DeprecationWarning: Call to deprecated `__getitem__` (Method will be removed in 4.0.0, use self.wv.__getitem__() instead).\n",
      "  del sys.path[0]\n"
     ]
    },
    {
     "name": "stdout",
     "output_type": "stream",
     "text": [
      "Epoch 1/10\n",
      "336/336 [==============================] - 2s 5ms/step - loss: 0.4206 - accuracy: 0.8246\n",
      "Epoch 2/10\n",
      "336/336 [==============================] - 1s 4ms/step - loss: 0.2960 - accuracy: 0.8788\n",
      "Epoch 3/10\n",
      "336/336 [==============================] - 1s 4ms/step - loss: 0.2314 - accuracy: 0.9095\n",
      "Epoch 4/10\n",
      "336/336 [==============================] - 1s 4ms/step - loss: 0.1837 - accuracy: 0.9305\n",
      "Epoch 5/10\n",
      "336/336 [==============================] - 1s 4ms/step - loss: 0.1493 - accuracy: 0.9438\n",
      "Epoch 6/10\n",
      "336/336 [==============================] - 1s 4ms/step - loss: 0.1221 - accuracy: 0.9566\n",
      "Epoch 7/10\n",
      "336/336 [==============================] - 1s 4ms/step - loss: 0.1047 - accuracy: 0.9633\n",
      "Epoch 8/10\n",
      "336/336 [==============================] - 1s 4ms/step - loss: 0.0957 - accuracy: 0.9672\n",
      "Epoch 9/10\n",
      "336/336 [==============================] - 1s 4ms/step - loss: 0.0881 - accuracy: 0.9697\n",
      "Epoch 10/10\n",
      "336/336 [==============================] - 1s 4ms/step - loss: 0.0698 - accuracy: 0.9754\n"
     ]
    },
    {
     "name": "stderr",
     "output_type": "stream",
     "text": [
      "/usr/local/lib/python3.7/dist-packages/ipykernel_launcher.py:13: DeprecationWarning: Call to deprecated `__getitem__` (Method will be removed in 4.0.0, use self.wv.__getitem__() instead).\n",
      "  del sys.path[0]\n"
     ]
    },
    {
     "name": "stdout",
     "output_type": "stream",
     "text": [
      "Epoch 1/10\n",
      "336/336 [==============================] - 3s 5ms/step - loss: 0.4227 - accuracy: 0.8226\n",
      "Epoch 2/10\n",
      "336/336 [==============================] - 2s 5ms/step - loss: 0.2958 - accuracy: 0.8766\n",
      "Epoch 3/10\n",
      "336/336 [==============================] - 2s 5ms/step - loss: 0.2289 - accuracy: 0.9081\n",
      "Epoch 4/10\n",
      "336/336 [==============================] - 2s 5ms/step - loss: 0.1796 - accuracy: 0.9315\n",
      "Epoch 5/10\n",
      "336/336 [==============================] - 2s 5ms/step - loss: 0.1460 - accuracy: 0.9474\n",
      "Epoch 6/10\n",
      "336/336 [==============================] - 2s 5ms/step - loss: 0.1246 - accuracy: 0.9542\n",
      "Epoch 7/10\n",
      "336/336 [==============================] - 2s 5ms/step - loss: 0.1069 - accuracy: 0.9622\n",
      "Epoch 8/10\n",
      "336/336 [==============================] - 2s 5ms/step - loss: 0.0939 - accuracy: 0.9649\n",
      "Epoch 9/10\n",
      "336/336 [==============================] - 2s 5ms/step - loss: 0.0786 - accuracy: 0.9730\n",
      "Epoch 10/10\n",
      "336/336 [==============================] - 2s 5ms/step - loss: 0.0700 - accuracy: 0.9762\n"
     ]
    },
    {
     "name": "stderr",
     "output_type": "stream",
     "text": [
      "/usr/local/lib/python3.7/dist-packages/ipykernel_launcher.py:13: DeprecationWarning: Call to deprecated `__getitem__` (Method will be removed in 4.0.0, use self.wv.__getitem__() instead).\n",
      "  del sys.path[0]\n"
     ]
    },
    {
     "name": "stdout",
     "output_type": "stream",
     "text": [
      "Epoch 1/10\n",
      "336/336 [==============================] - 2s 6ms/step - loss: 0.4220 - accuracy: 0.8229\n",
      "Epoch 2/10\n",
      "336/336 [==============================] - 2s 5ms/step - loss: 0.2913 - accuracy: 0.8811\n",
      "Epoch 3/10\n",
      "336/336 [==============================] - 2s 5ms/step - loss: 0.2230 - accuracy: 0.9145\n",
      "Epoch 4/10\n",
      "336/336 [==============================] - 2s 5ms/step - loss: 0.1793 - accuracy: 0.9315\n",
      "Epoch 5/10\n",
      "336/336 [==============================] - 2s 5ms/step - loss: 0.1488 - accuracy: 0.9447\n",
      "Epoch 6/10\n",
      "336/336 [==============================] - 2s 5ms/step - loss: 0.1221 - accuracy: 0.9562\n",
      "Epoch 7/10\n",
      "336/336 [==============================] - 2s 5ms/step - loss: 0.1018 - accuracy: 0.9643\n",
      "Epoch 8/10\n",
      "336/336 [==============================] - 2s 5ms/step - loss: 0.0905 - accuracy: 0.9679\n",
      "Epoch 9/10\n",
      "336/336 [==============================] - 2s 5ms/step - loss: 0.0773 - accuracy: 0.9727\n",
      "Epoch 10/10\n",
      "336/336 [==============================] - 2s 5ms/step - loss: 0.0781 - accuracy: 0.9740\n"
     ]
    },
    {
     "name": "stderr",
     "output_type": "stream",
     "text": [
      "/usr/local/lib/python3.7/dist-packages/ipykernel_launcher.py:13: DeprecationWarning: Call to deprecated `__getitem__` (Method will be removed in 4.0.0, use self.wv.__getitem__() instead).\n",
      "  del sys.path[0]\n"
     ]
    },
    {
     "name": "stdout",
     "output_type": "stream",
     "text": [
      "Epoch 1/10\n",
      "336/336 [==============================] - 3s 6ms/step - loss: 0.4141 - accuracy: 0.8273\n",
      "Epoch 2/10\n",
      "336/336 [==============================] - 2s 6ms/step - loss: 0.2889 - accuracy: 0.8818\n",
      "Epoch 3/10\n",
      "336/336 [==============================] - 2s 6ms/step - loss: 0.2238 - accuracy: 0.9111\n",
      "Epoch 4/10\n",
      "336/336 [==============================] - 2s 6ms/step - loss: 0.1800 - accuracy: 0.9320\n",
      "Epoch 5/10\n",
      "336/336 [==============================] - 2s 6ms/step - loss: 0.1424 - accuracy: 0.9462\n",
      "Epoch 6/10\n",
      "336/336 [==============================] - 2s 6ms/step - loss: 0.1179 - accuracy: 0.9584\n",
      "Epoch 7/10\n",
      "336/336 [==============================] - 2s 6ms/step - loss: 0.1025 - accuracy: 0.9637\n",
      "Epoch 8/10\n",
      "336/336 [==============================] - 2s 6ms/step - loss: 0.0862 - accuracy: 0.9698\n",
      "Epoch 9/10\n",
      "336/336 [==============================] - 2s 6ms/step - loss: 0.0808 - accuracy: 0.9710\n",
      "Epoch 10/10\n",
      "336/336 [==============================] - 2s 6ms/step - loss: 0.0764 - accuracy: 0.9730\n"
     ]
    },
    {
     "name": "stderr",
     "output_type": "stream",
     "text": [
      "/usr/local/lib/python3.7/dist-packages/ipykernel_launcher.py:13: DeprecationWarning: Call to deprecated `__getitem__` (Method will be removed in 4.0.0, use self.wv.__getitem__() instead).\n",
      "  del sys.path[0]\n"
     ]
    },
    {
     "name": "stdout",
     "output_type": "stream",
     "text": [
      "Epoch 1/10\n",
      "336/336 [==============================] - 3s 7ms/step - loss: 0.4159 - accuracy: 0.8252\n",
      "Epoch 2/10\n",
      "336/336 [==============================] - 2s 6ms/step - loss: 0.2904 - accuracy: 0.8850\n",
      "Epoch 3/10\n",
      "336/336 [==============================] - 2s 6ms/step - loss: 0.2227 - accuracy: 0.9101\n",
      "Epoch 4/10\n",
      "336/336 [==============================] - 2s 6ms/step - loss: 0.1736 - accuracy: 0.9352\n",
      "Epoch 5/10\n",
      "336/336 [==============================] - 2s 6ms/step - loss: 0.1458 - accuracy: 0.9446\n",
      "Epoch 6/10\n",
      "336/336 [==============================] - 2s 6ms/step - loss: 0.1137 - accuracy: 0.9607\n",
      "Epoch 7/10\n",
      "336/336 [==============================] - 2s 6ms/step - loss: 0.1056 - accuracy: 0.9621\n",
      "Epoch 8/10\n",
      "336/336 [==============================] - 2s 6ms/step - loss: 0.0845 - accuracy: 0.9706\n",
      "Epoch 9/10\n",
      "336/336 [==============================] - 2s 6ms/step - loss: 0.0735 - accuracy: 0.9736\n",
      "Epoch 10/10\n",
      "336/336 [==============================] - 2s 6ms/step - loss: 0.0752 - accuracy: 0.9734\n"
     ]
    },
    {
     "name": "stderr",
     "output_type": "stream",
     "text": [
      "/usr/local/lib/python3.7/dist-packages/ipykernel_launcher.py:13: DeprecationWarning: Call to deprecated `__getitem__` (Method will be removed in 4.0.0, use self.wv.__getitem__() instead).\n",
      "  del sys.path[0]\n"
     ]
    },
    {
     "name": "stdout",
     "output_type": "stream",
     "text": [
      "Epoch 1/10\n",
      "336/336 [==============================] - 3s 8ms/step - loss: 0.4206 - accuracy: 0.8295\n",
      "Epoch 2/10\n",
      "336/336 [==============================] - 2s 7ms/step - loss: 0.2893 - accuracy: 0.8810\n",
      "Epoch 3/10\n",
      "336/336 [==============================] - 2s 7ms/step - loss: 0.2252 - accuracy: 0.9104\n",
      "Epoch 4/10\n",
      "336/336 [==============================] - 2s 7ms/step - loss: 0.1847 - accuracy: 0.9295\n",
      "Epoch 5/10\n",
      "336/336 [==============================] - 2s 7ms/step - loss: 0.1504 - accuracy: 0.9439\n",
      "Epoch 6/10\n",
      "336/336 [==============================] - 2s 7ms/step - loss: 0.1194 - accuracy: 0.9562\n",
      "Epoch 7/10\n",
      "336/336 [==============================] - 2s 7ms/step - loss: 0.1043 - accuracy: 0.9631\n",
      "Epoch 8/10\n",
      "336/336 [==============================] - 2s 7ms/step - loss: 0.0919 - accuracy: 0.9677\n",
      "Epoch 9/10\n",
      "336/336 [==============================] - 2s 7ms/step - loss: 0.0844 - accuracy: 0.9695\n",
      "Epoch 10/10\n",
      "336/336 [==============================] - 2s 7ms/step - loss: 0.0744 - accuracy: 0.9727\n"
     ]
    }
   ],
   "source": [
    "re = pipeline(X_train, y_train, X_test, y_test,n,1)\n",
    "results = pd.DataFrame(re)\n",
    "results = results.reindex(columns = ['Algorithm', 'Accuracy', 'Precision', 'Recall', 'F1 Score','AUC Score', 'Prediction Time'])"
   ]
  },
  {
   "cell_type": "code",
   "execution_count": 55,
   "metadata": {
    "colab": {
     "base_uri": "https://localhost:8080/",
     "height": 296
    },
    "id": "lCxzwSIowZI0",
    "outputId": "f51ff0fb-b888-47ad-8823-2f14c62c580d"
   },
   "outputs": [
    {
     "data": {
      "text/html": [
       "<div>\n",
       "<style scoped>\n",
       "    .dataframe tbody tr th:only-of-type {\n",
       "        vertical-align: middle;\n",
       "    }\n",
       "\n",
       "    .dataframe tbody tr th {\n",
       "        vertical-align: top;\n",
       "    }\n",
       "\n",
       "    .dataframe thead th {\n",
       "        text-align: right;\n",
       "    }\n",
       "</style>\n",
       "<table border=\"1\" class=\"dataframe\">\n",
       "  <thead>\n",
       "    <tr style=\"text-align: right;\">\n",
       "      <th></th>\n",
       "      <th>Algorithm</th>\n",
       "      <th>Accuracy</th>\n",
       "      <th>Precision</th>\n",
       "      <th>Recall</th>\n",
       "      <th>F1 Score</th>\n",
       "      <th>AUC Score</th>\n",
       "      <th>Prediction Time</th>\n",
       "    </tr>\n",
       "  </thead>\n",
       "  <tbody>\n",
       "    <tr>\n",
       "      <th>0</th>\n",
       "      <td>embedding50</td>\n",
       "      <td>0.946181</td>\n",
       "      <td>0.927007</td>\n",
       "      <td>0.833177</td>\n",
       "      <td>0.877591</td>\n",
       "      <td>0.906704</td>\n",
       "      <td>0.439091</td>\n",
       "    </tr>\n",
       "    <tr>\n",
       "      <th>1</th>\n",
       "      <td>embedding100</td>\n",
       "      <td>0.955295</td>\n",
       "      <td>0.939734</td>\n",
       "      <td>0.862231</td>\n",
       "      <td>0.899316</td>\n",
       "      <td>0.922784</td>\n",
       "      <td>0.710045</td>\n",
       "    </tr>\n",
       "    <tr>\n",
       "      <th>2</th>\n",
       "      <td>embedding150</td>\n",
       "      <td>0.955078</td>\n",
       "      <td>0.930862</td>\n",
       "      <td>0.870665</td>\n",
       "      <td>0.899758</td>\n",
       "      <td>0.925590</td>\n",
       "      <td>0.348152</td>\n",
       "    </tr>\n",
       "    <tr>\n",
       "      <th>3</th>\n",
       "      <td>embedding200</td>\n",
       "      <td>0.950955</td>\n",
       "      <td>0.959563</td>\n",
       "      <td>0.822868</td>\n",
       "      <td>0.885974</td>\n",
       "      <td>0.906209</td>\n",
       "      <td>0.708355</td>\n",
       "    </tr>\n",
       "    <tr>\n",
       "      <th>4</th>\n",
       "      <td>embedding250</td>\n",
       "      <td>0.952908</td>\n",
       "      <td>0.934560</td>\n",
       "      <td>0.856607</td>\n",
       "      <td>0.893888</td>\n",
       "      <td>0.919267</td>\n",
       "      <td>0.340726</td>\n",
       "    </tr>\n",
       "    <tr>\n",
       "      <th>5</th>\n",
       "      <td>embedding300</td>\n",
       "      <td>0.957899</td>\n",
       "      <td>0.960929</td>\n",
       "      <td>0.852858</td>\n",
       "      <td>0.903674</td>\n",
       "      <td>0.921205</td>\n",
       "      <td>0.401742</td>\n",
       "    </tr>\n",
       "    <tr>\n",
       "      <th>6</th>\n",
       "      <td>embedding350</td>\n",
       "      <td>0.952040</td>\n",
       "      <td>0.928138</td>\n",
       "      <td>0.859419</td>\n",
       "      <td>0.892457</td>\n",
       "      <td>0.919684</td>\n",
       "      <td>0.709635</td>\n",
       "    </tr>\n",
       "    <tr>\n",
       "      <th>7</th>\n",
       "      <td>embedding400</td>\n",
       "      <td>0.953559</td>\n",
       "      <td>0.932995</td>\n",
       "      <td>0.861293</td>\n",
       "      <td>0.895712</td>\n",
       "      <td>0.921327</td>\n",
       "      <td>0.710186</td>\n",
       "    </tr>\n",
       "  </tbody>\n",
       "</table>\n",
       "</div>"
      ],
      "text/plain": [
       "      Algorithm  Accuracy  Precision  ...  F1 Score  AUC Score  Prediction Time\n",
       "0   embedding50  0.946181   0.927007  ...  0.877591   0.906704         0.439091\n",
       "1  embedding100  0.955295   0.939734  ...  0.899316   0.922784         0.710045\n",
       "2  embedding150  0.955078   0.930862  ...  0.899758   0.925590         0.348152\n",
       "3  embedding200  0.950955   0.959563  ...  0.885974   0.906209         0.708355\n",
       "4  embedding250  0.952908   0.934560  ...  0.893888   0.919267         0.340726\n",
       "5  embedding300  0.957899   0.960929  ...  0.903674   0.921205         0.401742\n",
       "6  embedding350  0.952040   0.928138  ...  0.892457   0.919684         0.709635\n",
       "7  embedding400  0.953559   0.932995  ...  0.895712   0.921327         0.710186\n",
       "\n",
       "[8 rows x 7 columns]"
      ]
     },
     "execution_count": 55,
     "metadata": {
      "tags": []
     },
     "output_type": "execute_result"
    }
   ],
   "source": [
    "results"
   ]
  },
  {
   "cell_type": "code",
   "execution_count": 56,
   "metadata": {
    "id": "aJP8HDk3wlvi"
   },
   "outputs": [],
   "source": [
    "y2=results['AUC Score']"
   ]
  },
  {
   "cell_type": "code",
   "execution_count": 57,
   "metadata": {
    "colab": {
     "base_uri": "https://localhost:8080/",
     "height": 296
    },
    "id": "iWcdrLi0wZI1",
    "outputId": "442452ac-adb6-4083-c893-737c109fa796"
   },
   "outputs": [
    {
     "data": {
      "text/html": [
       "<div>\n",
       "<style scoped>\n",
       "    .dataframe tbody tr th:only-of-type {\n",
       "        vertical-align: middle;\n",
       "    }\n",
       "\n",
       "    .dataframe tbody tr th {\n",
       "        vertical-align: top;\n",
       "    }\n",
       "\n",
       "    .dataframe thead th {\n",
       "        text-align: right;\n",
       "    }\n",
       "</style>\n",
       "<table border=\"1\" class=\"dataframe\">\n",
       "  <thead>\n",
       "    <tr style=\"text-align: right;\">\n",
       "      <th></th>\n",
       "      <th>Algorithm</th>\n",
       "      <th>Accuracy</th>\n",
       "      <th>Precision</th>\n",
       "      <th>Recall</th>\n",
       "      <th>F1 Score</th>\n",
       "      <th>AUC Score</th>\n",
       "      <th>Prediction Time</th>\n",
       "    </tr>\n",
       "  </thead>\n",
       "  <tbody>\n",
       "    <tr>\n",
       "      <th>0</th>\n",
       "      <td>embedding150</td>\n",
       "      <td>0.955078</td>\n",
       "      <td>0.930862</td>\n",
       "      <td>0.870665</td>\n",
       "      <td>0.899758</td>\n",
       "      <td>0.925590</td>\n",
       "      <td>0.348152</td>\n",
       "    </tr>\n",
       "    <tr>\n",
       "      <th>1</th>\n",
       "      <td>embedding100</td>\n",
       "      <td>0.955295</td>\n",
       "      <td>0.939734</td>\n",
       "      <td>0.862231</td>\n",
       "      <td>0.899316</td>\n",
       "      <td>0.922784</td>\n",
       "      <td>0.710045</td>\n",
       "    </tr>\n",
       "    <tr>\n",
       "      <th>2</th>\n",
       "      <td>embedding400</td>\n",
       "      <td>0.953559</td>\n",
       "      <td>0.932995</td>\n",
       "      <td>0.861293</td>\n",
       "      <td>0.895712</td>\n",
       "      <td>0.921327</td>\n",
       "      <td>0.710186</td>\n",
       "    </tr>\n",
       "    <tr>\n",
       "      <th>3</th>\n",
       "      <td>embedding300</td>\n",
       "      <td>0.957899</td>\n",
       "      <td>0.960929</td>\n",
       "      <td>0.852858</td>\n",
       "      <td>0.903674</td>\n",
       "      <td>0.921205</td>\n",
       "      <td>0.401742</td>\n",
       "    </tr>\n",
       "    <tr>\n",
       "      <th>4</th>\n",
       "      <td>embedding350</td>\n",
       "      <td>0.952040</td>\n",
       "      <td>0.928138</td>\n",
       "      <td>0.859419</td>\n",
       "      <td>0.892457</td>\n",
       "      <td>0.919684</td>\n",
       "      <td>0.709635</td>\n",
       "    </tr>\n",
       "    <tr>\n",
       "      <th>5</th>\n",
       "      <td>embedding250</td>\n",
       "      <td>0.952908</td>\n",
       "      <td>0.934560</td>\n",
       "      <td>0.856607</td>\n",
       "      <td>0.893888</td>\n",
       "      <td>0.919267</td>\n",
       "      <td>0.340726</td>\n",
       "    </tr>\n",
       "    <tr>\n",
       "      <th>6</th>\n",
       "      <td>embedding50</td>\n",
       "      <td>0.946181</td>\n",
       "      <td>0.927007</td>\n",
       "      <td>0.833177</td>\n",
       "      <td>0.877591</td>\n",
       "      <td>0.906704</td>\n",
       "      <td>0.439091</td>\n",
       "    </tr>\n",
       "    <tr>\n",
       "      <th>7</th>\n",
       "      <td>embedding200</td>\n",
       "      <td>0.950955</td>\n",
       "      <td>0.959563</td>\n",
       "      <td>0.822868</td>\n",
       "      <td>0.885974</td>\n",
       "      <td>0.906209</td>\n",
       "      <td>0.708355</td>\n",
       "    </tr>\n",
       "  </tbody>\n",
       "</table>\n",
       "</div>"
      ],
      "text/plain": [
       "      Algorithm  Accuracy  Precision  ...  F1 Score  AUC Score  Prediction Time\n",
       "0  embedding150  0.955078   0.930862  ...  0.899758   0.925590         0.348152\n",
       "1  embedding100  0.955295   0.939734  ...  0.899316   0.922784         0.710045\n",
       "2  embedding400  0.953559   0.932995  ...  0.895712   0.921327         0.710186\n",
       "3  embedding300  0.957899   0.960929  ...  0.903674   0.921205         0.401742\n",
       "4  embedding350  0.952040   0.928138  ...  0.892457   0.919684         0.709635\n",
       "5  embedding250  0.952908   0.934560  ...  0.893888   0.919267         0.340726\n",
       "6   embedding50  0.946181   0.927007  ...  0.877591   0.906704         0.439091\n",
       "7  embedding200  0.950955   0.959563  ...  0.885974   0.906209         0.708355\n",
       "\n",
       "[8 rows x 7 columns]"
      ]
     },
     "execution_count": 57,
     "metadata": {
      "tags": []
     },
     "output_type": "execute_result"
    }
   ],
   "source": [
    "results.sort_values(by = 'AUC Score', inplace = True, ascending = False)\n",
    "results.reset_index(drop = True)"
   ]
  },
  {
   "cell_type": "markdown",
   "metadata": {
    "id": "FEBsJ1JDwu3n"
   },
   "source": [
    "GRAPH"
   ]
  },
  {
   "cell_type": "code",
   "execution_count": 58,
   "metadata": {
    "colab": {
     "base_uri": "https://localhost:8080/"
    },
    "id": "SQiKBlngymH5",
    "outputId": "6751466b-fad6-4ad6-ee5f-fda5a610337a"
   },
   "outputs": [
    {
     "data": {
      "text/plain": [
       "0    0.841879\n",
       "1    0.834131\n",
       "2    0.796474\n",
       "3    0.839556\n",
       "4    0.809840\n",
       "5    0.811958\n",
       "6    0.821786\n",
       "7    0.828463\n",
       "Name: AUC Score, dtype: float64"
      ]
     },
     "execution_count": 58,
     "metadata": {
      "tags": []
     },
     "output_type": "execute_result"
    }
   ],
   "source": [
    "y1"
   ]
  },
  {
   "cell_type": "code",
   "execution_count": 59,
   "metadata": {
    "colab": {
     "base_uri": "https://localhost:8080/"
    },
    "id": "X3_hXm0qynuY",
    "outputId": "76e625fa-001c-446f-a706-6d8994b5d60f"
   },
   "outputs": [
    {
     "data": {
      "text/plain": [
       "0    0.906704\n",
       "1    0.922784\n",
       "2    0.925590\n",
       "3    0.906209\n",
       "4    0.919267\n",
       "5    0.921205\n",
       "6    0.919684\n",
       "7    0.921327\n",
       "Name: AUC Score, dtype: float64"
      ]
     },
     "execution_count": 59,
     "metadata": {
      "tags": []
     },
     "output_type": "execute_result"
    }
   ],
   "source": [
    "y2"
   ]
  },
  {
   "cell_type": "code",
   "execution_count": 60,
   "metadata": {
    "colab": {
     "base_uri": "https://localhost:8080/"
    },
    "id": "wocctiaXzFhf",
    "outputId": "4ff520b8-466e-4678-de33-46793a7f805b"
   },
   "outputs": [
    {
     "data": {
      "text/plain": [
       "array([0.84187865, 0.83413115, 0.79647387, 0.83955575, 0.80983985,\n",
       "       0.8119579 , 0.82178614, 0.82846291])"
      ]
     },
     "execution_count": 60,
     "metadata": {
      "tags": []
     },
     "output_type": "execute_result"
    }
   ],
   "source": [
    "y1=np.array(y1)\n",
    "y1"
   ]
  },
  {
   "cell_type": "code",
   "execution_count": 61,
   "metadata": {
    "colab": {
     "base_uri": "https://localhost:8080/"
    },
    "id": "sa_C_a-4zXuP",
    "outputId": "146f7da5-8e20-42a0-c8dd-d00268ac19de"
   },
   "outputs": [
    {
     "data": {
      "text/plain": [
       "array([0.90670435, 0.9227843 , 0.9255897 , 0.90620941, 0.91926666,\n",
       "       0.92120473, 0.91968405, 0.92132727])"
      ]
     },
     "execution_count": 61,
     "metadata": {
      "tags": []
     },
     "output_type": "execute_result"
    }
   ],
   "source": [
    "y2=np.array(y2)\n",
    "y2"
   ]
  },
  {
   "cell_type": "code",
   "execution_count": 63,
   "metadata": {
    "colab": {
     "base_uri": "https://localhost:8080/",
     "height": 296
    },
    "id": "6hdRhocaZiRD",
    "outputId": "24ffc442-2dd8-43eb-c586-b4288fbe3af3"
   },
   "outputs": [
    {
     "data": {
      "image/png": "[encoded data removed]",
      "text/plain": [
       "<Figure size 432x288 with 1 Axes>"
      ]
     },
     "metadata": {
      "needs_background": "light",
      "tags": []
     },
     "output_type": "display_data"
    }
   ],
   "source": [
    "plt.plot(n,y1,label=\"CBOW\",marker='o')\n",
    "plt.plot(n,y2,label=\"SKIP GRAM\",marker='o')\n",
    "plt.axis([0,450,0.75,1.00])\n",
    "plt.xlabel('EMBEDDING_DIM')\n",
    "plt.ylabel('AUC-Score')\n",
    "plt.legend()\n",
    "plt.title('CNN AUC-Score For Different Embedding Dimensions')\n",
    "plt.show()\n"
   ]
  },
  {
   "cell_type": "code",
   "execution_count": 62,
   "metadata": {
    "id": "RgHGcjnBzacE"
   },
   "outputs": [],
   "source": []
  }
 ],
 "metadata": {
  "accelerator": "GPU",
  "colab": {
   "collapsed_sections": [],
   "name": "formspring_word2vec_CNN.ipynb",
   "provenance": []
  },
  "kernelspec": {
   "display_name": "Python 3",
   "language": "python",
   "name": "python3"
  },
  "language_info": {
   "codemirror_mode": {
    "name": "ipython",
    "version": 3
   },
   "file_extension": ".py",
   "mimetype": "text/x-python",
   "name": "python",
   "nbconvert_exporter": "python",
   "pygments_lexer": "ipython3",
   "version": "3.8.8"
  }
 },
 "nbformat": 4,
 "nbformat_minor": 1
}
