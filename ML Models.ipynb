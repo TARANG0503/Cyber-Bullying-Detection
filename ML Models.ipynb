{
 "cells": [
  {
   "cell_type": "markdown",
   "metadata": {
    "id": "WTeE6MjAHSlR"
   },
   "source": [
    "Import Necessary Modules"
   ]
  },
  {
   "cell_type": "code",
   "execution_count": 5,
   "metadata": {
    "id": "18d5a54f"
   },
   "outputs": [],
   "source": [
    "import numpy as np\n",
    "import pandas as pd\n",
    "from sklearn.metrics import f1_score, accuracy_score, precision_score, recall_score, make_scorer,roc_auc_score,roc_curve\n",
    "from sklearn.model_selection import train_test_split,cross_val_score\n",
    "from time import time\n",
    "from sklearn.feature_extraction.text import TfidfVectorizer,CountVectorizer\n",
    "from sklearn.naive_bayes import MultinomialNB\n",
    "from sklearn.tree import DecisionTreeClassifier\n",
    "from sklearn.svm import LinearSVC,SVC\n",
    "from sklearn.ensemble import AdaBoostClassifier, RandomForestClassifier, BaggingClassifier\n",
    "from sklearn.linear_model import LogisticRegression, SGDClassifier\n",
    "from sklearn.neighbors import KNeighborsClassifier\n",
    "import nltk\n",
    "import re\n",
    "from nltk.stem import WordNetLemmatizer\n",
    "from nltk.corpus import stopwords\n",
    "from collections import Counter\n",
    "import docx\n",
    "import matplotlib.pyplot as plt"
   ]
  },
  {
   "cell_type": "markdown",
   "metadata": {
    "id": "2L_-_XJ4HY27"
   },
   "source": [
    "Import Dataset"
   ]
  },
  {
   "cell_type": "code",
   "execution_count": 6,
   "metadata": {
    "id": "Ros9Llm1lVDg"
   },
   "outputs": [],
   "source": [
    "formspring='https://raw.githubusercontent.com/eimearfoley/CyberBullyingDetection/master/data/formspring.csv'"
   ]
  },
  {
   "cell_type": "code",
   "execution_count": 7,
   "metadata": {
    "id": "7491c915"
   },
   "outputs": [],
   "source": [
    "df=pd.read_csv(formspring)"
   ]
  },
  {
   "cell_type": "markdown",
   "metadata": {
    "id": "J7pwz3lxLg5w"
   },
   "source": [
    "Analyze Dataset"
   ]
  },
  {
   "cell_type": "code",
   "execution_count": 8,
   "metadata": {
    "colab": {
     "base_uri": "https://localhost:8080/",
     "height": 611
    },
    "id": "_nPQHXRoFlYJ",
    "outputId": "494d68b9-2c4e-49fe-e617-b9c264bbf1d5"
   },
   "outputs": [
    {
     "name": "stdout",
     "output_type": "stream",
     "text": [
      "<class 'pandas.core.frame.DataFrame'>\n",
      "RangeIndex: 12901 entries, 0 to 12900\n",
      "Data columns (total 14 columns):\n",
      " #   Column     Non-Null Count  Dtype \n",
      "---  ------     --------------  ----- \n",
      " 0   userid     12896 non-null  object\n",
      " 1   post       12852 non-null  object\n",
      " 2   ques       12852 non-null  object\n",
      " 3   ans        12820 non-null  object\n",
      " 4   asker      12801 non-null  object\n",
      " 5   ans1       12759 non-null  object\n",
      " 6   severity1  12788 non-null  object\n",
      " 7   bully1     1909 non-null   object\n",
      " 8   ans2       12701 non-null  object\n",
      " 9   severity2  12739 non-null  object\n",
      " 10  bully2     1786 non-null   object\n",
      " 11  ans3       12655 non-null  object\n",
      " 12  severity3  12698 non-null  object\n",
      " 13  bully3     1780 non-null   object\n",
      "dtypes: object(14)\n",
      "memory usage: 1.4+ MB\n"
     ]
    },
    {
     "data": {
      "text/html": [
       "<div>\n",
       "<style scoped>\n",
       "    .dataframe tbody tr th:only-of-type {\n",
       "        vertical-align: middle;\n",
       "    }\n",
       "\n",
       "    .dataframe tbody tr th {\n",
       "        vertical-align: top;\n",
       "    }\n",
       "\n",
       "    .dataframe thead th {\n",
       "        text-align: right;\n",
       "    }\n",
       "</style>\n",
       "<table border=\"1\" class=\"dataframe\">\n",
       "  <thead>\n",
       "    <tr style=\"text-align: right;\">\n",
       "      <th></th>\n",
       "      <th>userid</th>\n",
       "      <th>post</th>\n",
       "      <th>ques</th>\n",
       "      <th>ans</th>\n",
       "      <th>asker</th>\n",
       "      <th>ans1</th>\n",
       "      <th>severity1</th>\n",
       "      <th>bully1</th>\n",
       "      <th>ans2</th>\n",
       "      <th>severity2</th>\n",
       "      <th>bully2</th>\n",
       "      <th>ans3</th>\n",
       "      <th>severity3</th>\n",
       "      <th>bully3</th>\n",
       "    </tr>\n",
       "  </thead>\n",
       "  <tbody>\n",
       "    <tr>\n",
       "      <th>0</th>\n",
       "      <td>aguitarplayer94</td>\n",
       "      <td>Q: what&amp;#039;s your favorite song? :D&lt;br&gt;A: I ...</td>\n",
       "      <td>what&amp;#039;s your favorite song? :D&lt;br&gt;</td>\n",
       "      <td>I like too many songs to have a favorite</td>\n",
       "      <td>None</td>\n",
       "      <td>No</td>\n",
       "      <td>0</td>\n",
       "      <td>NaN</td>\n",
       "      <td>No</td>\n",
       "      <td>0</td>\n",
       "      <td>NaN</td>\n",
       "      <td>No</td>\n",
       "      <td>0</td>\n",
       "      <td>NaN</td>\n",
       "    </tr>\n",
       "    <tr>\n",
       "      <th>1</th>\n",
       "      <td>aprilpooh15</td>\n",
       "      <td>Q: &lt;3&lt;br&gt;A: &lt;/3 ? haha jk! &lt;33</td>\n",
       "      <td>&lt;3</td>\n",
       "      <td>&lt;/3 ? haha jk! &lt;33</td>\n",
       "      <td>None</td>\n",
       "      <td>No</td>\n",
       "      <td>0</td>\n",
       "      <td>NaN</td>\n",
       "      <td>No</td>\n",
       "      <td>0</td>\n",
       "      <td>NaN</td>\n",
       "      <td>No</td>\n",
       "      <td>0</td>\n",
       "      <td>NaN</td>\n",
       "    </tr>\n",
       "    <tr>\n",
       "      <th>2</th>\n",
       "      <td>aprilpooh15</td>\n",
       "      <td>Q: &amp;quot;hey angel  you duh sexy&amp;quot;&lt;br&gt;A: R...</td>\n",
       "      <td>&amp;quot;hey angel  you duh sexy&amp;quot;</td>\n",
       "      <td>Really?!?! Thanks?! haha</td>\n",
       "      <td>None</td>\n",
       "      <td>No</td>\n",
       "      <td>0</td>\n",
       "      <td>NaN</td>\n",
       "      <td>No</td>\n",
       "      <td>0</td>\n",
       "      <td>NaN</td>\n",
       "      <td>No</td>\n",
       "      <td>0</td>\n",
       "      <td>NaN</td>\n",
       "    </tr>\n",
       "    <tr>\n",
       "      <th>3</th>\n",
       "      <td>aprilpooh15</td>\n",
       "      <td>Q: (:&lt;br&gt;A: ;(</td>\n",
       "      <td>(:</td>\n",
       "      <td>;(</td>\n",
       "      <td>None</td>\n",
       "      <td>No</td>\n",
       "      <td>0</td>\n",
       "      <td>NaN</td>\n",
       "      <td>No</td>\n",
       "      <td>0</td>\n",
       "      <td>NaN</td>\n",
       "      <td>No</td>\n",
       "      <td>0</td>\n",
       "      <td>NaN</td>\n",
       "    </tr>\n",
       "    <tr>\n",
       "      <th>4</th>\n",
       "      <td>aprilpooh15</td>\n",
       "      <td>Q: ******************MEOWWW*******************...</td>\n",
       "      <td>******************MEOWWW*************************</td>\n",
       "      <td>*RAWR*?</td>\n",
       "      <td>None</td>\n",
       "      <td>No</td>\n",
       "      <td>0</td>\n",
       "      <td>NaN</td>\n",
       "      <td>No</td>\n",
       "      <td>0</td>\n",
       "      <td>NaN</td>\n",
       "      <td>No</td>\n",
       "      <td>0</td>\n",
       "      <td>NaN</td>\n",
       "    </tr>\n",
       "  </tbody>\n",
       "</table>\n",
       "</div>"
      ],
      "text/plain": [
       "            userid  ... bully3\n",
       "0  aguitarplayer94  ...    NaN\n",
       "1      aprilpooh15  ...    NaN\n",
       "2      aprilpooh15  ...    NaN\n",
       "3      aprilpooh15  ...    NaN\n",
       "4      aprilpooh15  ...    NaN\n",
       "\n",
       "[5 rows x 14 columns]"
      ]
     },
     "execution_count": 8,
     "metadata": {
      "tags": []
     },
     "output_type": "execute_result"
    }
   ],
   "source": [
    "df.info()\n",
    "df.head()"
   ]
  },
  {
   "cell_type": "code",
   "execution_count": 9,
   "metadata": {
    "colab": {
     "base_uri": "https://localhost:8080/"
    },
    "id": "7nH9GH1dGby0",
    "outputId": "202774c1-09a7-40ce-dd6f-d5bfb312bcee"
   },
   "outputs": [
    {
     "data": {
      "text/plain": [
       "0    Q: what&#039;s your favorite song? :D<br>A: I ...\n",
       "1                       Q: <3<br>A: </3 ? haha jk! <33\n",
       "2    Q: &quot;hey angel  you duh sexy&quot;<br>A: R...\n",
       "3                                       Q: (:<br>A: ;(\n",
       "4    Q: ******************MEOWWW*******************...\n",
       "5    Q: any makeup tips? i suck at doing my makeup ...\n",
       "6    Q: Apriiiiiiiiiiiill!!! I miss uuuu! It&#039;s...\n",
       "7    Q: Are you a morning or night person?<br>A: Ni...\n",
       "8    Q: are you a trusting person?<br>A: alreadi an...\n",
       "9    Q: are you a trusting person?<br>A: Yes veryy ...\n",
       "Name: post, dtype: object"
      ]
     },
     "execution_count": 9,
     "metadata": {
      "tags": []
     },
     "output_type": "execute_result"
    }
   ],
   "source": [
    "df['post'][:10]"
   ]
  },
  {
   "cell_type": "code",
   "execution_count": 10,
   "metadata": {
    "colab": {
     "base_uri": "https://localhost:8080/"
    },
    "id": "lVCmGlRNGb1F",
    "outputId": "00a9740d-2c4d-4f92-87bd-b5a74b01bcf2"
   },
   "outputs": [
    {
     "data": {
      "text/plain": [
       "0               what&#039;s your favorite song? :D<br>\n",
       "1                                                   <3\n",
       "2                  &quot;hey angel  you duh sexy&quot;\n",
       "3                                                   (:\n",
       "4    ******************MEOWWW*************************\n",
       "5       any makeup tips? i suck at doing my makeup lol\n",
       "6    Apriiiiiiiiiiiill!!! I miss uuuu! It&#039;s Em...\n",
       "7                   Are you a morning or night person?\n",
       "8                           are you a trusting person?\n",
       "9                           are you a trusting person?\n",
       "Name: ques, dtype: object"
      ]
     },
     "execution_count": 10,
     "metadata": {
      "tags": []
     },
     "output_type": "execute_result"
    }
   ],
   "source": [
    "df['ques'][:10]"
   ]
  },
  {
   "cell_type": "code",
   "execution_count": 11,
   "metadata": {
    "colab": {
     "base_uri": "https://localhost:8080/"
    },
    "id": "i2OAxdCGGb57",
    "outputId": "aacce189-b44a-4c03-b0aa-ffa9b489dd46"
   },
   "outputs": [
    {
     "data": {
      "text/plain": [
       "0             I like too many songs to have a favorite\n",
       "1                                   </3 ? haha jk! <33\n",
       "2                             Really?!?! Thanks?! haha\n",
       "3                                                   ;(\n",
       "4                                              *RAWR*?\n",
       "5     Sure! Like tell me wht u wnna know?! Like wht...\n",
       "6     EMMA hahahahah :D I MISSSSSeddd YUHHHHh 22222...\n",
       "7                                      Night 4shuree!!\n",
       "8                                       alreadi answrd\n",
       "9         Yes veryy trustin person!!! May i help yuh:!\n",
       "Name: ans, dtype: object"
      ]
     },
     "execution_count": 11,
     "metadata": {
      "tags": []
     },
     "output_type": "execute_result"
    }
   ],
   "source": [
    "df['ans'][:10]"
   ]
  },
  {
   "cell_type": "code",
   "execution_count": 12,
   "metadata": {
    "colab": {
     "base_uri": "https://localhost:8080/"
    },
    "id": "uWXkkBEHMOTJ",
    "outputId": "5a050d09-430a-4e64-f2b1-01c0f78fb040"
   },
   "outputs": [
    {
     "data": {
      "text/plain": [
       "100    NaN\n",
       "101    NaN\n",
       "102    NaN\n",
       "103    NaN\n",
       "104    NaN\n",
       "105    NaN\n",
       "106    NaN\n",
       "107    NaN\n",
       "108    NaN\n",
       "109    NaN\n",
       "Name: bully1, dtype: object"
      ]
     },
     "execution_count": 12,
     "metadata": {
      "tags": []
     },
     "output_type": "execute_result"
    }
   ],
   "source": [
    "df['bully1'][100:110]"
   ]
  },
  {
   "cell_type": "code",
   "execution_count": 13,
   "metadata": {
    "colab": {
     "base_uri": "https://localhost:8080/"
    },
    "id": "EDf-GYvgL9Bn",
    "outputId": "f798d0c3-19f9-4263-9d31-670d21031228"
   },
   "outputs": [
    {
     "data": {
      "text/plain": [
       "None                                                     593\n",
       "Na                                                        89\n",
       "N/A.                                                      74\n",
       "no                                                        47\n",
       "N/a                                                       47\n",
       "                                                        ... \n",
       "ur a slut and i dont wanna talk shit but ru be honest      1\n",
       "jizzed to pics of you                                      1\n",
       "obese                                                      1\n",
       "wtf get outa hea bxtch!                                    1\n",
       "first 3 way attack on the phone                            1\n",
       "Name: bully1, Length: 1012, dtype: int64"
      ]
     },
     "execution_count": 13,
     "metadata": {
      "tags": []
     },
     "output_type": "execute_result"
    }
   ],
   "source": [
    "df['bully1'].value_counts()"
   ]
  },
  {
   "cell_type": "code",
   "execution_count": 14,
   "metadata": {
    "colab": {
     "base_uri": "https://localhost:8080/"
    },
    "id": "pVs5_cAbQPsY",
    "outputId": "c4e6aacc-ac76-4951-f17c-627f8bc7bb60"
   },
   "outputs": [
    {
     "name": "stdout",
     "output_type": "stream",
     "text": [
      "No     11693\n",
      "Yes     1038\n",
      "0         12\n",
      "5          5\n",
      "3          5\n",
      "1          2\n",
      "6          1\n",
      "2          1\n",
      "4          1\n",
      "7          1\n",
      "Name: ans1, dtype: int64\n",
      "No     11696\n",
      "Yes     1005\n",
      "Name: ans2, dtype: int64\n",
      "No     11711\n",
      "Yes      944\n",
      "Name: ans3, dtype: int64\n"
     ]
    }
   ],
   "source": [
    "print(df['ans1'].value_counts())\n",
    "print(df['ans2'].value_counts())\n",
    "print(df['ans3'].value_counts())"
   ]
  },
  {
   "cell_type": "code",
   "execution_count": 15,
   "metadata": {
    "id": "JBWzu5jkM6px"
   },
   "outputs": [],
   "source": [
    "df = df[df['post'].notna()]"
   ]
  },
  {
   "cell_type": "code",
   "execution_count": 16,
   "metadata": {
    "colab": {
     "base_uri": "https://localhost:8080/"
    },
    "id": "9yQWU1x3NNYn",
    "outputId": "e4d1fc02-744e-4fee-86d5-da05032b7c53"
   },
   "outputs": [
    {
     "name": "stdout",
     "output_type": "stream",
     "text": [
      "<class 'pandas.core.frame.DataFrame'>\n",
      "Int64Index: 12852 entries, 0 to 12900\n",
      "Data columns (total 14 columns):\n",
      " #   Column     Non-Null Count  Dtype \n",
      "---  ------     --------------  ----- \n",
      " 0   userid     12852 non-null  object\n",
      " 1   post       12852 non-null  object\n",
      " 2   ques       12850 non-null  object\n",
      " 3   ans        12819 non-null  object\n",
      " 4   asker      12801 non-null  object\n",
      " 5   ans1       12759 non-null  object\n",
      " 6   severity1  12788 non-null  object\n",
      " 7   bully1     1909 non-null   object\n",
      " 8   ans2       12701 non-null  object\n",
      " 9   severity2  12739 non-null  object\n",
      " 10  bully2     1786 non-null   object\n",
      " 11  ans3       12655 non-null  object\n",
      " 12  severity3  12698 non-null  object\n",
      " 13  bully3     1780 non-null   object\n",
      "dtypes: object(14)\n",
      "memory usage: 1.5+ MB\n"
     ]
    }
   ],
   "source": [
    "df.info()"
   ]
  },
  {
   "cell_type": "code",
   "execution_count": 17,
   "metadata": {
    "id": "7eJuUpDRtA6r"
   },
   "outputs": [],
   "source": [
    "ans=np.array(df['ans'])\n",
    "ques=np.array(df['ques'])\n",
    "posts=[]\n",
    "for i in range (0,len(ans)):\n",
    "  posts.append(str(ques[i])+str(ans[i]))"
   ]
  },
  {
   "cell_type": "code",
   "execution_count": 18,
   "metadata": {
    "colab": {
     "base_uri": "https://localhost:8080/"
    },
    "id": "8dkVwBrwLZz6",
    "outputId": "4aa7eac1-5b65-4b80-e780-567db1bd4893"
   },
   "outputs": [
    {
     "name": "stdout",
     "output_type": "stream",
     "text": [
      "what&#039;s your favorite song? :D<br>\n",
      " I like too many songs to have a favorite\n",
      "what&#039;s your favorite song? :D<br> I like too many songs to have a favorite\n"
     ]
    }
   ],
   "source": [
    "print(ques[0])\n",
    "print(ans[0])\n",
    "print(posts[0])"
   ]
  },
  {
   "cell_type": "code",
   "execution_count": 19,
   "metadata": {
    "id": "qG2W5gupMb9q"
   },
   "outputs": [],
   "source": [
    "y1=np.array(df['ans1'])\n",
    "y2=np.array(df['ans2'])\n",
    "y3=np.array(df['ans3'])"
   ]
  },
  {
   "cell_type": "code",
   "execution_count": 20,
   "metadata": {
    "id": "dl0ihqhIMcAR"
   },
   "outputs": [],
   "source": [
    "X=[]\n",
    "y=[]\n",
    "for i in range (len(posts)):\n",
    "  X.append(posts[i])\n",
    "  if y1[i]=='Yes' :\n",
    "    y.append(1)\n",
    "  else:\n",
    "    y.append(0)"
   ]
  },
  {
   "cell_type": "markdown",
   "metadata": {
    "id": "FUvDvIm9HfYr"
   },
   "source": [
    "Data Preprocessing"
   ]
  },
  {
   "cell_type": "code",
   "execution_count": 21,
   "metadata": {
    "id": "SZDZvbuw6COP"
   },
   "outputs": [],
   "source": [
    "X=np.array(X)\n",
    "X=np.reshape(X,(-1,1))\n",
    "y=np.array(y)\n"
   ]
  },
  {
   "cell_type": "code",
   "execution_count": 22,
   "metadata": {
    "colab": {
     "base_uri": "https://localhost:8080/"
    },
    "id": "vtw63dq4j3Fi",
    "outputId": "c2faafc8-8078-4caf-e0f2-72d090784fa3"
   },
   "outputs": [
    {
     "data": {
      "text/plain": [
       "((12852, 1), (12852,))"
      ]
     },
     "execution_count": 22,
     "metadata": {
      "tags": []
     },
     "output_type": "execute_result"
    }
   ],
   "source": [
    "X.shape,y.shape"
   ]
  },
  {
   "cell_type": "code",
   "execution_count": 23,
   "metadata": {
    "colab": {
     "base_uri": "https://localhost:8080/"
    },
    "id": "gB03Pki46Id3",
    "outputId": "d415669b-6c9e-4173-9e3c-f84cdd33618c"
   },
   "outputs": [
    {
     "name": "stdout",
     "output_type": "stream",
     "text": [
      "Counter({0: 11814, 1: 1038})\n"
     ]
    }
   ],
   "source": [
    "print(Counter(y))"
   ]
  },
  {
   "cell_type": "code",
   "execution_count": 24,
   "metadata": {
    "colab": {
     "base_uri": "https://localhost:8080/"
    },
    "id": "XV4wOnkSiBY5",
    "outputId": "688d5eb0-9579-4f0f-d781-05edd4efaab9"
   },
   "outputs": [
    {
     "name": "stderr",
     "output_type": "stream",
     "text": [
      "/usr/local/lib/python3.7/dist-packages/sklearn/externals/six.py:31: FutureWarning: The module is deprecated in version 0.21 and will be removed in version 0.23 since we've dropped support for Python 2.7. Please rely on the official version of six (https://pypi.org/project/six/).\n",
      "  \"(https://pypi.org/project/six/).\", FutureWarning)\n",
      "/usr/local/lib/python3.7/dist-packages/sklearn/utils/deprecation.py:144: FutureWarning: The sklearn.neighbors.base module is  deprecated in version 0.22 and will be removed in version 0.24. The corresponding classes / functions should instead be imported from sklearn.neighbors. Anything that cannot be imported from sklearn.neighbors is now part of the private API.\n",
      "  warnings.warn(message, FutureWarning)\n",
      "/usr/local/lib/python3.7/dist-packages/sklearn/utils/deprecation.py:87: FutureWarning: Function safe_indexing is deprecated; safe_indexing is deprecated in version 0.22 and will be removed in version 0.24.\n",
      "  warnings.warn(msg, category=FutureWarning)\n"
     ]
    }
   ],
   "source": [
    "from imblearn.over_sampling import RandomOverSampler\n",
    "oversample = RandomOverSampler( sampling_strategy=0.3)\n",
    "X,y=oversample.fit_sample(X,y)"
   ]
  },
  {
   "cell_type": "code",
   "execution_count": 25,
   "metadata": {
    "colab": {
     "base_uri": "https://localhost:8080/"
    },
    "id": "7R444fV0iBcA",
    "outputId": "395123c0-dbb3-4671-ac37-3ae7519b547b"
   },
   "outputs": [
    {
     "data": {
      "text/plain": [
       "((15358, 1), (15358,))"
      ]
     },
     "execution_count": 25,
     "metadata": {
      "tags": []
     },
     "output_type": "execute_result"
    }
   ],
   "source": [
    "X.shape,y.shape"
   ]
  },
  {
   "cell_type": "code",
   "execution_count": 26,
   "metadata": {
    "colab": {
     "base_uri": "https://localhost:8080/"
    },
    "id": "ai-eGnUsif2b",
    "outputId": "18a1f50d-2d32-41c8-82a0-f3c7b3e721c1"
   },
   "outputs": [
    {
     "name": "stdout",
     "output_type": "stream",
     "text": [
      "Counter({0: 11814, 1: 3544})\n"
     ]
    }
   ],
   "source": [
    "print(Counter(y))"
   ]
  },
  {
   "cell_type": "code",
   "execution_count": 27,
   "metadata": {
    "colab": {
     "base_uri": "https://localhost:8080/"
    },
    "id": "ba6ee1ef",
    "outputId": "2925cb41-b99c-4805-a883-bb3380f532c2"
   },
   "outputs": [
    {
     "data": {
      "text/plain": [
       "(array([['what&#039;s your favorite song? :D<br> I like too many songs to have a favorite'],\n",
       "        ['<3 </3 ? haha jk! <33'],\n",
       "        ['&quot;hey angel  you duh sexy&quot; Really?!?! Thanks?! haha'],\n",
       "        ['(: ;('],\n",
       "        ['******************MEOWWW************************* *RAWR*?'],\n",
       "        ['any makeup tips? i suck at doing my makeup lol Sure! Like tell me wht u wnna know?! Like wht do you use?!']],\n",
       "       dtype='<U5541'), array([0, 0, 0, 0, 0, 0]))"
      ]
     },
     "execution_count": 27,
     "metadata": {
      "tags": []
     },
     "output_type": "execute_result"
    }
   ],
   "source": [
    "X[:6],y[:6]"
   ]
  },
  {
   "cell_type": "code",
   "execution_count": 28,
   "metadata": {
    "colab": {
     "base_uri": "https://localhost:8080/"
    },
    "id": "_cG4qU-7rdIq",
    "outputId": "c64647f7-e5cc-43bc-b7e9-793441539eee"
   },
   "outputs": [
    {
     "data": {
      "text/plain": [
       "numpy.ndarray"
      ]
     },
     "execution_count": 28,
     "metadata": {
      "tags": []
     },
     "output_type": "execute_result"
    }
   ],
   "source": [
    "type(X)"
   ]
  },
  {
   "cell_type": "code",
   "execution_count": 29,
   "metadata": {
    "id": "9wY_CE8ZtYsF"
   },
   "outputs": [],
   "source": [
    "X=[str(x) for x in X]"
   ]
  },
  {
   "cell_type": "code",
   "execution_count": 30,
   "metadata": {
    "colab": {
     "base_uri": "https://localhost:8080/"
    },
    "id": "Atsi-ufJtZVS",
    "outputId": "340566d6-6da9-4488-9ba6-495975fd8159"
   },
   "outputs": [
    {
     "data": {
      "text/plain": [
       "list"
      ]
     },
     "execution_count": 30,
     "metadata": {
      "tags": []
     },
     "output_type": "execute_result"
    }
   ],
   "source": [
    "type(X)"
   ]
  },
  {
   "cell_type": "markdown",
   "metadata": {
    "id": "yV4l-CayHmkq"
   },
   "source": [
    "Create Word Embeddings"
   ]
  },
  {
   "cell_type": "code",
   "execution_count": 31,
   "metadata": {
    "colab": {
     "base_uri": "https://localhost:8080/"
    },
    "id": "SJlhZCW6EaA4",
    "outputId": "e454e8a7-b772-4b9a-866f-610bd1dca7e2"
   },
   "outputs": [
    {
     "name": "stdout",
     "output_type": "stream",
     "text": [
      "[nltk_data] Downloading package stopwords to /root/nltk_data...\n",
      "[nltk_data]   Unzipping corpora/stopwords.zip.\n",
      "[nltk_data] Downloading package punkt to /root/nltk_data...\n",
      "[nltk_data]   Unzipping tokenizers/punkt.zip.\n",
      "[nltk_data] Downloading package wordnet to /root/nltk_data...\n",
      "[nltk_data]   Unzipping corpora/wordnet.zip.\n"
     ]
    },
    {
     "data": {
      "text/plain": [
       "True"
      ]
     },
     "execution_count": 31,
     "metadata": {
      "tags": []
     },
     "output_type": "execute_result"
    }
   ],
   "source": [
    "nltk.download('stopwords')\n",
    "nltk.download('punkt')\n",
    "nltk.download('wordnet')"
   ]
  },
  {
   "cell_type": "code",
   "execution_count": 32,
   "metadata": {
    "id": "976031f6"
   },
   "outputs": [],
   "source": [
    "stopwords=nltk.corpus.stopwords.words('english')"
   ]
  },
  {
   "cell_type": "code",
   "execution_count": 33,
   "metadata": {
    "id": "oU64TtN0V3XK"
   },
   "outputs": [],
   "source": [
    "contractions =dict({ \n",
    "\"ain't\": \"am not\",\n",
    "\"aren't\": \"are not\",\n",
    "\"can't\": \"cannot\",\n",
    "\"can't've\": \"cannot have\",\n",
    "\"'cause\": \"because\",\n",
    "\"could've\": \"could have\",\n",
    "\"couldn't\": \"could not\",\n",
    "\"couldn't've\": \"could not have\",\n",
    "\"didn't\": \"did not\",\n",
    "\"doesn't\": \"does not\",\n",
    "\"don't\": \"do not\",\n",
    "\"hadn't\": \"had not\",\n",
    "\"hadn't've\": \"had not have\",\n",
    "\"hasn't\": \"has not\",\n",
    "\"haven't\": \"have not\",\n",
    "\"he'd\": \" he would\",\n",
    "\"he'd've\": \"he would have\",\n",
    "\"he'll\": \"he will\",\n",
    "\"he'll've\": \"he will have\",\n",
    "\"he's\": \"he is\",\n",
    "\"how'd\": \"how did\",\n",
    "\"how'd'y\": \"how do you\",\n",
    "\"how'll\": \"how will\",\n",
    "\"how's\": \"how is\",\n",
    "\"i'd\": \"i would\",\n",
    "\"i'd've\": \"i would have\",\n",
    "\"i'll\": \"i will\",\n",
    "\"i'll've\": \"i will have\",\n",
    "\"i'm\": \"i am\",\n",
    "\"i've\": \"i have\",\n",
    "\"isn't\": \"is not\",\n",
    "\"it'd\": \"it would\",\n",
    "\"it'd've\": \"it would have\",\n",
    "\"it'll\": \"it will\",\n",
    "\"it'll've\": \"it will have\",\n",
    "\"it's\": \"it is\",\n",
    "\"let's\": \"let us\",\n",
    "\"ma'am\": \"madam\",\n",
    "\"mayn't\": \"may not\",\n",
    "\"might've\": \"might have\",\n",
    "\"mightn't\": \"might not\",\n",
    "\"mightn't've\": \"might not have\",\n",
    "\"must've\": \"must have\",\n",
    "\"mustn't\": \"must not\",\n",
    "\"mustn't've\": \"must not have\",\n",
    "\"needn't\": \"need not\",\n",
    "\"needn't've\": \"need not have\",\n",
    "\"o'clock\": \"of the clock\",\n",
    "\"oughtn't\": \"ought not\",\n",
    "\"oughtn't've\": \"ought not have\",\n",
    "\"shan't\": \"shall not\",\n",
    "\"sha'n't\": \"shall not\",\n",
    "\"shan't've\": \"shall not have\",\n",
    "\"she'd\": \"she would\",\n",
    "\"she'd've\": \"she would have\",\n",
    "\"she'll\": \"she will\",\n",
    "\"she'll've\": \"she will have\",\n",
    "\"she's\": \"she is\",\n",
    "\"should've\": \"should have\",\n",
    "\"shouldn't\": \"should not\",\n",
    "\"shouldn't've\": \"should not have\",\n",
    "\"so've\": \"so have\",\n",
    "\"so's\": \"so is\",\n",
    "\"that'd\": \"that would\",\n",
    "\"that'd've\": \"that would have\",\n",
    "\"that's\": \"that has\",\n",
    "\"there'd\": \"there would\",\n",
    "\"there'd've\": \"there would have\",\n",
    "\"there's\": \"there is\",\n",
    "\"they'd\": \"they had\",\n",
    "\"they'd've\": \"they would have\",\n",
    "\"they'll\": \"they will\",\n",
    "\"they'll've\": \"they will have\",\n",
    "\"they're\": \"they are\",\n",
    "\"they've\": \"they have\",\n",
    "\"to've\": \"to have\",\n",
    "\"wasn't\": \"was not\",\n",
    "\"we'd\": \"we would\",\n",
    "\"we'd've\": \"we would have\",\n",
    "\"we'll\": \"we will\",\n",
    "\"we'll've\": \"we will have\",\n",
    "\"we're\": \"we are\",\n",
    "\"we've\": \"we have\",\n",
    "\"weren't\": \"were not\",\n",
    "\"what'll\": \"what will\",\n",
    "\"what'll've\": \"what will have\",\n",
    "\"what're\": \"what are\",\n",
    "\"what's\": \"what is\",\n",
    "\"what've\": \"what have\",\n",
    "\"when's\": \"when is\",\n",
    "\"when've\": \"when have\",\n",
    "\"where'd\": \"where did\",\n",
    "\"where's\": \"where is\",\n",
    "\"where've\": \"where have\",\n",
    "\"who'll\": \"who will\",\n",
    "\"who'll've\": \"who will have\",\n",
    "\"who's\": \"who has\",\n",
    "\"who've\": \"who have\",\n",
    "\"why's\": \"why has\",\n",
    "\"why've\": \"why have\",\n",
    "\"will've\": \"will have\",\n",
    "\"won't\": \"will not\",\n",
    "\"won't've\": \"will not have\",\n",
    "\"would've\": \"would have\",\n",
    "\"wouldn't\": \"would not\",\n",
    "\"wouldn't've\": \"would not have\",\n",
    "\"y'all\": \"you all\",\n",
    "\"y'all'd\": \"you all would\",\n",
    "\"y'all'd've\": \"you all would have\",\n",
    "\"y'all're\": \"you all are\",\n",
    "\"y'all've\": \"you all have\",\n",
    "\"you'd\": \"you would\",\n",
    "\"you'd've\": \"you would have\",\n",
    "\"you'll\": \"you will\",\n",
    "\"you'll've\": \"you will have\",\n",
    "\"you're\": \"you are\",\n",
    "\"you've\": \"you have\",\n",
    "\"ain’t\": \"am not\",\n",
    "\"aren’t\": \"are not\",\n",
    "\"can’t\": \"cannot\",\n",
    "\"can’t’ve\": \"cannot have\",\n",
    "\"’cause\": \"because\",\n",
    "\"could’ve\": \"could have\",\n",
    "\"couldn’t\": \"could not\",\n",
    "\"couldn’t’ve\": \"could not have\",\n",
    "\"didn’t\": \"did not\",\n",
    "\"doesn’t\": \"does not\",\n",
    "\"don’t\": \"do not\",\n",
    "\"hadn’t\": \"had not\",\n",
    "\"hadn’t’ve\": \"had not have\",\n",
    "\"hasn’t\": \"has not\",\n",
    "\"haven’t\": \"have not\",\n",
    "\"he’d\": \" he would\",\n",
    "\"he’d’ve\": \"he would have\",\n",
    "\"he’ll\": \"he will\",\n",
    "\"he’ll’ve\": \"he will have\",\n",
    "\"he’s\": \"he is\",\n",
    "\"how’d\": \"how did\",\n",
    "\"how’d’y\": \"how do you\",\n",
    "\"how’ll\": \"how will\",\n",
    "\"how’s\": \"how is\",\n",
    "\"i’d\": \"i would\",\n",
    "\"i’d’ve\": \"i would have\",\n",
    "\"i’ll\": \"i will\",\n",
    "\"i’ll’ve\": \"i will have\",\n",
    "\"i’m\": \"i am\",\n",
    "\"i’ve\": \"i have\",\n",
    "\"isn’t\": \"is not\",\n",
    "\"it’d\": \"it would\",\n",
    "\"it’d’ve\": \"it would have\",\n",
    "\"it’ll\": \"it will\",\n",
    "\"it’ll’ve\": \"it will have\",\n",
    "\"it’s\": \"it is\",\n",
    "\"let’s\": \"let us\",\n",
    "\"ma’am\": \"madam\",\n",
    "\"mayn’t\": \"may not\",\n",
    "\"might’ve\": \"might have\",\n",
    "\"mightn’t\": \"might not\",\n",
    "\"mightn’t’ve\": \"might not have\",\n",
    "\"must’ve\": \"must have\",\n",
    "\"mustn’t\": \"must not\",\n",
    "\"mustn’t’ve\": \"must not have\",\n",
    "\"needn’t\": \"need not\",\n",
    "\"needn’t’ve\": \"need not have\",\n",
    "\"o’clock\": \"of the clock\",\n",
    "\"oughtn’t\": \"ought not\",\n",
    "\"oughtn’t’ve\": \"ought not have\",\n",
    "\"shan’t\": \"shall not\",\n",
    "\"sha’n’t\": \"shall not\",\n",
    "\"shan’t’ve\": \"shall not have\",\n",
    "\"she’d\": \"she would\",\n",
    "\"she’d’ve\": \"she would have\",\n",
    "\"she’ll\": \"she will\",\n",
    "\"she’ll’ve\": \"she will have\",\n",
    "\"she’s\": \"she is\",\n",
    "\"should’ve\": \"should have\",\n",
    "\"shouldn’t\": \"should not\",\n",
    "\"shouldn’t’ve\": \"should not have\",\n",
    "\"so’ve\": \"so have\",\n",
    "\"so’s\": \"so is\",\n",
    "\"that’d\": \"that would\",\n",
    "\"that’d’ve\": \"that would have\",\n",
    "\"that’s\": \"that has\",\n",
    "\"there’d\": \"there would\",\n",
    "\"there’d’ve\": \"there would have\",\n",
    "\"there’s\": \"there is\",\n",
    "\"they’d\": \"they had\",\n",
    "\"they’d’ve\": \"they would have\",\n",
    "\"they’ll\": \"they will\",\n",
    "\"they’ll’ve\": \"they will have\",\n",
    "\"they’re\": \"they are\",\n",
    "\"they’ve\": \"they have\",\n",
    "\"to’ve\": \"to have\",\n",
    "\"wasn’t\": \"was not\",\n",
    "\"we’d\": \"we would\",\n",
    "\"we’d’ve\": \"we would have\",\n",
    "\"we’ll\": \"we will\",\n",
    "\"we’ll’ve\": \"we will have\",\n",
    "\"we’re\": \"we are\",\n",
    "\"we’ve\": \"we have\",\n",
    "\"weren’t\": \"were not\",\n",
    "\"what’ll\": \"what will\",\n",
    "\"what’ll’ve\": \"what will have\",\n",
    "\"what’re\": \"what are\",\n",
    "\"what’s\": \"what is\",\n",
    "\"what’ve\": \"what have\",\n",
    "\"when’s\": \"when is\",\n",
    "\"when’ve\": \"when have\",\n",
    "\"where’d\": \"where did\",\n",
    "\"where’s\": \"where is\",\n",
    "\"where’ve\": \"where have\",\n",
    "\"who’ll\": \"who will\",\n",
    "\"who’ll’ve\": \"who will have\",\n",
    "\"who’s\": \"who has\",\n",
    "\"who’ve\": \"who have\",\n",
    "\"why’s\": \"why has\",\n",
    "\"why’ve\": \"why have\",\n",
    "\"will’ve\": \"will have\",\n",
    "\"won’t\": \"will not\",\n",
    "\"won’t’ve\": \"will not have\",\n",
    "\"would’ve\": \"would have\",\n",
    "\"wouldn’t\": \"would not\",\n",
    "\"wouldn’t’ve\": \"would not have\",\n",
    "\"y’all\": \"you all\",\n",
    "\"y’all’d\": \"you all would\",\n",
    "\"y’all’d’ve\": \"you all would have\",\n",
    "\"y’all’re\": \"you all are\",\n",
    "\"y’all’ve\": \"you all have\",\n",
    "\"you’d\": \"you would\",\n",
    "\"you’d’ve\": \"you would have\",\n",
    "\"you’ll\": \"you will\",\n",
    "\"you’ll’ve\": \"you will have\",\n",
    "\"you’re\": \"you are\",\n",
    "\"you’ve\": \"you have\"\n",
    "})"
   ]
  },
  {
   "cell_type": "code",
   "execution_count": 34,
   "metadata": {
    "id": "bae61091"
   },
   "outputs": [],
   "source": [
    "corpus=[]\n",
    "for para in X:\n",
    "    sentences=nltk.sent_tokenize(para)\n",
    "    temp=[]\n",
    "    for sentence in sentences:\n",
    "        sentence=sentence.lower()\n",
    "        cleanr = re.compile('<.*?>')\n",
    "        sentence = re.sub(cleanr, '', sentence)\n",
    "        sentence=re.sub(r'[\\!\"#$%&\\*+,./;<=>?@_`|~=]','',sentence)\n",
    "        sentence=re.sub(r'[0-9]+', '',sentence)\n",
    "        words=sentence.split()\n",
    "        words_list=[]\n",
    "        for word in words:\n",
    "          if word in contractions:\n",
    "            words_list.append(contractions[word])\n",
    "          elif word not in stopwords:\n",
    "            words_list.append(WordNetLemmatizer().lemmatize(word))\n",
    "        sent=' '.join(words_list)\n",
    "        temp.append(sent)\n",
    "    corpus.append(' '.join(temp))"
   ]
  },
  {
   "cell_type": "code",
   "execution_count": 35,
   "metadata": {
    "colab": {
     "base_uri": "https://localhost:8080/"
    },
    "id": "ba1885b5",
    "outputId": "13cc8728-e563-4b4f-e1ab-829f18aedf2c"
   },
   "outputs": [
    {
     "data": {
      "text/plain": [
       "15358"
      ]
     },
     "execution_count": 35,
     "metadata": {
      "tags": []
     },
     "output_type": "execute_result"
    }
   ],
   "source": [
    "len(corpus)"
   ]
  },
  {
   "cell_type": "code",
   "execution_count": 36,
   "metadata": {
    "colab": {
     "base_uri": "https://localhost:8080/"
    },
    "id": "OzBXUDc_FFv-",
    "outputId": "770a5c87-9f97-4fb9-a9c2-35b3e6f24b0f"
   },
   "outputs": [
    {
     "data": {
      "text/plain": [
       "[\"['whats favorite song :d like many song favorite']\",\n",
       " \"[' haha jk ']\",\n",
       " \"['quothey angel duh sexyquot really thanks haha']\",\n",
       " \"['(: (']\",\n",
       " \"['meowww rawr']\",\n",
       " \"['any makeup tip suck makeup lol sure like tell wht u wnna know like wht use']\"]"
      ]
     },
     "execution_count": 36,
     "metadata": {
      "tags": []
     },
     "output_type": "execute_result"
    }
   ],
   "source": [
    "corpus[:6]"
   ]
  },
  {
   "cell_type": "markdown",
   "metadata": {
    "id": "Fxddh3BWIGjb"
   },
   "source": [
    "Train-Test Split and model testing"
   ]
  },
  {
   "cell_type": "code",
   "execution_count": 37,
   "metadata": {
    "id": "f2dfcbb0"
   },
   "outputs": [],
   "source": [
    "X_train,X_test,y_train,y_test=train_test_split(corpus,y,test_size=0.2,random_state=42)"
   ]
  },
  {
   "cell_type": "code",
   "execution_count": 38,
   "metadata": {
    "id": "23i3GRYJbsbi"
   },
   "outputs": [],
   "source": [
    "X_train_,X_test_,y_train_,y_test_=X_train,X_test,y_train,y_test"
   ]
  },
  {
   "cell_type": "code",
   "execution_count": 39,
   "metadata": {
    "id": "mgUxjoxqb5xX"
   },
   "outputs": [],
   "source": [
    "X_train,X_test,y_train,y_test=X_train_,X_test_,y_train_,y_test_"
   ]
  },
  {
   "cell_type": "markdown",
   "metadata": {
    "id": "AqF8UoNhH79Q"
   },
   "source": [
    "Create Feature Vectors"
   ]
  },
  {
   "cell_type": "code",
   "execution_count": 40,
   "metadata": {
    "id": "19229739"
   },
   "outputs": [],
   "source": [
    "vec=TfidfVectorizer(max_features=10000,ngram_range=(1,1))\n",
    "X_train=vec.fit_transform(X_train)\n",
    "X_test=vec.transform(X_test)"
   ]
  },
  {
   "cell_type": "code",
   "execution_count": 41,
   "metadata": {
    "id": "5Gc6XVqZcfze"
   },
   "outputs": [],
   "source": [
    "tfidf_tokens = vec.get_feature_names()"
   ]
  },
  {
   "cell_type": "code",
   "execution_count": 42,
   "metadata": {
    "colab": {
     "base_uri": "https://localhost:8080/"
    },
    "id": "BsoY3_z5cwtl",
    "outputId": "70e930f2-e837-4f61-fd40-57677c9e8d5e"
   },
   "outputs": [
    {
     "data": {
      "text/plain": [
       "10000"
      ]
     },
     "execution_count": 42,
     "metadata": {
      "tags": []
     },
     "output_type": "execute_result"
    }
   ],
   "source": [
    "len(tfidf_tokens)"
   ]
  },
  {
   "cell_type": "markdown",
   "metadata": {
    "id": "hiC6zMorAHKV"
   },
   "source": [
    "Different Classifiers Testing"
   ]
  },
  {
   "cell_type": "code",
   "execution_count": 43,
   "metadata": {
    "id": "4p4NUObXYhv3"
   },
   "outputs": [],
   "source": [
    "def pipeline(learner_list, X_train, y_train, X_test, y_test): \n",
    "    '''\n",
    "    inputs:\n",
    "       - learner: the learning algorithm to be trained and predicted on\n",
    "       - X_train: features training set\n",
    "       - y_train: income training set\n",
    "       - X_test: features testing set\n",
    "       - y_test: income testing set\n",
    "    '''\n",
    "    \n",
    "    # Get length of Training Data:\n",
    "    size = len(y_train)\n",
    "    \n",
    "    results = {}\n",
    "    final_results = []\n",
    "    \n",
    "    fpr=[]\n",
    "    tpr=[]\n",
    "    labels=[]\n",
    "    r_proba=[0 for _ in range(len(y_test))]\n",
    "    l_fpr,l_tpr,_=roc_curve(y_test,r_proba)\n",
    "    fpr.append(l_fpr)\n",
    "    tpr.append(l_tpr)\n",
    "    labels.append(\"No learning model: AUC =0.5\")\n",
    "    for learner in learner_list:\n",
    "        \n",
    "        results['Algorithm'] = learner.__class__.__name__\n",
    "\n",
    "        start = time() \n",
    "        print(\"Training {}\".format(learner.__class__.__name__))\n",
    "        learner = learner.fit(X_train, y_train)\n",
    "        end = time() \n",
    "        \n",
    "        results['Training Time'] = '%.4f'%(end - start)\n",
    "\n",
    "        start = time() \n",
    "        predictions_test = learner.predict(X_test)\n",
    "        end = time() \n",
    "\n",
    "        results['Prediction Time'] = '%.4f'%(end - start)\n",
    "\n",
    "        results['Accuracy'] = '%.4f'%accuracy_score(y_test, predictions_test)\n",
    "\n",
    "        results['F1 Score'] = '%.4f'%f1_score(y_test, predictions_test)\n",
    "\n",
    "        auc='%.4f'%roc_auc_score(y_test, predictions_test)\n",
    "        results['AUC Score'] = auc\n",
    "\n",
    "        results['Precision'] = '%.4f'%precision_score(y_test, predictions_test)\n",
    "\n",
    "        results['Recall'] = '%.4f'%recall_score(y_test, predictions_test)\n",
    "\n",
    "        y_proba=learner.predict_proba(X_test)\n",
    "        y_proba=y_proba[:,1]\n",
    "\n",
    "        l_fpr,l_tpr,_=roc_curve(y_test,y_proba)\n",
    "        fpr.append(l_fpr)\n",
    "        tpr.append(l_tpr)\n",
    "        labels.append(learner.__class__.__name__+\": AUC =\"+str(auc))\n",
    "\n",
    "\n",
    "        final_results.append(results.copy())\n",
    "    for i in range(len(labels)):\n",
    "      plt.plot(fpr[i],tpr[i],label=labels[i])\n",
    "    plt.title('ROC plot')\n",
    "    plt.xlabel('False Positive Rate')\n",
    "    plt.ylabel('True Positive Rate')\n",
    "    plt.legend()\n",
    "    plt.show()\n",
    "    return final_results"
   ]
  },
  {
   "cell_type": "code",
   "execution_count": 57,
   "metadata": {
    "id": "mGGhf370D20O"
   },
   "outputs": [],
   "source": [
    "models = [SVC(probability=True),MultinomialNB(), DecisionTreeClassifier(), AdaBoostClassifier(), \n",
    "          RandomForestClassifier(), BaggingClassifier(),\n",
    "         LogisticRegression(), KNeighborsClassifier()]"
   ]
  },
  {
   "cell_type": "code",
   "execution_count": 58,
   "metadata": {
    "colab": {
     "base_uri": "https://localhost:8080/",
     "height": 437
    },
    "id": "p4BOJ2jiD7VH",
    "outputId": "86c03313-8d45-42eb-f413-3d7cbf1ba125"
   },
   "outputs": [
    {
     "name": "stdout",
     "output_type": "stream",
     "text": [
      "Training SVC\n",
      "Training MultinomialNB\n",
      "Training DecisionTreeClassifier\n",
      "Training AdaBoostClassifier\n",
      "Training RandomForestClassifier\n",
      "Training BaggingClassifier\n",
      "Training LogisticRegression\n",
      "Training KNeighborsClassifier\n"
     ]
    },
    {
     "data": {
      "image/png": "[encoded data removed]",
      "text/plain": [
       "<Figure size 432x288 with 1 Axes>"
      ]
     },
     "metadata": {
      "needs_background": "light",
      "tags": []
     },
     "output_type": "display_data"
    }
   ],
   "source": [
    "re = pipeline(models, X_train, y_train, X_test, y_test)\n",
    "results = pd.DataFrame(re)\n",
    "results = results.reindex(columns = ['Algorithm', 'Accuracy', 'Precision', 'Recall', 'F1 Score','AUC Score','Prediction Time'])"
   ]
  },
  {
   "cell_type": "code",
   "execution_count": 59,
   "metadata": {
    "colab": {
     "base_uri": "https://localhost:8080/",
     "height": 296
    },
    "id": "50jX6iH8EB31",
    "outputId": "754094a9-732c-4e18-fe1a-c39809c797fb"
   },
   "outputs": [
    {
     "data": {
      "text/html": [
       "<div>\n",
       "<style scoped>\n",
       "    .dataframe tbody tr th:only-of-type {\n",
       "        vertical-align: middle;\n",
       "    }\n",
       "\n",
       "    .dataframe tbody tr th {\n",
       "        vertical-align: top;\n",
       "    }\n",
       "\n",
       "    .dataframe thead th {\n",
       "        text-align: right;\n",
       "    }\n",
       "</style>\n",
       "<table border=\"1\" class=\"dataframe\">\n",
       "  <thead>\n",
       "    <tr style=\"text-align: right;\">\n",
       "      <th></th>\n",
       "      <th>Algorithm</th>\n",
       "      <th>Accuracy</th>\n",
       "      <th>Precision</th>\n",
       "      <th>Recall</th>\n",
       "      <th>F1 Score</th>\n",
       "      <th>AUC Score</th>\n",
       "      <th>Prediction Time</th>\n",
       "    </tr>\n",
       "  </thead>\n",
       "  <tbody>\n",
       "    <tr>\n",
       "      <th>0</th>\n",
       "      <td>SVC</td>\n",
       "      <td>0.9622</td>\n",
       "      <td>0.9434</td>\n",
       "      <td>0.8903</td>\n",
       "      <td>0.9161</td>\n",
       "      <td>0.9371</td>\n",
       "      <td>3.0274</td>\n",
       "    </tr>\n",
       "    <tr>\n",
       "      <th>1</th>\n",
       "      <td>MultinomialNB</td>\n",
       "      <td>0.8669</td>\n",
       "      <td>0.9016</td>\n",
       "      <td>0.4768</td>\n",
       "      <td>0.6237</td>\n",
       "      <td>0.7306</td>\n",
       "      <td>0.0005</td>\n",
       "    </tr>\n",
       "    <tr>\n",
       "      <th>2</th>\n",
       "      <td>DecisionTreeClassifier</td>\n",
       "      <td>0.9401</td>\n",
       "      <td>0.8133</td>\n",
       "      <td>0.9620</td>\n",
       "      <td>0.8814</td>\n",
       "      <td>0.9478</td>\n",
       "      <td>0.0033</td>\n",
       "    </tr>\n",
       "    <tr>\n",
       "      <th>3</th>\n",
       "      <td>AdaBoostClassifier</td>\n",
       "      <td>0.8340</td>\n",
       "      <td>0.7269</td>\n",
       "      <td>0.4529</td>\n",
       "      <td>0.5581</td>\n",
       "      <td>0.7008</td>\n",
       "      <td>0.0398</td>\n",
       "    </tr>\n",
       "    <tr>\n",
       "      <th>4</th>\n",
       "      <td>RandomForestClassifier</td>\n",
       "      <td>0.9762</td>\n",
       "      <td>0.9443</td>\n",
       "      <td>0.9536</td>\n",
       "      <td>0.9489</td>\n",
       "      <td>0.9683</td>\n",
       "      <td>0.3079</td>\n",
       "    </tr>\n",
       "    <tr>\n",
       "      <th>5</th>\n",
       "      <td>BaggingClassifier</td>\n",
       "      <td>0.9411</td>\n",
       "      <td>0.8216</td>\n",
       "      <td>0.9522</td>\n",
       "      <td>0.8821</td>\n",
       "      <td>0.9450</td>\n",
       "      <td>0.0378</td>\n",
       "    </tr>\n",
       "    <tr>\n",
       "      <th>6</th>\n",
       "      <td>LogisticRegression</td>\n",
       "      <td>0.8737</td>\n",
       "      <td>0.8488</td>\n",
       "      <td>0.5527</td>\n",
       "      <td>0.6695</td>\n",
       "      <td>0.7615</td>\n",
       "      <td>0.0004</td>\n",
       "    </tr>\n",
       "    <tr>\n",
       "      <th>7</th>\n",
       "      <td>KNeighborsClassifier</td>\n",
       "      <td>0.8743</td>\n",
       "      <td>0.9357</td>\n",
       "      <td>0.4909</td>\n",
       "      <td>0.6439</td>\n",
       "      <td>0.7403</td>\n",
       "      <td>0.9442</td>\n",
       "    </tr>\n",
       "  </tbody>\n",
       "</table>\n",
       "</div>"
      ],
      "text/plain": [
       "                Algorithm Accuracy Precision  ... F1 Score AUC Score Prediction Time\n",
       "0                     SVC   0.9622    0.9434  ...   0.9161    0.9371          3.0274\n",
       "1           MultinomialNB   0.8669    0.9016  ...   0.6237    0.7306          0.0005\n",
       "2  DecisionTreeClassifier   0.9401    0.8133  ...   0.8814    0.9478          0.0033\n",
       "3      AdaBoostClassifier   0.8340    0.7269  ...   0.5581    0.7008          0.0398\n",
       "4  RandomForestClassifier   0.9762    0.9443  ...   0.9489    0.9683          0.3079\n",
       "5       BaggingClassifier   0.9411    0.8216  ...   0.8821    0.9450          0.0378\n",
       "6      LogisticRegression   0.8737    0.8488  ...   0.6695    0.7615          0.0004\n",
       "7    KNeighborsClassifier   0.8743    0.9357  ...   0.6439    0.7403          0.9442\n",
       "\n",
       "[8 rows x 7 columns]"
      ]
     },
     "execution_count": 59,
     "metadata": {
      "tags": []
     },
     "output_type": "execute_result"
    }
   ],
   "source": [
    "results"
   ]
  },
  {
   "cell_type": "code",
   "execution_count": 60,
   "metadata": {
    "id": "ZrMun80VaTio"
   },
   "outputs": [],
   "source": [
    "results.sort_values(by = 'AUC Score', inplace = True, ascending = False)"
   ]
  },
  {
   "cell_type": "code",
   "execution_count": 61,
   "metadata": {
    "colab": {
     "base_uri": "https://localhost:8080/",
     "height": 296
    },
    "id": "A7yLcJLdENof",
    "outputId": "b9c84160-202a-4fdd-cf35-3d143dc52cc6"
   },
   "outputs": [
    {
     "data": {
      "text/html": [
       "<div>\n",
       "<style scoped>\n",
       "    .dataframe tbody tr th:only-of-type {\n",
       "        vertical-align: middle;\n",
       "    }\n",
       "\n",
       "    .dataframe tbody tr th {\n",
       "        vertical-align: top;\n",
       "    }\n",
       "\n",
       "    .dataframe thead th {\n",
       "        text-align: right;\n",
       "    }\n",
       "</style>\n",
       "<table border=\"1\" class=\"dataframe\">\n",
       "  <thead>\n",
       "    <tr style=\"text-align: right;\">\n",
       "      <th></th>\n",
       "      <th>Algorithm</th>\n",
       "      <th>Accuracy</th>\n",
       "      <th>Precision</th>\n",
       "      <th>Recall</th>\n",
       "      <th>F1 Score</th>\n",
       "      <th>AUC Score</th>\n",
       "      <th>Prediction Time</th>\n",
       "    </tr>\n",
       "  </thead>\n",
       "  <tbody>\n",
       "    <tr>\n",
       "      <th>0</th>\n",
       "      <td>RandomForestClassifier</td>\n",
       "      <td>0.9762</td>\n",
       "      <td>0.9443</td>\n",
       "      <td>0.9536</td>\n",
       "      <td>0.9489</td>\n",
       "      <td>0.9683</td>\n",
       "      <td>0.3079</td>\n",
       "    </tr>\n",
       "    <tr>\n",
       "      <th>1</th>\n",
       "      <td>DecisionTreeClassifier</td>\n",
       "      <td>0.9401</td>\n",
       "      <td>0.8133</td>\n",
       "      <td>0.9620</td>\n",
       "      <td>0.8814</td>\n",
       "      <td>0.9478</td>\n",
       "      <td>0.0033</td>\n",
       "    </tr>\n",
       "    <tr>\n",
       "      <th>2</th>\n",
       "      <td>BaggingClassifier</td>\n",
       "      <td>0.9411</td>\n",
       "      <td>0.8216</td>\n",
       "      <td>0.9522</td>\n",
       "      <td>0.8821</td>\n",
       "      <td>0.9450</td>\n",
       "      <td>0.0378</td>\n",
       "    </tr>\n",
       "    <tr>\n",
       "      <th>3</th>\n",
       "      <td>SVC</td>\n",
       "      <td>0.9622</td>\n",
       "      <td>0.9434</td>\n",
       "      <td>0.8903</td>\n",
       "      <td>0.9161</td>\n",
       "      <td>0.9371</td>\n",
       "      <td>3.0274</td>\n",
       "    </tr>\n",
       "    <tr>\n",
       "      <th>4</th>\n",
       "      <td>LogisticRegression</td>\n",
       "      <td>0.8737</td>\n",
       "      <td>0.8488</td>\n",
       "      <td>0.5527</td>\n",
       "      <td>0.6695</td>\n",
       "      <td>0.7615</td>\n",
       "      <td>0.0004</td>\n",
       "    </tr>\n",
       "    <tr>\n",
       "      <th>5</th>\n",
       "      <td>KNeighborsClassifier</td>\n",
       "      <td>0.8743</td>\n",
       "      <td>0.9357</td>\n",
       "      <td>0.4909</td>\n",
       "      <td>0.6439</td>\n",
       "      <td>0.7403</td>\n",
       "      <td>0.9442</td>\n",
       "    </tr>\n",
       "    <tr>\n",
       "      <th>6</th>\n",
       "      <td>MultinomialNB</td>\n",
       "      <td>0.8669</td>\n",
       "      <td>0.9016</td>\n",
       "      <td>0.4768</td>\n",
       "      <td>0.6237</td>\n",
       "      <td>0.7306</td>\n",
       "      <td>0.0005</td>\n",
       "    </tr>\n",
       "    <tr>\n",
       "      <th>7</th>\n",
       "      <td>AdaBoostClassifier</td>\n",
       "      <td>0.8340</td>\n",
       "      <td>0.7269</td>\n",
       "      <td>0.4529</td>\n",
       "      <td>0.5581</td>\n",
       "      <td>0.7008</td>\n",
       "      <td>0.0398</td>\n",
       "    </tr>\n",
       "  </tbody>\n",
       "</table>\n",
       "</div>"
      ],
      "text/plain": [
       "                Algorithm Accuracy Precision  ... F1 Score AUC Score Prediction Time\n",
       "0  RandomForestClassifier   0.9762    0.9443  ...   0.9489    0.9683          0.3079\n",
       "1  DecisionTreeClassifier   0.9401    0.8133  ...   0.8814    0.9478          0.0033\n",
       "2       BaggingClassifier   0.9411    0.8216  ...   0.8821    0.9450          0.0378\n",
       "3                     SVC   0.9622    0.9434  ...   0.9161    0.9371          3.0274\n",
       "4      LogisticRegression   0.8737    0.8488  ...   0.6695    0.7615          0.0004\n",
       "5    KNeighborsClassifier   0.8743    0.9357  ...   0.6439    0.7403          0.9442\n",
       "6           MultinomialNB   0.8669    0.9016  ...   0.6237    0.7306          0.0005\n",
       "7      AdaBoostClassifier   0.8340    0.7269  ...   0.5581    0.7008          0.0398\n",
       "\n",
       "[8 rows x 7 columns]"
      ]
     },
     "execution_count": 61,
     "metadata": {
      "tags": []
     },
     "output_type": "execute_result"
    }
   ],
   "source": [
    "results.reset_index(drop = True)"
   ]
  },
  {
   "cell_type": "code",
   "execution_count": 62,
   "metadata": {
    "id": "4TYPr7VtEZ4_"
   },
   "outputs": [],
   "source": [
    "best_acc = results[results['Accuracy'] == results['Accuracy'].max()]\n",
    "best_f1 = results[results['F1 Score'] == results['F1 Score'].max()]\n",
    "best_precision = results[results['Precision'] == results['Precision'].max()]\n",
    "best_recall = results[results['Recall'] == results['Recall'].max()]"
   ]
  },
  {
   "cell_type": "code",
   "execution_count": 63,
   "metadata": {
    "colab": {
     "base_uri": "https://localhost:8080/"
    },
    "id": "uyFNKPpHGDX1",
    "outputId": "09bb8aae-5cf4-4b49-f71e-4852a4e7ed37"
   },
   "outputs": [
    {
     "name": "stdout",
     "output_type": "stream",
     "text": [
      "                Algorithm Accuracy Precision  ... F1 Score AUC Score Prediction Time\n",
      "4  RandomForestClassifier   0.9762    0.9443  ...   0.9489    0.9683          0.3079\n",
      "\n",
      "[1 rows x 7 columns]\n",
      "                Algorithm Accuracy Precision  ... F1 Score AUC Score Prediction Time\n",
      "4  RandomForestClassifier   0.9762    0.9443  ...   0.9489    0.9683          0.3079\n",
      "\n",
      "[1 rows x 7 columns]\n",
      "                Algorithm Accuracy Precision  ... F1 Score AUC Score Prediction Time\n",
      "4  RandomForestClassifier   0.9762    0.9443  ...   0.9489    0.9683          0.3079\n",
      "\n",
      "[1 rows x 7 columns]\n",
      "                Algorithm Accuracy Precision  ... F1 Score AUC Score Prediction Time\n",
      "2  DecisionTreeClassifier   0.9401    0.8133  ...   0.8814    0.9478          0.0033\n",
      "\n",
      "[1 rows x 7 columns]\n"
     ]
    }
   ],
   "source": [
    "print(best_acc)\n",
    "print(best_f1)\n",
    "print(best_precision)\n",
    "print(best_recall)"
   ]
  },
  {
   "cell_type": "code",
   "execution_count": null,
   "metadata": {
    "id": "hlfXLYzxVVNZ"
   },
   "outputs": [],
   "source": []
  }
 ],
 "metadata": {
  "colab": {
   "collapsed_sections": [],
   "name": "formspring_tfidf.ipynb",
   "provenance": []
  },
  "kernelspec": {
   "display_name": "Python 3",
   "language": "python",
   "name": "python3"
  },
  "language_info": {
   "codemirror_mode": {
    "name": "ipython",
    "version": 3
   },
   "file_extension": ".py",
   "mimetype": "text/x-python",
   "name": "python",
   "nbconvert_exporter": "python",
   "pygments_lexer": "ipython3",
   "version": "3.8.8"
  }
 },
 "nbformat": 4,
 "nbformat_minor": 1
}
