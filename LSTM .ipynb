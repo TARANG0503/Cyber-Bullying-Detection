{
 "cells": [
  {
   "cell_type": "markdown",
   "metadata": {
    "id": "c1mOQMtve_1h"
   },
   "source": [
    "Import Necessary Libraries"
   ]
  },
  {
   "cell_type": "code",
   "execution_count": 1,
   "metadata": {
    "id": "9vprswKAZFsV"
   },
   "outputs": [],
   "source": [
    "import numpy as np\n",
    "import pandas as pd\n",
    "import matplotlib.pyplot as plt\n",
    "from sklearn.metrics import accuracy_score,confusion_matrix,classification_report,roc_auc_score,roc_curve,precision_recall_curve,f1_score,auc\n",
    "from sklearn.metrics import f1_score, accuracy_score, precision_score, recall_score, make_scorer\n",
    "from sklearn.model_selection import train_test_split\n",
    "from time import time\n",
    "import nltk\n",
    "from nltk.stem import PorterStemmer,WordNetLemmatizer\n",
    "from nltk.corpus import stopwords\n",
    "from collections import Counter\n",
    "import tensorflow \n",
    "from keras.preprocessing.text import Tokenizer\n",
    "from tensorflow.keras.preprocessing.text import one_hot\n",
    "from tensorflow.keras.preprocessing.sequence import pad_sequences\n",
    "from tensorflow.keras import layers\n",
    "from tensorflow.keras.models import Sequential\n",
    "import re\n",
    "import gensim"
   ]
  },
  {
   "cell_type": "markdown",
   "metadata": {
    "id": "2L_-_XJ4HY27"
   },
   "source": [
    "Import Dataset"
   ]
  },
  {
   "cell_type": "code",
   "execution_count": 2,
   "metadata": {
    "id": "Ros9Llm1lVDg"
   },
   "outputs": [],
   "source": [
    "formspring='https://raw.githubusercontent.com/eimearfoley/CyberBullyingDetection/master/data/formspring.csv'"
   ]
  },
  {
   "cell_type": "code",
   "execution_count": 3,
   "metadata": {
    "id": "7491c915"
   },
   "outputs": [],
   "source": [
    "df=pd.read_csv(formspring)"
   ]
  },
  {
   "cell_type": "markdown",
   "metadata": {
    "id": "J7pwz3lxLg5w"
   },
   "source": [
    "Analyze Dataset"
   ]
  },
  {
   "cell_type": "code",
   "execution_count": 4,
   "metadata": {
    "colab": {
     "base_uri": "https://localhost:8080/",
     "height": 611
    },
    "id": "_nPQHXRoFlYJ",
    "outputId": "d1bf1724-64d6-4984-e188-b3df30399b12"
   },
   "outputs": [
    {
     "name": "stdout",
     "output_type": "stream",
     "text": [
      "<class 'pandas.core.frame.DataFrame'>\n",
      "RangeIndex: 12901 entries, 0 to 12900\n",
      "Data columns (total 14 columns):\n",
      " #   Column     Non-Null Count  Dtype \n",
      "---  ------     --------------  ----- \n",
      " 0   userid     12896 non-null  object\n",
      " 1   post       12852 non-null  object\n",
      " 2   ques       12852 non-null  object\n",
      " 3   ans        12820 non-null  object\n",
      " 4   asker      12801 non-null  object\n",
      " 5   ans1       12759 non-null  object\n",
      " 6   severity1  12788 non-null  object\n",
      " 7   bully1     1909 non-null   object\n",
      " 8   ans2       12701 non-null  object\n",
      " 9   severity2  12739 non-null  object\n",
      " 10  bully2     1786 non-null   object\n",
      " 11  ans3       12655 non-null  object\n",
      " 12  severity3  12698 non-null  object\n",
      " 13  bully3     1780 non-null   object\n",
      "dtypes: object(14)\n",
      "memory usage: 1.4+ MB\n"
     ]
    },
    {
     "data": {
      "text/html": [
       "<div>\n",
       "<style scoped>\n",
       "    .dataframe tbody tr th:only-of-type {\n",
       "        vertical-align: middle;\n",
       "    }\n",
       "\n",
       "    .dataframe tbody tr th {\n",
       "        vertical-align: top;\n",
       "    }\n",
       "\n",
       "    .dataframe thead th {\n",
       "        text-align: right;\n",
       "    }\n",
       "</style>\n",
       "<table border=\"1\" class=\"dataframe\">\n",
       "  <thead>\n",
       "    <tr style=\"text-align: right;\">\n",
       "      <th></th>\n",
       "      <th>userid</th>\n",
       "      <th>post</th>\n",
       "      <th>ques</th>\n",
       "      <th>ans</th>\n",
       "      <th>asker</th>\n",
       "      <th>ans1</th>\n",
       "      <th>severity1</th>\n",
       "      <th>bully1</th>\n",
       "      <th>ans2</th>\n",
       "      <th>severity2</th>\n",
       "      <th>bully2</th>\n",
       "      <th>ans3</th>\n",
       "      <th>severity3</th>\n",
       "      <th>bully3</th>\n",
       "    </tr>\n",
       "  </thead>\n",
       "  <tbody>\n",
       "    <tr>\n",
       "      <th>0</th>\n",
       "      <td>aguitarplayer94</td>\n",
       "      <td>Q: what&amp;#039;s your favorite song? :D&lt;br&gt;A: I ...</td>\n",
       "      <td>what&amp;#039;s your favorite song? :D&lt;br&gt;</td>\n",
       "      <td>I like too many songs to have a favorite</td>\n",
       "      <td>None</td>\n",
       "      <td>No</td>\n",
       "      <td>0</td>\n",
       "      <td>NaN</td>\n",
       "      <td>No</td>\n",
       "      <td>0</td>\n",
       "      <td>NaN</td>\n",
       "      <td>No</td>\n",
       "      <td>0</td>\n",
       "      <td>NaN</td>\n",
       "    </tr>\n",
       "    <tr>\n",
       "      <th>1</th>\n",
       "      <td>aprilpooh15</td>\n",
       "      <td>Q: &lt;3&lt;br&gt;A: &lt;/3 ? haha jk! &lt;33</td>\n",
       "      <td>&lt;3</td>\n",
       "      <td>&lt;/3 ? haha jk! &lt;33</td>\n",
       "      <td>None</td>\n",
       "      <td>No</td>\n",
       "      <td>0</td>\n",
       "      <td>NaN</td>\n",
       "      <td>No</td>\n",
       "      <td>0</td>\n",
       "      <td>NaN</td>\n",
       "      <td>No</td>\n",
       "      <td>0</td>\n",
       "      <td>NaN</td>\n",
       "    </tr>\n",
       "    <tr>\n",
       "      <th>2</th>\n",
       "      <td>aprilpooh15</td>\n",
       "      <td>Q: &amp;quot;hey angel  you duh sexy&amp;quot;&lt;br&gt;A: R...</td>\n",
       "      <td>&amp;quot;hey angel  you duh sexy&amp;quot;</td>\n",
       "      <td>Really?!?! Thanks?! haha</td>\n",
       "      <td>None</td>\n",
       "      <td>No</td>\n",
       "      <td>0</td>\n",
       "      <td>NaN</td>\n",
       "      <td>No</td>\n",
       "      <td>0</td>\n",
       "      <td>NaN</td>\n",
       "      <td>No</td>\n",
       "      <td>0</td>\n",
       "      <td>NaN</td>\n",
       "    </tr>\n",
       "    <tr>\n",
       "      <th>3</th>\n",
       "      <td>aprilpooh15</td>\n",
       "      <td>Q: (:&lt;br&gt;A: ;(</td>\n",
       "      <td>(:</td>\n",
       "      <td>;(</td>\n",
       "      <td>None</td>\n",
       "      <td>No</td>\n",
       "      <td>0</td>\n",
       "      <td>NaN</td>\n",
       "      <td>No</td>\n",
       "      <td>0</td>\n",
       "      <td>NaN</td>\n",
       "      <td>No</td>\n",
       "      <td>0</td>\n",
       "      <td>NaN</td>\n",
       "    </tr>\n",
       "    <tr>\n",
       "      <th>4</th>\n",
       "      <td>aprilpooh15</td>\n",
       "      <td>Q: ******************MEOWWW*******************...</td>\n",
       "      <td>******************MEOWWW*************************</td>\n",
       "      <td>*RAWR*?</td>\n",
       "      <td>None</td>\n",
       "      <td>No</td>\n",
       "      <td>0</td>\n",
       "      <td>NaN</td>\n",
       "      <td>No</td>\n",
       "      <td>0</td>\n",
       "      <td>NaN</td>\n",
       "      <td>No</td>\n",
       "      <td>0</td>\n",
       "      <td>NaN</td>\n",
       "    </tr>\n",
       "  </tbody>\n",
       "</table>\n",
       "</div>"
      ],
      "text/plain": [
       "            userid  ... bully3\n",
       "0  aguitarplayer94  ...    NaN\n",
       "1      aprilpooh15  ...    NaN\n",
       "2      aprilpooh15  ...    NaN\n",
       "3      aprilpooh15  ...    NaN\n",
       "4      aprilpooh15  ...    NaN\n",
       "\n",
       "[5 rows x 14 columns]"
      ]
     },
     "execution_count": 4,
     "metadata": {
      "tags": []
     },
     "output_type": "execute_result"
    }
   ],
   "source": [
    "df.info()\n",
    "df.head()"
   ]
  },
  {
   "cell_type": "code",
   "execution_count": 5,
   "metadata": {
    "colab": {
     "base_uri": "https://localhost:8080/"
    },
    "id": "7nH9GH1dGby0",
    "outputId": "dc853d16-fb4e-4a48-e6e0-151c28689a5e"
   },
   "outputs": [
    {
     "data": {
      "text/plain": [
       "0    Q: what&#039;s your favorite song? :D<br>A: I ...\n",
       "1                       Q: <3<br>A: </3 ? haha jk! <33\n",
       "2    Q: &quot;hey angel  you duh sexy&quot;<br>A: R...\n",
       "3                                       Q: (:<br>A: ;(\n",
       "4    Q: ******************MEOWWW*******************...\n",
       "5    Q: any makeup tips? i suck at doing my makeup ...\n",
       "6    Q: Apriiiiiiiiiiiill!!! I miss uuuu! It&#039;s...\n",
       "7    Q: Are you a morning or night person?<br>A: Ni...\n",
       "8    Q: are you a trusting person?<br>A: alreadi an...\n",
       "9    Q: are you a trusting person?<br>A: Yes veryy ...\n",
       "Name: post, dtype: object"
      ]
     },
     "execution_count": 5,
     "metadata": {
      "tags": []
     },
     "output_type": "execute_result"
    }
   ],
   "source": [
    "df['post'][:10]"
   ]
  },
  {
   "cell_type": "code",
   "execution_count": 6,
   "metadata": {
    "colab": {
     "base_uri": "https://localhost:8080/"
    },
    "id": "lVCmGlRNGb1F",
    "outputId": "e7269693-7369-4cbb-91db-001611a1c0f3"
   },
   "outputs": [
    {
     "data": {
      "text/plain": [
       "0               what&#039;s your favorite song? :D<br>\n",
       "1                                                   <3\n",
       "2                  &quot;hey angel  you duh sexy&quot;\n",
       "3                                                   (:\n",
       "4    ******************MEOWWW*************************\n",
       "5       any makeup tips? i suck at doing my makeup lol\n",
       "6    Apriiiiiiiiiiiill!!! I miss uuuu! It&#039;s Em...\n",
       "7                   Are you a morning or night person?\n",
       "8                           are you a trusting person?\n",
       "9                           are you a trusting person?\n",
       "Name: ques, dtype: object"
      ]
     },
     "execution_count": 6,
     "metadata": {
      "tags": []
     },
     "output_type": "execute_result"
    }
   ],
   "source": [
    "df['ques'][:10]"
   ]
  },
  {
   "cell_type": "code",
   "execution_count": 7,
   "metadata": {
    "colab": {
     "base_uri": "https://localhost:8080/"
    },
    "id": "i2OAxdCGGb57",
    "outputId": "fd69a484-c3c4-4518-b180-db2b6a7fc86d"
   },
   "outputs": [
    {
     "data": {
      "text/plain": [
       "0             I like too many songs to have a favorite\n",
       "1                                   </3 ? haha jk! <33\n",
       "2                             Really?!?! Thanks?! haha\n",
       "3                                                   ;(\n",
       "4                                              *RAWR*?\n",
       "5     Sure! Like tell me wht u wnna know?! Like wht...\n",
       "6     EMMA hahahahah :D I MISSSSSeddd YUHHHHh 22222...\n",
       "7                                      Night 4shuree!!\n",
       "8                                       alreadi answrd\n",
       "9         Yes veryy trustin person!!! May i help yuh:!\n",
       "Name: ans, dtype: object"
      ]
     },
     "execution_count": 7,
     "metadata": {
      "tags": []
     },
     "output_type": "execute_result"
    }
   ],
   "source": [
    "df['ans'][:10]"
   ]
  },
  {
   "cell_type": "code",
   "execution_count": 8,
   "metadata": {
    "colab": {
     "base_uri": "https://localhost:8080/"
    },
    "id": "uWXkkBEHMOTJ",
    "outputId": "f1924c68-e8f4-4d17-c097-8ee6e83a833f"
   },
   "outputs": [
    {
     "data": {
      "text/plain": [
       "100    NaN\n",
       "101    NaN\n",
       "102    NaN\n",
       "103    NaN\n",
       "104    NaN\n",
       "105    NaN\n",
       "106    NaN\n",
       "107    NaN\n",
       "108    NaN\n",
       "109    NaN\n",
       "Name: bully1, dtype: object"
      ]
     },
     "execution_count": 8,
     "metadata": {
      "tags": []
     },
     "output_type": "execute_result"
    }
   ],
   "source": [
    "df['bully1'][100:110]"
   ]
  },
  {
   "cell_type": "code",
   "execution_count": 9,
   "metadata": {
    "colab": {
     "base_uri": "https://localhost:8080/"
    },
    "id": "EDf-GYvgL9Bn",
    "outputId": "1905f45f-8e60-4f77-ac8d-8e6fa5d7f508"
   },
   "outputs": [
    {
     "data": {
      "text/plain": [
       "None                                                                                                                      593\n",
       "Na                                                                                                                         89\n",
       "N/A.                                                                                                                       74\n",
       "no                                                                                                                         47\n",
       "N/a                                                                                                                        47\n",
       "                                                                                                                         ... \n",
       "so be a bitch to Someone who cares pussy ass fuken ugly bitchez fukk youu!!!!!                                              1\n",
       "you have big feet                                                                                                           1\n",
       "are you mental? she made a proof video! you cant lie                                                                        1\n",
       "\"\"\"mad gay, stick that in your juice box\"\"\"                                                                                 1\n",
       "Hey smexy wanna fuck?? How bout we do some 69 all night long? Sounds good k I'll be in your bed waiting sexy bitch! ;D      1\n",
       "Name: bully1, Length: 1012, dtype: int64"
      ]
     },
     "execution_count": 9,
     "metadata": {
      "tags": []
     },
     "output_type": "execute_result"
    }
   ],
   "source": [
    "df['bully1'].value_counts()"
   ]
  },
  {
   "cell_type": "code",
   "execution_count": 10,
   "metadata": {
    "colab": {
     "base_uri": "https://localhost:8080/"
    },
    "id": "pVs5_cAbQPsY",
    "outputId": "d4bb009a-84a5-4d8d-e15c-48b0e313bb3d"
   },
   "outputs": [
    {
     "name": "stdout",
     "output_type": "stream",
     "text": [
      "No     11693\n",
      "Yes     1038\n",
      "0         12\n",
      "5          5\n",
      "3          5\n",
      "1          2\n",
      "7          1\n",
      "6          1\n",
      "2          1\n",
      "4          1\n",
      "Name: ans1, dtype: int64\n",
      "No     11696\n",
      "Yes     1005\n",
      "Name: ans2, dtype: int64\n",
      "No     11711\n",
      "Yes      944\n",
      "Name: ans3, dtype: int64\n"
     ]
    }
   ],
   "source": [
    "print(df['ans1'].value_counts())\n",
    "print(df['ans2'].value_counts())\n",
    "print(df['ans3'].value_counts())"
   ]
  },
  {
   "cell_type": "code",
   "execution_count": 11,
   "metadata": {
    "id": "JBWzu5jkM6px"
   },
   "outputs": [],
   "source": [
    "df = df[df['post'].notna()]"
   ]
  },
  {
   "cell_type": "code",
   "execution_count": 12,
   "metadata": {
    "colab": {
     "base_uri": "https://localhost:8080/"
    },
    "id": "9yQWU1x3NNYn",
    "outputId": "2a339dfb-1c83-4292-e0cf-5e5dea6f2c7a"
   },
   "outputs": [
    {
     "name": "stdout",
     "output_type": "stream",
     "text": [
      "<class 'pandas.core.frame.DataFrame'>\n",
      "Int64Index: 12852 entries, 0 to 12900\n",
      "Data columns (total 14 columns):\n",
      " #   Column     Non-Null Count  Dtype \n",
      "---  ------     --------------  ----- \n",
      " 0   userid     12852 non-null  object\n",
      " 1   post       12852 non-null  object\n",
      " 2   ques       12850 non-null  object\n",
      " 3   ans        12819 non-null  object\n",
      " 4   asker      12801 non-null  object\n",
      " 5   ans1       12759 non-null  object\n",
      " 6   severity1  12788 non-null  object\n",
      " 7   bully1     1909 non-null   object\n",
      " 8   ans2       12701 non-null  object\n",
      " 9   severity2  12739 non-null  object\n",
      " 10  bully2     1786 non-null   object\n",
      " 11  ans3       12655 non-null  object\n",
      " 12  severity3  12698 non-null  object\n",
      " 13  bully3     1780 non-null   object\n",
      "dtypes: object(14)\n",
      "memory usage: 1.5+ MB\n"
     ]
    }
   ],
   "source": [
    "df.info()"
   ]
  },
  {
   "cell_type": "code",
   "execution_count": 13,
   "metadata": {
    "id": "7eJuUpDRtA6r"
   },
   "outputs": [],
   "source": [
    "ans=np.array(df['ans'])\n",
    "ques=np.array(df['ques'])\n",
    "posts=[]\n",
    "for i in range (0,len(ans)):\n",
    "  posts.append(str(ques[i])+str(ans[i]))"
   ]
  },
  {
   "cell_type": "code",
   "execution_count": 14,
   "metadata": {
    "colab": {
     "base_uri": "https://localhost:8080/"
    },
    "id": "8dkVwBrwLZz6",
    "outputId": "d1bab8a8-c791-48e4-f7ef-c6d50a10f444"
   },
   "outputs": [
    {
     "name": "stdout",
     "output_type": "stream",
     "text": [
      "what&#039;s your favorite song? :D<br>\n",
      " I like too many songs to have a favorite\n",
      "what&#039;s your favorite song? :D<br> I like too many songs to have a favorite\n"
     ]
    }
   ],
   "source": [
    "print(ques[0])\n",
    "print(ans[0])\n",
    "print(posts[0])"
   ]
  },
  {
   "cell_type": "code",
   "execution_count": 15,
   "metadata": {
    "id": "qG2W5gupMb9q"
   },
   "outputs": [],
   "source": [
    "y1=np.array(df['ans1'])\n",
    "y2=np.array(df['ans2'])\n",
    "y3=np.array(df['ans3'])"
   ]
  },
  {
   "cell_type": "code",
   "execution_count": 16,
   "metadata": {
    "id": "dl0ihqhIMcAR"
   },
   "outputs": [],
   "source": [
    "X=[]\n",
    "y=[]\n",
    "for i in range (len(posts)):\n",
    "  X.append(posts[i])\n",
    "  if y1[i]=='Yes' :\n",
    "    y.append(1)\n",
    "  else:\n",
    "    y.append(0)"
   ]
  },
  {
   "cell_type": "markdown",
   "metadata": {
    "id": "FUvDvIm9HfYr"
   },
   "source": [
    "Data Preprocessing"
   ]
  },
  {
   "cell_type": "code",
   "execution_count": 17,
   "metadata": {
    "id": "SZDZvbuw6COP"
   },
   "outputs": [],
   "source": [
    "X=np.array(X)\n",
    "X=np.reshape(X,(-1,1))\n",
    "y=np.array(y)\n"
   ]
  },
  {
   "cell_type": "code",
   "execution_count": 18,
   "metadata": {
    "colab": {
     "base_uri": "https://localhost:8080/"
    },
    "id": "vtw63dq4j3Fi",
    "outputId": "a6430b34-7bdd-441a-da56-7fc698f8fd10"
   },
   "outputs": [
    {
     "data": {
      "text/plain": [
       "((12852, 1), (12852,))"
      ]
     },
     "execution_count": 18,
     "metadata": {
      "tags": []
     },
     "output_type": "execute_result"
    }
   ],
   "source": [
    "X.shape,y.shape"
   ]
  },
  {
   "cell_type": "code",
   "execution_count": 19,
   "metadata": {
    "colab": {
     "base_uri": "https://localhost:8080/"
    },
    "id": "gB03Pki46Id3",
    "outputId": "36880651-1ead-4a47-d87c-bf19456b9e24"
   },
   "outputs": [
    {
     "name": "stdout",
     "output_type": "stream",
     "text": [
      "Counter({0: 11814, 1: 1038})\n"
     ]
    }
   ],
   "source": [
    "print(Counter(y))"
   ]
  },
  {
   "cell_type": "code",
   "execution_count": 20,
   "metadata": {
    "colab": {
     "base_uri": "https://localhost:8080/"
    },
    "id": "XV4wOnkSiBY5",
    "outputId": "7ffde532-f6f6-4a50-af71-2c1110e8c438"
   },
   "outputs": [
    {
     "name": "stderr",
     "output_type": "stream",
     "text": [
      "/usr/local/lib/python3.7/dist-packages/sklearn/externals/six.py:31: FutureWarning: The module is deprecated in version 0.21 and will be removed in version 0.23 since we've dropped support for Python 2.7. Please rely on the official version of six (https://pypi.org/project/six/).\n",
      "  \"(https://pypi.org/project/six/).\", FutureWarning)\n",
      "/usr/local/lib/python3.7/dist-packages/sklearn/utils/deprecation.py:144: FutureWarning: The sklearn.neighbors.base module is  deprecated in version 0.22 and will be removed in version 0.24. The corresponding classes / functions should instead be imported from sklearn.neighbors. Anything that cannot be imported from sklearn.neighbors is now part of the private API.\n",
      "  warnings.warn(message, FutureWarning)\n",
      "/usr/local/lib/python3.7/dist-packages/sklearn/utils/deprecation.py:87: FutureWarning: Function safe_indexing is deprecated; safe_indexing is deprecated in version 0.22 and will be removed in version 0.24.\n",
      "  warnings.warn(msg, category=FutureWarning)\n"
     ]
    }
   ],
   "source": [
    "from imblearn.over_sampling import RandomOverSampler\n",
    "oversample = RandomOverSampler( sampling_strategy=0.3)\n",
    "X,y=oversample.fit_sample(X,y)"
   ]
  },
  {
   "cell_type": "code",
   "execution_count": 21,
   "metadata": {
    "colab": {
     "base_uri": "https://localhost:8080/"
    },
    "id": "7R444fV0iBcA",
    "outputId": "b8749492-9a0b-4ee5-9510-fe64ce426ea2"
   },
   "outputs": [
    {
     "data": {
      "text/plain": [
       "((15358, 1), (15358,))"
      ]
     },
     "execution_count": 21,
     "metadata": {
      "tags": []
     },
     "output_type": "execute_result"
    }
   ],
   "source": [
    "X.shape,y.shape"
   ]
  },
  {
   "cell_type": "code",
   "execution_count": 22,
   "metadata": {
    "colab": {
     "base_uri": "https://localhost:8080/"
    },
    "id": "ai-eGnUsif2b",
    "outputId": "09649b1e-013e-4cf9-cc8f-70440d40b418"
   },
   "outputs": [
    {
     "name": "stdout",
     "output_type": "stream",
     "text": [
      "Counter({0: 11814, 1: 3544})\n"
     ]
    }
   ],
   "source": [
    "print(Counter(y))"
   ]
  },
  {
   "cell_type": "code",
   "execution_count": 23,
   "metadata": {
    "colab": {
     "base_uri": "https://localhost:8080/"
    },
    "id": "ba6ee1ef",
    "outputId": "db145533-4c69-4aa9-9b78-a1f5e0893b49"
   },
   "outputs": [
    {
     "data": {
      "text/plain": [
       "(array([['what&#039;s your favorite song? :D<br> I like too many songs to have a favorite'],\n",
       "        ['<3 </3 ? haha jk! <33'],\n",
       "        ['&quot;hey angel  you duh sexy&quot; Really?!?! Thanks?! haha'],\n",
       "        ['(: ;('],\n",
       "        ['******************MEOWWW************************* *RAWR*?'],\n",
       "        ['any makeup tips? i suck at doing my makeup lol Sure! Like tell me wht u wnna know?! Like wht do you use?!']],\n",
       "       dtype='<U5541'), array([0, 0, 0, 0, 0, 0]))"
      ]
     },
     "execution_count": 23,
     "metadata": {
      "tags": []
     },
     "output_type": "execute_result"
    }
   ],
   "source": [
    "X[:6],y[:6]"
   ]
  },
  {
   "cell_type": "code",
   "execution_count": 24,
   "metadata": {
    "colab": {
     "base_uri": "https://localhost:8080/"
    },
    "id": "_cG4qU-7rdIq",
    "outputId": "324c277c-0572-4ff4-a606-0ee3e545bab5"
   },
   "outputs": [
    {
     "data": {
      "text/plain": [
       "numpy.ndarray"
      ]
     },
     "execution_count": 24,
     "metadata": {
      "tags": []
     },
     "output_type": "execute_result"
    }
   ],
   "source": [
    "type(X)"
   ]
  },
  {
   "cell_type": "code",
   "execution_count": 25,
   "metadata": {
    "id": "9wY_CE8ZtYsF"
   },
   "outputs": [],
   "source": [
    "X=[str(x) for x in X]"
   ]
  },
  {
   "cell_type": "code",
   "execution_count": 26,
   "metadata": {
    "colab": {
     "base_uri": "https://localhost:8080/"
    },
    "id": "Atsi-ufJtZVS",
    "outputId": "1321c8a9-c453-4d94-f960-a0d84c98f87a"
   },
   "outputs": [
    {
     "data": {
      "text/plain": [
       "list"
      ]
     },
     "execution_count": 26,
     "metadata": {
      "tags": []
     },
     "output_type": "execute_result"
    }
   ],
   "source": [
    "type(X)"
   ]
  },
  {
   "cell_type": "markdown",
   "metadata": {
    "id": "yV4l-CayHmkq"
   },
   "source": [
    "Create Word Embeddings"
   ]
  },
  {
   "cell_type": "code",
   "execution_count": 28,
   "metadata": {
    "id": "976031f6"
   },
   "outputs": [],
   "source": [
    "stopwords=stopwords.words('english')"
   ]
  },
  {
   "cell_type": "code",
   "execution_count": 29,
   "metadata": {
    "id": "u5YLxR_8-YtW"
   },
   "outputs": [],
   "source": [
    "contractions =dict({ \n",
    "\"ain't\": \"am not\",\n",
    "\"aren't\": \"are not\",\n",
    "\"can't\": \"cannot\",\n",
    "\"can't've\": \"cannot have\",\n",
    "\"'cause\": \"because\",\n",
    "\"could've\": \"could have\",\n",
    "\"couldn't\": \"could not\",\n",
    "\"couldn't've\": \"could not have\",\n",
    "\"didn't\": \"did not\",\n",
    "\"doesn't\": \"does not\",\n",
    "\"don't\": \"do not\",\n",
    "\"hadn't\": \"had not\",\n",
    "\"hadn't've\": \"had not have\",\n",
    "\"hasn't\": \"has not\",\n",
    "\"haven't\": \"have not\",\n",
    "\"he'd\": \" he would\",\n",
    "\"he'd've\": \"he would have\",\n",
    "\"he'll\": \"he will\",\n",
    "\"he'll've\": \"he will have\",\n",
    "\"he's\": \"he is\",\n",
    "\"how'd\": \"how did\",\n",
    "\"how'd'y\": \"how do you\",\n",
    "\"how'll\": \"how will\",\n",
    "\"how's\": \"how is\",\n",
    "\"i'd\": \"i would\",\n",
    "\"i'd've\": \"i would have\",\n",
    "\"i'll\": \"i will\",\n",
    "\"i'll've\": \"i will have\",\n",
    "\"i'm\": \"i am\",\n",
    "\"i've\": \"i have\",\n",
    "\"isn't\": \"is not\",\n",
    "\"it'd\": \"it would\",\n",
    "\"it'd've\": \"it would have\",\n",
    "\"it'll\": \"it will\",\n",
    "\"it'll've\": \"it will have\",\n",
    "\"it's\": \"it is\",\n",
    "\"let's\": \"let us\",\n",
    "\"ma'am\": \"madam\",\n",
    "\"mayn't\": \"may not\",\n",
    "\"might've\": \"might have\",\n",
    "\"mightn't\": \"might not\",\n",
    "\"mightn't've\": \"might not have\",\n",
    "\"must've\": \"must have\",\n",
    "\"mustn't\": \"must not\",\n",
    "\"mustn't've\": \"must not have\",\n",
    "\"needn't\": \"need not\",\n",
    "\"needn't've\": \"need not have\",\n",
    "\"o'clock\": \"of the clock\",\n",
    "\"oughtn't\": \"ought not\",\n",
    "\"oughtn't've\": \"ought not have\",\n",
    "\"shan't\": \"shall not\",\n",
    "\"sha'n't\": \"shall not\",\n",
    "\"shan't've\": \"shall not have\",\n",
    "\"she'd\": \"she would\",\n",
    "\"she'd've\": \"she would have\",\n",
    "\"she'll\": \"she will\",\n",
    "\"she'll've\": \"she will have\",\n",
    "\"she's\": \"she is\",\n",
    "\"should've\": \"should have\",\n",
    "\"shouldn't\": \"should not\",\n",
    "\"shouldn't've\": \"should not have\",\n",
    "\"so've\": \"so have\",\n",
    "\"so's\": \"so is\",\n",
    "\"that'd\": \"that would\",\n",
    "\"that'd've\": \"that would have\",\n",
    "\"that's\": \"that has\",\n",
    "\"there'd\": \"there would\",\n",
    "\"there'd've\": \"there would have\",\n",
    "\"there's\": \"there is\",\n",
    "\"they'd\": \"they had\",\n",
    "\"they'd've\": \"they would have\",\n",
    "\"they'll\": \"they will\",\n",
    "\"they'll've\": \"they will have\",\n",
    "\"they're\": \"they are\",\n",
    "\"they've\": \"they have\",\n",
    "\"to've\": \"to have\",\n",
    "\"wasn't\": \"was not\",\n",
    "\"we'd\": \"we would\",\n",
    "\"we'd've\": \"we would have\",\n",
    "\"we'll\": \"we will\",\n",
    "\"we'll've\": \"we will have\",\n",
    "\"we're\": \"we are\",\n",
    "\"we've\": \"we have\",\n",
    "\"weren't\": \"were not\",\n",
    "\"what'll\": \"what will\",\n",
    "\"what'll've\": \"what will have\",\n",
    "\"what're\": \"what are\",\n",
    "\"what's\": \"what is\",\n",
    "\"what've\": \"what have\",\n",
    "\"when's\": \"when is\",\n",
    "\"when've\": \"when have\",\n",
    "\"where'd\": \"where did\",\n",
    "\"where's\": \"where is\",\n",
    "\"where've\": \"where have\",\n",
    "\"who'll\": \"who will\",\n",
    "\"who'll've\": \"who will have\",\n",
    "\"who's\": \"who has\",\n",
    "\"who've\": \"who have\",\n",
    "\"why's\": \"why has\",\n",
    "\"why've\": \"why have\",\n",
    "\"will've\": \"will have\",\n",
    "\"won't\": \"will not\",\n",
    "\"won't've\": \"will not have\",\n",
    "\"would've\": \"would have\",\n",
    "\"wouldn't\": \"would not\",\n",
    "\"wouldn't've\": \"would not have\",\n",
    "\"y'all\": \"you all\",\n",
    "\"y'all'd\": \"you all would\",\n",
    "\"y'all'd've\": \"you all would have\",\n",
    "\"y'all're\": \"you all are\",\n",
    "\"y'all've\": \"you all have\",\n",
    "\"you'd\": \"you would\",\n",
    "\"you'd've\": \"you would have\",\n",
    "\"you'll\": \"you will\",\n",
    "\"you'll've\": \"you will have\",\n",
    "\"you're\": \"you are\",\n",
    "\"you've\": \"you have\",\n",
    "\"ain’t\": \"am not\",\n",
    "\"aren’t\": \"are not\",\n",
    "\"can’t\": \"cannot\",\n",
    "\"can’t’ve\": \"cannot have\",\n",
    "\"’cause\": \"because\",\n",
    "\"could’ve\": \"could have\",\n",
    "\"couldn’t\": \"could not\",\n",
    "\"couldn’t’ve\": \"could not have\",\n",
    "\"didn’t\": \"did not\",\n",
    "\"doesn’t\": \"does not\",\n",
    "\"don’t\": \"do not\",\n",
    "\"hadn’t\": \"had not\",\n",
    "\"hadn’t’ve\": \"had not have\",\n",
    "\"hasn’t\": \"has not\",\n",
    "\"haven’t\": \"have not\",\n",
    "\"he’d\": \" he would\",\n",
    "\"he’d’ve\": \"he would have\",\n",
    "\"he’ll\": \"he will\",\n",
    "\"he’ll’ve\": \"he will have\",\n",
    "\"he’s\": \"he is\",\n",
    "\"how’d\": \"how did\",\n",
    "\"how’d’y\": \"how do you\",\n",
    "\"how’ll\": \"how will\",\n",
    "\"how’s\": \"how is\",\n",
    "\"i’d\": \"i would\",\n",
    "\"i’d’ve\": \"i would have\",\n",
    "\"i’ll\": \"i will\",\n",
    "\"i’ll’ve\": \"i will have\",\n",
    "\"i’m\": \"i am\",\n",
    "\"i’ve\": \"i have\",\n",
    "\"isn’t\": \"is not\",\n",
    "\"it’d\": \"it would\",\n",
    "\"it’d’ve\": \"it would have\",\n",
    "\"it’ll\": \"it will\",\n",
    "\"it’ll’ve\": \"it will have\",\n",
    "\"it’s\": \"it is\",\n",
    "\"let’s\": \"let us\",\n",
    "\"ma’am\": \"madam\",\n",
    "\"mayn’t\": \"may not\",\n",
    "\"might’ve\": \"might have\",\n",
    "\"mightn’t\": \"might not\",\n",
    "\"mightn’t’ve\": \"might not have\",\n",
    "\"must’ve\": \"must have\",\n",
    "\"mustn’t\": \"must not\",\n",
    "\"mustn’t’ve\": \"must not have\",\n",
    "\"needn’t\": \"need not\",\n",
    "\"needn’t’ve\": \"need not have\",\n",
    "\"o’clock\": \"of the clock\",\n",
    "\"oughtn’t\": \"ought not\",\n",
    "\"oughtn’t’ve\": \"ought not have\",\n",
    "\"shan’t\": \"shall not\",\n",
    "\"sha’n’t\": \"shall not\",\n",
    "\"shan’t’ve\": \"shall not have\",\n",
    "\"she’d\": \"she would\",\n",
    "\"she’d’ve\": \"she would have\",\n",
    "\"she’ll\": \"she will\",\n",
    "\"she’ll’ve\": \"she will have\",\n",
    "\"she’s\": \"she is\",\n",
    "\"should’ve\": \"should have\",\n",
    "\"shouldn’t\": \"should not\",\n",
    "\"shouldn’t’ve\": \"should not have\",\n",
    "\"so’ve\": \"so have\",\n",
    "\"so’s\": \"so is\",\n",
    "\"that’d\": \"that would\",\n",
    "\"that’d’ve\": \"that would have\",\n",
    "\"that’s\": \"that has\",\n",
    "\"there’d\": \"there would\",\n",
    "\"there’d’ve\": \"there would have\",\n",
    "\"there’s\": \"there is\",\n",
    "\"they’d\": \"they had\",\n",
    "\"they’d’ve\": \"they would have\",\n",
    "\"they’ll\": \"they will\",\n",
    "\"they’ll’ve\": \"they will have\",\n",
    "\"they’re\": \"they are\",\n",
    "\"they’ve\": \"they have\",\n",
    "\"to’ve\": \"to have\",\n",
    "\"wasn’t\": \"was not\",\n",
    "\"we’d\": \"we would\",\n",
    "\"we’d’ve\": \"we would have\",\n",
    "\"we’ll\": \"we will\",\n",
    "\"we’ll’ve\": \"we will have\",\n",
    "\"we’re\": \"we are\",\n",
    "\"we’ve\": \"we have\",\n",
    "\"weren’t\": \"were not\",\n",
    "\"what’ll\": \"what will\",\n",
    "\"what’ll’ve\": \"what will have\",\n",
    "\"what’re\": \"what are\",\n",
    "\"what’s\": \"what is\",\n",
    "\"what’ve\": \"what have\",\n",
    "\"when’s\": \"when is\",\n",
    "\"when’ve\": \"when have\",\n",
    "\"where’d\": \"where did\",\n",
    "\"where’s\": \"where is\",\n",
    "\"where’ve\": \"where have\",\n",
    "\"who’ll\": \"who will\",\n",
    "\"who’ll’ve\": \"who will have\",\n",
    "\"who’s\": \"who has\",\n",
    "\"who’ve\": \"who have\",\n",
    "\"why’s\": \"why has\",\n",
    "\"why’ve\": \"why have\",\n",
    "\"will’ve\": \"will have\",\n",
    "\"won’t\": \"will not\",\n",
    "\"won’t’ve\": \"will not have\",\n",
    "\"would’ve\": \"would have\",\n",
    "\"wouldn’t\": \"would not\",\n",
    "\"wouldn’t’ve\": \"would not have\",\n",
    "\"y’all\": \"you all\",\n",
    "\"y’all’d\": \"you all would\",\n",
    "\"y’all’d’ve\": \"you all would have\",\n",
    "\"y’all’re\": \"you all are\",\n",
    "\"y’all’ve\": \"you all have\",\n",
    "\"you’d\": \"you would\",\n",
    "\"you’d’ve\": \"you would have\",\n",
    "\"you’ll\": \"you will\",\n",
    "\"you’ll’ve\": \"you will have\",\n",
    "\"you’re\": \"you are\",\n",
    "\"you’ve\": \"you have\"\n",
    "})"
   ]
  },
  {
   "cell_type": "code",
   "execution_count": 30,
   "metadata": {
    "colab": {
     "base_uri": "https://localhost:8080/",
     "height": 36
    },
    "id": "OUJpctSYB_q2",
    "outputId": "ff72ec0f-6904-4590-bf01-11c827f41422"
   },
   "outputs": [
    {
     "data": {
      "application/vnd.google.colaboratory.intrinsic+json": {
       "type": "string"
      },
      "text/plain": [
       "'it is'"
      ]
     },
     "execution_count": 30,
     "metadata": {
      "tags": []
     },
     "output_type": "execute_result"
    }
   ],
   "source": [
    "contractions[\"it’s\"]"
   ]
  },
  {
   "cell_type": "code",
   "execution_count": 31,
   "metadata": {
    "id": "oIRl1hlFB7nr"
   },
   "outputs": [],
   "source": [
    "X_train,X_test,y_train,y_test=train_test_split(X,y,test_size=0.3,random_state=42)"
   ]
  },
  {
   "cell_type": "code",
   "execution_count": 32,
   "metadata": {
    "colab": {
     "base_uri": "https://localhost:8080/"
    },
    "id": "Vv4CkbMZibG5",
    "outputId": "e3a994b2-320e-4c95-e707-532bd0bcb4b5"
   },
   "outputs": [
    {
     "name": "stdout",
     "output_type": "stream",
     "text": [
      "Counter({0: 8273, 1: 2477})\n",
      "Counter({0: 3541, 1: 1067})\n"
     ]
    }
   ],
   "source": [
    "print(Counter(y_train))\n",
    "print(Counter(y_test))"
   ]
  },
  {
   "cell_type": "code",
   "execution_count": 33,
   "metadata": {
    "id": "bae61091"
   },
   "outputs": [],
   "source": [
    "def cleanText(X):\n",
    "  corpus=[]\n",
    "  for para in X:\n",
    "      sentences=nltk.sent_tokenize(str(para))\n",
    "      temp=[]\n",
    "      for sentence in sentences:\n",
    "          sentence=sentence.lower()\n",
    "          cleanr = re.compile('<.*?>')\n",
    "          sentence = re.sub(cleanr, '', sentence)\n",
    "          sentence=re.sub(r'[\\!\"#$%&\\*+,./;<=>?@_`|~=]','',sentence)\n",
    "          sentence=re.sub(r'[0-9]+', '',sentence)\n",
    "          words=sentence.split()\n",
    "          words_list=[]\n",
    "          for word in words:\n",
    "            if word in contractions:\n",
    "              words_list.append(contractions[word])\n",
    "            elif word not in stopwords:\n",
    "              words_list.append(WordNetLemmatizer().lemmatize(word) )\n",
    "          sent=' '.join(words_list)\n",
    "          sent=re.sub(pattern=r'\\'',repl='',string=sent)\n",
    "          temp.append(sent)\n",
    "      corpus.append('. '.join(temp))\n",
    "  return corpus"
   ]
  },
  {
   "cell_type": "code",
   "execution_count": 34,
   "metadata": {
    "id": "A8-6W_1EEE7F"
   },
   "outputs": [],
   "source": [
    "corpus=cleanText(X_train)\n",
    "lst_corpus = []\n",
    "for string in corpus:\n",
    "   lst_words = string.split()\n",
    "   lst_grams = [\" \".join(lst_words[i:i+1]) \n",
    "               for i in range(0, len(lst_words), 1)]\n",
    "   lst_corpus.append(lst_grams)\n"
   ]
  },
  {
   "cell_type": "code",
   "execution_count": 35,
   "metadata": {
    "colab": {
     "base_uri": "https://localhost:8080/"
    },
    "id": "ba1885b5",
    "outputId": "8af63011-579b-4536-88f5-ebbe04cd88d9"
   },
   "outputs": [
    {
     "name": "stdout",
     "output_type": "stream",
     "text": [
      "10750\n",
      "10750\n"
     ]
    }
   ],
   "source": [
    "print(len(corpus))\n",
    "print(len(lst_corpus))"
   ]
  },
  {
   "cell_type": "code",
   "execution_count": 36,
   "metadata": {
    "colab": {
     "base_uri": "https://localhost:8080/"
    },
    "id": "DLqwnA7EeFby",
    "outputId": "c785f919-1372-4586-bedb-8682c5d30b39"
   },
   "outputs": [
    {
     "data": {
      "text/plain": [
       "['[awhh shit dx man. (: taelin walker webb ]',\n",
       " '[if could watch one tv show would. office ]',\n",
       " '[no. hate taylor used b firey dyed hair okay dont really give shit find something better criticize me]',\n",
       " '[its prolly think wanted know thought :) welll]',\n",
       " '[holar :) wasup]',\n",
       " '[lol :] anonymous]']"
      ]
     },
     "execution_count": 36,
     "metadata": {
      "tags": []
     },
     "output_type": "execute_result"
    }
   ],
   "source": [
    "corpus[:6]"
   ]
  },
  {
   "cell_type": "code",
   "execution_count": 37,
   "metadata": {
    "colab": {
     "base_uri": "https://localhost:8080/"
    },
    "id": "46rzxT-3eIaw",
    "outputId": "b67d51b6-6592-490a-e4a3-15f90c1b17f5"
   },
   "outputs": [
    {
     "data": {
      "text/plain": [
       "[['[awhh', 'shit', 'dx', 'man.', '(:', 'taelin', 'walker', 'webb', ']'],\n",
       " ['[if', 'could', 'watch', 'one', 'tv', 'show', 'would.', 'office', ']'],\n",
       " ['[no.',\n",
       "  'hate',\n",
       "  'taylor',\n",
       "  'used',\n",
       "  'b',\n",
       "  'firey',\n",
       "  'dyed',\n",
       "  'hair',\n",
       "  'okay',\n",
       "  'dont',\n",
       "  'really',\n",
       "  'give',\n",
       "  'shit',\n",
       "  'find',\n",
       "  'something',\n",
       "  'better',\n",
       "  'criticize',\n",
       "  'me]'],\n",
       " ['[its', 'prolly', 'think', 'wanted', 'know', 'thought', ':)', 'welll]'],\n",
       " ['[holar', ':)', 'wasup]'],\n",
       " ['[lol', ':]', 'anonymous]']]"
      ]
     },
     "execution_count": 37,
     "metadata": {
      "tags": []
     },
     "output_type": "execute_result"
    }
   ],
   "source": [
    "lst_corpus[:6]"
   ]
  },
  {
   "cell_type": "code",
   "execution_count": 38,
   "metadata": {
    "id": "e6VHxE5lEE_0"
   },
   "outputs": [],
   "source": [
    "tokenizer = Tokenizer()\n",
    "tokenizer.fit_on_texts(lst_corpus)\n",
    "dic_vocabulary = tokenizer.word_index"
   ]
  },
  {
   "cell_type": "code",
   "execution_count": 39,
   "metadata": {
    "id": "6GgXTvQzEFB5"
   },
   "outputs": [],
   "source": [
    "X_train= tokenizer.texts_to_sequences(lst_corpus)"
   ]
  },
  {
   "cell_type": "code",
   "execution_count": 40,
   "metadata": {
    "id": "jrI1gUIWDlFM"
   },
   "outputs": [],
   "source": [
    "arr=[]\n",
    "arr=[len(x) for x in corpus if len(x)<500]"
   ]
  },
  {
   "cell_type": "code",
   "execution_count": 41,
   "metadata": {
    "colab": {
     "base_uri": "https://localhost:8080/",
     "height": 265
    },
    "id": "4rlCzdbUDrIL",
    "outputId": "67aa0a4e-78b4-49a5-f8af-4a64a4b5037e"
   },
   "outputs": [
    {
     "data": {
      "image/png": "[encoded data removed]",
      "text/plain": [
       "<Figure size 432x288 with 1 Axes>"
      ]
     },
     "metadata": {
      "needs_background": "light",
      "tags": []
     },
     "output_type": "display_data"
    }
   ],
   "source": [
    "plt.hist(arr,bins=100)\n",
    "plt.show()"
   ]
  },
  {
   "cell_type": "code",
   "execution_count": 42,
   "metadata": {
    "id": "b193836d"
   },
   "outputs": [],
   "source": [
    "max_length=100\n",
    "X_train=pad_sequences(X_train,maxlen=max_length,padding='post')"
   ]
  },
  {
   "cell_type": "code",
   "execution_count": 43,
   "metadata": {
    "colab": {
     "base_uri": "https://localhost:8080/"
    },
    "id": "95132ca6",
    "outputId": "1b8969aa-6df9-45ca-939d-925ea4d74905"
   },
   "outputs": [
    {
     "data": {
      "text/plain": [
       "((10750, 100), (10750,))"
      ]
     },
     "execution_count": 43,
     "metadata": {
      "tags": []
     },
     "output_type": "execute_result"
    }
   ],
   "source": [
    "X_train.shape,y_train.shape"
   ]
  },
  {
   "cell_type": "code",
   "execution_count": 44,
   "metadata": {
    "id": "gjsMZBInG-JM"
   },
   "outputs": [],
   "source": [
    "corpus=cleanText(X_test)\n",
    "\n",
    "lst_corpus_test = []\n",
    "for string in corpus:\n",
    "    lst_words = string.split()\n",
    "    lst_grams = [\" \".join(lst_words[i:i+1]) for i in range(0, \n",
    "                 len(lst_words), 1)]\n",
    "    lst_corpus_test.append(lst_grams)\n",
    "\n",
    "X_test = tokenizer.texts_to_sequences(lst_corpus_test)\n",
    "\n",
    "X_test=pad_sequences(X_test,maxlen=max_length,padding='post')"
   ]
  },
  {
   "cell_type": "code",
   "execution_count": 45,
   "metadata": {
    "colab": {
     "base_uri": "https://localhost:8080/"
    },
    "id": "3Aim9Gb1UTvK",
    "outputId": "9c611bfb-66e3-4396-cbb7-6760d01ead51"
   },
   "outputs": [
    {
     "name": "stdout",
     "output_type": "stream",
     "text": [
      "4608\n",
      "10750\n"
     ]
    }
   ],
   "source": [
    "print(len(corpus))\n",
    "print(len(lst_corpus))"
   ]
  },
  {
   "cell_type": "code",
   "execution_count": 46,
   "metadata": {
    "colab": {
     "base_uri": "https://localhost:8080/"
    },
    "id": "6S5M4rARMQS3",
    "outputId": "32b7cfa7-3aac-4816-b001-84cb62466002"
   },
   "outputs": [
    {
     "data": {
      "text/plain": [
       "((4608, 100), (4608,))"
      ]
     },
     "execution_count": 46,
     "metadata": {
      "tags": []
     },
     "output_type": "execute_result"
    }
   ],
   "source": [
    "X_test.shape,y_test.shape"
   ]
  },
  {
   "cell_type": "code",
   "execution_count": 47,
   "metadata": {
    "id": "uyFNKPpHGDX1"
   },
   "outputs": [],
   "source": [
    "def pipeline(X_train, y_train, X_test, y_test,n,flag): \n",
    "   \n",
    "    results = {}\n",
    "    final_results = []\n",
    "    for num in n:  \n",
    "\n",
    "      wv_model = gensim.models.word2vec.Word2Vec(lst_corpus,size=num,window=4,min_count=1,sg=flag,iter=30)\n",
    "\n",
    "      embedding_dim = num\n",
    "      embedding_matrix = np.zeros((len(dic_vocabulary)+1, embedding_dim))\n",
    "      for word, i in tokenizer.word_index.items():\n",
    "        try:\n",
    "            embedding_matrix[i]=wv_model[word]\n",
    "        except:\n",
    "            pass\n",
    "\n",
    "      tensorflow.keras.backend.clear_session()\n",
    "\n",
    "      #LSTM\n",
    "      model=Sequential()\n",
    "\n",
    "      model.add(layers.Embedding(input_dim=embedding_matrix.shape[0],output_dim=embedding_matrix.shape[1],weights=[embedding_matrix],input_length=max_length,trainable=False)) \n",
    "\n",
    "      model.add(layers.LSTM(100,return_sequences=True,dropout=0.2))\n",
    "\n",
    "      model.add(layers.GlobalMaxPooling1D())\n",
    "\n",
    "      model.add(layers.Dense(128,activation='relu')) \n",
    "      model.add(layers.Dense(1,activation='sigmoid')) \n",
    "\n",
    "      model.compile(optimizer='adam', loss='binary_crossentropy', metrics=['accuracy'])\n",
    "\n",
    "      start=time()\n",
    "      model.fit(X_train,y_train,epochs=10)\n",
    "      end=time()\n",
    "      \n",
    "        \n",
    "      results['Algorithm'] = 'embedding'+str(num)\n",
    "\n",
    "      start = time() \n",
    "      predictions_test = model.predict(X_test)\n",
    "      predictions_test=[np.round(i) for i in predictions_test]\n",
    "      end = time()\n",
    "\n",
    "      results['Prediction Time'] = end - start\n",
    "\n",
    "      results['Accuracy'] = accuracy_score(y_test, predictions_test)\n",
    "\n",
    "      results['F1 Score'] = f1_score(y_test, predictions_test)\n",
    "      \n",
    "      results['AUC Score'] = roc_auc_score(y_test, predictions_test)\n",
    "\n",
    "      results['Precision'] = precision_score(y_test, predictions_test)\n",
    "\n",
    "      results['Recall'] = recall_score(y_test, predictions_test)\n",
    "\n",
    "      \n",
    "      final_results.append(results.copy())\n",
    "    return final_results"
   ]
  },
  {
   "cell_type": "code",
   "execution_count": 48,
   "metadata": {
    "id": "V7_SsxBNlp8H"
   },
   "outputs": [],
   "source": [
    "n=[50,100,150,200,250,300,350,400]"
   ]
  },
  {
   "cell_type": "markdown",
   "metadata": {
    "id": "CvWcTG0TlrUN"
   },
   "source": [
    "CBOW"
   ]
  },
  {
   "cell_type": "code",
   "execution_count": 49,
   "metadata": {
    "colab": {
     "base_uri": "https://localhost:8080/"
    },
    "id": "rAP19LRVMCYO",
    "outputId": "ae2559c3-5527-4337-87ad-228bf87d7698"
   },
   "outputs": [
    {
     "name": "stderr",
     "output_type": "stream",
     "text": [
      "/usr/local/lib/python3.7/dist-packages/ipykernel_launcher.py:13: DeprecationWarning: Call to deprecated `__getitem__` (Method will be removed in 4.0.0, use self.wv.__getitem__() instead).\n",
      "  del sys.path[0]\n"
     ]
    },
    {
     "name": "stdout",
     "output_type": "stream",
     "text": [
      "Epoch 1/10\n",
      "336/336 [==============================] - 5s 7ms/step - loss: 0.4210 - accuracy: 0.8248\n",
      "Epoch 2/10\n",
      "336/336 [==============================] - 2s 7ms/step - loss: 0.3709 - accuracy: 0.8458\n",
      "Epoch 3/10\n",
      "336/336 [==============================] - 2s 7ms/step - loss: 0.3329 - accuracy: 0.8661\n",
      "Epoch 4/10\n",
      "336/336 [==============================] - 2s 7ms/step - loss: 0.2946 - accuracy: 0.8795\n",
      "Epoch 5/10\n",
      "336/336 [==============================] - 2s 7ms/step - loss: 0.2715 - accuracy: 0.8909\n",
      "Epoch 6/10\n",
      "336/336 [==============================] - 2s 7ms/step - loss: 0.2407 - accuracy: 0.9049\n",
      "Epoch 7/10\n",
      "336/336 [==============================] - 2s 7ms/step - loss: 0.2201 - accuracy: 0.9141\n",
      "Epoch 8/10\n",
      "336/336 [==============================] - 2s 7ms/step - loss: 0.1976 - accuracy: 0.9256\n",
      "Epoch 9/10\n",
      "336/336 [==============================] - 2s 7ms/step - loss: 0.1800 - accuracy: 0.9310\n",
      "Epoch 10/10\n",
      "336/336 [==============================] - 2s 7ms/step - loss: 0.1593 - accuracy: 0.9401\n"
     ]
    },
    {
     "name": "stderr",
     "output_type": "stream",
     "text": [
      "/usr/local/lib/python3.7/dist-packages/ipykernel_launcher.py:13: DeprecationWarning: Call to deprecated `__getitem__` (Method will be removed in 4.0.0, use self.wv.__getitem__() instead).\n",
      "  del sys.path[0]\n"
     ]
    },
    {
     "name": "stdout",
     "output_type": "stream",
     "text": [
      "Epoch 1/10\n",
      "336/336 [==============================] - 4s 7ms/step - loss: 0.4234 - accuracy: 0.8236\n",
      "Epoch 2/10\n",
      "336/336 [==============================] - 2s 7ms/step - loss: 0.3735 - accuracy: 0.8488\n",
      "Epoch 3/10\n",
      "336/336 [==============================] - 2s 7ms/step - loss: 0.3338 - accuracy: 0.8633\n",
      "Epoch 4/10\n",
      "336/336 [==============================] - 2s 7ms/step - loss: 0.2861 - accuracy: 0.8851\n",
      "Epoch 5/10\n",
      "336/336 [==============================] - 2s 7ms/step - loss: 0.2474 - accuracy: 0.9048\n",
      "Epoch 6/10\n",
      "336/336 [==============================] - 2s 7ms/step - loss: 0.2120 - accuracy: 0.9168\n",
      "Epoch 7/10\n",
      "336/336 [==============================] - 2s 7ms/step - loss: 0.1820 - accuracy: 0.9294\n",
      "Epoch 8/10\n",
      "336/336 [==============================] - 2s 7ms/step - loss: 0.1568 - accuracy: 0.9407\n",
      "Epoch 9/10\n",
      "336/336 [==============================] - 2s 7ms/step - loss: 0.1341 - accuracy: 0.9524\n",
      "Epoch 10/10\n",
      "336/336 [==============================] - 2s 7ms/step - loss: 0.1153 - accuracy: 0.9559\n"
     ]
    },
    {
     "name": "stderr",
     "output_type": "stream",
     "text": [
      "/usr/local/lib/python3.7/dist-packages/ipykernel_launcher.py:13: DeprecationWarning: Call to deprecated `__getitem__` (Method will be removed in 4.0.0, use self.wv.__getitem__() instead).\n",
      "  del sys.path[0]\n"
     ]
    },
    {
     "name": "stdout",
     "output_type": "stream",
     "text": [
      "Epoch 1/10\n",
      "336/336 [==============================] - 4s 8ms/step - loss: 0.4220 - accuracy: 0.8263\n",
      "Epoch 2/10\n",
      "336/336 [==============================] - 2s 7ms/step - loss: 0.3657 - accuracy: 0.8509\n",
      "Epoch 3/10\n",
      "336/336 [==============================] - 2s 7ms/step - loss: 0.3131 - accuracy: 0.8753\n",
      "Epoch 4/10\n",
      "336/336 [==============================] - 2s 7ms/step - loss: 0.2624 - accuracy: 0.8970\n",
      "Epoch 5/10\n",
      "336/336 [==============================] - 2s 7ms/step - loss: 0.2227 - accuracy: 0.9134\n",
      "Epoch 6/10\n",
      "336/336 [==============================] - 2s 7ms/step - loss: 0.1844 - accuracy: 0.9298\n",
      "Epoch 7/10\n",
      "336/336 [==============================] - 2s 7ms/step - loss: 0.1555 - accuracy: 0.9431\n",
      "Epoch 8/10\n",
      "336/336 [==============================] - 2s 7ms/step - loss: 0.1285 - accuracy: 0.9540\n",
      "Epoch 9/10\n",
      "336/336 [==============================] - 2s 7ms/step - loss: 0.1083 - accuracy: 0.9580\n",
      "Epoch 10/10\n",
      "336/336 [==============================] - 2s 7ms/step - loss: 0.0977 - accuracy: 0.9647\n"
     ]
    },
    {
     "name": "stderr",
     "output_type": "stream",
     "text": [
      "/usr/local/lib/python3.7/dist-packages/ipykernel_launcher.py:13: DeprecationWarning: Call to deprecated `__getitem__` (Method will be removed in 4.0.0, use self.wv.__getitem__() instead).\n",
      "  del sys.path[0]\n"
     ]
    },
    {
     "name": "stdout",
     "output_type": "stream",
     "text": [
      "Epoch 1/10\n",
      "336/336 [==============================] - 4s 8ms/step - loss: 0.4262 - accuracy: 0.8223\n",
      "Epoch 2/10\n",
      "336/336 [==============================] - 2s 7ms/step - loss: 0.3832 - accuracy: 0.8429\n",
      "Epoch 3/10\n",
      "336/336 [==============================] - 2s 7ms/step - loss: 0.3456 - accuracy: 0.8614\n",
      "Epoch 4/10\n",
      "336/336 [==============================] - 2s 7ms/step - loss: 0.3091 - accuracy: 0.8762\n",
      "Epoch 5/10\n",
      "336/336 [==============================] - 2s 7ms/step - loss: 0.2707 - accuracy: 0.8925\n",
      "Epoch 6/10\n",
      "336/336 [==============================] - 2s 7ms/step - loss: 0.2405 - accuracy: 0.9085\n",
      "Epoch 7/10\n",
      "336/336 [==============================] - 2s 7ms/step - loss: 0.2061 - accuracy: 0.9221\n",
      "Epoch 8/10\n",
      "336/336 [==============================] - 2s 7ms/step - loss: 0.1814 - accuracy: 0.9325\n",
      "Epoch 9/10\n",
      "336/336 [==============================] - 2s 7ms/step - loss: 0.1557 - accuracy: 0.9421\n",
      "Epoch 10/10\n",
      "336/336 [==============================] - 2s 7ms/step - loss: 0.1475 - accuracy: 0.9440\n"
     ]
    },
    {
     "name": "stderr",
     "output_type": "stream",
     "text": [
      "/usr/local/lib/python3.7/dist-packages/ipykernel_launcher.py:13: DeprecationWarning: Call to deprecated `__getitem__` (Method will be removed in 4.0.0, use self.wv.__getitem__() instead).\n",
      "  del sys.path[0]\n"
     ]
    },
    {
     "name": "stdout",
     "output_type": "stream",
     "text": [
      "Epoch 1/10\n",
      "336/336 [==============================] - 4s 8ms/step - loss: 0.4127 - accuracy: 0.8285\n",
      "Epoch 2/10\n",
      "336/336 [==============================] - 3s 8ms/step - loss: 0.3516 - accuracy: 0.8586\n",
      "Epoch 3/10\n",
      "336/336 [==============================] - 3s 8ms/step - loss: 0.2961 - accuracy: 0.8844\n",
      "Epoch 4/10\n",
      "336/336 [==============================] - 3s 7ms/step - loss: 0.2527 - accuracy: 0.9009\n",
      "Epoch 5/10\n",
      "336/336 [==============================] - 3s 8ms/step - loss: 0.2046 - accuracy: 0.9238\n",
      "Epoch 6/10\n",
      "336/336 [==============================] - 3s 7ms/step - loss: 0.1715 - accuracy: 0.9356\n",
      "Epoch 7/10\n",
      "336/336 [==============================] - 3s 7ms/step - loss: 0.1455 - accuracy: 0.9457\n",
      "Epoch 8/10\n",
      "336/336 [==============================] - 3s 7ms/step - loss: 0.1202 - accuracy: 0.9553\n",
      "Epoch 9/10\n",
      "336/336 [==============================] - 3s 7ms/step - loss: 0.0938 - accuracy: 0.9672\n",
      "Epoch 10/10\n",
      "336/336 [==============================] - 3s 8ms/step - loss: 0.0782 - accuracy: 0.9702\n"
     ]
    },
    {
     "name": "stderr",
     "output_type": "stream",
     "text": [
      "/usr/local/lib/python3.7/dist-packages/ipykernel_launcher.py:13: DeprecationWarning: Call to deprecated `__getitem__` (Method will be removed in 4.0.0, use self.wv.__getitem__() instead).\n",
      "  del sys.path[0]\n"
     ]
    },
    {
     "name": "stdout",
     "output_type": "stream",
     "text": [
      "Epoch 1/10\n",
      "336/336 [==============================] - 4s 8ms/step - loss: 0.4148 - accuracy: 0.8300\n",
      "Epoch 2/10\n",
      "336/336 [==============================] - 3s 8ms/step - loss: 0.3610 - accuracy: 0.8527\n",
      "Epoch 3/10\n",
      "336/336 [==============================] - 3s 8ms/step - loss: 0.3077 - accuracy: 0.8764\n",
      "Epoch 4/10\n",
      "336/336 [==============================] - 3s 8ms/step - loss: 0.2529 - accuracy: 0.9000\n",
      "Epoch 5/10\n",
      "336/336 [==============================] - 3s 8ms/step - loss: 0.2098 - accuracy: 0.9219\n",
      "Epoch 6/10\n",
      "336/336 [==============================] - 3s 8ms/step - loss: 0.1717 - accuracy: 0.9380\n",
      "Epoch 7/10\n",
      "336/336 [==============================] - 3s 8ms/step - loss: 0.1424 - accuracy: 0.9505\n",
      "Epoch 8/10\n",
      "336/336 [==============================] - 3s 8ms/step - loss: 0.1195 - accuracy: 0.9598\n",
      "Epoch 9/10\n",
      "336/336 [==============================] - 3s 8ms/step - loss: 0.0983 - accuracy: 0.9656\n",
      "Epoch 10/10\n",
      "336/336 [==============================] - 3s 8ms/step - loss: 0.0796 - accuracy: 0.9730\n"
     ]
    },
    {
     "name": "stderr",
     "output_type": "stream",
     "text": [
      "/usr/local/lib/python3.7/dist-packages/ipykernel_launcher.py:13: DeprecationWarning: Call to deprecated `__getitem__` (Method will be removed in 4.0.0, use self.wv.__getitem__() instead).\n",
      "  del sys.path[0]\n"
     ]
    },
    {
     "name": "stdout",
     "output_type": "stream",
     "text": [
      "Epoch 1/10\n",
      "336/336 [==============================] - 4s 8ms/step - loss: 0.4165 - accuracy: 0.8284\n",
      "Epoch 2/10\n",
      "336/336 [==============================] - 3s 8ms/step - loss: 0.3557 - accuracy: 0.8537\n",
      "Epoch 3/10\n",
      "336/336 [==============================] - 3s 8ms/step - loss: 0.3029 - accuracy: 0.8765\n",
      "Epoch 4/10\n",
      "336/336 [==============================] - 3s 8ms/step - loss: 0.2513 - accuracy: 0.9019\n",
      "Epoch 5/10\n",
      "336/336 [==============================] - 3s 8ms/step - loss: 0.2071 - accuracy: 0.9195\n",
      "Epoch 6/10\n",
      "336/336 [==============================] - 3s 8ms/step - loss: 0.1708 - accuracy: 0.9367\n",
      "Epoch 7/10\n",
      "336/336 [==============================] - 3s 8ms/step - loss: 0.1373 - accuracy: 0.9495\n",
      "Epoch 8/10\n",
      "336/336 [==============================] - 3s 8ms/step - loss: 0.1160 - accuracy: 0.9573\n",
      "Epoch 9/10\n",
      "336/336 [==============================] - 3s 8ms/step - loss: 0.0941 - accuracy: 0.9662\n",
      "Epoch 10/10\n",
      "336/336 [==============================] - 3s 8ms/step - loss: 0.0786 - accuracy: 0.9727\n"
     ]
    },
    {
     "name": "stderr",
     "output_type": "stream",
     "text": [
      "/usr/local/lib/python3.7/dist-packages/ipykernel_launcher.py:13: DeprecationWarning: Call to deprecated `__getitem__` (Method will be removed in 4.0.0, use self.wv.__getitem__() instead).\n",
      "  del sys.path[0]\n"
     ]
    },
    {
     "name": "stdout",
     "output_type": "stream",
     "text": [
      "Epoch 1/10\n",
      "336/336 [==============================] - 4s 9ms/step - loss: 0.4125 - accuracy: 0.8308\n",
      "Epoch 2/10\n",
      "336/336 [==============================] - 3s 9ms/step - loss: 0.3487 - accuracy: 0.8583\n",
      "Epoch 3/10\n",
      "336/336 [==============================] - 3s 8ms/step - loss: 0.2907 - accuracy: 0.8843\n",
      "Epoch 4/10\n",
      "336/336 [==============================] - 3s 8ms/step - loss: 0.2408 - accuracy: 0.9097\n",
      "Epoch 5/10\n",
      "336/336 [==============================] - 3s 8ms/step - loss: 0.1959 - accuracy: 0.9273\n",
      "Epoch 6/10\n",
      "336/336 [==============================] - 3s 8ms/step - loss: 0.1590 - accuracy: 0.9435\n",
      "Epoch 7/10\n",
      "336/336 [==============================] - 3s 8ms/step - loss: 0.1320 - accuracy: 0.9527\n",
      "Epoch 8/10\n",
      "336/336 [==============================] - 3s 9ms/step - loss: 0.1064 - accuracy: 0.9623\n",
      "Epoch 9/10\n",
      "336/336 [==============================] - 3s 9ms/step - loss: 0.0957 - accuracy: 0.9669\n",
      "Epoch 10/10\n",
      "336/336 [==============================] - 3s 8ms/step - loss: 0.0758 - accuracy: 0.9727\n"
     ]
    }
   ],
   "source": [
    "re = pipeline(X_train, y_train, X_test, y_test,n,0)\n",
    "results = pd.DataFrame(re)\n",
    "results = results.reindex(columns = ['Algorithm', 'Accuracy', 'Precision', 'Recall', 'F1 Score','AUC Score', 'Prediction Time'])"
   ]
  },
  {
   "cell_type": "code",
   "execution_count": 50,
   "metadata": {
    "colab": {
     "base_uri": "https://localhost:8080/",
     "height": 296
    },
    "id": "11F8ZNzlwVYC",
    "outputId": "b6667d2b-13de-4d9b-b43a-d094b8f6de64"
   },
   "outputs": [
    {
     "data": {
      "text/html": [
       "<div>\n",
       "<style scoped>\n",
       "    .dataframe tbody tr th:only-of-type {\n",
       "        vertical-align: middle;\n",
       "    }\n",
       "\n",
       "    .dataframe tbody tr th {\n",
       "        vertical-align: top;\n",
       "    }\n",
       "\n",
       "    .dataframe thead th {\n",
       "        text-align: right;\n",
       "    }\n",
       "</style>\n",
       "<table border=\"1\" class=\"dataframe\">\n",
       "  <thead>\n",
       "    <tr style=\"text-align: right;\">\n",
       "      <th></th>\n",
       "      <th>Algorithm</th>\n",
       "      <th>Accuracy</th>\n",
       "      <th>Precision</th>\n",
       "      <th>Recall</th>\n",
       "      <th>F1 Score</th>\n",
       "      <th>AUC Score</th>\n",
       "      <th>Prediction Time</th>\n",
       "    </tr>\n",
       "  </thead>\n",
       "  <tbody>\n",
       "    <tr>\n",
       "      <th>0</th>\n",
       "      <td>embedding50</td>\n",
       "      <td>0.912543</td>\n",
       "      <td>0.836714</td>\n",
       "      <td>0.773196</td>\n",
       "      <td>0.803702</td>\n",
       "      <td>0.863864</td>\n",
       "      <td>0.691238</td>\n",
       "    </tr>\n",
       "    <tr>\n",
       "      <th>1</th>\n",
       "      <td>embedding100</td>\n",
       "      <td>0.892144</td>\n",
       "      <td>0.711111</td>\n",
       "      <td>0.899719</td>\n",
       "      <td>0.794373</td>\n",
       "      <td>0.894790</td>\n",
       "      <td>0.737169</td>\n",
       "    </tr>\n",
       "    <tr>\n",
       "      <th>2</th>\n",
       "      <td>embedding150</td>\n",
       "      <td>0.931424</td>\n",
       "      <td>0.838593</td>\n",
       "      <td>0.871603</td>\n",
       "      <td>0.854779</td>\n",
       "      <td>0.910526</td>\n",
       "      <td>0.742313</td>\n",
       "    </tr>\n",
       "    <tr>\n",
       "      <th>3</th>\n",
       "      <td>embedding200</td>\n",
       "      <td>0.907118</td>\n",
       "      <td>0.819820</td>\n",
       "      <td>0.767573</td>\n",
       "      <td>0.792836</td>\n",
       "      <td>0.858370</td>\n",
       "      <td>0.744120</td>\n",
       "    </tr>\n",
       "    <tr>\n",
       "      <th>4</th>\n",
       "      <td>embedding250</td>\n",
       "      <td>0.941189</td>\n",
       "      <td>0.880497</td>\n",
       "      <td>0.863168</td>\n",
       "      <td>0.871746</td>\n",
       "      <td>0.913933</td>\n",
       "      <td>0.758734</td>\n",
       "    </tr>\n",
       "    <tr>\n",
       "      <th>5</th>\n",
       "      <td>embedding300</td>\n",
       "      <td>0.927951</td>\n",
       "      <td>0.836847</td>\n",
       "      <td>0.855670</td>\n",
       "      <td>0.846154</td>\n",
       "      <td>0.902701</td>\n",
       "      <td>0.846453</td>\n",
       "    </tr>\n",
       "    <tr>\n",
       "      <th>6</th>\n",
       "      <td>embedding350</td>\n",
       "      <td>0.914497</td>\n",
       "      <td>0.776500</td>\n",
       "      <td>0.885661</td>\n",
       "      <td>0.827496</td>\n",
       "      <td>0.904423</td>\n",
       "      <td>0.883151</td>\n",
       "    </tr>\n",
       "    <tr>\n",
       "      <th>7</th>\n",
       "      <td>embedding400</td>\n",
       "      <td>0.869575</td>\n",
       "      <td>0.650517</td>\n",
       "      <td>0.943768</td>\n",
       "      <td>0.770172</td>\n",
       "      <td>0.895493</td>\n",
       "      <td>0.872190</td>\n",
       "    </tr>\n",
       "  </tbody>\n",
       "</table>\n",
       "</div>"
      ],
      "text/plain": [
       "      Algorithm  Accuracy  Precision  ...  F1 Score  AUC Score  Prediction Time\n",
       "0   embedding50  0.912543   0.836714  ...  0.803702   0.863864         0.691238\n",
       "1  embedding100  0.892144   0.711111  ...  0.794373   0.894790         0.737169\n",
       "2  embedding150  0.931424   0.838593  ...  0.854779   0.910526         0.742313\n",
       "3  embedding200  0.907118   0.819820  ...  0.792836   0.858370         0.744120\n",
       "4  embedding250  0.941189   0.880497  ...  0.871746   0.913933         0.758734\n",
       "5  embedding300  0.927951   0.836847  ...  0.846154   0.902701         0.846453\n",
       "6  embedding350  0.914497   0.776500  ...  0.827496   0.904423         0.883151\n",
       "7  embedding400  0.869575   0.650517  ...  0.770172   0.895493         0.872190\n",
       "\n",
       "[8 rows x 7 columns]"
      ]
     },
     "execution_count": 50,
     "metadata": {
      "tags": []
     },
     "output_type": "execute_result"
    }
   ],
   "source": [
    "results"
   ]
  },
  {
   "cell_type": "code",
   "execution_count": 51,
   "metadata": {
    "id": "scsssMTcwdJN"
   },
   "outputs": [],
   "source": [
    "y1=results['AUC Score']"
   ]
  },
  {
   "cell_type": "code",
   "execution_count": 52,
   "metadata": {
    "colab": {
     "base_uri": "https://localhost:8080/",
     "height": 296
    },
    "id": "twTKYt-AMP2N",
    "outputId": "fd3bd99d-66bc-4d3f-8dcc-1219b60569bf"
   },
   "outputs": [
    {
     "data": {
      "text/html": [
       "<div>\n",
       "<style scoped>\n",
       "    .dataframe tbody tr th:only-of-type {\n",
       "        vertical-align: middle;\n",
       "    }\n",
       "\n",
       "    .dataframe tbody tr th {\n",
       "        vertical-align: top;\n",
       "    }\n",
       "\n",
       "    .dataframe thead th {\n",
       "        text-align: right;\n",
       "    }\n",
       "</style>\n",
       "<table border=\"1\" class=\"dataframe\">\n",
       "  <thead>\n",
       "    <tr style=\"text-align: right;\">\n",
       "      <th></th>\n",
       "      <th>Algorithm</th>\n",
       "      <th>Accuracy</th>\n",
       "      <th>Precision</th>\n",
       "      <th>Recall</th>\n",
       "      <th>F1 Score</th>\n",
       "      <th>AUC Score</th>\n",
       "      <th>Prediction Time</th>\n",
       "    </tr>\n",
       "  </thead>\n",
       "  <tbody>\n",
       "    <tr>\n",
       "      <th>0</th>\n",
       "      <td>embedding250</td>\n",
       "      <td>0.941189</td>\n",
       "      <td>0.880497</td>\n",
       "      <td>0.863168</td>\n",
       "      <td>0.871746</td>\n",
       "      <td>0.913933</td>\n",
       "      <td>0.758734</td>\n",
       "    </tr>\n",
       "    <tr>\n",
       "      <th>1</th>\n",
       "      <td>embedding150</td>\n",
       "      <td>0.931424</td>\n",
       "      <td>0.838593</td>\n",
       "      <td>0.871603</td>\n",
       "      <td>0.854779</td>\n",
       "      <td>0.910526</td>\n",
       "      <td>0.742313</td>\n",
       "    </tr>\n",
       "    <tr>\n",
       "      <th>2</th>\n",
       "      <td>embedding350</td>\n",
       "      <td>0.914497</td>\n",
       "      <td>0.776500</td>\n",
       "      <td>0.885661</td>\n",
       "      <td>0.827496</td>\n",
       "      <td>0.904423</td>\n",
       "      <td>0.883151</td>\n",
       "    </tr>\n",
       "    <tr>\n",
       "      <th>3</th>\n",
       "      <td>embedding300</td>\n",
       "      <td>0.927951</td>\n",
       "      <td>0.836847</td>\n",
       "      <td>0.855670</td>\n",
       "      <td>0.846154</td>\n",
       "      <td>0.902701</td>\n",
       "      <td>0.846453</td>\n",
       "    </tr>\n",
       "    <tr>\n",
       "      <th>4</th>\n",
       "      <td>embedding400</td>\n",
       "      <td>0.869575</td>\n",
       "      <td>0.650517</td>\n",
       "      <td>0.943768</td>\n",
       "      <td>0.770172</td>\n",
       "      <td>0.895493</td>\n",
       "      <td>0.872190</td>\n",
       "    </tr>\n",
       "    <tr>\n",
       "      <th>5</th>\n",
       "      <td>embedding100</td>\n",
       "      <td>0.892144</td>\n",
       "      <td>0.711111</td>\n",
       "      <td>0.899719</td>\n",
       "      <td>0.794373</td>\n",
       "      <td>0.894790</td>\n",
       "      <td>0.737169</td>\n",
       "    </tr>\n",
       "    <tr>\n",
       "      <th>6</th>\n",
       "      <td>embedding50</td>\n",
       "      <td>0.912543</td>\n",
       "      <td>0.836714</td>\n",
       "      <td>0.773196</td>\n",
       "      <td>0.803702</td>\n",
       "      <td>0.863864</td>\n",
       "      <td>0.691238</td>\n",
       "    </tr>\n",
       "    <tr>\n",
       "      <th>7</th>\n",
       "      <td>embedding200</td>\n",
       "      <td>0.907118</td>\n",
       "      <td>0.819820</td>\n",
       "      <td>0.767573</td>\n",
       "      <td>0.792836</td>\n",
       "      <td>0.858370</td>\n",
       "      <td>0.744120</td>\n",
       "    </tr>\n",
       "  </tbody>\n",
       "</table>\n",
       "</div>"
      ],
      "text/plain": [
       "      Algorithm  Accuracy  Precision  ...  F1 Score  AUC Score  Prediction Time\n",
       "0  embedding250  0.941189   0.880497  ...  0.871746   0.913933         0.758734\n",
       "1  embedding150  0.931424   0.838593  ...  0.854779   0.910526         0.742313\n",
       "2  embedding350  0.914497   0.776500  ...  0.827496   0.904423         0.883151\n",
       "3  embedding300  0.927951   0.836847  ...  0.846154   0.902701         0.846453\n",
       "4  embedding400  0.869575   0.650517  ...  0.770172   0.895493         0.872190\n",
       "5  embedding100  0.892144   0.711111  ...  0.794373   0.894790         0.737169\n",
       "6   embedding50  0.912543   0.836714  ...  0.803702   0.863864         0.691238\n",
       "7  embedding200  0.907118   0.819820  ...  0.792836   0.858370         0.744120\n",
       "\n",
       "[8 rows x 7 columns]"
      ]
     },
     "execution_count": 52,
     "metadata": {
      "tags": []
     },
     "output_type": "execute_result"
    }
   ],
   "source": [
    "results.sort_values(by = 'AUC Score', inplace = True, ascending = False)\n",
    "results.reset_index(drop = True)"
   ]
  },
  {
   "cell_type": "markdown",
   "metadata": {
    "id": "zFEgZzYznJwT"
   },
   "source": [
    "SKIP GRAM"
   ]
  },
  {
   "cell_type": "code",
   "execution_count": 53,
   "metadata": {
    "colab": {
     "base_uri": "https://localhost:8080/"
    },
    "id": "j2HUW8VLnIXt",
    "outputId": "4d585406-1350-4849-8bbc-e4a5142811c7"
   },
   "outputs": [
    {
     "name": "stderr",
     "output_type": "stream",
     "text": [
      "/usr/local/lib/python3.7/dist-packages/ipykernel_launcher.py:13: DeprecationWarning: Call to deprecated `__getitem__` (Method will be removed in 4.0.0, use self.wv.__getitem__() instead).\n",
      "  del sys.path[0]\n"
     ]
    },
    {
     "name": "stdout",
     "output_type": "stream",
     "text": [
      "Epoch 1/10\n",
      "336/336 [==============================] - 4s 7ms/step - loss: 0.4158 - accuracy: 0.8281\n",
      "Epoch 2/10\n",
      "336/336 [==============================] - 2s 7ms/step - loss: 0.3416 - accuracy: 0.8633\n",
      "Epoch 3/10\n",
      "336/336 [==============================] - 2s 7ms/step - loss: 0.2925 - accuracy: 0.8847\n",
      "Epoch 4/10\n",
      "336/336 [==============================] - 2s 7ms/step - loss: 0.2576 - accuracy: 0.9003\n",
      "Epoch 5/10\n",
      "336/336 [==============================] - 2s 7ms/step - loss: 0.2293 - accuracy: 0.9115\n",
      "Epoch 6/10\n",
      "336/336 [==============================] - 2s 7ms/step - loss: 0.2092 - accuracy: 0.9198\n",
      "Epoch 7/10\n",
      "336/336 [==============================] - 2s 7ms/step - loss: 0.1811 - accuracy: 0.9305\n",
      "Epoch 8/10\n",
      "336/336 [==============================] - 2s 7ms/step - loss: 0.1728 - accuracy: 0.9360\n",
      "Epoch 9/10\n",
      "336/336 [==============================] - 2s 7ms/step - loss: 0.1525 - accuracy: 0.9418\n",
      "Epoch 10/10\n",
      "336/336 [==============================] - 2s 7ms/step - loss: 0.1440 - accuracy: 0.9475\n"
     ]
    },
    {
     "name": "stderr",
     "output_type": "stream",
     "text": [
      "/usr/local/lib/python3.7/dist-packages/ipykernel_launcher.py:13: DeprecationWarning: Call to deprecated `__getitem__` (Method will be removed in 4.0.0, use self.wv.__getitem__() instead).\n",
      "  del sys.path[0]\n"
     ]
    },
    {
     "name": "stdout",
     "output_type": "stream",
     "text": [
      "Epoch 1/10\n",
      "336/336 [==============================] - 4s 8ms/step - loss: 0.4202 - accuracy: 0.8254\n",
      "Epoch 2/10\n",
      "336/336 [==============================] - 2s 7ms/step - loss: 0.3473 - accuracy: 0.8610\n",
      "Epoch 3/10\n",
      "336/336 [==============================] - 2s 7ms/step - loss: 0.2961 - accuracy: 0.8828\n",
      "Epoch 4/10\n",
      "336/336 [==============================] - 2s 7ms/step - loss: 0.2479 - accuracy: 0.9034\n",
      "Epoch 5/10\n",
      "336/336 [==============================] - 2s 7ms/step - loss: 0.2098 - accuracy: 0.9209\n",
      "Epoch 6/10\n",
      "336/336 [==============================] - 2s 7ms/step - loss: 0.1838 - accuracy: 0.9308\n",
      "Epoch 7/10\n",
      "336/336 [==============================] - 2s 7ms/step - loss: 0.1505 - accuracy: 0.9437\n",
      "Epoch 8/10\n",
      "336/336 [==============================] - 2s 7ms/step - loss: 0.1314 - accuracy: 0.9533\n",
      "Epoch 9/10\n",
      "336/336 [==============================] - 2s 7ms/step - loss: 0.1086 - accuracy: 0.9629\n",
      "Epoch 10/10\n",
      "336/336 [==============================] - 2s 7ms/step - loss: 0.1020 - accuracy: 0.9630\n"
     ]
    },
    {
     "name": "stderr",
     "output_type": "stream",
     "text": [
      "/usr/local/lib/python3.7/dist-packages/ipykernel_launcher.py:13: DeprecationWarning: Call to deprecated `__getitem__` (Method will be removed in 4.0.0, use self.wv.__getitem__() instead).\n",
      "  del sys.path[0]\n"
     ]
    },
    {
     "name": "stdout",
     "output_type": "stream",
     "text": [
      "Epoch 1/10\n",
      "336/336 [==============================] - 4s 8ms/step - loss: 0.4078 - accuracy: 0.8307\n",
      "Epoch 2/10\n",
      "336/336 [==============================] - 3s 8ms/step - loss: 0.3326 - accuracy: 0.8640\n",
      "Epoch 3/10\n",
      "336/336 [==============================] - 2s 7ms/step - loss: 0.2717 - accuracy: 0.8911\n",
      "Epoch 4/10\n",
      "336/336 [==============================] - 2s 7ms/step - loss: 0.2251 - accuracy: 0.9161\n",
      "Epoch 5/10\n",
      "336/336 [==============================] - 2s 7ms/step - loss: 0.1855 - accuracy: 0.9308\n",
      "Epoch 6/10\n",
      "336/336 [==============================] - 2s 7ms/step - loss: 0.1484 - accuracy: 0.9445\n",
      "Epoch 7/10\n",
      "336/336 [==============================] - 2s 7ms/step - loss: 0.1263 - accuracy: 0.9563\n",
      "Epoch 8/10\n",
      "336/336 [==============================] - 2s 7ms/step - loss: 0.1028 - accuracy: 0.9627\n",
      "Epoch 9/10\n",
      "336/336 [==============================] - 2s 7ms/step - loss: 0.0918 - accuracy: 0.9656\n",
      "Epoch 10/10\n",
      "336/336 [==============================] - 2s 7ms/step - loss: 0.0794 - accuracy: 0.9714\n"
     ]
    },
    {
     "name": "stderr",
     "output_type": "stream",
     "text": [
      "/usr/local/lib/python3.7/dist-packages/ipykernel_launcher.py:13: DeprecationWarning: Call to deprecated `__getitem__` (Method will be removed in 4.0.0, use self.wv.__getitem__() instead).\n",
      "  del sys.path[0]\n"
     ]
    },
    {
     "name": "stdout",
     "output_type": "stream",
     "text": [
      "Epoch 1/10\n",
      "336/336 [==============================] - 4s 8ms/step - loss: 0.4089 - accuracy: 0.8346\n",
      "Epoch 2/10\n",
      "336/336 [==============================] - 2s 7ms/step - loss: 0.3353 - accuracy: 0.8647\n",
      "Epoch 3/10\n",
      "336/336 [==============================] - 2s 7ms/step - loss: 0.2714 - accuracy: 0.8905\n",
      "Epoch 4/10\n",
      "336/336 [==============================] - 3s 8ms/step - loss: 0.2159 - accuracy: 0.9155\n",
      "Epoch 5/10\n",
      "336/336 [==============================] - 2s 7ms/step - loss: 0.1732 - accuracy: 0.9361\n",
      "Epoch 6/10\n",
      "336/336 [==============================] - 2s 7ms/step - loss: 0.1369 - accuracy: 0.9506\n",
      "Epoch 7/10\n",
      "336/336 [==============================] - 3s 8ms/step - loss: 0.1063 - accuracy: 0.9628\n",
      "Epoch 8/10\n",
      "336/336 [==============================] - 3s 8ms/step - loss: 0.0913 - accuracy: 0.9667\n",
      "Epoch 9/10\n",
      "336/336 [==============================] - 3s 7ms/step - loss: 0.0698 - accuracy: 0.9753\n",
      "Epoch 10/10\n",
      "336/336 [==============================] - 2s 7ms/step - loss: 0.0617 - accuracy: 0.9788\n"
     ]
    },
    {
     "name": "stderr",
     "output_type": "stream",
     "text": [
      "/usr/local/lib/python3.7/dist-packages/ipykernel_launcher.py:13: DeprecationWarning: Call to deprecated `__getitem__` (Method will be removed in 4.0.0, use self.wv.__getitem__() instead).\n",
      "  del sys.path[0]\n"
     ]
    },
    {
     "name": "stdout",
     "output_type": "stream",
     "text": [
      "Epoch 1/10\n",
      "336/336 [==============================] - 4s 8ms/step - loss: 0.4060 - accuracy: 0.8324\n",
      "Epoch 2/10\n",
      "336/336 [==============================] - 3s 8ms/step - loss: 0.3309 - accuracy: 0.8654\n",
      "Epoch 3/10\n",
      "336/336 [==============================] - 3s 8ms/step - loss: 0.2682 - accuracy: 0.8923\n",
      "Epoch 4/10\n",
      "336/336 [==============================] - 3s 8ms/step - loss: 0.2148 - accuracy: 0.9179\n",
      "Epoch 5/10\n",
      "336/336 [==============================] - 3s 8ms/step - loss: 0.1682 - accuracy: 0.9378\n",
      "Epoch 6/10\n",
      "336/336 [==============================] - 3s 8ms/step - loss: 0.1354 - accuracy: 0.9513\n",
      "Epoch 7/10\n",
      "336/336 [==============================] - 3s 8ms/step - loss: 0.1037 - accuracy: 0.9628\n",
      "Epoch 8/10\n",
      "336/336 [==============================] - 3s 8ms/step - loss: 0.0846 - accuracy: 0.9702\n",
      "Epoch 9/10\n",
      "336/336 [==============================] - 2s 7ms/step - loss: 0.0740 - accuracy: 0.9733\n",
      "Epoch 10/10\n",
      "336/336 [==============================] - 3s 8ms/step - loss: 0.0629 - accuracy: 0.9765\n"
     ]
    },
    {
     "name": "stderr",
     "output_type": "stream",
     "text": [
      "/usr/local/lib/python3.7/dist-packages/ipykernel_launcher.py:13: DeprecationWarning: Call to deprecated `__getitem__` (Method will be removed in 4.0.0, use self.wv.__getitem__() instead).\n",
      "  del sys.path[0]\n"
     ]
    },
    {
     "name": "stdout",
     "output_type": "stream",
     "text": [
      "Epoch 1/10\n",
      "336/336 [==============================] - 4s 8ms/step - loss: 0.4006 - accuracy: 0.8357\n",
      "Epoch 2/10\n",
      "336/336 [==============================] - 3s 8ms/step - loss: 0.3272 - accuracy: 0.8673\n",
      "Epoch 3/10\n",
      "336/336 [==============================] - 3s 8ms/step - loss: 0.2663 - accuracy: 0.8943\n",
      "Epoch 4/10\n",
      "336/336 [==============================] - 3s 8ms/step - loss: 0.2023 - accuracy: 0.9224\n",
      "Epoch 5/10\n",
      "336/336 [==============================] - 3s 8ms/step - loss: 0.1681 - accuracy: 0.9390\n",
      "Epoch 6/10\n",
      "336/336 [==============================] - 3s 8ms/step - loss: 0.1263 - accuracy: 0.9534\n",
      "Epoch 7/10\n",
      "336/336 [==============================] - 3s 8ms/step - loss: 0.1033 - accuracy: 0.9634\n",
      "Epoch 8/10\n",
      "336/336 [==============================] - 3s 8ms/step - loss: 0.0815 - accuracy: 0.9708\n",
      "Epoch 9/10\n",
      "336/336 [==============================] - 3s 8ms/step - loss: 0.0621 - accuracy: 0.9773\n",
      "Epoch 10/10\n",
      "336/336 [==============================] - 3s 8ms/step - loss: 0.0551 - accuracy: 0.9797\n"
     ]
    },
    {
     "name": "stderr",
     "output_type": "stream",
     "text": [
      "/usr/local/lib/python3.7/dist-packages/ipykernel_launcher.py:13: DeprecationWarning: Call to deprecated `__getitem__` (Method will be removed in 4.0.0, use self.wv.__getitem__() instead).\n",
      "  del sys.path[0]\n"
     ]
    },
    {
     "name": "stdout",
     "output_type": "stream",
     "text": [
      "Epoch 1/10\n",
      "336/336 [==============================] - 4s 8ms/step - loss: 0.3999 - accuracy: 0.8343\n",
      "Epoch 2/10\n",
      "336/336 [==============================] - 3s 8ms/step - loss: 0.3227 - accuracy: 0.8703\n",
      "Epoch 3/10\n",
      "336/336 [==============================] - 3s 8ms/step - loss: 0.2570 - accuracy: 0.8999\n",
      "Epoch 4/10\n",
      "336/336 [==============================] - 3s 8ms/step - loss: 0.1989 - accuracy: 0.9249\n",
      "Epoch 5/10\n",
      "336/336 [==============================] - 3s 8ms/step - loss: 0.1505 - accuracy: 0.9470\n",
      "Epoch 6/10\n",
      "336/336 [==============================] - 3s 8ms/step - loss: 0.1118 - accuracy: 0.9613\n",
      "Epoch 7/10\n",
      "336/336 [==============================] - 3s 8ms/step - loss: 0.0881 - accuracy: 0.9702\n",
      "Epoch 8/10\n",
      "336/336 [==============================] - 3s 8ms/step - loss: 0.0717 - accuracy: 0.9743\n",
      "Epoch 9/10\n",
      "336/336 [==============================] - 3s 8ms/step - loss: 0.0487 - accuracy: 0.9831\n",
      "Epoch 10/10\n",
      "336/336 [==============================] - 3s 8ms/step - loss: 0.0466 - accuracy: 0.9823\n"
     ]
    },
    {
     "name": "stderr",
     "output_type": "stream",
     "text": [
      "/usr/local/lib/python3.7/dist-packages/ipykernel_launcher.py:13: DeprecationWarning: Call to deprecated `__getitem__` (Method will be removed in 4.0.0, use self.wv.__getitem__() instead).\n",
      "  del sys.path[0]\n"
     ]
    },
    {
     "name": "stdout",
     "output_type": "stream",
     "text": [
      "Epoch 1/10\n",
      "336/336 [==============================] - 4s 9ms/step - loss: 0.4098 - accuracy: 0.8283\n",
      "Epoch 2/10\n",
      "336/336 [==============================] - 3s 8ms/step - loss: 0.3431 - accuracy: 0.8593\n",
      "Epoch 3/10\n",
      "336/336 [==============================] - 3s 8ms/step - loss: 0.2923 - accuracy: 0.8812\n",
      "Epoch 4/10\n",
      "336/336 [==============================] - 3s 8ms/step - loss: 0.2375 - accuracy: 0.9043\n",
      "Epoch 5/10\n",
      "336/336 [==============================] - 3s 8ms/step - loss: 0.1949 - accuracy: 0.9226\n",
      "Epoch 6/10\n",
      "336/336 [==============================] - 3s 8ms/step - loss: 0.1584 - accuracy: 0.9398\n",
      "Epoch 7/10\n",
      "336/336 [==============================] - 3s 8ms/step - loss: 0.1291 - accuracy: 0.9538\n",
      "Epoch 8/10\n",
      "336/336 [==============================] - 3s 8ms/step - loss: 0.1020 - accuracy: 0.9656\n",
      "Epoch 9/10\n",
      "336/336 [==============================] - 3s 8ms/step - loss: 0.0846 - accuracy: 0.9707\n",
      "Epoch 10/10\n",
      "336/336 [==============================] - 3s 8ms/step - loss: 0.0688 - accuracy: 0.9750\n"
     ]
    }
   ],
   "source": [
    "re = pipeline(X_train, y_train, X_test, y_test,n,1)\n",
    "results = pd.DataFrame(re)\n",
    "results = results.reindex(columns = ['Algorithm', 'Accuracy', 'Precision', 'Recall', 'F1 Score','AUC Score', 'Prediction Time'])"
   ]
  },
  {
   "cell_type": "code",
   "execution_count": 54,
   "metadata": {
    "colab": {
     "base_uri": "https://localhost:8080/",
     "height": 296
    },
    "id": "lCxzwSIowZI0",
    "outputId": "ee8bed95-6e8e-4eff-d8aa-e437af8555d2"
   },
   "outputs": [
    {
     "data": {
      "text/html": [
       "<div>\n",
       "<style scoped>\n",
       "    .dataframe tbody tr th:only-of-type {\n",
       "        vertical-align: middle;\n",
       "    }\n",
       "\n",
       "    .dataframe tbody tr th {\n",
       "        vertical-align: top;\n",
       "    }\n",
       "\n",
       "    .dataframe thead th {\n",
       "        text-align: right;\n",
       "    }\n",
       "</style>\n",
       "<table border=\"1\" class=\"dataframe\">\n",
       "  <thead>\n",
       "    <tr style=\"text-align: right;\">\n",
       "      <th></th>\n",
       "      <th>Algorithm</th>\n",
       "      <th>Accuracy</th>\n",
       "      <th>Precision</th>\n",
       "      <th>Recall</th>\n",
       "      <th>F1 Score</th>\n",
       "      <th>AUC Score</th>\n",
       "      <th>Prediction Time</th>\n",
       "    </tr>\n",
       "  </thead>\n",
       "  <tbody>\n",
       "    <tr>\n",
       "      <th>0</th>\n",
       "      <td>embedding50</td>\n",
       "      <td>0.927300</td>\n",
       "      <td>0.854651</td>\n",
       "      <td>0.826617</td>\n",
       "      <td>0.840400</td>\n",
       "      <td>0.892128</td>\n",
       "      <td>0.679365</td>\n",
       "    </tr>\n",
       "    <tr>\n",
       "      <th>1</th>\n",
       "      <td>embedding100</td>\n",
       "      <td>0.936415</td>\n",
       "      <td>0.926211</td>\n",
       "      <td>0.788191</td>\n",
       "      <td>0.851646</td>\n",
       "      <td>0.884635</td>\n",
       "      <td>0.756474</td>\n",
       "    </tr>\n",
       "    <tr>\n",
       "      <th>2</th>\n",
       "      <td>embedding150</td>\n",
       "      <td>0.947266</td>\n",
       "      <td>0.912826</td>\n",
       "      <td>0.853796</td>\n",
       "      <td>0.882324</td>\n",
       "      <td>0.914613</td>\n",
       "      <td>0.760445</td>\n",
       "    </tr>\n",
       "    <tr>\n",
       "      <th>3</th>\n",
       "      <td>embedding200</td>\n",
       "      <td>0.927951</td>\n",
       "      <td>0.794707</td>\n",
       "      <td>0.928772</td>\n",
       "      <td>0.856525</td>\n",
       "      <td>0.928238</td>\n",
       "      <td>0.811705</td>\n",
       "    </tr>\n",
       "    <tr>\n",
       "      <th>4</th>\n",
       "      <td>embedding250</td>\n",
       "      <td>0.946615</td>\n",
       "      <td>0.936238</td>\n",
       "      <td>0.825679</td>\n",
       "      <td>0.877490</td>\n",
       "      <td>0.904368</td>\n",
       "      <td>0.810684</td>\n",
       "    </tr>\n",
       "    <tr>\n",
       "      <th>5</th>\n",
       "      <td>embedding300</td>\n",
       "      <td>0.955946</td>\n",
       "      <td>0.932000</td>\n",
       "      <td>0.873477</td>\n",
       "      <td>0.901790</td>\n",
       "      <td>0.927137</td>\n",
       "      <td>0.782796</td>\n",
       "    </tr>\n",
       "    <tr>\n",
       "      <th>6</th>\n",
       "      <td>embedding350</td>\n",
       "      <td>0.953559</td>\n",
       "      <td>0.890210</td>\n",
       "      <td>0.911903</td>\n",
       "      <td>0.900926</td>\n",
       "      <td>0.939007</td>\n",
       "      <td>0.800762</td>\n",
       "    </tr>\n",
       "    <tr>\n",
       "      <th>7</th>\n",
       "      <td>embedding400</td>\n",
       "      <td>0.944227</td>\n",
       "      <td>0.859680</td>\n",
       "      <td>0.907216</td>\n",
       "      <td>0.882809</td>\n",
       "      <td>0.931298</td>\n",
       "      <td>0.887868</td>\n",
       "    </tr>\n",
       "  </tbody>\n",
       "</table>\n",
       "</div>"
      ],
      "text/plain": [
       "      Algorithm  Accuracy  Precision  ...  F1 Score  AUC Score  Prediction Time\n",
       "0   embedding50  0.927300   0.854651  ...  0.840400   0.892128         0.679365\n",
       "1  embedding100  0.936415   0.926211  ...  0.851646   0.884635         0.756474\n",
       "2  embedding150  0.947266   0.912826  ...  0.882324   0.914613         0.760445\n",
       "3  embedding200  0.927951   0.794707  ...  0.856525   0.928238         0.811705\n",
       "4  embedding250  0.946615   0.936238  ...  0.877490   0.904368         0.810684\n",
       "5  embedding300  0.955946   0.932000  ...  0.901790   0.927137         0.782796\n",
       "6  embedding350  0.953559   0.890210  ...  0.900926   0.939007         0.800762\n",
       "7  embedding400  0.944227   0.859680  ...  0.882809   0.931298         0.887868\n",
       "\n",
       "[8 rows x 7 columns]"
      ]
     },
     "execution_count": 54,
     "metadata": {
      "tags": []
     },
     "output_type": "execute_result"
    }
   ],
   "source": [
    "results"
   ]
  },
  {
   "cell_type": "code",
   "execution_count": 55,
   "metadata": {
    "id": "aJP8HDk3wlvi"
   },
   "outputs": [],
   "source": [
    "y2=results['AUC Score']"
   ]
  },
  {
   "cell_type": "code",
   "execution_count": 56,
   "metadata": {
    "colab": {
     "base_uri": "https://localhost:8080/",
     "height": 296
    },
    "id": "iWcdrLi0wZI1",
    "outputId": "94999d2f-1be7-4d9e-8966-22479cf0b04b"
   },
   "outputs": [
    {
     "data": {
      "text/html": [
       "<div>\n",
       "<style scoped>\n",
       "    .dataframe tbody tr th:only-of-type {\n",
       "        vertical-align: middle;\n",
       "    }\n",
       "\n",
       "    .dataframe tbody tr th {\n",
       "        vertical-align: top;\n",
       "    }\n",
       "\n",
       "    .dataframe thead th {\n",
       "        text-align: right;\n",
       "    }\n",
       "</style>\n",
       "<table border=\"1\" class=\"dataframe\">\n",
       "  <thead>\n",
       "    <tr style=\"text-align: right;\">\n",
       "      <th></th>\n",
       "      <th>Algorithm</th>\n",
       "      <th>Accuracy</th>\n",
       "      <th>Precision</th>\n",
       "      <th>Recall</th>\n",
       "      <th>F1 Score</th>\n",
       "      <th>AUC Score</th>\n",
       "      <th>Prediction Time</th>\n",
       "    </tr>\n",
       "  </thead>\n",
       "  <tbody>\n",
       "    <tr>\n",
       "      <th>0</th>\n",
       "      <td>embedding350</td>\n",
       "      <td>0.953559</td>\n",
       "      <td>0.890210</td>\n",
       "      <td>0.911903</td>\n",
       "      <td>0.900926</td>\n",
       "      <td>0.939007</td>\n",
       "      <td>0.800762</td>\n",
       "    </tr>\n",
       "    <tr>\n",
       "      <th>1</th>\n",
       "      <td>embedding400</td>\n",
       "      <td>0.944227</td>\n",
       "      <td>0.859680</td>\n",
       "      <td>0.907216</td>\n",
       "      <td>0.882809</td>\n",
       "      <td>0.931298</td>\n",
       "      <td>0.887868</td>\n",
       "    </tr>\n",
       "    <tr>\n",
       "      <th>2</th>\n",
       "      <td>embedding200</td>\n",
       "      <td>0.927951</td>\n",
       "      <td>0.794707</td>\n",
       "      <td>0.928772</td>\n",
       "      <td>0.856525</td>\n",
       "      <td>0.928238</td>\n",
       "      <td>0.811705</td>\n",
       "    </tr>\n",
       "    <tr>\n",
       "      <th>3</th>\n",
       "      <td>embedding300</td>\n",
       "      <td>0.955946</td>\n",
       "      <td>0.932000</td>\n",
       "      <td>0.873477</td>\n",
       "      <td>0.901790</td>\n",
       "      <td>0.927137</td>\n",
       "      <td>0.782796</td>\n",
       "    </tr>\n",
       "    <tr>\n",
       "      <th>4</th>\n",
       "      <td>embedding150</td>\n",
       "      <td>0.947266</td>\n",
       "      <td>0.912826</td>\n",
       "      <td>0.853796</td>\n",
       "      <td>0.882324</td>\n",
       "      <td>0.914613</td>\n",
       "      <td>0.760445</td>\n",
       "    </tr>\n",
       "    <tr>\n",
       "      <th>5</th>\n",
       "      <td>embedding250</td>\n",
       "      <td>0.946615</td>\n",
       "      <td>0.936238</td>\n",
       "      <td>0.825679</td>\n",
       "      <td>0.877490</td>\n",
       "      <td>0.904368</td>\n",
       "      <td>0.810684</td>\n",
       "    </tr>\n",
       "    <tr>\n",
       "      <th>6</th>\n",
       "      <td>embedding50</td>\n",
       "      <td>0.927300</td>\n",
       "      <td>0.854651</td>\n",
       "      <td>0.826617</td>\n",
       "      <td>0.840400</td>\n",
       "      <td>0.892128</td>\n",
       "      <td>0.679365</td>\n",
       "    </tr>\n",
       "    <tr>\n",
       "      <th>7</th>\n",
       "      <td>embedding100</td>\n",
       "      <td>0.936415</td>\n",
       "      <td>0.926211</td>\n",
       "      <td>0.788191</td>\n",
       "      <td>0.851646</td>\n",
       "      <td>0.884635</td>\n",
       "      <td>0.756474</td>\n",
       "    </tr>\n",
       "  </tbody>\n",
       "</table>\n",
       "</div>"
      ],
      "text/plain": [
       "      Algorithm  Accuracy  Precision  ...  F1 Score  AUC Score  Prediction Time\n",
       "0  embedding350  0.953559   0.890210  ...  0.900926   0.939007         0.800762\n",
       "1  embedding400  0.944227   0.859680  ...  0.882809   0.931298         0.887868\n",
       "2  embedding200  0.927951   0.794707  ...  0.856525   0.928238         0.811705\n",
       "3  embedding300  0.955946   0.932000  ...  0.901790   0.927137         0.782796\n",
       "4  embedding150  0.947266   0.912826  ...  0.882324   0.914613         0.760445\n",
       "5  embedding250  0.946615   0.936238  ...  0.877490   0.904368         0.810684\n",
       "6   embedding50  0.927300   0.854651  ...  0.840400   0.892128         0.679365\n",
       "7  embedding100  0.936415   0.926211  ...  0.851646   0.884635         0.756474\n",
       "\n",
       "[8 rows x 7 columns]"
      ]
     },
     "execution_count": 56,
     "metadata": {
      "tags": []
     },
     "output_type": "execute_result"
    }
   ],
   "source": [
    "results.sort_values(by = 'AUC Score', inplace = True, ascending = False)\n",
    "results.reset_index(drop = True)"
   ]
  },
  {
   "cell_type": "markdown",
   "metadata": {
    "id": "FEBsJ1JDwu3n"
   },
   "source": [
    "GRAPH"
   ]
  },
  {
   "cell_type": "code",
   "execution_count": 57,
   "metadata": {
    "colab": {
     "base_uri": "https://localhost:8080/"
    },
    "id": "SQiKBlngymH5",
    "outputId": "5420abc2-20e3-4af6-dac2-d621ad0eb52e"
   },
   "outputs": [
    {
     "data": {
      "text/plain": [
       "0    0.863864\n",
       "1    0.894790\n",
       "2    0.910526\n",
       "3    0.858370\n",
       "4    0.913933\n",
       "5    0.902701\n",
       "6    0.904423\n",
       "7    0.895493\n",
       "Name: AUC Score, dtype: float64"
      ]
     },
     "execution_count": 57,
     "metadata": {
      "tags": []
     },
     "output_type": "execute_result"
    }
   ],
   "source": [
    "y1"
   ]
  },
  {
   "cell_type": "code",
   "execution_count": 58,
   "metadata": {
    "colab": {
     "base_uri": "https://localhost:8080/"
    },
    "id": "X3_hXm0qynuY",
    "outputId": "c0211410-9bdd-492f-bf03-269a55882b65"
   },
   "outputs": [
    {
     "data": {
      "text/plain": [
       "0    0.892128\n",
       "1    0.884635\n",
       "2    0.914613\n",
       "3    0.928238\n",
       "4    0.904368\n",
       "5    0.927137\n",
       "6    0.939007\n",
       "7    0.931298\n",
       "Name: AUC Score, dtype: float64"
      ]
     },
     "execution_count": 58,
     "metadata": {
      "tags": []
     },
     "output_type": "execute_result"
    }
   ],
   "source": [
    "y2"
   ]
  },
  {
   "cell_type": "code",
   "execution_count": 59,
   "metadata": {
    "colab": {
     "base_uri": "https://localhost:8080/"
    },
    "id": "wocctiaXzFhf",
    "outputId": "af270d22-c0d8-4b9c-c42e-a9330ac796e4"
   },
   "outputs": [
    {
     "data": {
      "text/plain": [
       "array([0.86386425, 0.89479023, 0.91052597, 0.85836977, 0.9139335 ,\n",
       "       0.90270091, 0.90442314, 0.89549294])"
      ]
     },
     "execution_count": 59,
     "metadata": {
      "tags": []
     },
     "output_type": "execute_result"
    }
   ],
   "source": [
    "y1=np.array(y1)\n",
    "y1"
   ]
  },
  {
   "cell_type": "code",
   "execution_count": 60,
   "metadata": {
    "colab": {
     "base_uri": "https://localhost:8080/"
    },
    "id": "sa_C_a-4zXuP",
    "outputId": "8ffbb33a-ff56-42fc-c288-afe52645ed5c"
   },
   "outputs": [
    {
     "data": {
      "text/plain": [
       "array([0.89212788, 0.88463499, 0.91461318, 0.92823815, 0.90436755,\n",
       "       0.92713671, 0.9390069 , 0.93129817])"
      ]
     },
     "execution_count": 60,
     "metadata": {
      "tags": []
     },
     "output_type": "execute_result"
    }
   ],
   "source": [
    "y2=np.array(y2)\n",
    "y2"
   ]
  },
  {
   "cell_type": "code",
   "execution_count": 62,
   "metadata": {
    "colab": {
     "base_uri": "https://localhost:8080/",
     "height": 296
    },
    "id": "6hdRhocaZiRD",
    "outputId": "b3831d7c-a263-4cb6-f38e-28d5645e6436"
   },
   "outputs": [
    {
     "data": {
      "image/png": "[encoded data removed]",
      "text/plain": [
       "<Figure size 432x288 with 1 Axes>"
      ]
     },
     "metadata": {
      "needs_background": "light",
      "tags": []
     },
     "output_type": "display_data"
    }
   ],
   "source": [
    "plt.plot(n,y1,label=\"CBOW\",marker='o')\n",
    "plt.plot(n,y2,label=\"SKIP GRAM\",marker='o')\n",
    "plt.axis([0,450,0.75,1.00])\n",
    "plt.xlabel('EMBEDDING_DIM')\n",
    "plt.ylabel('AUC-Score')\n",
    "plt.legend()\n",
    "plt.title('LSTM AUC-Score For Different Embedding Dimensions')\n",
    "plt.show()\n"
   ]
  },
  {
   "cell_type": "code",
   "execution_count": 61,
   "metadata": {
    "id": "RgHGcjnBzacE"
   },
   "outputs": [],
   "source": []
  }
 ],
 "metadata": {
  "accelerator": "GPU",
  "colab": {
   "collapsed_sections": [],
   "name": "formspring_word2vec_LSTM.ipynb",
   "provenance": []
  },
  "kernelspec": {
   "display_name": "Python 3",
   "language": "python",
   "name": "python3"
  },
  "language_info": {
   "codemirror_mode": {
    "name": "ipython",
    "version": 3
   },
   "file_extension": ".py",
   "mimetype": "text/x-python",
   "name": "python",
   "nbconvert_exporter": "python",
   "pygments_lexer": "ipython3",
   "version": "3.8.8"
  }
 },
 "nbformat": 4,
 "nbformat_minor": 1
}
