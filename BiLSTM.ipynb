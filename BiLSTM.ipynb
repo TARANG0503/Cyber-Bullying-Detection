{
 "cells": [
  {
   "cell_type": "markdown",
   "metadata": {
    "id": "c1mOQMtve_1h"
   },
   "source": [
    "Import Necessary Libraries"
   ]
  },
  {
   "cell_type": "code",
   "execution_count": 1,
   "metadata": {
    "id": "9vprswKAZFsV"
   },
   "outputs": [],
   "source": [
    "import numpy as np\n",
    "import pandas as pd\n",
    "import matplotlib.pyplot as plt\n",
    "from sklearn.metrics import accuracy_score,confusion_matrix,classification_report,roc_auc_score,roc_curve,precision_recall_curve,f1_score,auc\n",
    "from sklearn.metrics import f1_score, accuracy_score, precision_score, recall_score, make_scorer\n",
    "from sklearn.model_selection import train_test_split\n",
    "from time import time\n",
    "import nltk\n",
    "from nltk.stem import PorterStemmer,WordNetLemmatizer\n",
    "from nltk.corpus import stopwords\n",
    "from collections import Counter\n",
    "import tensorflow \n",
    "from keras.preprocessing.text import Tokenizer\n",
    "from tensorflow.keras.preprocessing.text import one_hot\n",
    "from tensorflow.keras.preprocessing.sequence import pad_sequences\n",
    "from tensorflow.keras import layers\n",
    "from tensorflow.keras.models import Sequential\n",
    "import re\n",
    "import gensim"
   ]
  },
  {
   "cell_type": "markdown",
   "metadata": {
    "id": "2L_-_XJ4HY27"
   },
   "source": [
    "Import Dataset"
   ]
  },
  {
   "cell_type": "code",
   "execution_count": 2,
   "metadata": {
    "id": "Ros9Llm1lVDg"
   },
   "outputs": [],
   "source": [
    "formspring='https://raw.githubusercontent.com/eimearfoley/CyberBullyingDetection/master/data/formspring.csv'"
   ]
  },
  {
   "cell_type": "code",
   "execution_count": 3,
   "metadata": {
    "id": "7491c915"
   },
   "outputs": [],
   "source": [
    "df=pd.read_csv(formspring)"
   ]
  },
  {
   "cell_type": "markdown",
   "metadata": {
    "id": "J7pwz3lxLg5w"
   },
   "source": [
    "Analyze Dataset"
   ]
  },
  {
   "cell_type": "code",
   "execution_count": 4,
   "metadata": {
    "colab": {
     "base_uri": "https://localhost:8080/",
     "height": 611
    },
    "id": "_nPQHXRoFlYJ",
    "outputId": "2f4e5bdd-739e-4d50-f52e-4456b9447c27"
   },
   "outputs": [
    {
     "name": "stdout",
     "output_type": "stream",
     "text": [
      "<class 'pandas.core.frame.DataFrame'>\n",
      "RangeIndex: 12901 entries, 0 to 12900\n",
      "Data columns (total 14 columns):\n",
      " #   Column     Non-Null Count  Dtype \n",
      "---  ------     --------------  ----- \n",
      " 0   userid     12896 non-null  object\n",
      " 1   post       12852 non-null  object\n",
      " 2   ques       12852 non-null  object\n",
      " 3   ans        12820 non-null  object\n",
      " 4   asker      12801 non-null  object\n",
      " 5   ans1       12759 non-null  object\n",
      " 6   severity1  12788 non-null  object\n",
      " 7   bully1     1909 non-null   object\n",
      " 8   ans2       12701 non-null  object\n",
      " 9   severity2  12739 non-null  object\n",
      " 10  bully2     1786 non-null   object\n",
      " 11  ans3       12655 non-null  object\n",
      " 12  severity3  12698 non-null  object\n",
      " 13  bully3     1780 non-null   object\n",
      "dtypes: object(14)\n",
      "memory usage: 1.4+ MB\n"
     ]
    },
    {
     "data": {
      "text/html": [
       "<div>\n",
       "<style scoped>\n",
       "    .dataframe tbody tr th:only-of-type {\n",
       "        vertical-align: middle;\n",
       "    }\n",
       "\n",
       "    .dataframe tbody tr th {\n",
       "        vertical-align: top;\n",
       "    }\n",
       "\n",
       "    .dataframe thead th {\n",
       "        text-align: right;\n",
       "    }\n",
       "</style>\n",
       "<table border=\"1\" class=\"dataframe\">\n",
       "  <thead>\n",
       "    <tr style=\"text-align: right;\">\n",
       "      <th></th>\n",
       "      <th>userid</th>\n",
       "      <th>post</th>\n",
       "      <th>ques</th>\n",
       "      <th>ans</th>\n",
       "      <th>asker</th>\n",
       "      <th>ans1</th>\n",
       "      <th>severity1</th>\n",
       "      <th>bully1</th>\n",
       "      <th>ans2</th>\n",
       "      <th>severity2</th>\n",
       "      <th>bully2</th>\n",
       "      <th>ans3</th>\n",
       "      <th>severity3</th>\n",
       "      <th>bully3</th>\n",
       "    </tr>\n",
       "  </thead>\n",
       "  <tbody>\n",
       "    <tr>\n",
       "      <th>0</th>\n",
       "      <td>aguitarplayer94</td>\n",
       "      <td>Q: what&amp;#039;s your favorite song? :D&lt;br&gt;A: I ...</td>\n",
       "      <td>what&amp;#039;s your favorite song? :D&lt;br&gt;</td>\n",
       "      <td>I like too many songs to have a favorite</td>\n",
       "      <td>None</td>\n",
       "      <td>No</td>\n",
       "      <td>0</td>\n",
       "      <td>NaN</td>\n",
       "      <td>No</td>\n",
       "      <td>0</td>\n",
       "      <td>NaN</td>\n",
       "      <td>No</td>\n",
       "      <td>0</td>\n",
       "      <td>NaN</td>\n",
       "    </tr>\n",
       "    <tr>\n",
       "      <th>1</th>\n",
       "      <td>aprilpooh15</td>\n",
       "      <td>Q: &lt;3&lt;br&gt;A: &lt;/3 ? haha jk! &lt;33</td>\n",
       "      <td>&lt;3</td>\n",
       "      <td>&lt;/3 ? haha jk! &lt;33</td>\n",
       "      <td>None</td>\n",
       "      <td>No</td>\n",
       "      <td>0</td>\n",
       "      <td>NaN</td>\n",
       "      <td>No</td>\n",
       "      <td>0</td>\n",
       "      <td>NaN</td>\n",
       "      <td>No</td>\n",
       "      <td>0</td>\n",
       "      <td>NaN</td>\n",
       "    </tr>\n",
       "    <tr>\n",
       "      <th>2</th>\n",
       "      <td>aprilpooh15</td>\n",
       "      <td>Q: &amp;quot;hey angel  you duh sexy&amp;quot;&lt;br&gt;A: R...</td>\n",
       "      <td>&amp;quot;hey angel  you duh sexy&amp;quot;</td>\n",
       "      <td>Really?!?! Thanks?! haha</td>\n",
       "      <td>None</td>\n",
       "      <td>No</td>\n",
       "      <td>0</td>\n",
       "      <td>NaN</td>\n",
       "      <td>No</td>\n",
       "      <td>0</td>\n",
       "      <td>NaN</td>\n",
       "      <td>No</td>\n",
       "      <td>0</td>\n",
       "      <td>NaN</td>\n",
       "    </tr>\n",
       "    <tr>\n",
       "      <th>3</th>\n",
       "      <td>aprilpooh15</td>\n",
       "      <td>Q: (:&lt;br&gt;A: ;(</td>\n",
       "      <td>(:</td>\n",
       "      <td>;(</td>\n",
       "      <td>None</td>\n",
       "      <td>No</td>\n",
       "      <td>0</td>\n",
       "      <td>NaN</td>\n",
       "      <td>No</td>\n",
       "      <td>0</td>\n",
       "      <td>NaN</td>\n",
       "      <td>No</td>\n",
       "      <td>0</td>\n",
       "      <td>NaN</td>\n",
       "    </tr>\n",
       "    <tr>\n",
       "      <th>4</th>\n",
       "      <td>aprilpooh15</td>\n",
       "      <td>Q: ******************MEOWWW*******************...</td>\n",
       "      <td>******************MEOWWW*************************</td>\n",
       "      <td>*RAWR*?</td>\n",
       "      <td>None</td>\n",
       "      <td>No</td>\n",
       "      <td>0</td>\n",
       "      <td>NaN</td>\n",
       "      <td>No</td>\n",
       "      <td>0</td>\n",
       "      <td>NaN</td>\n",
       "      <td>No</td>\n",
       "      <td>0</td>\n",
       "      <td>NaN</td>\n",
       "    </tr>\n",
       "  </tbody>\n",
       "</table>\n",
       "</div>"
      ],
      "text/plain": [
       "            userid  ... bully3\n",
       "0  aguitarplayer94  ...    NaN\n",
       "1      aprilpooh15  ...    NaN\n",
       "2      aprilpooh15  ...    NaN\n",
       "3      aprilpooh15  ...    NaN\n",
       "4      aprilpooh15  ...    NaN\n",
       "\n",
       "[5 rows x 14 columns]"
      ]
     },
     "execution_count": 4,
     "metadata": {
      "tags": []
     },
     "output_type": "execute_result"
    }
   ],
   "source": [
    "df.info()\n",
    "df.head()"
   ]
  },
  {
   "cell_type": "code",
   "execution_count": 5,
   "metadata": {
    "colab": {
     "base_uri": "https://localhost:8080/"
    },
    "id": "7nH9GH1dGby0",
    "outputId": "548fd99a-2dde-4422-88f4-014ecaac7081"
   },
   "outputs": [
    {
     "data": {
      "text/plain": [
       "0    Q: what&#039;s your favorite song? :D<br>A: I ...\n",
       "1                       Q: <3<br>A: </3 ? haha jk! <33\n",
       "2    Q: &quot;hey angel  you duh sexy&quot;<br>A: R...\n",
       "3                                       Q: (:<br>A: ;(\n",
       "4    Q: ******************MEOWWW*******************...\n",
       "5    Q: any makeup tips? i suck at doing my makeup ...\n",
       "6    Q: Apriiiiiiiiiiiill!!! I miss uuuu! It&#039;s...\n",
       "7    Q: Are you a morning or night person?<br>A: Ni...\n",
       "8    Q: are you a trusting person?<br>A: alreadi an...\n",
       "9    Q: are you a trusting person?<br>A: Yes veryy ...\n",
       "Name: post, dtype: object"
      ]
     },
     "execution_count": 5,
     "metadata": {
      "tags": []
     },
     "output_type": "execute_result"
    }
   ],
   "source": [
    "df['post'][:10]"
   ]
  },
  {
   "cell_type": "code",
   "execution_count": 6,
   "metadata": {
    "colab": {
     "base_uri": "https://localhost:8080/"
    },
    "id": "lVCmGlRNGb1F",
    "outputId": "f5bfc2a6-edf7-4f7d-bfa7-134890b925c3"
   },
   "outputs": [
    {
     "data": {
      "text/plain": [
       "0               what&#039;s your favorite song? :D<br>\n",
       "1                                                   <3\n",
       "2                  &quot;hey angel  you duh sexy&quot;\n",
       "3                                                   (:\n",
       "4    ******************MEOWWW*************************\n",
       "5       any makeup tips? i suck at doing my makeup lol\n",
       "6    Apriiiiiiiiiiiill!!! I miss uuuu! It&#039;s Em...\n",
       "7                   Are you a morning or night person?\n",
       "8                           are you a trusting person?\n",
       "9                           are you a trusting person?\n",
       "Name: ques, dtype: object"
      ]
     },
     "execution_count": 6,
     "metadata": {
      "tags": []
     },
     "output_type": "execute_result"
    }
   ],
   "source": [
    "df['ques'][:10]"
   ]
  },
  {
   "cell_type": "code",
   "execution_count": 7,
   "metadata": {
    "colab": {
     "base_uri": "https://localhost:8080/"
    },
    "id": "i2OAxdCGGb57",
    "outputId": "a1588a5b-a850-45b4-e9f9-710224c8df5e"
   },
   "outputs": [
    {
     "data": {
      "text/plain": [
       "0             I like too many songs to have a favorite\n",
       "1                                   </3 ? haha jk! <33\n",
       "2                             Really?!?! Thanks?! haha\n",
       "3                                                   ;(\n",
       "4                                              *RAWR*?\n",
       "5     Sure! Like tell me wht u wnna know?! Like wht...\n",
       "6     EMMA hahahahah :D I MISSSSSeddd YUHHHHh 22222...\n",
       "7                                      Night 4shuree!!\n",
       "8                                       alreadi answrd\n",
       "9         Yes veryy trustin person!!! May i help yuh:!\n",
       "Name: ans, dtype: object"
      ]
     },
     "execution_count": 7,
     "metadata": {
      "tags": []
     },
     "output_type": "execute_result"
    }
   ],
   "source": [
    "df['ans'][:10]"
   ]
  },
  {
   "cell_type": "code",
   "execution_count": 8,
   "metadata": {
    "colab": {
     "base_uri": "https://localhost:8080/"
    },
    "id": "uWXkkBEHMOTJ",
    "outputId": "b8b8d175-1b82-4cc1-8685-6a72d972f765"
   },
   "outputs": [
    {
     "data": {
      "text/plain": [
       "100    NaN\n",
       "101    NaN\n",
       "102    NaN\n",
       "103    NaN\n",
       "104    NaN\n",
       "105    NaN\n",
       "106    NaN\n",
       "107    NaN\n",
       "108    NaN\n",
       "109    NaN\n",
       "Name: bully1, dtype: object"
      ]
     },
     "execution_count": 8,
     "metadata": {
      "tags": []
     },
     "output_type": "execute_result"
    }
   ],
   "source": [
    "df['bully1'][100:110]"
   ]
  },
  {
   "cell_type": "code",
   "execution_count": 9,
   "metadata": {
    "colab": {
     "base_uri": "https://localhost:8080/"
    },
    "id": "EDf-GYvgL9Bn",
    "outputId": "d80ea4dd-0a14-453a-a178-70a1b276f486"
   },
   "outputs": [
    {
     "data": {
      "text/plain": [
       "None                                                                           593\n",
       "Na                                                                              89\n",
       "N/A.                                                                            74\n",
       "no                                                                              47\n",
       "N/a                                                                             47\n",
       "                                                                              ... \n",
       "does it look like i give a flying fuck? ;] you're a friendless faggot            1\n",
       "your a dirty bitch int ya?                                                       1\n",
       "being bitchy about it                                                            1\n",
       "no how bowt yhu ansa my muh fhuckin qwestion andd not wit anotha qwestion .      1\n",
       "\"\"\"\"\"\"\"You're. An. Asshole.\"\"\"\"\"\"\"                                               1\n",
       "Name: bully1, Length: 1012, dtype: int64"
      ]
     },
     "execution_count": 9,
     "metadata": {
      "tags": []
     },
     "output_type": "execute_result"
    }
   ],
   "source": [
    "df['bully1'].value_counts()"
   ]
  },
  {
   "cell_type": "code",
   "execution_count": 10,
   "metadata": {
    "colab": {
     "base_uri": "https://localhost:8080/"
    },
    "id": "pVs5_cAbQPsY",
    "outputId": "cd667d80-adfe-4d42-b9d1-47c6d8925277"
   },
   "outputs": [
    {
     "name": "stdout",
     "output_type": "stream",
     "text": [
      "No     11693\n",
      "Yes     1038\n",
      "0         12\n",
      "5          5\n",
      "3          5\n",
      "1          2\n",
      "6          1\n",
      "4          1\n",
      "7          1\n",
      "2          1\n",
      "Name: ans1, dtype: int64\n",
      "No     11696\n",
      "Yes     1005\n",
      "Name: ans2, dtype: int64\n",
      "No     11711\n",
      "Yes      944\n",
      "Name: ans3, dtype: int64\n"
     ]
    }
   ],
   "source": [
    "print(df['ans1'].value_counts())\n",
    "print(df['ans2'].value_counts())\n",
    "print(df['ans3'].value_counts())"
   ]
  },
  {
   "cell_type": "code",
   "execution_count": 11,
   "metadata": {
    "id": "JBWzu5jkM6px"
   },
   "outputs": [],
   "source": [
    "df = df[df['post'].notna()]"
   ]
  },
  {
   "cell_type": "code",
   "execution_count": 12,
   "metadata": {
    "colab": {
     "base_uri": "https://localhost:8080/"
    },
    "id": "9yQWU1x3NNYn",
    "outputId": "5a0c5caa-6ad7-43c6-92cb-7ac354182c50"
   },
   "outputs": [
    {
     "name": "stdout",
     "output_type": "stream",
     "text": [
      "<class 'pandas.core.frame.DataFrame'>\n",
      "Int64Index: 12852 entries, 0 to 12900\n",
      "Data columns (total 14 columns):\n",
      " #   Column     Non-Null Count  Dtype \n",
      "---  ------     --------------  ----- \n",
      " 0   userid     12852 non-null  object\n",
      " 1   post       12852 non-null  object\n",
      " 2   ques       12850 non-null  object\n",
      " 3   ans        12819 non-null  object\n",
      " 4   asker      12801 non-null  object\n",
      " 5   ans1       12759 non-null  object\n",
      " 6   severity1  12788 non-null  object\n",
      " 7   bully1     1909 non-null   object\n",
      " 8   ans2       12701 non-null  object\n",
      " 9   severity2  12739 non-null  object\n",
      " 10  bully2     1786 non-null   object\n",
      " 11  ans3       12655 non-null  object\n",
      " 12  severity3  12698 non-null  object\n",
      " 13  bully3     1780 non-null   object\n",
      "dtypes: object(14)\n",
      "memory usage: 1.5+ MB\n"
     ]
    }
   ],
   "source": [
    "df.info()"
   ]
  },
  {
   "cell_type": "code",
   "execution_count": 13,
   "metadata": {
    "id": "7eJuUpDRtA6r"
   },
   "outputs": [],
   "source": [
    "ans=np.array(df['ans'])\n",
    "ques=np.array(df['ques'])\n",
    "posts=[]\n",
    "for i in range (0,len(ans)):\n",
    "  posts.append(str(ques[i])+str(ans[i]))"
   ]
  },
  {
   "cell_type": "code",
   "execution_count": 14,
   "metadata": {
    "colab": {
     "base_uri": "https://localhost:8080/"
    },
    "id": "8dkVwBrwLZz6",
    "outputId": "03532bcf-823c-4011-ef1e-6fb788f7bbc5"
   },
   "outputs": [
    {
     "name": "stdout",
     "output_type": "stream",
     "text": [
      "what&#039;s your favorite song? :D<br>\n",
      " I like too many songs to have a favorite\n",
      "what&#039;s your favorite song? :D<br> I like too many songs to have a favorite\n"
     ]
    }
   ],
   "source": [
    "print(ques[0])\n",
    "print(ans[0])\n",
    "print(posts[0])"
   ]
  },
  {
   "cell_type": "code",
   "execution_count": 15,
   "metadata": {
    "id": "qG2W5gupMb9q"
   },
   "outputs": [],
   "source": [
    "y1=np.array(df['ans1'])\n",
    "y2=np.array(df['ans2'])\n",
    "y3=np.array(df['ans3'])"
   ]
  },
  {
   "cell_type": "code",
   "execution_count": 16,
   "metadata": {
    "id": "dl0ihqhIMcAR"
   },
   "outputs": [],
   "source": [
    "X=[]\n",
    "y=[]\n",
    "for i in range (len(posts)):\n",
    "  X.append(posts[i])\n",
    "  if y1[i]=='Yes' :\n",
    "    y.append(1)\n",
    "  else:\n",
    "    y.append(0)"
   ]
  },
  {
   "cell_type": "markdown",
   "metadata": {
    "id": "FUvDvIm9HfYr"
   },
   "source": [
    "Data Preprocessing"
   ]
  },
  {
   "cell_type": "code",
   "execution_count": 17,
   "metadata": {
    "id": "SZDZvbuw6COP"
   },
   "outputs": [],
   "source": [
    "X=np.array(X)\n",
    "X=np.reshape(X,(-1,1))\n",
    "y=np.array(y)\n"
   ]
  },
  {
   "cell_type": "code",
   "execution_count": 18,
   "metadata": {
    "colab": {
     "base_uri": "https://localhost:8080/"
    },
    "id": "vtw63dq4j3Fi",
    "outputId": "e4a4e6c5-dd31-49e4-d654-f3296015c301"
   },
   "outputs": [
    {
     "data": {
      "text/plain": [
       "((12852, 1), (12852,))"
      ]
     },
     "execution_count": 18,
     "metadata": {
      "tags": []
     },
     "output_type": "execute_result"
    }
   ],
   "source": [
    "X.shape,y.shape"
   ]
  },
  {
   "cell_type": "code",
   "execution_count": 19,
   "metadata": {
    "colab": {
     "base_uri": "https://localhost:8080/"
    },
    "id": "gB03Pki46Id3",
    "outputId": "18eeafae-1c6d-4d49-80ec-88915e4b5ddc"
   },
   "outputs": [
    {
     "name": "stdout",
     "output_type": "stream",
     "text": [
      "Counter({0: 11814, 1: 1038})\n"
     ]
    }
   ],
   "source": [
    "print(Counter(y))"
   ]
  },
  {
   "cell_type": "code",
   "execution_count": 20,
   "metadata": {
    "colab": {
     "base_uri": "https://localhost:8080/"
    },
    "id": "XV4wOnkSiBY5",
    "outputId": "dc10e9c1-aacb-4133-9f2c-b538162a4557"
   },
   "outputs": [
    {
     "name": "stderr",
     "output_type": "stream",
     "text": [
      "/usr/local/lib/python3.7/dist-packages/sklearn/externals/six.py:31: FutureWarning: The module is deprecated in version 0.21 and will be removed in version 0.23 since we've dropped support for Python 2.7. Please rely on the official version of six (https://pypi.org/project/six/).\n",
      "  \"(https://pypi.org/project/six/).\", FutureWarning)\n",
      "/usr/local/lib/python3.7/dist-packages/sklearn/utils/deprecation.py:144: FutureWarning: The sklearn.neighbors.base module is  deprecated in version 0.22 and will be removed in version 0.24. The corresponding classes / functions should instead be imported from sklearn.neighbors. Anything that cannot be imported from sklearn.neighbors is now part of the private API.\n",
      "  warnings.warn(message, FutureWarning)\n",
      "/usr/local/lib/python3.7/dist-packages/sklearn/utils/deprecation.py:87: FutureWarning: Function safe_indexing is deprecated; safe_indexing is deprecated in version 0.22 and will be removed in version 0.24.\n",
      "  warnings.warn(msg, category=FutureWarning)\n"
     ]
    }
   ],
   "source": [
    "from imblearn.over_sampling import RandomOverSampler\n",
    "oversample = RandomOverSampler( sampling_strategy=0.3)\n",
    "X,y=oversample.fit_sample(X,y)"
   ]
  },
  {
   "cell_type": "code",
   "execution_count": 21,
   "metadata": {
    "colab": {
     "base_uri": "https://localhost:8080/"
    },
    "id": "7R444fV0iBcA",
    "outputId": "145fce16-e642-4988-f6db-b793a9c4f0a1"
   },
   "outputs": [
    {
     "data": {
      "text/plain": [
       "((15358, 1), (15358,))"
      ]
     },
     "execution_count": 21,
     "metadata": {
      "tags": []
     },
     "output_type": "execute_result"
    }
   ],
   "source": [
    "X.shape,y.shape"
   ]
  },
  {
   "cell_type": "code",
   "execution_count": 22,
   "metadata": {
    "colab": {
     "base_uri": "https://localhost:8080/"
    },
    "id": "ai-eGnUsif2b",
    "outputId": "a251efb7-a624-4b3f-d638-1106af91fa6c"
   },
   "outputs": [
    {
     "name": "stdout",
     "output_type": "stream",
     "text": [
      "Counter({0: 11814, 1: 3544})\n"
     ]
    }
   ],
   "source": [
    "print(Counter(y))"
   ]
  },
  {
   "cell_type": "code",
   "execution_count": 23,
   "metadata": {
    "colab": {
     "base_uri": "https://localhost:8080/"
    },
    "id": "ba6ee1ef",
    "outputId": "84c92393-de48-4a96-f335-6a233d696479"
   },
   "outputs": [
    {
     "data": {
      "text/plain": [
       "(array([['what&#039;s your favorite song? :D<br> I like too many songs to have a favorite'],\n",
       "        ['<3 </3 ? haha jk! <33'],\n",
       "        ['&quot;hey angel  you duh sexy&quot; Really?!?! Thanks?! haha'],\n",
       "        ['(: ;('],\n",
       "        ['******************MEOWWW************************* *RAWR*?'],\n",
       "        ['any makeup tips? i suck at doing my makeup lol Sure! Like tell me wht u wnna know?! Like wht do you use?!']],\n",
       "       dtype='<U5541'), array([0, 0, 0, 0, 0, 0]))"
      ]
     },
     "execution_count": 23,
     "metadata": {
      "tags": []
     },
     "output_type": "execute_result"
    }
   ],
   "source": [
    "X[:6],y[:6]"
   ]
  },
  {
   "cell_type": "code",
   "execution_count": 24,
   "metadata": {
    "colab": {
     "base_uri": "https://localhost:8080/"
    },
    "id": "_cG4qU-7rdIq",
    "outputId": "6c40b482-51fe-42ee-e7bd-e8729e11464e"
   },
   "outputs": [
    {
     "data": {
      "text/plain": [
       "numpy.ndarray"
      ]
     },
     "execution_count": 24,
     "metadata": {
      "tags": []
     },
     "output_type": "execute_result"
    }
   ],
   "source": [
    "type(X)"
   ]
  },
  {
   "cell_type": "code",
   "execution_count": 25,
   "metadata": {
    "id": "9wY_CE8ZtYsF"
   },
   "outputs": [],
   "source": [
    "X=[str(x) for x in X]"
   ]
  },
  {
   "cell_type": "code",
   "execution_count": 26,
   "metadata": {
    "colab": {
     "base_uri": "https://localhost:8080/"
    },
    "id": "Atsi-ufJtZVS",
    "outputId": "6c62b9a8-f46a-4e64-d649-167ddfd04f3a"
   },
   "outputs": [
    {
     "data": {
      "text/plain": [
       "list"
      ]
     },
     "execution_count": 26,
     "metadata": {
      "tags": []
     },
     "output_type": "execute_result"
    }
   ],
   "source": [
    "type(X)"
   ]
  },
  {
   "cell_type": "markdown",
   "metadata": {
    "id": "yV4l-CayHmkq"
   },
   "source": [
    "Create Word Embeddings"
   ]
  },
  {
   "cell_type": "code",
   "execution_count": 28,
   "metadata": {
    "id": "976031f6"
   },
   "outputs": [],
   "source": [
    "stopwords=stopwords.words('english')"
   ]
  },
  {
   "cell_type": "code",
   "execution_count": 29,
   "metadata": {
    "id": "u5YLxR_8-YtW"
   },
   "outputs": [],
   "source": [
    "contractions =dict({ \n",
    "\"ain't\": \"am not\",\n",
    "\"aren't\": \"are not\",\n",
    "\"can't\": \"cannot\",\n",
    "\"can't've\": \"cannot have\",\n",
    "\"'cause\": \"because\",\n",
    "\"could've\": \"could have\",\n",
    "\"couldn't\": \"could not\",\n",
    "\"couldn't've\": \"could not have\",\n",
    "\"didn't\": \"did not\",\n",
    "\"doesn't\": \"does not\",\n",
    "\"don't\": \"do not\",\n",
    "\"hadn't\": \"had not\",\n",
    "\"hadn't've\": \"had not have\",\n",
    "\"hasn't\": \"has not\",\n",
    "\"haven't\": \"have not\",\n",
    "\"he'd\": \" he would\",\n",
    "\"he'd've\": \"he would have\",\n",
    "\"he'll\": \"he will\",\n",
    "\"he'll've\": \"he will have\",\n",
    "\"he's\": \"he is\",\n",
    "\"how'd\": \"how did\",\n",
    "\"how'd'y\": \"how do you\",\n",
    "\"how'll\": \"how will\",\n",
    "\"how's\": \"how is\",\n",
    "\"i'd\": \"i would\",\n",
    "\"i'd've\": \"i would have\",\n",
    "\"i'll\": \"i will\",\n",
    "\"i'll've\": \"i will have\",\n",
    "\"i'm\": \"i am\",\n",
    "\"i've\": \"i have\",\n",
    "\"isn't\": \"is not\",\n",
    "\"it'd\": \"it would\",\n",
    "\"it'd've\": \"it would have\",\n",
    "\"it'll\": \"it will\",\n",
    "\"it'll've\": \"it will have\",\n",
    "\"it's\": \"it is\",\n",
    "\"let's\": \"let us\",\n",
    "\"ma'am\": \"madam\",\n",
    "\"mayn't\": \"may not\",\n",
    "\"might've\": \"might have\",\n",
    "\"mightn't\": \"might not\",\n",
    "\"mightn't've\": \"might not have\",\n",
    "\"must've\": \"must have\",\n",
    "\"mustn't\": \"must not\",\n",
    "\"mustn't've\": \"must not have\",\n",
    "\"needn't\": \"need not\",\n",
    "\"needn't've\": \"need not have\",\n",
    "\"o'clock\": \"of the clock\",\n",
    "\"oughtn't\": \"ought not\",\n",
    "\"oughtn't've\": \"ought not have\",\n",
    "\"shan't\": \"shall not\",\n",
    "\"sha'n't\": \"shall not\",\n",
    "\"shan't've\": \"shall not have\",\n",
    "\"she'd\": \"she would\",\n",
    "\"she'd've\": \"she would have\",\n",
    "\"she'll\": \"she will\",\n",
    "\"she'll've\": \"she will have\",\n",
    "\"she's\": \"she is\",\n",
    "\"should've\": \"should have\",\n",
    "\"shouldn't\": \"should not\",\n",
    "\"shouldn't've\": \"should not have\",\n",
    "\"so've\": \"so have\",\n",
    "\"so's\": \"so is\",\n",
    "\"that'd\": \"that would\",\n",
    "\"that'd've\": \"that would have\",\n",
    "\"that's\": \"that has\",\n",
    "\"there'd\": \"there would\",\n",
    "\"there'd've\": \"there would have\",\n",
    "\"there's\": \"there is\",\n",
    "\"they'd\": \"they had\",\n",
    "\"they'd've\": \"they would have\",\n",
    "\"they'll\": \"they will\",\n",
    "\"they'll've\": \"they will have\",\n",
    "\"they're\": \"they are\",\n",
    "\"they've\": \"they have\",\n",
    "\"to've\": \"to have\",\n",
    "\"wasn't\": \"was not\",\n",
    "\"we'd\": \"we would\",\n",
    "\"we'd've\": \"we would have\",\n",
    "\"we'll\": \"we will\",\n",
    "\"we'll've\": \"we will have\",\n",
    "\"we're\": \"we are\",\n",
    "\"we've\": \"we have\",\n",
    "\"weren't\": \"were not\",\n",
    "\"what'll\": \"what will\",\n",
    "\"what'll've\": \"what will have\",\n",
    "\"what're\": \"what are\",\n",
    "\"what's\": \"what is\",\n",
    "\"what've\": \"what have\",\n",
    "\"when's\": \"when is\",\n",
    "\"when've\": \"when have\",\n",
    "\"where'd\": \"where did\",\n",
    "\"where's\": \"where is\",\n",
    "\"where've\": \"where have\",\n",
    "\"who'll\": \"who will\",\n",
    "\"who'll've\": \"who will have\",\n",
    "\"who's\": \"who has\",\n",
    "\"who've\": \"who have\",\n",
    "\"why's\": \"why has\",\n",
    "\"why've\": \"why have\",\n",
    "\"will've\": \"will have\",\n",
    "\"won't\": \"will not\",\n",
    "\"won't've\": \"will not have\",\n",
    "\"would've\": \"would have\",\n",
    "\"wouldn't\": \"would not\",\n",
    "\"wouldn't've\": \"would not have\",\n",
    "\"y'all\": \"you all\",\n",
    "\"y'all'd\": \"you all would\",\n",
    "\"y'all'd've\": \"you all would have\",\n",
    "\"y'all're\": \"you all are\",\n",
    "\"y'all've\": \"you all have\",\n",
    "\"you'd\": \"you would\",\n",
    "\"you'd've\": \"you would have\",\n",
    "\"you'll\": \"you will\",\n",
    "\"you'll've\": \"you will have\",\n",
    "\"you're\": \"you are\",\n",
    "\"you've\": \"you have\",\n",
    "\"ain’t\": \"am not\",\n",
    "\"aren’t\": \"are not\",\n",
    "\"can’t\": \"cannot\",\n",
    "\"can’t’ve\": \"cannot have\",\n",
    "\"’cause\": \"because\",\n",
    "\"could’ve\": \"could have\",\n",
    "\"couldn’t\": \"could not\",\n",
    "\"couldn’t’ve\": \"could not have\",\n",
    "\"didn’t\": \"did not\",\n",
    "\"doesn’t\": \"does not\",\n",
    "\"don’t\": \"do not\",\n",
    "\"hadn’t\": \"had not\",\n",
    "\"hadn’t’ve\": \"had not have\",\n",
    "\"hasn’t\": \"has not\",\n",
    "\"haven’t\": \"have not\",\n",
    "\"he’d\": \" he would\",\n",
    "\"he’d’ve\": \"he would have\",\n",
    "\"he’ll\": \"he will\",\n",
    "\"he’ll’ve\": \"he will have\",\n",
    "\"he’s\": \"he is\",\n",
    "\"how’d\": \"how did\",\n",
    "\"how’d’y\": \"how do you\",\n",
    "\"how’ll\": \"how will\",\n",
    "\"how’s\": \"how is\",\n",
    "\"i’d\": \"i would\",\n",
    "\"i’d’ve\": \"i would have\",\n",
    "\"i’ll\": \"i will\",\n",
    "\"i’ll’ve\": \"i will have\",\n",
    "\"i’m\": \"i am\",\n",
    "\"i’ve\": \"i have\",\n",
    "\"isn’t\": \"is not\",\n",
    "\"it’d\": \"it would\",\n",
    "\"it’d’ve\": \"it would have\",\n",
    "\"it’ll\": \"it will\",\n",
    "\"it’ll’ve\": \"it will have\",\n",
    "\"it’s\": \"it is\",\n",
    "\"let’s\": \"let us\",\n",
    "\"ma’am\": \"madam\",\n",
    "\"mayn’t\": \"may not\",\n",
    "\"might’ve\": \"might have\",\n",
    "\"mightn’t\": \"might not\",\n",
    "\"mightn’t’ve\": \"might not have\",\n",
    "\"must’ve\": \"must have\",\n",
    "\"mustn’t\": \"must not\",\n",
    "\"mustn’t’ve\": \"must not have\",\n",
    "\"needn’t\": \"need not\",\n",
    "\"needn’t’ve\": \"need not have\",\n",
    "\"o’clock\": \"of the clock\",\n",
    "\"oughtn’t\": \"ought not\",\n",
    "\"oughtn’t’ve\": \"ought not have\",\n",
    "\"shan’t\": \"shall not\",\n",
    "\"sha’n’t\": \"shall not\",\n",
    "\"shan’t’ve\": \"shall not have\",\n",
    "\"she’d\": \"she would\",\n",
    "\"she’d’ve\": \"she would have\",\n",
    "\"she’ll\": \"she will\",\n",
    "\"she’ll’ve\": \"she will have\",\n",
    "\"she’s\": \"she is\",\n",
    "\"should’ve\": \"should have\",\n",
    "\"shouldn’t\": \"should not\",\n",
    "\"shouldn’t’ve\": \"should not have\",\n",
    "\"so’ve\": \"so have\",\n",
    "\"so’s\": \"so is\",\n",
    "\"that’d\": \"that would\",\n",
    "\"that’d’ve\": \"that would have\",\n",
    "\"that’s\": \"that has\",\n",
    "\"there’d\": \"there would\",\n",
    "\"there’d’ve\": \"there would have\",\n",
    "\"there’s\": \"there is\",\n",
    "\"they’d\": \"they had\",\n",
    "\"they’d’ve\": \"they would have\",\n",
    "\"they’ll\": \"they will\",\n",
    "\"they’ll’ve\": \"they will have\",\n",
    "\"they’re\": \"they are\",\n",
    "\"they’ve\": \"they have\",\n",
    "\"to’ve\": \"to have\",\n",
    "\"wasn’t\": \"was not\",\n",
    "\"we’d\": \"we would\",\n",
    "\"we’d’ve\": \"we would have\",\n",
    "\"we’ll\": \"we will\",\n",
    "\"we’ll’ve\": \"we will have\",\n",
    "\"we’re\": \"we are\",\n",
    "\"we’ve\": \"we have\",\n",
    "\"weren’t\": \"were not\",\n",
    "\"what’ll\": \"what will\",\n",
    "\"what’ll’ve\": \"what will have\",\n",
    "\"what’re\": \"what are\",\n",
    "\"what’s\": \"what is\",\n",
    "\"what’ve\": \"what have\",\n",
    "\"when’s\": \"when is\",\n",
    "\"when’ve\": \"when have\",\n",
    "\"where’d\": \"where did\",\n",
    "\"where’s\": \"where is\",\n",
    "\"where’ve\": \"where have\",\n",
    "\"who’ll\": \"who will\",\n",
    "\"who’ll’ve\": \"who will have\",\n",
    "\"who’s\": \"who has\",\n",
    "\"who’ve\": \"who have\",\n",
    "\"why’s\": \"why has\",\n",
    "\"why’ve\": \"why have\",\n",
    "\"will’ve\": \"will have\",\n",
    "\"won’t\": \"will not\",\n",
    "\"won’t’ve\": \"will not have\",\n",
    "\"would’ve\": \"would have\",\n",
    "\"wouldn’t\": \"would not\",\n",
    "\"wouldn’t’ve\": \"would not have\",\n",
    "\"y’all\": \"you all\",\n",
    "\"y’all’d\": \"you all would\",\n",
    "\"y’all’d’ve\": \"you all would have\",\n",
    "\"y’all’re\": \"you all are\",\n",
    "\"y’all’ve\": \"you all have\",\n",
    "\"you’d\": \"you would\",\n",
    "\"you’d’ve\": \"you would have\",\n",
    "\"you’ll\": \"you will\",\n",
    "\"you’ll’ve\": \"you will have\",\n",
    "\"you’re\": \"you are\",\n",
    "\"you’ve\": \"you have\"\n",
    "})"
   ]
  },
  {
   "cell_type": "code",
   "execution_count": 30,
   "metadata": {
    "colab": {
     "base_uri": "https://localhost:8080/",
     "height": 36
    },
    "id": "OUJpctSYB_q2",
    "outputId": "74ac085e-a953-4f10-c70e-5ca4b6d811ae"
   },
   "outputs": [
    {
     "data": {
      "application/vnd.google.colaboratory.intrinsic+json": {
       "type": "string"
      },
      "text/plain": [
       "'it is'"
      ]
     },
     "execution_count": 30,
     "metadata": {
      "tags": []
     },
     "output_type": "execute_result"
    }
   ],
   "source": [
    "contractions[\"it’s\"]"
   ]
  },
  {
   "cell_type": "code",
   "execution_count": 31,
   "metadata": {
    "id": "oIRl1hlFB7nr"
   },
   "outputs": [],
   "source": [
    "X_train,X_test,y_train,y_test=train_test_split(X,y,test_size=0.3,random_state=42)"
   ]
  },
  {
   "cell_type": "code",
   "execution_count": 32,
   "metadata": {
    "colab": {
     "base_uri": "https://localhost:8080/"
    },
    "id": "Vv4CkbMZibG5",
    "outputId": "99f56232-8381-4e5e-8d4c-5e07ad2072c5"
   },
   "outputs": [
    {
     "name": "stdout",
     "output_type": "stream",
     "text": [
      "Counter({0: 8273, 1: 2477})\n",
      "Counter({0: 3541, 1: 1067})\n"
     ]
    }
   ],
   "source": [
    "print(Counter(y_train))\n",
    "print(Counter(y_test))"
   ]
  },
  {
   "cell_type": "code",
   "execution_count": 33,
   "metadata": {
    "id": "bae61091"
   },
   "outputs": [],
   "source": [
    "def cleanText(X):\n",
    "  corpus=[]\n",
    "  for para in X:\n",
    "      sentences=nltk.sent_tokenize(str(para))\n",
    "      temp=[]\n",
    "      for sentence in sentences:\n",
    "          sentence=sentence.lower()\n",
    "          cleanr = re.compile('<.*?>')\n",
    "          sentence = re.sub(cleanr, '', sentence)\n",
    "          sentence=re.sub(r'[\\!\"#$%&\\*+,./;<=>?@_`|~=]','',sentence)\n",
    "          sentence=re.sub(r'[0-9]+', '',sentence)\n",
    "          words=sentence.split()\n",
    "          words_list=[]\n",
    "          for word in words:\n",
    "            if word in contractions:\n",
    "              words_list.append(contractions[word])\n",
    "            elif word not in stopwords:\n",
    "              words_list.append(WordNetLemmatizer().lemmatize(word) )\n",
    "          sent=' '.join(words_list)\n",
    "          sent=re.sub(pattern=r'\\'',repl='',string=sent)\n",
    "          temp.append(sent)\n",
    "      corpus.append('. '.join(temp))\n",
    "  return corpus"
   ]
  },
  {
   "cell_type": "code",
   "execution_count": 34,
   "metadata": {
    "id": "A8-6W_1EEE7F"
   },
   "outputs": [],
   "source": [
    "corpus=cleanText(X_train)\n",
    "lst_corpus = []\n",
    "for string in corpus:\n",
    "   lst_words = string.split()\n",
    "   lst_grams = [\" \".join(lst_words[i:i+1]) \n",
    "               for i in range(0, len(lst_words), 1)]\n",
    "   lst_corpus.append(lst_grams)\n"
   ]
  },
  {
   "cell_type": "code",
   "execution_count": 35,
   "metadata": {
    "colab": {
     "base_uri": "https://localhost:8080/"
    },
    "id": "ba1885b5",
    "outputId": "d39bd03d-1a72-4f9f-a618-d13e6d30b39d"
   },
   "outputs": [
    {
     "name": "stdout",
     "output_type": "stream",
     "text": [
      "10750\n",
      "10750\n"
     ]
    }
   ],
   "source": [
    "print(len(corpus))\n",
    "print(len(lst_corpus))"
   ]
  },
  {
   "cell_type": "code",
   "execution_count": 36,
   "metadata": {
    "colab": {
     "base_uri": "https://localhost:8080/"
    },
    "id": "DLqwnA7EeFby",
    "outputId": "e7721b0c-1425-40a9-8923-7720a3dee785"
   },
   "outputs": [
    {
     "data": {
      "text/plain": [
       "['[awhh shit dx man. (: taelin walker webb ]',\n",
       " '[if could watch one tv show would. office ]',\n",
       " '[w nd hv hr wd f rrdd qurl hz. nqq. dun hrd h qt dwnyndrm d. lmao wtf ]',\n",
       " '[its prolly think wanted know thought :) welll]',\n",
       " '[holar :) wasup]',\n",
       " '[lol :] anonymous]']"
      ]
     },
     "execution_count": 36,
     "metadata": {
      "tags": []
     },
     "output_type": "execute_result"
    }
   ],
   "source": [
    "corpus[:6]"
   ]
  },
  {
   "cell_type": "code",
   "execution_count": 37,
   "metadata": {
    "colab": {
     "base_uri": "https://localhost:8080/"
    },
    "id": "46rzxT-3eIaw",
    "outputId": "31669345-b3be-4a47-bda8-6aeab28eb71f"
   },
   "outputs": [
    {
     "data": {
      "text/plain": [
       "[['[awhh', 'shit', 'dx', 'man.', '(:', 'taelin', 'walker', 'webb', ']'],\n",
       " ['[if', 'could', 'watch', 'one', 'tv', 'show', 'would.', 'office', ']'],\n",
       " ['[w',\n",
       "  'nd',\n",
       "  'hv',\n",
       "  'hr',\n",
       "  'wd',\n",
       "  'f',\n",
       "  'rrdd',\n",
       "  'qurl',\n",
       "  'hz.',\n",
       "  'nqq.',\n",
       "  'dun',\n",
       "  'hrd',\n",
       "  'h',\n",
       "  'qt',\n",
       "  'dwnyndrm',\n",
       "  'd.',\n",
       "  'lmao',\n",
       "  'wtf',\n",
       "  ']'],\n",
       " ['[its', 'prolly', 'think', 'wanted', 'know', 'thought', ':)', 'welll]'],\n",
       " ['[holar', ':)', 'wasup]'],\n",
       " ['[lol', ':]', 'anonymous]']]"
      ]
     },
     "execution_count": 37,
     "metadata": {
      "tags": []
     },
     "output_type": "execute_result"
    }
   ],
   "source": [
    "lst_corpus[:6]"
   ]
  },
  {
   "cell_type": "code",
   "execution_count": 38,
   "metadata": {
    "id": "e6VHxE5lEE_0"
   },
   "outputs": [],
   "source": [
    "tokenizer = Tokenizer()\n",
    "tokenizer.fit_on_texts(lst_corpus)\n",
    "dic_vocabulary = tokenizer.word_index"
   ]
  },
  {
   "cell_type": "code",
   "execution_count": 39,
   "metadata": {
    "id": "6GgXTvQzEFB5"
   },
   "outputs": [],
   "source": [
    "X_train= tokenizer.texts_to_sequences(lst_corpus)"
   ]
  },
  {
   "cell_type": "code",
   "execution_count": 40,
   "metadata": {
    "id": "jrI1gUIWDlFM"
   },
   "outputs": [],
   "source": [
    "arr=[]\n",
    "arr=[len(x) for x in corpus if len(x)<500]"
   ]
  },
  {
   "cell_type": "code",
   "execution_count": 41,
   "metadata": {
    "colab": {
     "base_uri": "https://localhost:8080/",
     "height": 265
    },
    "id": "4rlCzdbUDrIL",
    "outputId": "776b06b5-aeca-46f8-882d-1e2b235e08d0"
   },
   "outputs": [
    {
     "data": {
      "image/png": "[encoded data removed]",
      "text/plain": [
       "<Figure size 432x288 with 1 Axes>"
      ]
     },
     "metadata": {
      "needs_background": "light",
      "tags": []
     },
     "output_type": "display_data"
    }
   ],
   "source": [
    "plt.hist(arr,bins=100)\n",
    "plt.show()"
   ]
  },
  {
   "cell_type": "code",
   "execution_count": 42,
   "metadata": {
    "id": "b193836d"
   },
   "outputs": [],
   "source": [
    "max_length=100\n",
    "X_train=pad_sequences(X_train,maxlen=max_length,padding='post')"
   ]
  },
  {
   "cell_type": "code",
   "execution_count": 43,
   "metadata": {
    "colab": {
     "base_uri": "https://localhost:8080/"
    },
    "id": "95132ca6",
    "outputId": "07322c77-4d0e-4592-f115-420bc1443266"
   },
   "outputs": [
    {
     "data": {
      "text/plain": [
       "((10750, 100), (10750,))"
      ]
     },
     "execution_count": 43,
     "metadata": {
      "tags": []
     },
     "output_type": "execute_result"
    }
   ],
   "source": [
    "X_train.shape,y_train.shape"
   ]
  },
  {
   "cell_type": "code",
   "execution_count": 44,
   "metadata": {
    "id": "gjsMZBInG-JM"
   },
   "outputs": [],
   "source": [
    "corpus=cleanText(X_test)\n",
    "\n",
    "lst_corpus_test = []\n",
    "for string in corpus:\n",
    "    lst_words = string.split()\n",
    "    lst_grams = [\" \".join(lst_words[i:i+1]) for i in range(0, \n",
    "                 len(lst_words), 1)]\n",
    "    lst_corpus_test.append(lst_grams)\n",
    "\n",
    "X_test = tokenizer.texts_to_sequences(lst_corpus_test)\n",
    "\n",
    "X_test=pad_sequences(X_test,maxlen=max_length,padding='post')"
   ]
  },
  {
   "cell_type": "code",
   "execution_count": 45,
   "metadata": {
    "colab": {
     "base_uri": "https://localhost:8080/"
    },
    "id": "3Aim9Gb1UTvK",
    "outputId": "63c7ceac-78fd-49c7-b16f-cbb258a52d98"
   },
   "outputs": [
    {
     "name": "stdout",
     "output_type": "stream",
     "text": [
      "4608\n",
      "10750\n"
     ]
    }
   ],
   "source": [
    "print(len(corpus))\n",
    "print(len(lst_corpus))"
   ]
  },
  {
   "cell_type": "code",
   "execution_count": 46,
   "metadata": {
    "colab": {
     "base_uri": "https://localhost:8080/"
    },
    "id": "6S5M4rARMQS3",
    "outputId": "97f87e97-5bfb-4422-fb4c-e82ac229b72a"
   },
   "outputs": [
    {
     "data": {
      "text/plain": [
       "((4608, 100), (4608,))"
      ]
     },
     "execution_count": 46,
     "metadata": {
      "tags": []
     },
     "output_type": "execute_result"
    }
   ],
   "source": [
    "X_test.shape,y_test.shape"
   ]
  },
  {
   "cell_type": "code",
   "execution_count": 47,
   "metadata": {
    "id": "uyFNKPpHGDX1"
   },
   "outputs": [],
   "source": [
    "def pipeline(X_train, y_train, X_test, y_test,n,flag): \n",
    "   \n",
    "    results = {}\n",
    "    final_results = []\n",
    "    for num in n:  \n",
    "\n",
    "      wv_model = gensim.models.word2vec.Word2Vec(lst_corpus,size=num,window=4,min_count=1,sg=flag,iter=30)\n",
    "\n",
    "      embedding_dim = num\n",
    "      embedding_matrix = np.zeros((len(dic_vocabulary)+1, embedding_dim))\n",
    "      for word, i in tokenizer.word_index.items():\n",
    "        try:\n",
    "            embedding_matrix[i]=wv_model[word]\n",
    "        except:\n",
    "            pass\n",
    "\n",
    "      tensorflow.keras.backend.clear_session()\n",
    "\n",
    "      #LSTM\n",
    "      model=Sequential()\n",
    "\n",
    "      model.add(layers.Embedding(input_dim=embedding_matrix.shape[0],output_dim=embedding_matrix.shape[1],weights=[embedding_matrix],input_length=max_length,trainable=False)) \n",
    "\n",
    "      model.add(layers.Bidirectional(layers.LSTM(100,return_sequences=True,dropout=0.2)))\n",
    "\n",
    "      model.add(layers.GlobalMaxPooling1D())\n",
    "\n",
    "      model.add(layers.Dense(128,activation='relu')) \n",
    "      model.add(layers.Dense(1,activation='sigmoid')) \n",
    "\n",
    "      model.compile(optimizer='adam', loss='binary_crossentropy', metrics=['accuracy'])\n",
    "\n",
    "      start=time()\n",
    "      model.fit(X_train,y_train,epochs=10)\n",
    "      end=time()\n",
    "      \n",
    "        \n",
    "      results['Algorithm'] = 'embedding'+str(num)\n",
    "\n",
    "      start = time()\n",
    "      predictions_test = model.predict(X_test)\n",
    "      predictions_test=[np.round(i) for i in predictions_test]\n",
    "      end = time()\n",
    "\n",
    "      results['Prediction Time'] = end - start\n",
    "\n",
    "      results['Accuracy'] = accuracy_score(y_test, predictions_test)\n",
    "\n",
    "      results['F1 Score'] = f1_score(y_test, predictions_test)\n",
    "      \n",
    "      results['AUC Score'] = roc_auc_score(y_test, predictions_test)\n",
    "\n",
    "      results['Precision'] = precision_score(y_test, predictions_test)\n",
    "\n",
    "      results['Recall'] = recall_score(y_test, predictions_test)\n",
    "\n",
    "      \n",
    "      final_results.append(results.copy())\n",
    "    return final_results"
   ]
  },
  {
   "cell_type": "code",
   "execution_count": 48,
   "metadata": {
    "id": "V7_SsxBNlp8H"
   },
   "outputs": [],
   "source": [
    "n=[50,100,150,200,250,300,350,400]"
   ]
  },
  {
   "cell_type": "markdown",
   "metadata": {
    "id": "CvWcTG0TlrUN"
   },
   "source": [
    "CBOW"
   ]
  },
  {
   "cell_type": "code",
   "execution_count": 49,
   "metadata": {
    "colab": {
     "base_uri": "https://localhost:8080/"
    },
    "id": "rAP19LRVMCYO",
    "outputId": "3caf555e-0eb5-43fb-e015-cbd05039a317"
   },
   "outputs": [
    {
     "name": "stderr",
     "output_type": "stream",
     "text": [
      "/usr/local/lib/python3.7/dist-packages/ipykernel_launcher.py:13: DeprecationWarning: Call to deprecated `__getitem__` (Method will be removed in 4.0.0, use self.wv.__getitem__() instead).\n",
      "  del sys.path[0]\n"
     ]
    },
    {
     "name": "stdout",
     "output_type": "stream",
     "text": [
      "Epoch 1/10\n",
      "336/336 [==============================] - 8s 11ms/step - loss: 0.4144 - accuracy: 0.8309\n",
      "Epoch 2/10\n",
      "336/336 [==============================] - 4s 11ms/step - loss: 0.3521 - accuracy: 0.8566\n",
      "Epoch 3/10\n",
      "336/336 [==============================] - 4s 11ms/step - loss: 0.3078 - accuracy: 0.8752\n",
      "Epoch 4/10\n",
      "336/336 [==============================] - 4s 11ms/step - loss: 0.2624 - accuracy: 0.8982\n",
      "Epoch 5/10\n",
      "336/336 [==============================] - 4s 11ms/step - loss: 0.2264 - accuracy: 0.9145\n",
      "Epoch 6/10\n",
      "336/336 [==============================] - 4s 11ms/step - loss: 0.1996 - accuracy: 0.9231\n",
      "Epoch 7/10\n",
      "336/336 [==============================] - 4s 11ms/step - loss: 0.1840 - accuracy: 0.9274\n",
      "Epoch 8/10\n",
      "336/336 [==============================] - 4s 11ms/step - loss: 0.1483 - accuracy: 0.9445\n",
      "Epoch 9/10\n",
      "336/336 [==============================] - 4s 11ms/step - loss: 0.1384 - accuracy: 0.9461\n",
      "Epoch 10/10\n",
      "336/336 [==============================] - 4s 11ms/step - loss: 0.1226 - accuracy: 0.9544\n"
     ]
    },
    {
     "name": "stderr",
     "output_type": "stream",
     "text": [
      "/usr/local/lib/python3.7/dist-packages/ipykernel_launcher.py:13: DeprecationWarning: Call to deprecated `__getitem__` (Method will be removed in 4.0.0, use self.wv.__getitem__() instead).\n",
      "  del sys.path[0]\n"
     ]
    },
    {
     "name": "stdout",
     "output_type": "stream",
     "text": [
      "Epoch 1/10\n",
      "336/336 [==============================] - 7s 12ms/step - loss: 0.4091 - accuracy: 0.8307\n",
      "Epoch 2/10\n",
      "336/336 [==============================] - 4s 12ms/step - loss: 0.3445 - accuracy: 0.8621\n",
      "Epoch 3/10\n",
      "336/336 [==============================] - 4s 12ms/step - loss: 0.2963 - accuracy: 0.8818\n",
      "Epoch 4/10\n",
      "336/336 [==============================] - 4s 12ms/step - loss: 0.2456 - accuracy: 0.9043\n",
      "Epoch 5/10\n",
      "336/336 [==============================] - 4s 12ms/step - loss: 0.2095 - accuracy: 0.9184\n",
      "Epoch 6/10\n",
      "336/336 [==============================] - 4s 12ms/step - loss: 0.1777 - accuracy: 0.9322\n",
      "Epoch 7/10\n",
      "336/336 [==============================] - 4s 12ms/step - loss: 0.1467 - accuracy: 0.9431\n",
      "Epoch 8/10\n",
      "336/336 [==============================] - 4s 12ms/step - loss: 0.1229 - accuracy: 0.9527\n",
      "Epoch 9/10\n",
      "336/336 [==============================] - 4s 12ms/step - loss: 0.0977 - accuracy: 0.9641\n",
      "Epoch 10/10\n",
      "336/336 [==============================] - 4s 12ms/step - loss: 0.0856 - accuracy: 0.9679\n"
     ]
    },
    {
     "name": "stderr",
     "output_type": "stream",
     "text": [
      "/usr/local/lib/python3.7/dist-packages/ipykernel_launcher.py:13: DeprecationWarning: Call to deprecated `__getitem__` (Method will be removed in 4.0.0, use self.wv.__getitem__() instead).\n",
      "  del sys.path[0]\n"
     ]
    },
    {
     "name": "stdout",
     "output_type": "stream",
     "text": [
      "Epoch 1/10\n",
      "336/336 [==============================] - 7s 12ms/step - loss: 0.4054 - accuracy: 0.8341\n",
      "Epoch 2/10\n",
      "336/336 [==============================] - 4s 12ms/step - loss: 0.3470 - accuracy: 0.8604\n",
      "Epoch 3/10\n",
      "336/336 [==============================] - 4s 12ms/step - loss: 0.2827 - accuracy: 0.8881\n",
      "Epoch 4/10\n",
      "336/336 [==============================] - 4s 12ms/step - loss: 0.2268 - accuracy: 0.9124\n",
      "Epoch 5/10\n",
      "336/336 [==============================] - 4s 12ms/step - loss: 0.1816 - accuracy: 0.9318\n",
      "Epoch 6/10\n",
      "336/336 [==============================] - 4s 12ms/step - loss: 0.1534 - accuracy: 0.9431\n",
      "Epoch 7/10\n",
      "336/336 [==============================] - 4s 12ms/step - loss: 0.1197 - accuracy: 0.9571\n",
      "Epoch 8/10\n",
      "336/336 [==============================] - 4s 12ms/step - loss: 0.0986 - accuracy: 0.9633\n",
      "Epoch 9/10\n",
      "336/336 [==============================] - 4s 12ms/step - loss: 0.0847 - accuracy: 0.9693\n",
      "Epoch 10/10\n",
      "336/336 [==============================] - 4s 12ms/step - loss: 0.0709 - accuracy: 0.9752\n"
     ]
    },
    {
     "name": "stderr",
     "output_type": "stream",
     "text": [
      "/usr/local/lib/python3.7/dist-packages/ipykernel_launcher.py:13: DeprecationWarning: Call to deprecated `__getitem__` (Method will be removed in 4.0.0, use self.wv.__getitem__() instead).\n",
      "  del sys.path[0]\n"
     ]
    },
    {
     "name": "stdout",
     "output_type": "stream",
     "text": [
      "Epoch 1/10\n",
      "336/336 [==============================] - 7s 12ms/step - loss: 0.4121 - accuracy: 0.8314\n",
      "Epoch 2/10\n",
      "336/336 [==============================] - 4s 12ms/step - loss: 0.3418 - accuracy: 0.8605\n",
      "Epoch 3/10\n",
      "336/336 [==============================] - 4s 12ms/step - loss: 0.2727 - accuracy: 0.8923\n",
      "Epoch 4/10\n",
      "336/336 [==============================] - 4s 12ms/step - loss: 0.2220 - accuracy: 0.9153\n",
      "Epoch 5/10\n",
      "336/336 [==============================] - 4s 12ms/step - loss: 0.1788 - accuracy: 0.9333\n",
      "Epoch 6/10\n",
      "336/336 [==============================] - 4s 12ms/step - loss: 0.1393 - accuracy: 0.9483\n",
      "Epoch 7/10\n",
      "336/336 [==============================] - 4s 12ms/step - loss: 0.1183 - accuracy: 0.9584\n",
      "Epoch 8/10\n",
      "336/336 [==============================] - 4s 12ms/step - loss: 0.0924 - accuracy: 0.9671\n",
      "Epoch 9/10\n",
      "336/336 [==============================] - 4s 12ms/step - loss: 0.0737 - accuracy: 0.9726\n",
      "Epoch 10/10\n",
      "336/336 [==============================] - 4s 12ms/step - loss: 0.0560 - accuracy: 0.9818\n"
     ]
    },
    {
     "name": "stderr",
     "output_type": "stream",
     "text": [
      "/usr/local/lib/python3.7/dist-packages/ipykernel_launcher.py:13: DeprecationWarning: Call to deprecated `__getitem__` (Method will be removed in 4.0.0, use self.wv.__getitem__() instead).\n",
      "  del sys.path[0]\n"
     ]
    },
    {
     "name": "stdout",
     "output_type": "stream",
     "text": [
      "Epoch 1/10\n",
      "336/336 [==============================] - 7s 12ms/step - loss: 0.4085 - accuracy: 0.8346\n",
      "Epoch 2/10\n",
      "336/336 [==============================] - 4s 12ms/step - loss: 0.3337 - accuracy: 0.8675\n",
      "Epoch 3/10\n",
      "336/336 [==============================] - 4s 12ms/step - loss: 0.2648 - accuracy: 0.8965\n",
      "Epoch 4/10\n",
      "336/336 [==============================] - 4s 12ms/step - loss: 0.2146 - accuracy: 0.9207\n",
      "Epoch 5/10\n",
      "336/336 [==============================] - 4s 12ms/step - loss: 0.1764 - accuracy: 0.9361\n",
      "Epoch 6/10\n",
      "336/336 [==============================] - 4s 12ms/step - loss: 0.1457 - accuracy: 0.9482\n",
      "Epoch 7/10\n",
      "336/336 [==============================] - 4s 12ms/step - loss: 0.1182 - accuracy: 0.9580\n",
      "Epoch 8/10\n",
      "336/336 [==============================] - 4s 12ms/step - loss: 0.0901 - accuracy: 0.9687\n",
      "Epoch 9/10\n",
      "336/336 [==============================] - 4s 12ms/step - loss: 0.0672 - accuracy: 0.9773\n",
      "Epoch 10/10\n",
      "336/336 [==============================] - 4s 12ms/step - loss: 0.0573 - accuracy: 0.9796\n"
     ]
    },
    {
     "name": "stderr",
     "output_type": "stream",
     "text": [
      "/usr/local/lib/python3.7/dist-packages/ipykernel_launcher.py:13: DeprecationWarning: Call to deprecated `__getitem__` (Method will be removed in 4.0.0, use self.wv.__getitem__() instead).\n",
      "  del sys.path[0]\n"
     ]
    },
    {
     "name": "stdout",
     "output_type": "stream",
     "text": [
      "Epoch 1/10\n",
      "336/336 [==============================] - 7s 13ms/step - loss: 0.4142 - accuracy: 0.8281\n",
      "Epoch 2/10\n",
      "336/336 [==============================] - 4s 12ms/step - loss: 0.3449 - accuracy: 0.8611\n",
      "Epoch 3/10\n",
      "336/336 [==============================] - 4s 12ms/step - loss: 0.2747 - accuracy: 0.8906\n",
      "Epoch 4/10\n",
      "336/336 [==============================] - 4s 12ms/step - loss: 0.2225 - accuracy: 0.9128\n",
      "Epoch 5/10\n",
      "336/336 [==============================] - 4s 12ms/step - loss: 0.1728 - accuracy: 0.9338\n",
      "Epoch 6/10\n",
      "336/336 [==============================] - 4s 12ms/step - loss: 0.1318 - accuracy: 0.9530\n",
      "Epoch 7/10\n",
      "336/336 [==============================] - 4s 12ms/step - loss: 0.1064 - accuracy: 0.9630\n",
      "Epoch 8/10\n",
      "336/336 [==============================] - 4s 12ms/step - loss: 0.0790 - accuracy: 0.9737\n",
      "Epoch 9/10\n",
      "336/336 [==============================] - 4s 12ms/step - loss: 0.0608 - accuracy: 0.9793\n",
      "Epoch 10/10\n",
      "336/336 [==============================] - 4s 12ms/step - loss: 0.0539 - accuracy: 0.9811\n"
     ]
    },
    {
     "name": "stderr",
     "output_type": "stream",
     "text": [
      "/usr/local/lib/python3.7/dist-packages/ipykernel_launcher.py:13: DeprecationWarning: Call to deprecated `__getitem__` (Method will be removed in 4.0.0, use self.wv.__getitem__() instead).\n",
      "  del sys.path[0]\n"
     ]
    },
    {
     "name": "stdout",
     "output_type": "stream",
     "text": [
      "Epoch 1/10\n",
      "336/336 [==============================] - 7s 13ms/step - loss: 0.4084 - accuracy: 0.8338\n",
      "Epoch 2/10\n",
      "336/336 [==============================] - 4s 13ms/step - loss: 0.3254 - accuracy: 0.8700\n",
      "Epoch 3/10\n",
      "336/336 [==============================] - 4s 13ms/step - loss: 0.2583 - accuracy: 0.8992\n",
      "Epoch 4/10\n",
      "336/336 [==============================] - 4s 13ms/step - loss: 0.2020 - accuracy: 0.9211\n",
      "Epoch 5/10\n",
      "336/336 [==============================] - 4s 13ms/step - loss: 0.1665 - accuracy: 0.9408\n",
      "Epoch 6/10\n",
      "336/336 [==============================] - 4s 13ms/step - loss: 0.1290 - accuracy: 0.9534\n",
      "Epoch 7/10\n",
      "336/336 [==============================] - 4s 13ms/step - loss: 0.1033 - accuracy: 0.9627\n",
      "Epoch 8/10\n",
      "336/336 [==============================] - 4s 13ms/step - loss: 0.0735 - accuracy: 0.9740\n",
      "Epoch 9/10\n",
      "336/336 [==============================] - 4s 13ms/step - loss: 0.0645 - accuracy: 0.9780\n",
      "Epoch 10/10\n",
      "336/336 [==============================] - 4s 13ms/step - loss: 0.0533 - accuracy: 0.9812\n"
     ]
    },
    {
     "name": "stderr",
     "output_type": "stream",
     "text": [
      "/usr/local/lib/python3.7/dist-packages/ipykernel_launcher.py:13: DeprecationWarning: Call to deprecated `__getitem__` (Method will be removed in 4.0.0, use self.wv.__getitem__() instead).\n",
      "  del sys.path[0]\n"
     ]
    },
    {
     "name": "stdout",
     "output_type": "stream",
     "text": [
      "Epoch 1/10\n",
      "336/336 [==============================] - 7s 14ms/step - loss: 0.4046 - accuracy: 0.8321\n",
      "Epoch 2/10\n",
      "336/336 [==============================] - 4s 13ms/step - loss: 0.3078 - accuracy: 0.8749\n",
      "Epoch 3/10\n",
      "336/336 [==============================] - 4s 13ms/step - loss: 0.2437 - accuracy: 0.9056\n",
      "Epoch 4/10\n",
      "336/336 [==============================] - 4s 13ms/step - loss: 0.2007 - accuracy: 0.9264\n",
      "Epoch 5/10\n",
      "336/336 [==============================] - 5s 14ms/step - loss: 0.1524 - accuracy: 0.9444\n",
      "Epoch 6/10\n",
      "336/336 [==============================] - 4s 13ms/step - loss: 0.1251 - accuracy: 0.9565\n",
      "Epoch 7/10\n",
      "336/336 [==============================] - 5s 13ms/step - loss: 0.0929 - accuracy: 0.9672\n",
      "Epoch 8/10\n",
      "336/336 [==============================] - 5s 14ms/step - loss: 0.0766 - accuracy: 0.9727\n",
      "Epoch 9/10\n",
      "336/336 [==============================] - 4s 13ms/step - loss: 0.0560 - accuracy: 0.9804\n",
      "Epoch 10/10\n",
      "336/336 [==============================] - 4s 13ms/step - loss: 0.0518 - accuracy: 0.9807\n"
     ]
    }
   ],
   "source": [
    "re = pipeline(X_train, y_train, X_test, y_test,n,0)\n",
    "results = pd.DataFrame(re)\n",
    "results = results.reindex(columns = ['Algorithm', 'Accuracy', 'Precision', 'Recall', 'F1 Score','AUC Score', 'Prediction Time'])"
   ]
  },
  {
   "cell_type": "code",
   "execution_count": 50,
   "metadata": {
    "colab": {
     "base_uri": "https://localhost:8080/",
     "height": 296
    },
    "id": "11F8ZNzlwVYC",
    "outputId": "f2f8f592-230d-40fa-ec3b-d83067524d8e"
   },
   "outputs": [
    {
     "data": {
      "text/html": [
       "<div>\n",
       "<style scoped>\n",
       "    .dataframe tbody tr th:only-of-type {\n",
       "        vertical-align: middle;\n",
       "    }\n",
       "\n",
       "    .dataframe tbody tr th {\n",
       "        vertical-align: top;\n",
       "    }\n",
       "\n",
       "    .dataframe thead th {\n",
       "        text-align: right;\n",
       "    }\n",
       "</style>\n",
       "<table border=\"1\" class=\"dataframe\">\n",
       "  <thead>\n",
       "    <tr style=\"text-align: right;\">\n",
       "      <th></th>\n",
       "      <th>Algorithm</th>\n",
       "      <th>Accuracy</th>\n",
       "      <th>Precision</th>\n",
       "      <th>Recall</th>\n",
       "      <th>F1 Score</th>\n",
       "      <th>AUC Score</th>\n",
       "      <th>Prediction Time</th>\n",
       "    </tr>\n",
       "  </thead>\n",
       "  <tbody>\n",
       "    <tr>\n",
       "      <th>0</th>\n",
       "      <td>embedding50</td>\n",
       "      <td>0.922743</td>\n",
       "      <td>0.831933</td>\n",
       "      <td>0.835052</td>\n",
       "      <td>0.833489</td>\n",
       "      <td>0.892109</td>\n",
       "      <td>1.135451</td>\n",
       "    </tr>\n",
       "    <tr>\n",
       "      <th>1</th>\n",
       "      <td>embedding100</td>\n",
       "      <td>0.928819</td>\n",
       "      <td>0.830797</td>\n",
       "      <td>0.869728</td>\n",
       "      <td>0.849817</td>\n",
       "      <td>0.908177</td>\n",
       "      <td>1.223067</td>\n",
       "    </tr>\n",
       "    <tr>\n",
       "      <th>2</th>\n",
       "      <td>embedding150</td>\n",
       "      <td>0.939019</td>\n",
       "      <td>0.893788</td>\n",
       "      <td>0.835989</td>\n",
       "      <td>0.863923</td>\n",
       "      <td>0.903027</td>\n",
       "      <td>1.244114</td>\n",
       "    </tr>\n",
       "    <tr>\n",
       "      <th>3</th>\n",
       "      <td>embedding200</td>\n",
       "      <td>0.939887</td>\n",
       "      <td>0.884990</td>\n",
       "      <td>0.850984</td>\n",
       "      <td>0.867654</td>\n",
       "      <td>0.908830</td>\n",
       "      <td>1.278391</td>\n",
       "    </tr>\n",
       "    <tr>\n",
       "      <th>4</th>\n",
       "      <td>embedding250</td>\n",
       "      <td>0.934462</td>\n",
       "      <td>0.909091</td>\n",
       "      <td>0.796626</td>\n",
       "      <td>0.849151</td>\n",
       "      <td>0.886311</td>\n",
       "      <td>1.274560</td>\n",
       "    </tr>\n",
       "    <tr>\n",
       "      <th>5</th>\n",
       "      <td>embedding300</td>\n",
       "      <td>0.937934</td>\n",
       "      <td>0.859908</td>\n",
       "      <td>0.874414</td>\n",
       "      <td>0.867100</td>\n",
       "      <td>0.915744</td>\n",
       "      <td>1.297126</td>\n",
       "    </tr>\n",
       "    <tr>\n",
       "      <th>6</th>\n",
       "      <td>embedding350</td>\n",
       "      <td>0.942057</td>\n",
       "      <td>0.926439</td>\n",
       "      <td>0.814433</td>\n",
       "      <td>0.866833</td>\n",
       "      <td>0.897473</td>\n",
       "      <td>1.348510</td>\n",
       "    </tr>\n",
       "    <tr>\n",
       "      <th>7</th>\n",
       "      <td>embedding400</td>\n",
       "      <td>0.924479</td>\n",
       "      <td>0.798340</td>\n",
       "      <td>0.901593</td>\n",
       "      <td>0.846831</td>\n",
       "      <td>0.916484</td>\n",
       "      <td>1.356401</td>\n",
       "    </tr>\n",
       "  </tbody>\n",
       "</table>\n",
       "</div>"
      ],
      "text/plain": [
       "      Algorithm  Accuracy  Precision  ...  F1 Score  AUC Score  Prediction Time\n",
       "0   embedding50  0.922743   0.831933  ...  0.833489   0.892109         1.135451\n",
       "1  embedding100  0.928819   0.830797  ...  0.849817   0.908177         1.223067\n",
       "2  embedding150  0.939019   0.893788  ...  0.863923   0.903027         1.244114\n",
       "3  embedding200  0.939887   0.884990  ...  0.867654   0.908830         1.278391\n",
       "4  embedding250  0.934462   0.909091  ...  0.849151   0.886311         1.274560\n",
       "5  embedding300  0.937934   0.859908  ...  0.867100   0.915744         1.297126\n",
       "6  embedding350  0.942057   0.926439  ...  0.866833   0.897473         1.348510\n",
       "7  embedding400  0.924479   0.798340  ...  0.846831   0.916484         1.356401\n",
       "\n",
       "[8 rows x 7 columns]"
      ]
     },
     "execution_count": 50,
     "metadata": {
      "tags": []
     },
     "output_type": "execute_result"
    }
   ],
   "source": [
    "results"
   ]
  },
  {
   "cell_type": "code",
   "execution_count": 51,
   "metadata": {
    "id": "scsssMTcwdJN"
   },
   "outputs": [],
   "source": [
    "y1=results['AUC Score']"
   ]
  },
  {
   "cell_type": "code",
   "execution_count": 52,
   "metadata": {
    "colab": {
     "base_uri": "https://localhost:8080/",
     "height": 296
    },
    "id": "twTKYt-AMP2N",
    "outputId": "fb420b18-d798-4b98-e85b-490dd25ea7e8"
   },
   "outputs": [
    {
     "data": {
      "text/html": [
       "<div>\n",
       "<style scoped>\n",
       "    .dataframe tbody tr th:only-of-type {\n",
       "        vertical-align: middle;\n",
       "    }\n",
       "\n",
       "    .dataframe tbody tr th {\n",
       "        vertical-align: top;\n",
       "    }\n",
       "\n",
       "    .dataframe thead th {\n",
       "        text-align: right;\n",
       "    }\n",
       "</style>\n",
       "<table border=\"1\" class=\"dataframe\">\n",
       "  <thead>\n",
       "    <tr style=\"text-align: right;\">\n",
       "      <th></th>\n",
       "      <th>Algorithm</th>\n",
       "      <th>Accuracy</th>\n",
       "      <th>Precision</th>\n",
       "      <th>Recall</th>\n",
       "      <th>F1 Score</th>\n",
       "      <th>AUC Score</th>\n",
       "      <th>Prediction Time</th>\n",
       "    </tr>\n",
       "  </thead>\n",
       "  <tbody>\n",
       "    <tr>\n",
       "      <th>0</th>\n",
       "      <td>embedding400</td>\n",
       "      <td>0.924479</td>\n",
       "      <td>0.798340</td>\n",
       "      <td>0.901593</td>\n",
       "      <td>0.846831</td>\n",
       "      <td>0.916484</td>\n",
       "      <td>1.356401</td>\n",
       "    </tr>\n",
       "    <tr>\n",
       "      <th>1</th>\n",
       "      <td>embedding300</td>\n",
       "      <td>0.937934</td>\n",
       "      <td>0.859908</td>\n",
       "      <td>0.874414</td>\n",
       "      <td>0.867100</td>\n",
       "      <td>0.915744</td>\n",
       "      <td>1.297126</td>\n",
       "    </tr>\n",
       "    <tr>\n",
       "      <th>2</th>\n",
       "      <td>embedding200</td>\n",
       "      <td>0.939887</td>\n",
       "      <td>0.884990</td>\n",
       "      <td>0.850984</td>\n",
       "      <td>0.867654</td>\n",
       "      <td>0.908830</td>\n",
       "      <td>1.278391</td>\n",
       "    </tr>\n",
       "    <tr>\n",
       "      <th>3</th>\n",
       "      <td>embedding100</td>\n",
       "      <td>0.928819</td>\n",
       "      <td>0.830797</td>\n",
       "      <td>0.869728</td>\n",
       "      <td>0.849817</td>\n",
       "      <td>0.908177</td>\n",
       "      <td>1.223067</td>\n",
       "    </tr>\n",
       "    <tr>\n",
       "      <th>4</th>\n",
       "      <td>embedding150</td>\n",
       "      <td>0.939019</td>\n",
       "      <td>0.893788</td>\n",
       "      <td>0.835989</td>\n",
       "      <td>0.863923</td>\n",
       "      <td>0.903027</td>\n",
       "      <td>1.244114</td>\n",
       "    </tr>\n",
       "    <tr>\n",
       "      <th>5</th>\n",
       "      <td>embedding350</td>\n",
       "      <td>0.942057</td>\n",
       "      <td>0.926439</td>\n",
       "      <td>0.814433</td>\n",
       "      <td>0.866833</td>\n",
       "      <td>0.897473</td>\n",
       "      <td>1.348510</td>\n",
       "    </tr>\n",
       "    <tr>\n",
       "      <th>6</th>\n",
       "      <td>embedding50</td>\n",
       "      <td>0.922743</td>\n",
       "      <td>0.831933</td>\n",
       "      <td>0.835052</td>\n",
       "      <td>0.833489</td>\n",
       "      <td>0.892109</td>\n",
       "      <td>1.135451</td>\n",
       "    </tr>\n",
       "    <tr>\n",
       "      <th>7</th>\n",
       "      <td>embedding250</td>\n",
       "      <td>0.934462</td>\n",
       "      <td>0.909091</td>\n",
       "      <td>0.796626</td>\n",
       "      <td>0.849151</td>\n",
       "      <td>0.886311</td>\n",
       "      <td>1.274560</td>\n",
       "    </tr>\n",
       "  </tbody>\n",
       "</table>\n",
       "</div>"
      ],
      "text/plain": [
       "      Algorithm  Accuracy  Precision  ...  F1 Score  AUC Score  Prediction Time\n",
       "0  embedding400  0.924479   0.798340  ...  0.846831   0.916484         1.356401\n",
       "1  embedding300  0.937934   0.859908  ...  0.867100   0.915744         1.297126\n",
       "2  embedding200  0.939887   0.884990  ...  0.867654   0.908830         1.278391\n",
       "3  embedding100  0.928819   0.830797  ...  0.849817   0.908177         1.223067\n",
       "4  embedding150  0.939019   0.893788  ...  0.863923   0.903027         1.244114\n",
       "5  embedding350  0.942057   0.926439  ...  0.866833   0.897473         1.348510\n",
       "6   embedding50  0.922743   0.831933  ...  0.833489   0.892109         1.135451\n",
       "7  embedding250  0.934462   0.909091  ...  0.849151   0.886311         1.274560\n",
       "\n",
       "[8 rows x 7 columns]"
      ]
     },
     "execution_count": 52,
     "metadata": {
      "tags": []
     },
     "output_type": "execute_result"
    }
   ],
   "source": [
    "results.sort_values(by = 'AUC Score', inplace = True, ascending = False)\n",
    "results.reset_index(drop = True)"
   ]
  },
  {
   "cell_type": "markdown",
   "metadata": {
    "id": "zFEgZzYznJwT"
   },
   "source": [
    "SKIP GRAM"
   ]
  },
  {
   "cell_type": "code",
   "execution_count": 53,
   "metadata": {
    "colab": {
     "base_uri": "https://localhost:8080/"
    },
    "id": "j2HUW8VLnIXt",
    "outputId": "365330ae-f47c-4866-9348-3ec7c336b69a"
   },
   "outputs": [
    {
     "name": "stderr",
     "output_type": "stream",
     "text": [
      "/usr/local/lib/python3.7/dist-packages/ipykernel_launcher.py:13: DeprecationWarning: Call to deprecated `__getitem__` (Method will be removed in 4.0.0, use self.wv.__getitem__() instead).\n",
      "  del sys.path[0]\n"
     ]
    },
    {
     "name": "stdout",
     "output_type": "stream",
     "text": [
      "Epoch 1/10\n",
      "336/336 [==============================] - 6s 11ms/step - loss: 0.3926 - accuracy: 0.8413\n",
      "Epoch 2/10\n",
      "336/336 [==============================] - 4s 11ms/step - loss: 0.3042 - accuracy: 0.8808\n",
      "Epoch 3/10\n",
      "336/336 [==============================] - 4s 11ms/step - loss: 0.2527 - accuracy: 0.9026\n",
      "Epoch 4/10\n",
      "336/336 [==============================] - 4s 11ms/step - loss: 0.2110 - accuracy: 0.9228\n",
      "Epoch 5/10\n",
      "336/336 [==============================] - 4s 11ms/step - loss: 0.1892 - accuracy: 0.9293\n",
      "Epoch 6/10\n",
      "336/336 [==============================] - 4s 11ms/step - loss: 0.1695 - accuracy: 0.9370\n",
      "Epoch 7/10\n",
      "336/336 [==============================] - 4s 11ms/step - loss: 0.1484 - accuracy: 0.9459\n",
      "Epoch 8/10\n",
      "336/336 [==============================] - 4s 11ms/step - loss: 0.1311 - accuracy: 0.9534\n",
      "Epoch 9/10\n",
      "336/336 [==============================] - 4s 11ms/step - loss: 0.1164 - accuracy: 0.9584\n",
      "Epoch 10/10\n",
      "336/336 [==============================] - 4s 11ms/step - loss: 0.1158 - accuracy: 0.9592\n"
     ]
    },
    {
     "name": "stderr",
     "output_type": "stream",
     "text": [
      "/usr/local/lib/python3.7/dist-packages/ipykernel_launcher.py:13: DeprecationWarning: Call to deprecated `__getitem__` (Method will be removed in 4.0.0, use self.wv.__getitem__() instead).\n",
      "  del sys.path[0]\n"
     ]
    },
    {
     "name": "stdout",
     "output_type": "stream",
     "text": [
      "Epoch 1/10\n",
      "336/336 [==============================] - 7s 12ms/step - loss: 0.3973 - accuracy: 0.8383\n",
      "Epoch 2/10\n",
      "336/336 [==============================] - 4s 12ms/step - loss: 0.3126 - accuracy: 0.8771\n",
      "Epoch 3/10\n",
      "336/336 [==============================] - 4s 12ms/step - loss: 0.2412 - accuracy: 0.9068\n",
      "Epoch 4/10\n",
      "336/336 [==============================] - 4s 12ms/step - loss: 0.1956 - accuracy: 0.9283\n",
      "Epoch 5/10\n",
      "336/336 [==============================] - 4s 12ms/step - loss: 0.1527 - accuracy: 0.9434\n",
      "Epoch 6/10\n",
      "336/336 [==============================] - 4s 12ms/step - loss: 0.1257 - accuracy: 0.9551\n",
      "Epoch 7/10\n",
      "336/336 [==============================] - 4s 12ms/step - loss: 0.1068 - accuracy: 0.9614\n",
      "Epoch 8/10\n",
      "336/336 [==============================] - 4s 12ms/step - loss: 0.0986 - accuracy: 0.9621\n",
      "Epoch 9/10\n",
      "336/336 [==============================] - 4s 12ms/step - loss: 0.0767 - accuracy: 0.9719\n",
      "Epoch 10/10\n",
      "336/336 [==============================] - 4s 12ms/step - loss: 0.0676 - accuracy: 0.9759\n"
     ]
    },
    {
     "name": "stderr",
     "output_type": "stream",
     "text": [
      "/usr/local/lib/python3.7/dist-packages/ipykernel_launcher.py:13: DeprecationWarning: Call to deprecated `__getitem__` (Method will be removed in 4.0.0, use self.wv.__getitem__() instead).\n",
      "  del sys.path[0]\n"
     ]
    },
    {
     "name": "stdout",
     "output_type": "stream",
     "text": [
      "Epoch 1/10\n",
      "336/336 [==============================] - 7s 12ms/step - loss: 0.4075 - accuracy: 0.8348\n",
      "Epoch 2/10\n",
      "336/336 [==============================] - 4s 12ms/step - loss: 0.3154 - accuracy: 0.8720\n",
      "Epoch 3/10\n",
      "336/336 [==============================] - 4s 12ms/step - loss: 0.2376 - accuracy: 0.9093\n",
      "Epoch 4/10\n",
      "336/336 [==============================] - 4s 12ms/step - loss: 0.1865 - accuracy: 0.9293\n",
      "Epoch 5/10\n",
      "336/336 [==============================] - 4s 12ms/step - loss: 0.1386 - accuracy: 0.9501\n",
      "Epoch 6/10\n",
      "336/336 [==============================] - 4s 12ms/step - loss: 0.1107 - accuracy: 0.9603\n",
      "Epoch 7/10\n",
      "336/336 [==============================] - 4s 12ms/step - loss: 0.0932 - accuracy: 0.9664\n",
      "Epoch 8/10\n",
      "336/336 [==============================] - 4s 12ms/step - loss: 0.0709 - accuracy: 0.9751\n",
      "Epoch 9/10\n",
      "336/336 [==============================] - 4s 12ms/step - loss: 0.0595 - accuracy: 0.9769\n",
      "Epoch 10/10\n",
      "336/336 [==============================] - 4s 12ms/step - loss: 0.0447 - accuracy: 0.9848\n"
     ]
    },
    {
     "name": "stderr",
     "output_type": "stream",
     "text": [
      "/usr/local/lib/python3.7/dist-packages/ipykernel_launcher.py:13: DeprecationWarning: Call to deprecated `__getitem__` (Method will be removed in 4.0.0, use self.wv.__getitem__() instead).\n",
      "  del sys.path[0]\n"
     ]
    },
    {
     "name": "stdout",
     "output_type": "stream",
     "text": [
      "Epoch 1/10\n",
      "336/336 [==============================] - 7s 12ms/step - loss: 0.3940 - accuracy: 0.8366\n",
      "Epoch 2/10\n",
      "336/336 [==============================] - 4s 12ms/step - loss: 0.3096 - accuracy: 0.8765\n",
      "Epoch 3/10\n",
      "336/336 [==============================] - 4s 12ms/step - loss: 0.2395 - accuracy: 0.9080\n",
      "Epoch 4/10\n",
      "336/336 [==============================] - 4s 12ms/step - loss: 0.1872 - accuracy: 0.9305\n",
      "Epoch 5/10\n",
      "336/336 [==============================] - 4s 12ms/step - loss: 0.1426 - accuracy: 0.9478\n",
      "Epoch 6/10\n",
      "336/336 [==============================] - 4s 12ms/step - loss: 0.1144 - accuracy: 0.9590\n",
      "Epoch 7/10\n",
      "336/336 [==============================] - 4s 12ms/step - loss: 0.0800 - accuracy: 0.9727\n",
      "Epoch 8/10\n",
      "336/336 [==============================] - 4s 12ms/step - loss: 0.0669 - accuracy: 0.9756\n",
      "Epoch 9/10\n",
      "336/336 [==============================] - 4s 12ms/step - loss: 0.0551 - accuracy: 0.9794\n",
      "Epoch 10/10\n",
      "336/336 [==============================] - 4s 12ms/step - loss: 0.0520 - accuracy: 0.9815\n"
     ]
    },
    {
     "name": "stderr",
     "output_type": "stream",
     "text": [
      "/usr/local/lib/python3.7/dist-packages/ipykernel_launcher.py:13: DeprecationWarning: Call to deprecated `__getitem__` (Method will be removed in 4.0.0, use self.wv.__getitem__() instead).\n",
      "  del sys.path[0]\n"
     ]
    },
    {
     "name": "stdout",
     "output_type": "stream",
     "text": [
      "Epoch 1/10\n",
      "336/336 [==============================] - 7s 12ms/step - loss: 0.4031 - accuracy: 0.8336\n",
      "Epoch 2/10\n",
      "336/336 [==============================] - 4s 12ms/step - loss: 0.3059 - accuracy: 0.8783\n",
      "Epoch 3/10\n",
      "336/336 [==============================] - 4s 12ms/step - loss: 0.2244 - accuracy: 0.9153\n",
      "Epoch 4/10\n",
      "336/336 [==============================] - 4s 12ms/step - loss: 0.1734 - accuracy: 0.9367\n",
      "Epoch 5/10\n",
      "336/336 [==============================] - 4s 12ms/step - loss: 0.1275 - accuracy: 0.9569\n",
      "Epoch 6/10\n",
      "336/336 [==============================] - 4s 12ms/step - loss: 0.0913 - accuracy: 0.9692\n",
      "Epoch 7/10\n",
      "336/336 [==============================] - 4s 12ms/step - loss: 0.0687 - accuracy: 0.9767\n",
      "Epoch 8/10\n",
      "336/336 [==============================] - 4s 12ms/step - loss: 0.0574 - accuracy: 0.9802\n",
      "Epoch 9/10\n",
      "336/336 [==============================] - 4s 12ms/step - loss: 0.0475 - accuracy: 0.9828\n",
      "Epoch 10/10\n",
      "336/336 [==============================] - 4s 12ms/step - loss: 0.0381 - accuracy: 0.9871\n"
     ]
    },
    {
     "name": "stderr",
     "output_type": "stream",
     "text": [
      "/usr/local/lib/python3.7/dist-packages/ipykernel_launcher.py:13: DeprecationWarning: Call to deprecated `__getitem__` (Method will be removed in 4.0.0, use self.wv.__getitem__() instead).\n",
      "  del sys.path[0]\n"
     ]
    },
    {
     "name": "stdout",
     "output_type": "stream",
     "text": [
      "Epoch 1/10\n",
      "336/336 [==============================] - 7s 13ms/step - loss: 0.4073 - accuracy: 0.8300\n",
      "Epoch 2/10\n",
      "336/336 [==============================] - 4s 12ms/step - loss: 0.3062 - accuracy: 0.8776\n",
      "Epoch 3/10\n",
      "336/336 [==============================] - 4s 13ms/step - loss: 0.2278 - accuracy: 0.9140\n",
      "Epoch 4/10\n",
      "336/336 [==============================] - 4s 12ms/step - loss: 0.1680 - accuracy: 0.9394\n",
      "Epoch 5/10\n",
      "336/336 [==============================] - 4s 12ms/step - loss: 0.1288 - accuracy: 0.9549\n",
      "Epoch 6/10\n",
      "336/336 [==============================] - 4s 13ms/step - loss: 0.0953 - accuracy: 0.9663\n",
      "Epoch 7/10\n",
      "336/336 [==============================] - 4s 12ms/step - loss: 0.0714 - accuracy: 0.9753\n",
      "Epoch 8/10\n",
      "336/336 [==============================] - 4s 12ms/step - loss: 0.0469 - accuracy: 0.9826\n",
      "Epoch 9/10\n",
      "336/336 [==============================] - 4s 12ms/step - loss: 0.0398 - accuracy: 0.9868\n",
      "Epoch 10/10\n",
      "336/336 [==============================] - 4s 12ms/step - loss: 0.0322 - accuracy: 0.9887\n"
     ]
    },
    {
     "name": "stderr",
     "output_type": "stream",
     "text": [
      "/usr/local/lib/python3.7/dist-packages/ipykernel_launcher.py:13: DeprecationWarning: Call to deprecated `__getitem__` (Method will be removed in 4.0.0, use self.wv.__getitem__() instead).\n",
      "  del sys.path[0]\n"
     ]
    },
    {
     "name": "stdout",
     "output_type": "stream",
     "text": [
      "Epoch 1/10\n",
      "336/336 [==============================] - 7s 13ms/step - loss: 0.3979 - accuracy: 0.8378\n",
      "Epoch 2/10\n",
      "336/336 [==============================] - 4s 13ms/step - loss: 0.3015 - accuracy: 0.8767\n",
      "Epoch 3/10\n",
      "336/336 [==============================] - 4s 13ms/step - loss: 0.2167 - accuracy: 0.9152\n",
      "Epoch 4/10\n",
      "336/336 [==============================] - 4s 13ms/step - loss: 0.1576 - accuracy: 0.9430\n",
      "Epoch 5/10\n",
      "336/336 [==============================] - 4s 13ms/step - loss: 0.1057 - accuracy: 0.9610\n",
      "Epoch 6/10\n",
      "336/336 [==============================] - 4s 13ms/step - loss: 0.0712 - accuracy: 0.9757\n",
      "Epoch 7/10\n",
      "336/336 [==============================] - 4s 13ms/step - loss: 0.0605 - accuracy: 0.9786\n",
      "Epoch 8/10\n",
      "336/336 [==============================] - 4s 13ms/step - loss: 0.0464 - accuracy: 0.9842\n",
      "Epoch 9/10\n",
      "336/336 [==============================] - 4s 13ms/step - loss: 0.0340 - accuracy: 0.9872\n",
      "Epoch 10/10\n",
      "336/336 [==============================] - 4s 13ms/step - loss: 0.0377 - accuracy: 0.9876\n"
     ]
    },
    {
     "name": "stderr",
     "output_type": "stream",
     "text": [
      "/usr/local/lib/python3.7/dist-packages/ipykernel_launcher.py:13: DeprecationWarning: Call to deprecated `__getitem__` (Method will be removed in 4.0.0, use self.wv.__getitem__() instead).\n",
      "  del sys.path[0]\n"
     ]
    },
    {
     "name": "stdout",
     "output_type": "stream",
     "text": [
      "Epoch 1/10\n",
      "336/336 [==============================] - 7s 13ms/step - loss: 0.3960 - accuracy: 0.8385\n",
      "Epoch 2/10\n",
      "336/336 [==============================] - 4s 13ms/step - loss: 0.3087 - accuracy: 0.8789\n",
      "Epoch 3/10\n",
      "336/336 [==============================] - 4s 13ms/step - loss: 0.2240 - accuracy: 0.9163\n",
      "Epoch 4/10\n",
      "336/336 [==============================] - 4s 13ms/step - loss: 0.1623 - accuracy: 0.9418\n",
      "Epoch 5/10\n",
      "336/336 [==============================] - 4s 13ms/step - loss: 0.1227 - accuracy: 0.9556\n",
      "Epoch 6/10\n",
      "336/336 [==============================] - 4s 13ms/step - loss: 0.0851 - accuracy: 0.9693\n",
      "Epoch 7/10\n",
      "336/336 [==============================] - 4s 13ms/step - loss: 0.0609 - accuracy: 0.9794\n",
      "Epoch 8/10\n",
      "336/336 [==============================] - 4s 13ms/step - loss: 0.0448 - accuracy: 0.9839\n",
      "Epoch 9/10\n",
      "336/336 [==============================] - 4s 13ms/step - loss: 0.0374 - accuracy: 0.9875\n",
      "Epoch 10/10\n",
      "336/336 [==============================] - 4s 13ms/step - loss: 0.0319 - accuracy: 0.9886\n"
     ]
    }
   ],
   "source": [
    "re = pipeline(X_train, y_train, X_test, y_test,n,1)\n",
    "results = pd.DataFrame(re)\n",
    "results = results.reindex(columns = ['Algorithm', 'Accuracy', 'Precision', 'Recall', 'F1 Score','AUC Score', 'Prediction Time'])"
   ]
  },
  {
   "cell_type": "code",
   "execution_count": 54,
   "metadata": {
    "colab": {
     "base_uri": "https://localhost:8080/",
     "height": 296
    },
    "id": "lCxzwSIowZI0",
    "outputId": "d907a91a-ae0d-4fd3-df12-6f97050f393b"
   },
   "outputs": [
    {
     "data": {
      "text/html": [
       "<div>\n",
       "<style scoped>\n",
       "    .dataframe tbody tr th:only-of-type {\n",
       "        vertical-align: middle;\n",
       "    }\n",
       "\n",
       "    .dataframe tbody tr th {\n",
       "        vertical-align: top;\n",
       "    }\n",
       "\n",
       "    .dataframe thead th {\n",
       "        text-align: right;\n",
       "    }\n",
       "</style>\n",
       "<table border=\"1\" class=\"dataframe\">\n",
       "  <thead>\n",
       "    <tr style=\"text-align: right;\">\n",
       "      <th></th>\n",
       "      <th>Algorithm</th>\n",
       "      <th>Accuracy</th>\n",
       "      <th>Precision</th>\n",
       "      <th>Recall</th>\n",
       "      <th>F1 Score</th>\n",
       "      <th>AUC Score</th>\n",
       "      <th>Prediction Time</th>\n",
       "    </tr>\n",
       "  </thead>\n",
       "  <tbody>\n",
       "    <tr>\n",
       "      <th>0</th>\n",
       "      <td>embedding50</td>\n",
       "      <td>0.943576</td>\n",
       "      <td>0.895201</td>\n",
       "      <td>0.856607</td>\n",
       "      <td>0.875479</td>\n",
       "      <td>0.913195</td>\n",
       "      <td>1.139763</td>\n",
       "    </tr>\n",
       "    <tr>\n",
       "      <th>1</th>\n",
       "      <td>embedding100</td>\n",
       "      <td>0.950521</td>\n",
       "      <td>0.907677</td>\n",
       "      <td>0.875351</td>\n",
       "      <td>0.891221</td>\n",
       "      <td>0.924261</td>\n",
       "      <td>1.221056</td>\n",
       "    </tr>\n",
       "    <tr>\n",
       "      <th>2</th>\n",
       "      <td>embedding150</td>\n",
       "      <td>0.932509</td>\n",
       "      <td>0.813433</td>\n",
       "      <td>0.919400</td>\n",
       "      <td>0.863176</td>\n",
       "      <td>0.927929</td>\n",
       "      <td>1.292635</td>\n",
       "    </tr>\n",
       "    <tr>\n",
       "      <th>3</th>\n",
       "      <td>embedding200</td>\n",
       "      <td>0.941840</td>\n",
       "      <td>0.858296</td>\n",
       "      <td>0.896907</td>\n",
       "      <td>0.877177</td>\n",
       "      <td>0.926144</td>\n",
       "      <td>1.270833</td>\n",
       "    </tr>\n",
       "    <tr>\n",
       "      <th>4</th>\n",
       "      <td>embedding250</td>\n",
       "      <td>0.943576</td>\n",
       "      <td>0.856764</td>\n",
       "      <td>0.908154</td>\n",
       "      <td>0.881711</td>\n",
       "      <td>0.931202</td>\n",
       "      <td>1.278686</td>\n",
       "    </tr>\n",
       "    <tr>\n",
       "      <th>5</th>\n",
       "      <td>embedding300</td>\n",
       "      <td>0.950955</td>\n",
       "      <td>0.903164</td>\n",
       "      <td>0.882849</td>\n",
       "      <td>0.892891</td>\n",
       "      <td>0.927163</td>\n",
       "      <td>1.381861</td>\n",
       "    </tr>\n",
       "    <tr>\n",
       "      <th>6</th>\n",
       "      <td>embedding350</td>\n",
       "      <td>0.956814</td>\n",
       "      <td>0.908663</td>\n",
       "      <td>0.904405</td>\n",
       "      <td>0.906529</td>\n",
       "      <td>0.938506</td>\n",
       "      <td>1.328349</td>\n",
       "    </tr>\n",
       "    <tr>\n",
       "      <th>7</th>\n",
       "      <td>embedding400</td>\n",
       "      <td>0.952691</td>\n",
       "      <td>0.913340</td>\n",
       "      <td>0.879100</td>\n",
       "      <td>0.895893</td>\n",
       "      <td>0.926983</td>\n",
       "      <td>1.318230</td>\n",
       "    </tr>\n",
       "  </tbody>\n",
       "</table>\n",
       "</div>"
      ],
      "text/plain": [
       "      Algorithm  Accuracy  Precision  ...  F1 Score  AUC Score  Prediction Time\n",
       "0   embedding50  0.943576   0.895201  ...  0.875479   0.913195         1.139763\n",
       "1  embedding100  0.950521   0.907677  ...  0.891221   0.924261         1.221056\n",
       "2  embedding150  0.932509   0.813433  ...  0.863176   0.927929         1.292635\n",
       "3  embedding200  0.941840   0.858296  ...  0.877177   0.926144         1.270833\n",
       "4  embedding250  0.943576   0.856764  ...  0.881711   0.931202         1.278686\n",
       "5  embedding300  0.950955   0.903164  ...  0.892891   0.927163         1.381861\n",
       "6  embedding350  0.956814   0.908663  ...  0.906529   0.938506         1.328349\n",
       "7  embedding400  0.952691   0.913340  ...  0.895893   0.926983         1.318230\n",
       "\n",
       "[8 rows x 7 columns]"
      ]
     },
     "execution_count": 54,
     "metadata": {
      "tags": []
     },
     "output_type": "execute_result"
    }
   ],
   "source": [
    "results"
   ]
  },
  {
   "cell_type": "code",
   "execution_count": 55,
   "metadata": {
    "id": "aJP8HDk3wlvi"
   },
   "outputs": [],
   "source": [
    "y2=results['AUC Score']"
   ]
  },
  {
   "cell_type": "code",
   "execution_count": 56,
   "metadata": {
    "colab": {
     "base_uri": "https://localhost:8080/",
     "height": 296
    },
    "id": "iWcdrLi0wZI1",
    "outputId": "18010184-9f70-4b56-e987-a4e3d6b14f79"
   },
   "outputs": [
    {
     "data": {
      "text/html": [
       "<div>\n",
       "<style scoped>\n",
       "    .dataframe tbody tr th:only-of-type {\n",
       "        vertical-align: middle;\n",
       "    }\n",
       "\n",
       "    .dataframe tbody tr th {\n",
       "        vertical-align: top;\n",
       "    }\n",
       "\n",
       "    .dataframe thead th {\n",
       "        text-align: right;\n",
       "    }\n",
       "</style>\n",
       "<table border=\"1\" class=\"dataframe\">\n",
       "  <thead>\n",
       "    <tr style=\"text-align: right;\">\n",
       "      <th></th>\n",
       "      <th>Algorithm</th>\n",
       "      <th>Accuracy</th>\n",
       "      <th>Precision</th>\n",
       "      <th>Recall</th>\n",
       "      <th>F1 Score</th>\n",
       "      <th>AUC Score</th>\n",
       "      <th>Prediction Time</th>\n",
       "    </tr>\n",
       "  </thead>\n",
       "  <tbody>\n",
       "    <tr>\n",
       "      <th>0</th>\n",
       "      <td>embedding350</td>\n",
       "      <td>0.956814</td>\n",
       "      <td>0.908663</td>\n",
       "      <td>0.904405</td>\n",
       "      <td>0.906529</td>\n",
       "      <td>0.938506</td>\n",
       "      <td>1.328349</td>\n",
       "    </tr>\n",
       "    <tr>\n",
       "      <th>1</th>\n",
       "      <td>embedding250</td>\n",
       "      <td>0.943576</td>\n",
       "      <td>0.856764</td>\n",
       "      <td>0.908154</td>\n",
       "      <td>0.881711</td>\n",
       "      <td>0.931202</td>\n",
       "      <td>1.278686</td>\n",
       "    </tr>\n",
       "    <tr>\n",
       "      <th>2</th>\n",
       "      <td>embedding150</td>\n",
       "      <td>0.932509</td>\n",
       "      <td>0.813433</td>\n",
       "      <td>0.919400</td>\n",
       "      <td>0.863176</td>\n",
       "      <td>0.927929</td>\n",
       "      <td>1.292635</td>\n",
       "    </tr>\n",
       "    <tr>\n",
       "      <th>3</th>\n",
       "      <td>embedding300</td>\n",
       "      <td>0.950955</td>\n",
       "      <td>0.903164</td>\n",
       "      <td>0.882849</td>\n",
       "      <td>0.892891</td>\n",
       "      <td>0.927163</td>\n",
       "      <td>1.381861</td>\n",
       "    </tr>\n",
       "    <tr>\n",
       "      <th>4</th>\n",
       "      <td>embedding400</td>\n",
       "      <td>0.952691</td>\n",
       "      <td>0.913340</td>\n",
       "      <td>0.879100</td>\n",
       "      <td>0.895893</td>\n",
       "      <td>0.926983</td>\n",
       "      <td>1.318230</td>\n",
       "    </tr>\n",
       "    <tr>\n",
       "      <th>5</th>\n",
       "      <td>embedding200</td>\n",
       "      <td>0.941840</td>\n",
       "      <td>0.858296</td>\n",
       "      <td>0.896907</td>\n",
       "      <td>0.877177</td>\n",
       "      <td>0.926144</td>\n",
       "      <td>1.270833</td>\n",
       "    </tr>\n",
       "    <tr>\n",
       "      <th>6</th>\n",
       "      <td>embedding100</td>\n",
       "      <td>0.950521</td>\n",
       "      <td>0.907677</td>\n",
       "      <td>0.875351</td>\n",
       "      <td>0.891221</td>\n",
       "      <td>0.924261</td>\n",
       "      <td>1.221056</td>\n",
       "    </tr>\n",
       "    <tr>\n",
       "      <th>7</th>\n",
       "      <td>embedding50</td>\n",
       "      <td>0.943576</td>\n",
       "      <td>0.895201</td>\n",
       "      <td>0.856607</td>\n",
       "      <td>0.875479</td>\n",
       "      <td>0.913195</td>\n",
       "      <td>1.139763</td>\n",
       "    </tr>\n",
       "  </tbody>\n",
       "</table>\n",
       "</div>"
      ],
      "text/plain": [
       "      Algorithm  Accuracy  Precision  ...  F1 Score  AUC Score  Prediction Time\n",
       "0  embedding350  0.956814   0.908663  ...  0.906529   0.938506         1.328349\n",
       "1  embedding250  0.943576   0.856764  ...  0.881711   0.931202         1.278686\n",
       "2  embedding150  0.932509   0.813433  ...  0.863176   0.927929         1.292635\n",
       "3  embedding300  0.950955   0.903164  ...  0.892891   0.927163         1.381861\n",
       "4  embedding400  0.952691   0.913340  ...  0.895893   0.926983         1.318230\n",
       "5  embedding200  0.941840   0.858296  ...  0.877177   0.926144         1.270833\n",
       "6  embedding100  0.950521   0.907677  ...  0.891221   0.924261         1.221056\n",
       "7   embedding50  0.943576   0.895201  ...  0.875479   0.913195         1.139763\n",
       "\n",
       "[8 rows x 7 columns]"
      ]
     },
     "execution_count": 56,
     "metadata": {
      "tags": []
     },
     "output_type": "execute_result"
    }
   ],
   "source": [
    "results.sort_values(by = 'AUC Score', inplace = True, ascending = False)\n",
    "results.reset_index(drop = True)"
   ]
  },
  {
   "cell_type": "markdown",
   "metadata": {
    "id": "FEBsJ1JDwu3n"
   },
   "source": [
    "GRAPH"
   ]
  },
  {
   "cell_type": "code",
   "execution_count": 57,
   "metadata": {
    "colab": {
     "base_uri": "https://localhost:8080/"
    },
    "id": "SQiKBlngymH5",
    "outputId": "2618275d-6a3a-41f1-bc44-6ecb72665858"
   },
   "outputs": [
    {
     "data": {
      "text/plain": [
       "0    0.892109\n",
       "1    0.908177\n",
       "2    0.903027\n",
       "3    0.908830\n",
       "4    0.886311\n",
       "5    0.915744\n",
       "6    0.897473\n",
       "7    0.916484\n",
       "Name: AUC Score, dtype: float64"
      ]
     },
     "execution_count": 57,
     "metadata": {
      "tags": []
     },
     "output_type": "execute_result"
    }
   ],
   "source": [
    "y1"
   ]
  },
  {
   "cell_type": "code",
   "execution_count": 58,
   "metadata": {
    "colab": {
     "base_uri": "https://localhost:8080/"
    },
    "id": "X3_hXm0qynuY",
    "outputId": "59f3dd81-a6b0-419b-b31b-66a3ae7fc499"
   },
   "outputs": [
    {
     "data": {
      "text/plain": [
       "0    0.913195\n",
       "1    0.924261\n",
       "2    0.927929\n",
       "3    0.926144\n",
       "4    0.931202\n",
       "5    0.927163\n",
       "6    0.938506\n",
       "7    0.926983\n",
       "Name: AUC Score, dtype: float64"
      ]
     },
     "execution_count": 58,
     "metadata": {
      "tags": []
     },
     "output_type": "execute_result"
    }
   ],
   "source": [
    "y2"
   ]
  },
  {
   "cell_type": "code",
   "execution_count": 59,
   "metadata": {
    "colab": {
     "base_uri": "https://localhost:8080/"
    },
    "id": "wocctiaXzFhf",
    "outputId": "c79699b0-3c33-4cfd-ca9c-04c70a9e01d6"
   },
   "outputs": [
    {
     "data": {
      "text/plain": [
       "array([0.89210922, 0.90817673, 0.90302685, 0.90883007, 0.88631077,\n",
       "       0.91574426, 0.89747348, 0.91648428])"
      ]
     },
     "execution_count": 59,
     "metadata": {
      "tags": []
     },
     "output_type": "execute_result"
    }
   ],
   "source": [
    "y1=np.array(y1)\n",
    "y1"
   ]
  },
  {
   "cell_type": "code",
   "execution_count": 60,
   "metadata": {
    "colab": {
     "base_uri": "https://localhost:8080/"
    },
    "id": "sa_C_a-4zXuP",
    "outputId": "a36831ad-45fa-45a2-c670-af3b19d25cce"
   },
   "outputs": [
    {
     "data": {
      "text/plain": [
       "array([0.91319493, 0.92426144, 0.92792941, 0.92614353, 0.93120196,\n",
       "       0.92716305, 0.93850574, 0.92698307])"
      ]
     },
     "execution_count": 60,
     "metadata": {
      "tags": []
     },
     "output_type": "execute_result"
    }
   ],
   "source": [
    "y2=np.array(y2)\n",
    "y2"
   ]
  },
  {
   "cell_type": "code",
   "execution_count": 61,
   "metadata": {
    "colab": {
     "base_uri": "https://localhost:8080/",
     "height": 296
    },
    "id": "6hdRhocaZiRD",
    "outputId": "e4fe7ead-022a-4d5c-a31f-06851984d058"
   },
   "outputs": [
    {
     "data": {
      "image/png": "[encoded data removed]",
      "text/plain": [
       "<Figure size 432x288 with 1 Axes>"
      ]
     },
     "metadata": {
      "needs_background": "light",
      "tags": []
     },
     "output_type": "display_data"
    }
   ],
   "source": [
    "plt.plot(n,y1,label=\"CBOW\",marker='o')\n",
    "plt.plot(n,y2,label=\"SKIP GRAM\",marker='o')\n",
    "plt.axis([0,450,0.75,1.00])\n",
    "plt.xlabel('EMBEDDING_DIM')\n",
    "plt.ylabel('AUC-Score')\n",
    "plt.legend()\n",
    "plt.title('BiLSTM AUC-Score For Different Embedding Dimensions')\n",
    "plt.show()\n"
   ]
  },
  {
   "cell_type": "code",
   "execution_count": 61,
   "metadata": {
    "id": "RgHGcjnBzacE"
   },
   "outputs": [],
   "source": []
  }
 ],
 "metadata": {
  "accelerator": "GPU",
  "colab": {
   "collapsed_sections": [],
   "name": "formspring_word2vec_BiLSTM.ipynb",
   "provenance": []
  },
  "kernelspec": {
   "display_name": "Python 3",
   "language": "python",
   "name": "python3"
  },
  "language_info": {
   "codemirror_mode": {
    "name": "ipython",
    "version": 3
   },
   "file_extension": ".py",
   "mimetype": "text/x-python",
   "name": "python",
   "nbconvert_exporter": "python",
   "pygments_lexer": "ipython3",
   "version": "3.8.8"
  }
 },
 "nbformat": 4,
 "nbformat_minor": 1
}
