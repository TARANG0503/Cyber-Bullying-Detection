{
 "cells": [
  {
   "cell_type": "markdown",
   "metadata": {
    "id": "c1mOQMtve_1h"
   },
   "source": [
    "Import Necessary Libraries"
   ]
  },
  {
   "cell_type": "code",
   "execution_count": 2,
   "metadata": {
    "id": "9vprswKAZFsV"
   },
   "outputs": [],
   "source": [
    "import numpy as np\n",
    "import pandas as pd\n",
    "import matplotlib.pyplot as plt\n",
    "from sklearn.metrics import accuracy_score,confusion_matrix,classification_report,roc_auc_score,roc_curve,precision_recall_curve,f1_score,auc\n",
    "from sklearn.metrics import f1_score, accuracy_score, precision_score, recall_score, make_scorer\n",
    "from sklearn.model_selection import train_test_split\n",
    "from time import time\n",
    "import nltk\n",
    "from nltk.stem import PorterStemmer,WordNetLemmatizer\n",
    "from nltk.corpus import stopwords\n",
    "from collections import Counter\n",
    "import tensorflow \n",
    "from keras.preprocessing.text import Tokenizer\n",
    "from tensorflow.keras.preprocessing.text import one_hot\n",
    "from tensorflow.keras.preprocessing.sequence import pad_sequences\n",
    "from tensorflow.keras import layers\n",
    "from tensorflow.keras.models import Sequential\n",
    "from keras_self_attention import SeqSelfAttention\n",
    "import re\n",
    "import gensim"
   ]
  },
  {
   "cell_type": "markdown",
   "metadata": {
    "id": "2L_-_XJ4HY27"
   },
   "source": [
    "Import Dataset"
   ]
  },
  {
   "cell_type": "code",
   "execution_count": 3,
   "metadata": {
    "id": "Ros9Llm1lVDg"
   },
   "outputs": [],
   "source": [
    "formspring='https://raw.githubusercontent.com/eimearfoley/CyberBullyingDetection/master/data/formspring.csv'"
   ]
  },
  {
   "cell_type": "code",
   "execution_count": 4,
   "metadata": {
    "id": "7491c915"
   },
   "outputs": [],
   "source": [
    "df=pd.read_csv(formspring)"
   ]
  },
  {
   "cell_type": "markdown",
   "metadata": {
    "id": "J7pwz3lxLg5w"
   },
   "source": [
    "Analyze Dataset"
   ]
  },
  {
   "cell_type": "code",
   "execution_count": 5,
   "metadata": {
    "colab": {
     "base_uri": "https://localhost:8080/",
     "height": 611
    },
    "id": "_nPQHXRoFlYJ",
    "outputId": "c25c9ad2-8a99-47c3-d0e3-934ab1dc286a"
   },
   "outputs": [
    {
     "name": "stdout",
     "output_type": "stream",
     "text": [
      "<class 'pandas.core.frame.DataFrame'>\n",
      "RangeIndex: 12901 entries, 0 to 12900\n",
      "Data columns (total 14 columns):\n",
      " #   Column     Non-Null Count  Dtype \n",
      "---  ------     --------------  ----- \n",
      " 0   userid     12896 non-null  object\n",
      " 1   post       12852 non-null  object\n",
      " 2   ques       12852 non-null  object\n",
      " 3   ans        12820 non-null  object\n",
      " 4   asker      12801 non-null  object\n",
      " 5   ans1       12759 non-null  object\n",
      " 6   severity1  12788 non-null  object\n",
      " 7   bully1     1909 non-null   object\n",
      " 8   ans2       12701 non-null  object\n",
      " 9   severity2  12739 non-null  object\n",
      " 10  bully2     1786 non-null   object\n",
      " 11  ans3       12655 non-null  object\n",
      " 12  severity3  12698 non-null  object\n",
      " 13  bully3     1780 non-null   object\n",
      "dtypes: object(14)\n",
      "memory usage: 1.4+ MB\n"
     ]
    },
    {
     "data": {
      "text/html": [
       "<div>\n",
       "<style scoped>\n",
       "    .dataframe tbody tr th:only-of-type {\n",
       "        vertical-align: middle;\n",
       "    }\n",
       "\n",
       "    .dataframe tbody tr th {\n",
       "        vertical-align: top;\n",
       "    }\n",
       "\n",
       "    .dataframe thead th {\n",
       "        text-align: right;\n",
       "    }\n",
       "</style>\n",
       "<table border=\"1\" class=\"dataframe\">\n",
       "  <thead>\n",
       "    <tr style=\"text-align: right;\">\n",
       "      <th></th>\n",
       "      <th>userid</th>\n",
       "      <th>post</th>\n",
       "      <th>ques</th>\n",
       "      <th>ans</th>\n",
       "      <th>asker</th>\n",
       "      <th>ans1</th>\n",
       "      <th>severity1</th>\n",
       "      <th>bully1</th>\n",
       "      <th>ans2</th>\n",
       "      <th>severity2</th>\n",
       "      <th>bully2</th>\n",
       "      <th>ans3</th>\n",
       "      <th>severity3</th>\n",
       "      <th>bully3</th>\n",
       "    </tr>\n",
       "  </thead>\n",
       "  <tbody>\n",
       "    <tr>\n",
       "      <th>0</th>\n",
       "      <td>aguitarplayer94</td>\n",
       "      <td>Q: what&amp;#039;s your favorite song? :D&lt;br&gt;A: I ...</td>\n",
       "      <td>what&amp;#039;s your favorite song? :D&lt;br&gt;</td>\n",
       "      <td>I like too many songs to have a favorite</td>\n",
       "      <td>None</td>\n",
       "      <td>No</td>\n",
       "      <td>0</td>\n",
       "      <td>NaN</td>\n",
       "      <td>No</td>\n",
       "      <td>0</td>\n",
       "      <td>NaN</td>\n",
       "      <td>No</td>\n",
       "      <td>0</td>\n",
       "      <td>NaN</td>\n",
       "    </tr>\n",
       "    <tr>\n",
       "      <th>1</th>\n",
       "      <td>aprilpooh15</td>\n",
       "      <td>Q: &lt;3&lt;br&gt;A: &lt;/3 ? haha jk! &lt;33</td>\n",
       "      <td>&lt;3</td>\n",
       "      <td>&lt;/3 ? haha jk! &lt;33</td>\n",
       "      <td>None</td>\n",
       "      <td>No</td>\n",
       "      <td>0</td>\n",
       "      <td>NaN</td>\n",
       "      <td>No</td>\n",
       "      <td>0</td>\n",
       "      <td>NaN</td>\n",
       "      <td>No</td>\n",
       "      <td>0</td>\n",
       "      <td>NaN</td>\n",
       "    </tr>\n",
       "    <tr>\n",
       "      <th>2</th>\n",
       "      <td>aprilpooh15</td>\n",
       "      <td>Q: &amp;quot;hey angel  you duh sexy&amp;quot;&lt;br&gt;A: R...</td>\n",
       "      <td>&amp;quot;hey angel  you duh sexy&amp;quot;</td>\n",
       "      <td>Really?!?! Thanks?! haha</td>\n",
       "      <td>None</td>\n",
       "      <td>No</td>\n",
       "      <td>0</td>\n",
       "      <td>NaN</td>\n",
       "      <td>No</td>\n",
       "      <td>0</td>\n",
       "      <td>NaN</td>\n",
       "      <td>No</td>\n",
       "      <td>0</td>\n",
       "      <td>NaN</td>\n",
       "    </tr>\n",
       "    <tr>\n",
       "      <th>3</th>\n",
       "      <td>aprilpooh15</td>\n",
       "      <td>Q: (:&lt;br&gt;A: ;(</td>\n",
       "      <td>(:</td>\n",
       "      <td>;(</td>\n",
       "      <td>None</td>\n",
       "      <td>No</td>\n",
       "      <td>0</td>\n",
       "      <td>NaN</td>\n",
       "      <td>No</td>\n",
       "      <td>0</td>\n",
       "      <td>NaN</td>\n",
       "      <td>No</td>\n",
       "      <td>0</td>\n",
       "      <td>NaN</td>\n",
       "    </tr>\n",
       "    <tr>\n",
       "      <th>4</th>\n",
       "      <td>aprilpooh15</td>\n",
       "      <td>Q: ******************MEOWWW*******************...</td>\n",
       "      <td>******************MEOWWW*************************</td>\n",
       "      <td>*RAWR*?</td>\n",
       "      <td>None</td>\n",
       "      <td>No</td>\n",
       "      <td>0</td>\n",
       "      <td>NaN</td>\n",
       "      <td>No</td>\n",
       "      <td>0</td>\n",
       "      <td>NaN</td>\n",
       "      <td>No</td>\n",
       "      <td>0</td>\n",
       "      <td>NaN</td>\n",
       "    </tr>\n",
       "  </tbody>\n",
       "</table>\n",
       "</div>"
      ],
      "text/plain": [
       "            userid  ... bully3\n",
       "0  aguitarplayer94  ...    NaN\n",
       "1      aprilpooh15  ...    NaN\n",
       "2      aprilpooh15  ...    NaN\n",
       "3      aprilpooh15  ...    NaN\n",
       "4      aprilpooh15  ...    NaN\n",
       "\n",
       "[5 rows x 14 columns]"
      ]
     },
     "execution_count": 5,
     "metadata": {
      "tags": []
     },
     "output_type": "execute_result"
    }
   ],
   "source": [
    "df.info()\n",
    "df.head()"
   ]
  },
  {
   "cell_type": "code",
   "execution_count": 6,
   "metadata": {
    "colab": {
     "base_uri": "https://localhost:8080/"
    },
    "id": "7nH9GH1dGby0",
    "outputId": "174c047a-e845-4fa6-f7a6-d11d433d3608"
   },
   "outputs": [
    {
     "data": {
      "text/plain": [
       "0    Q: what&#039;s your favorite song? :D<br>A: I ...\n",
       "1                       Q: <3<br>A: </3 ? haha jk! <33\n",
       "2    Q: &quot;hey angel  you duh sexy&quot;<br>A: R...\n",
       "3                                       Q: (:<br>A: ;(\n",
       "4    Q: ******************MEOWWW*******************...\n",
       "5    Q: any makeup tips? i suck at doing my makeup ...\n",
       "6    Q: Apriiiiiiiiiiiill!!! I miss uuuu! It&#039;s...\n",
       "7    Q: Are you a morning or night person?<br>A: Ni...\n",
       "8    Q: are you a trusting person?<br>A: alreadi an...\n",
       "9    Q: are you a trusting person?<br>A: Yes veryy ...\n",
       "Name: post, dtype: object"
      ]
     },
     "execution_count": 6,
     "metadata": {
      "tags": []
     },
     "output_type": "execute_result"
    }
   ],
   "source": [
    "df['post'][:10]"
   ]
  },
  {
   "cell_type": "code",
   "execution_count": 7,
   "metadata": {
    "colab": {
     "base_uri": "https://localhost:8080/"
    },
    "id": "lVCmGlRNGb1F",
    "outputId": "27f0871d-903f-4017-8d30-58ad07b8c4f1"
   },
   "outputs": [
    {
     "data": {
      "text/plain": [
       "0               what&#039;s your favorite song? :D<br>\n",
       "1                                                   <3\n",
       "2                  &quot;hey angel  you duh sexy&quot;\n",
       "3                                                   (:\n",
       "4    ******************MEOWWW*************************\n",
       "5       any makeup tips? i suck at doing my makeup lol\n",
       "6    Apriiiiiiiiiiiill!!! I miss uuuu! It&#039;s Em...\n",
       "7                   Are you a morning or night person?\n",
       "8                           are you a trusting person?\n",
       "9                           are you a trusting person?\n",
       "Name: ques, dtype: object"
      ]
     },
     "execution_count": 7,
     "metadata": {
      "tags": []
     },
     "output_type": "execute_result"
    }
   ],
   "source": [
    "df['ques'][:10]"
   ]
  },
  {
   "cell_type": "code",
   "execution_count": 8,
   "metadata": {
    "colab": {
     "base_uri": "https://localhost:8080/"
    },
    "id": "i2OAxdCGGb57",
    "outputId": "aa73caed-84b8-4ab2-de48-b0a6a18e7bf1"
   },
   "outputs": [
    {
     "data": {
      "text/plain": [
       "0             I like too many songs to have a favorite\n",
       "1                                   </3 ? haha jk! <33\n",
       "2                             Really?!?! Thanks?! haha\n",
       "3                                                   ;(\n",
       "4                                              *RAWR*?\n",
       "5     Sure! Like tell me wht u wnna know?! Like wht...\n",
       "6     EMMA hahahahah :D I MISSSSSeddd YUHHHHh 22222...\n",
       "7                                      Night 4shuree!!\n",
       "8                                       alreadi answrd\n",
       "9         Yes veryy trustin person!!! May i help yuh:!\n",
       "Name: ans, dtype: object"
      ]
     },
     "execution_count": 8,
     "metadata": {
      "tags": []
     },
     "output_type": "execute_result"
    }
   ],
   "source": [
    "df['ans'][:10]"
   ]
  },
  {
   "cell_type": "code",
   "execution_count": 9,
   "metadata": {
    "colab": {
     "base_uri": "https://localhost:8080/"
    },
    "id": "uWXkkBEHMOTJ",
    "outputId": "bb7998f0-5559-4bbd-9f37-56f0830d3f34"
   },
   "outputs": [
    {
     "data": {
      "text/plain": [
       "100    NaN\n",
       "101    NaN\n",
       "102    NaN\n",
       "103    NaN\n",
       "104    NaN\n",
       "105    NaN\n",
       "106    NaN\n",
       "107    NaN\n",
       "108    NaN\n",
       "109    NaN\n",
       "Name: bully1, dtype: object"
      ]
     },
     "execution_count": 9,
     "metadata": {
      "tags": []
     },
     "output_type": "execute_result"
    }
   ],
   "source": [
    "df['bully1'][100:110]"
   ]
  },
  {
   "cell_type": "code",
   "execution_count": 10,
   "metadata": {
    "colab": {
     "base_uri": "https://localhost:8080/"
    },
    "id": "EDf-GYvgL9Bn",
    "outputId": "12997507-97de-493c-d7a7-0baa4d9758c6"
   },
   "outputs": [
    {
     "data": {
      "text/plain": [
       "None                                                                    593\n",
       "Na                                                                       89\n",
       "N/A.                                                                     74\n",
       "no                                                                       47\n",
       "N/a                                                                      47\n",
       "                                                                       ... \n",
       "nigger                                                                    1\n",
       "eat our children                                                          1\n",
       "'FAGGOT' 'Fuckk' 'faggot' 'faggot'                                        1\n",
       "IMA BITE DA TIP OF YO DICK OFFF N SPLATTER IT INTO ITTY BITTY PIECES      1\n",
       "r u a dirty slut                                                          1\n",
       "Name: bully1, Length: 1012, dtype: int64"
      ]
     },
     "execution_count": 10,
     "metadata": {
      "tags": []
     },
     "output_type": "execute_result"
    }
   ],
   "source": [
    "df['bully1'].value_counts()"
   ]
  },
  {
   "cell_type": "code",
   "execution_count": 11,
   "metadata": {
    "colab": {
     "base_uri": "https://localhost:8080/"
    },
    "id": "pVs5_cAbQPsY",
    "outputId": "4ac7511c-d545-40e1-e263-3ee6bedf1d1c"
   },
   "outputs": [
    {
     "name": "stdout",
     "output_type": "stream",
     "text": [
      "No     11693\n",
      "Yes     1038\n",
      "0         12\n",
      "3          5\n",
      "5          5\n",
      "1          2\n",
      "7          1\n",
      "6          1\n",
      "2          1\n",
      "4          1\n",
      "Name: ans1, dtype: int64\n",
      "No     11696\n",
      "Yes     1005\n",
      "Name: ans2, dtype: int64\n",
      "No     11711\n",
      "Yes      944\n",
      "Name: ans3, dtype: int64\n"
     ]
    }
   ],
   "source": [
    "print(df['ans1'].value_counts())\n",
    "print(df['ans2'].value_counts())\n",
    "print(df['ans3'].value_counts())"
   ]
  },
  {
   "cell_type": "code",
   "execution_count": 12,
   "metadata": {
    "id": "JBWzu5jkM6px"
   },
   "outputs": [],
   "source": [
    "df = df[df['post'].notna()]"
   ]
  },
  {
   "cell_type": "code",
   "execution_count": 13,
   "metadata": {
    "colab": {
     "base_uri": "https://localhost:8080/"
    },
    "id": "9yQWU1x3NNYn",
    "outputId": "6721df49-073b-4735-bfd3-1202e765a71c"
   },
   "outputs": [
    {
     "name": "stdout",
     "output_type": "stream",
     "text": [
      "<class 'pandas.core.frame.DataFrame'>\n",
      "Int64Index: 12852 entries, 0 to 12900\n",
      "Data columns (total 14 columns):\n",
      " #   Column     Non-Null Count  Dtype \n",
      "---  ------     --------------  ----- \n",
      " 0   userid     12852 non-null  object\n",
      " 1   post       12852 non-null  object\n",
      " 2   ques       12850 non-null  object\n",
      " 3   ans        12819 non-null  object\n",
      " 4   asker      12801 non-null  object\n",
      " 5   ans1       12759 non-null  object\n",
      " 6   severity1  12788 non-null  object\n",
      " 7   bully1     1909 non-null   object\n",
      " 8   ans2       12701 non-null  object\n",
      " 9   severity2  12739 non-null  object\n",
      " 10  bully2     1786 non-null   object\n",
      " 11  ans3       12655 non-null  object\n",
      " 12  severity3  12698 non-null  object\n",
      " 13  bully3     1780 non-null   object\n",
      "dtypes: object(14)\n",
      "memory usage: 1.5+ MB\n"
     ]
    }
   ],
   "source": [
    "df.info()"
   ]
  },
  {
   "cell_type": "code",
   "execution_count": 14,
   "metadata": {
    "id": "7eJuUpDRtA6r"
   },
   "outputs": [],
   "source": [
    "ans=np.array(df['ans'])\n",
    "ques=np.array(df['ques'])\n",
    "posts=[]\n",
    "for i in range (0,len(ans)):\n",
    "  posts.append(str(ques[i])+str(ans[i]))"
   ]
  },
  {
   "cell_type": "code",
   "execution_count": 15,
   "metadata": {
    "colab": {
     "base_uri": "https://localhost:8080/"
    },
    "id": "8dkVwBrwLZz6",
    "outputId": "ad9dddfd-6d99-483f-bdd5-45c694e2c212"
   },
   "outputs": [
    {
     "name": "stdout",
     "output_type": "stream",
     "text": [
      "what&#039;s your favorite song? :D<br>\n",
      " I like too many songs to have a favorite\n",
      "what&#039;s your favorite song? :D<br> I like too many songs to have a favorite\n"
     ]
    }
   ],
   "source": [
    "print(ques[0])\n",
    "print(ans[0])\n",
    "print(posts[0])"
   ]
  },
  {
   "cell_type": "code",
   "execution_count": 16,
   "metadata": {
    "id": "qG2W5gupMb9q"
   },
   "outputs": [],
   "source": [
    "y1=np.array(df['ans1'])\n",
    "y2=np.array(df['ans2'])\n",
    "y3=np.array(df['ans3'])"
   ]
  },
  {
   "cell_type": "code",
   "execution_count": 17,
   "metadata": {
    "id": "dl0ihqhIMcAR"
   },
   "outputs": [],
   "source": [
    "X=[]\n",
    "y=[]\n",
    "for i in range (len(posts)):\n",
    "  X.append(posts[i])\n",
    "  if y1[i]=='Yes' :\n",
    "    y.append(1)\n",
    "  else:\n",
    "    y.append(0)"
   ]
  },
  {
   "cell_type": "markdown",
   "metadata": {
    "id": "FUvDvIm9HfYr"
   },
   "source": [
    "Data Preprocessing"
   ]
  },
  {
   "cell_type": "code",
   "execution_count": 18,
   "metadata": {
    "id": "SZDZvbuw6COP"
   },
   "outputs": [],
   "source": [
    "X=np.array(X)\n",
    "X=np.reshape(X,(-1,1))\n",
    "y=np.array(y)\n"
   ]
  },
  {
   "cell_type": "code",
   "execution_count": 19,
   "metadata": {
    "colab": {
     "base_uri": "https://localhost:8080/"
    },
    "id": "vtw63dq4j3Fi",
    "outputId": "b54ff86a-1590-42f4-c2b7-034d718b3fca"
   },
   "outputs": [
    {
     "data": {
      "text/plain": [
       "((12852, 1), (12852,))"
      ]
     },
     "execution_count": 19,
     "metadata": {
      "tags": []
     },
     "output_type": "execute_result"
    }
   ],
   "source": [
    "X.shape,y.shape"
   ]
  },
  {
   "cell_type": "code",
   "execution_count": 20,
   "metadata": {
    "colab": {
     "base_uri": "https://localhost:8080/"
    },
    "id": "gB03Pki46Id3",
    "outputId": "de49dfe1-049b-4594-c9d0-19491bdbfbe7"
   },
   "outputs": [
    {
     "name": "stdout",
     "output_type": "stream",
     "text": [
      "Counter({0: 11814, 1: 1038})\n"
     ]
    }
   ],
   "source": [
    "print(Counter(y))"
   ]
  },
  {
   "cell_type": "code",
   "execution_count": 21,
   "metadata": {
    "colab": {
     "base_uri": "https://localhost:8080/"
    },
    "id": "XV4wOnkSiBY5",
    "outputId": "cdd5b946-3821-476a-8b57-e3fb157a328e"
   },
   "outputs": [
    {
     "name": "stderr",
     "output_type": "stream",
     "text": [
      "/usr/local/lib/python3.7/dist-packages/sklearn/externals/six.py:31: FutureWarning: The module is deprecated in version 0.21 and will be removed in version 0.23 since we've dropped support for Python 2.7. Please rely on the official version of six (https://pypi.org/project/six/).\n",
      "  \"(https://pypi.org/project/six/).\", FutureWarning)\n",
      "/usr/local/lib/python3.7/dist-packages/sklearn/utils/deprecation.py:144: FutureWarning: The sklearn.neighbors.base module is  deprecated in version 0.22 and will be removed in version 0.24. The corresponding classes / functions should instead be imported from sklearn.neighbors. Anything that cannot be imported from sklearn.neighbors is now part of the private API.\n",
      "  warnings.warn(message, FutureWarning)\n",
      "/usr/local/lib/python3.7/dist-packages/sklearn/utils/deprecation.py:87: FutureWarning: Function safe_indexing is deprecated; safe_indexing is deprecated in version 0.22 and will be removed in version 0.24.\n",
      "  warnings.warn(msg, category=FutureWarning)\n"
     ]
    }
   ],
   "source": [
    "from imblearn.over_sampling import RandomOverSampler\n",
    "oversample = RandomOverSampler( sampling_strategy=0.3)\n",
    "X,y=oversample.fit_sample(X,y)"
   ]
  },
  {
   "cell_type": "code",
   "execution_count": 22,
   "metadata": {
    "colab": {
     "base_uri": "https://localhost:8080/"
    },
    "id": "7R444fV0iBcA",
    "outputId": "92337c3d-ba60-400b-d1c7-cf1bd519ca91"
   },
   "outputs": [
    {
     "data": {
      "text/plain": [
       "((15358, 1), (15358,))"
      ]
     },
     "execution_count": 22,
     "metadata": {
      "tags": []
     },
     "output_type": "execute_result"
    }
   ],
   "source": [
    "X.shape,y.shape"
   ]
  },
  {
   "cell_type": "code",
   "execution_count": 23,
   "metadata": {
    "colab": {
     "base_uri": "https://localhost:8080/"
    },
    "id": "ai-eGnUsif2b",
    "outputId": "93a479fc-dbd0-43f6-ac20-264e48adceca"
   },
   "outputs": [
    {
     "name": "stdout",
     "output_type": "stream",
     "text": [
      "Counter({0: 11814, 1: 3544})\n"
     ]
    }
   ],
   "source": [
    "print(Counter(y))"
   ]
  },
  {
   "cell_type": "code",
   "execution_count": 24,
   "metadata": {
    "colab": {
     "base_uri": "https://localhost:8080/"
    },
    "id": "ba6ee1ef",
    "outputId": "c7360d7a-410b-4b7d-aaae-dee4e70c0f79"
   },
   "outputs": [
    {
     "data": {
      "text/plain": [
       "(array([['what&#039;s your favorite song? :D<br> I like too many songs to have a favorite'],\n",
       "        ['<3 </3 ? haha jk! <33'],\n",
       "        ['&quot;hey angel  you duh sexy&quot; Really?!?! Thanks?! haha'],\n",
       "        ['(: ;('],\n",
       "        ['******************MEOWWW************************* *RAWR*?'],\n",
       "        ['any makeup tips? i suck at doing my makeup lol Sure! Like tell me wht u wnna know?! Like wht do you use?!']],\n",
       "       dtype='<U5541'), array([0, 0, 0, 0, 0, 0]))"
      ]
     },
     "execution_count": 24,
     "metadata": {
      "tags": []
     },
     "output_type": "execute_result"
    }
   ],
   "source": [
    "X[:6],y[:6]"
   ]
  },
  {
   "cell_type": "code",
   "execution_count": 25,
   "metadata": {
    "colab": {
     "base_uri": "https://localhost:8080/"
    },
    "id": "_cG4qU-7rdIq",
    "outputId": "3b65d6de-8bf2-4b3f-ec5b-4427dd658acb"
   },
   "outputs": [
    {
     "data": {
      "text/plain": [
       "numpy.ndarray"
      ]
     },
     "execution_count": 25,
     "metadata": {
      "tags": []
     },
     "output_type": "execute_result"
    }
   ],
   "source": [
    "type(X)"
   ]
  },
  {
   "cell_type": "code",
   "execution_count": 26,
   "metadata": {
    "id": "9wY_CE8ZtYsF"
   },
   "outputs": [],
   "source": [
    "X=[str(x) for x in X]"
   ]
  },
  {
   "cell_type": "code",
   "execution_count": 27,
   "metadata": {
    "colab": {
     "base_uri": "https://localhost:8080/"
    },
    "id": "Atsi-ufJtZVS",
    "outputId": "5dd19dec-6d54-4de5-f2ff-0ca554bff199"
   },
   "outputs": [
    {
     "data": {
      "text/plain": [
       "list"
      ]
     },
     "execution_count": 27,
     "metadata": {
      "tags": []
     },
     "output_type": "execute_result"
    }
   ],
   "source": [
    "type(X)"
   ]
  },
  {
   "cell_type": "markdown",
   "metadata": {
    "id": "yV4l-CayHmkq"
   },
   "source": [
    "Create Word Embeddings"
   ]
  },
  {
   "cell_type": "code",
   "execution_count": 28,
   "metadata": {
    "colab": {
     "base_uri": "https://localhost:8080/"
    },
    "id": "SJlhZCW6EaA4",
    "outputId": "8976a931-1283-4cb9-e7d4-289d2c88cc91"
   },
   "outputs": [
    {
     "name": "stdout",
     "output_type": "stream",
     "text": [
      "[nltk_data] Downloading package stopwords to /root/nltk_data...\n",
      "[nltk_data]   Package stopwords is already up-to-date!\n",
      "[nltk_data] Downloading package punkt to /root/nltk_data...\n",
      "[nltk_data]   Package punkt is already up-to-date!\n",
      "[nltk_data] Downloading package wordnet to /root/nltk_data...\n",
      "[nltk_data]   Package wordnet is already up-to-date!\n"
     ]
    },
    {
     "data": {
      "text/plain": [
       "True"
      ]
     },
     "execution_count": 28,
     "metadata": {
      "tags": []
     },
     "output_type": "execute_result"
    }
   ],
   "source": [
    "nltk.download('stopwords')\n",
    "nltk.download('punkt')\n",
    "nltk.download('wordnet')"
   ]
  },
  {
   "cell_type": "code",
   "execution_count": 29,
   "metadata": {
    "id": "976031f6"
   },
   "outputs": [],
   "source": [
    "stopwords=stopwords.words('english')"
   ]
  },
  {
   "cell_type": "code",
   "execution_count": 30,
   "metadata": {
    "id": "u5YLxR_8-YtW"
   },
   "outputs": [],
   "source": [
    "contractions =dict({ \n",
    "\"ain't\": \"am not\",\n",
    "\"aren't\": \"are not\",\n",
    "\"can't\": \"cannot\",\n",
    "\"can't've\": \"cannot have\",\n",
    "\"'cause\": \"because\",\n",
    "\"could've\": \"could have\",\n",
    "\"couldn't\": \"could not\",\n",
    "\"couldn't've\": \"could not have\",\n",
    "\"didn't\": \"did not\",\n",
    "\"doesn't\": \"does not\",\n",
    "\"don't\": \"do not\",\n",
    "\"hadn't\": \"had not\",\n",
    "\"hadn't've\": \"had not have\",\n",
    "\"hasn't\": \"has not\",\n",
    "\"haven't\": \"have not\",\n",
    "\"he'd\": \" he would\",\n",
    "\"he'd've\": \"he would have\",\n",
    "\"he'll\": \"he will\",\n",
    "\"he'll've\": \"he will have\",\n",
    "\"he's\": \"he is\",\n",
    "\"how'd\": \"how did\",\n",
    "\"how'd'y\": \"how do you\",\n",
    "\"how'll\": \"how will\",\n",
    "\"how's\": \"how is\",\n",
    "\"i'd\": \"i would\",\n",
    "\"i'd've\": \"i would have\",\n",
    "\"i'll\": \"i will\",\n",
    "\"i'll've\": \"i will have\",\n",
    "\"i'm\": \"i am\",\n",
    "\"i've\": \"i have\",\n",
    "\"isn't\": \"is not\",\n",
    "\"it'd\": \"it would\",\n",
    "\"it'd've\": \"it would have\",\n",
    "\"it'll\": \"it will\",\n",
    "\"it'll've\": \"it will have\",\n",
    "\"it's\": \"it is\",\n",
    "\"let's\": \"let us\",\n",
    "\"ma'am\": \"madam\",\n",
    "\"mayn't\": \"may not\",\n",
    "\"might've\": \"might have\",\n",
    "\"mightn't\": \"might not\",\n",
    "\"mightn't've\": \"might not have\",\n",
    "\"must've\": \"must have\",\n",
    "\"mustn't\": \"must not\",\n",
    "\"mustn't've\": \"must not have\",\n",
    "\"needn't\": \"need not\",\n",
    "\"needn't've\": \"need not have\",\n",
    "\"o'clock\": \"of the clock\",\n",
    "\"oughtn't\": \"ought not\",\n",
    "\"oughtn't've\": \"ought not have\",\n",
    "\"shan't\": \"shall not\",\n",
    "\"sha'n't\": \"shall not\",\n",
    "\"shan't've\": \"shall not have\",\n",
    "\"she'd\": \"she would\",\n",
    "\"she'd've\": \"she would have\",\n",
    "\"she'll\": \"she will\",\n",
    "\"she'll've\": \"she will have\",\n",
    "\"she's\": \"she is\",\n",
    "\"should've\": \"should have\",\n",
    "\"shouldn't\": \"should not\",\n",
    "\"shouldn't've\": \"should not have\",\n",
    "\"so've\": \"so have\",\n",
    "\"so's\": \"so is\",\n",
    "\"that'd\": \"that would\",\n",
    "\"that'd've\": \"that would have\",\n",
    "\"that's\": \"that has\",\n",
    "\"there'd\": \"there would\",\n",
    "\"there'd've\": \"there would have\",\n",
    "\"there's\": \"there is\",\n",
    "\"they'd\": \"they had\",\n",
    "\"they'd've\": \"they would have\",\n",
    "\"they'll\": \"they will\",\n",
    "\"they'll've\": \"they will have\",\n",
    "\"they're\": \"they are\",\n",
    "\"they've\": \"they have\",\n",
    "\"to've\": \"to have\",\n",
    "\"wasn't\": \"was not\",\n",
    "\"we'd\": \"we would\",\n",
    "\"we'd've\": \"we would have\",\n",
    "\"we'll\": \"we will\",\n",
    "\"we'll've\": \"we will have\",\n",
    "\"we're\": \"we are\",\n",
    "\"we've\": \"we have\",\n",
    "\"weren't\": \"were not\",\n",
    "\"what'll\": \"what will\",\n",
    "\"what'll've\": \"what will have\",\n",
    "\"what're\": \"what are\",\n",
    "\"what's\": \"what is\",\n",
    "\"what've\": \"what have\",\n",
    "\"when's\": \"when is\",\n",
    "\"when've\": \"when have\",\n",
    "\"where'd\": \"where did\",\n",
    "\"where's\": \"where is\",\n",
    "\"where've\": \"where have\",\n",
    "\"who'll\": \"who will\",\n",
    "\"who'll've\": \"who will have\",\n",
    "\"who's\": \"who has\",\n",
    "\"who've\": \"who have\",\n",
    "\"why's\": \"why has\",\n",
    "\"why've\": \"why have\",\n",
    "\"will've\": \"will have\",\n",
    "\"won't\": \"will not\",\n",
    "\"won't've\": \"will not have\",\n",
    "\"would've\": \"would have\",\n",
    "\"wouldn't\": \"would not\",\n",
    "\"wouldn't've\": \"would not have\",\n",
    "\"y'all\": \"you all\",\n",
    "\"y'all'd\": \"you all would\",\n",
    "\"y'all'd've\": \"you all would have\",\n",
    "\"y'all're\": \"you all are\",\n",
    "\"y'all've\": \"you all have\",\n",
    "\"you'd\": \"you would\",\n",
    "\"you'd've\": \"you would have\",\n",
    "\"you'll\": \"you will\",\n",
    "\"you'll've\": \"you will have\",\n",
    "\"you're\": \"you are\",\n",
    "\"you've\": \"you have\",\n",
    "\"ain’t\": \"am not\",\n",
    "\"aren’t\": \"are not\",\n",
    "\"can’t\": \"cannot\",\n",
    "\"can’t’ve\": \"cannot have\",\n",
    "\"’cause\": \"because\",\n",
    "\"could’ve\": \"could have\",\n",
    "\"couldn’t\": \"could not\",\n",
    "\"couldn’t’ve\": \"could not have\",\n",
    "\"didn’t\": \"did not\",\n",
    "\"doesn’t\": \"does not\",\n",
    "\"don’t\": \"do not\",\n",
    "\"hadn’t\": \"had not\",\n",
    "\"hadn’t’ve\": \"had not have\",\n",
    "\"hasn’t\": \"has not\",\n",
    "\"haven’t\": \"have not\",\n",
    "\"he’d\": \" he would\",\n",
    "\"he’d’ve\": \"he would have\",\n",
    "\"he’ll\": \"he will\",\n",
    "\"he’ll’ve\": \"he will have\",\n",
    "\"he’s\": \"he is\",\n",
    "\"how’d\": \"how did\",\n",
    "\"how’d’y\": \"how do you\",\n",
    "\"how’ll\": \"how will\",\n",
    "\"how’s\": \"how is\",\n",
    "\"i’d\": \"i would\",\n",
    "\"i’d’ve\": \"i would have\",\n",
    "\"i’ll\": \"i will\",\n",
    "\"i’ll’ve\": \"i will have\",\n",
    "\"i’m\": \"i am\",\n",
    "\"i’ve\": \"i have\",\n",
    "\"isn’t\": \"is not\",\n",
    "\"it’d\": \"it would\",\n",
    "\"it’d’ve\": \"it would have\",\n",
    "\"it’ll\": \"it will\",\n",
    "\"it’ll’ve\": \"it will have\",\n",
    "\"it’s\": \"it is\",\n",
    "\"let’s\": \"let us\",\n",
    "\"ma’am\": \"madam\",\n",
    "\"mayn’t\": \"may not\",\n",
    "\"might’ve\": \"might have\",\n",
    "\"mightn’t\": \"might not\",\n",
    "\"mightn’t’ve\": \"might not have\",\n",
    "\"must’ve\": \"must have\",\n",
    "\"mustn’t\": \"must not\",\n",
    "\"mustn’t’ve\": \"must not have\",\n",
    "\"needn’t\": \"need not\",\n",
    "\"needn’t’ve\": \"need not have\",\n",
    "\"o’clock\": \"of the clock\",\n",
    "\"oughtn’t\": \"ought not\",\n",
    "\"oughtn’t’ve\": \"ought not have\",\n",
    "\"shan’t\": \"shall not\",\n",
    "\"sha’n’t\": \"shall not\",\n",
    "\"shan’t’ve\": \"shall not have\",\n",
    "\"she’d\": \"she would\",\n",
    "\"she’d’ve\": \"she would have\",\n",
    "\"she’ll\": \"she will\",\n",
    "\"she’ll’ve\": \"she will have\",\n",
    "\"she’s\": \"she is\",\n",
    "\"should’ve\": \"should have\",\n",
    "\"shouldn’t\": \"should not\",\n",
    "\"shouldn’t’ve\": \"should not have\",\n",
    "\"so’ve\": \"so have\",\n",
    "\"so’s\": \"so is\",\n",
    "\"that’d\": \"that would\",\n",
    "\"that’d’ve\": \"that would have\",\n",
    "\"that’s\": \"that has\",\n",
    "\"there’d\": \"there would\",\n",
    "\"there’d’ve\": \"there would have\",\n",
    "\"there’s\": \"there is\",\n",
    "\"they’d\": \"they had\",\n",
    "\"they’d’ve\": \"they would have\",\n",
    "\"they’ll\": \"they will\",\n",
    "\"they’ll’ve\": \"they will have\",\n",
    "\"they’re\": \"they are\",\n",
    "\"they’ve\": \"they have\",\n",
    "\"to’ve\": \"to have\",\n",
    "\"wasn’t\": \"was not\",\n",
    "\"we’d\": \"we would\",\n",
    "\"we’d’ve\": \"we would have\",\n",
    "\"we’ll\": \"we will\",\n",
    "\"we’ll’ve\": \"we will have\",\n",
    "\"we’re\": \"we are\",\n",
    "\"we’ve\": \"we have\",\n",
    "\"weren’t\": \"were not\",\n",
    "\"what’ll\": \"what will\",\n",
    "\"what’ll’ve\": \"what will have\",\n",
    "\"what’re\": \"what are\",\n",
    "\"what’s\": \"what is\",\n",
    "\"what’ve\": \"what have\",\n",
    "\"when’s\": \"when is\",\n",
    "\"when’ve\": \"when have\",\n",
    "\"where’d\": \"where did\",\n",
    "\"where’s\": \"where is\",\n",
    "\"where’ve\": \"where have\",\n",
    "\"who’ll\": \"who will\",\n",
    "\"who’ll’ve\": \"who will have\",\n",
    "\"who’s\": \"who has\",\n",
    "\"who’ve\": \"who have\",\n",
    "\"why’s\": \"why has\",\n",
    "\"why’ve\": \"why have\",\n",
    "\"will’ve\": \"will have\",\n",
    "\"won’t\": \"will not\",\n",
    "\"won’t’ve\": \"will not have\",\n",
    "\"would’ve\": \"would have\",\n",
    "\"wouldn’t\": \"would not\",\n",
    "\"wouldn’t’ve\": \"would not have\",\n",
    "\"y’all\": \"you all\",\n",
    "\"y’all’d\": \"you all would\",\n",
    "\"y’all’d’ve\": \"you all would have\",\n",
    "\"y’all’re\": \"you all are\",\n",
    "\"y’all’ve\": \"you all have\",\n",
    "\"you’d\": \"you would\",\n",
    "\"you’d’ve\": \"you would have\",\n",
    "\"you’ll\": \"you will\",\n",
    "\"you’ll’ve\": \"you will have\",\n",
    "\"you’re\": \"you are\",\n",
    "\"you’ve\": \"you have\"\n",
    "})"
   ]
  },
  {
   "cell_type": "code",
   "execution_count": 31,
   "metadata": {
    "colab": {
     "base_uri": "https://localhost:8080/",
     "height": 36
    },
    "id": "OUJpctSYB_q2",
    "outputId": "1ebb91e8-9673-46b5-eaa5-2d8cfe43a07f"
   },
   "outputs": [
    {
     "data": {
      "application/vnd.google.colaboratory.intrinsic+json": {
       "type": "string"
      },
      "text/plain": [
       "'it is'"
      ]
     },
     "execution_count": 31,
     "metadata": {
      "tags": []
     },
     "output_type": "execute_result"
    }
   ],
   "source": [
    "contractions[\"it’s\"]"
   ]
  },
  {
   "cell_type": "code",
   "execution_count": 32,
   "metadata": {
    "id": "oIRl1hlFB7nr"
   },
   "outputs": [],
   "source": [
    "X_train,X_test,y_train,y_test=train_test_split(X,y,test_size=0.3,random_state=42)"
   ]
  },
  {
   "cell_type": "code",
   "execution_count": 33,
   "metadata": {
    "colab": {
     "base_uri": "https://localhost:8080/"
    },
    "id": "Vv4CkbMZibG5",
    "outputId": "11fe8b79-51cc-476c-f28d-a52397295cee"
   },
   "outputs": [
    {
     "name": "stdout",
     "output_type": "stream",
     "text": [
      "Counter({0: 8273, 1: 2477})\n",
      "Counter({0: 3541, 1: 1067})\n"
     ]
    }
   ],
   "source": [
    "print(Counter(y_train))\n",
    "print(Counter(y_test))"
   ]
  },
  {
   "cell_type": "code",
   "execution_count": 34,
   "metadata": {
    "id": "bae61091"
   },
   "outputs": [],
   "source": [
    "def cleanText(X):\n",
    "  corpus=[]\n",
    "  for para in X:\n",
    "      sentences=nltk.sent_tokenize(str(para))\n",
    "      temp=[]\n",
    "      for sentence in sentences:\n",
    "          sentence=sentence.lower()\n",
    "          cleanr = re.compile('<.*?>')\n",
    "          sentence = re.sub(cleanr, '', sentence)\n",
    "          sentence=re.sub(r'[\\!\"#$%&\\*+,./;<=>?@_`|~=]','',sentence)\n",
    "          sentence=re.sub(r'[0-9]+', '',sentence)\n",
    "          words=sentence.split()\n",
    "          words_list=[]\n",
    "          for word in words:\n",
    "            if word in contractions:\n",
    "              words_list.append(contractions[word])\n",
    "            elif word not in stopwords:\n",
    "              words_list.append(WordNetLemmatizer().lemmatize(word) )\n",
    "          sent=' '.join(words_list)\n",
    "          sent=re.sub(pattern=r'\\'',repl='',string=sent)\n",
    "          temp.append(sent)\n",
    "      corpus.append('. '.join(temp))\n",
    "  return corpus"
   ]
  },
  {
   "cell_type": "code",
   "execution_count": 35,
   "metadata": {
    "id": "A8-6W_1EEE7F"
   },
   "outputs": [],
   "source": [
    "corpus=cleanText(X_train)\n",
    "lst_corpus = []\n",
    "for string in corpus:\n",
    "   lst_words = string.split()\n",
    "   lst_grams = [\" \".join(lst_words[i:i+1]) \n",
    "               for i in range(0, len(lst_words), 1)]\n",
    "   lst_corpus.append(lst_grams)\n"
   ]
  },
  {
   "cell_type": "code",
   "execution_count": 36,
   "metadata": {
    "colab": {
     "base_uri": "https://localhost:8080/"
    },
    "id": "ba1885b5",
    "outputId": "4fd56e73-a62c-4a58-86fd-e67fcd9c7590"
   },
   "outputs": [
    {
     "name": "stdout",
     "output_type": "stream",
     "text": [
      "10750\n",
      "10750\n"
     ]
    }
   ],
   "source": [
    "print(len(corpus))\n",
    "print(len(lst_corpus))"
   ]
  },
  {
   "cell_type": "code",
   "execution_count": 37,
   "metadata": {
    "colab": {
     "base_uri": "https://localhost:8080/"
    },
    "id": "DLqwnA7EeFby",
    "outputId": "f1444366-af4c-4da9-a414-e11c8945c67c"
   },
   "outputs": [
    {
     "data": {
      "text/plain": [
       "['[awhh shit dx man. (: taelin walker webb ]',\n",
       " '[if could watch one tv show would. office ]',\n",
       " '[lol :) xxx ]',\n",
       " '[its prolly think wanted know thought :) welll]',\n",
       " '[holar :) wasup]',\n",
       " '[lol :] anonymous]']"
      ]
     },
     "execution_count": 37,
     "metadata": {
      "tags": []
     },
     "output_type": "execute_result"
    }
   ],
   "source": [
    "corpus[:6]"
   ]
  },
  {
   "cell_type": "code",
   "execution_count": 38,
   "metadata": {
    "colab": {
     "base_uri": "https://localhost:8080/"
    },
    "id": "46rzxT-3eIaw",
    "outputId": "df8df199-f9d1-4ae4-f817-e1de19c4f8d5"
   },
   "outputs": [
    {
     "data": {
      "text/plain": [
       "[['[awhh', 'shit', 'dx', 'man.', '(:', 'taelin', 'walker', 'webb', ']'],\n",
       " ['[if', 'could', 'watch', 'one', 'tv', 'show', 'would.', 'office', ']'],\n",
       " ['[lol', ':)', 'xxx', ']'],\n",
       " ['[its', 'prolly', 'think', 'wanted', 'know', 'thought', ':)', 'welll]'],\n",
       " ['[holar', ':)', 'wasup]'],\n",
       " ['[lol', ':]', 'anonymous]']]"
      ]
     },
     "execution_count": 38,
     "metadata": {
      "tags": []
     },
     "output_type": "execute_result"
    }
   ],
   "source": [
    "lst_corpus[:6]"
   ]
  },
  {
   "cell_type": "code",
   "execution_count": 39,
   "metadata": {
    "id": "e6VHxE5lEE_0"
   },
   "outputs": [],
   "source": [
    "tokenizer = Tokenizer()\n",
    "tokenizer.fit_on_texts(lst_corpus)\n",
    "dic_vocabulary = tokenizer.word_index"
   ]
  },
  {
   "cell_type": "code",
   "execution_count": 40,
   "metadata": {
    "id": "6GgXTvQzEFB5"
   },
   "outputs": [],
   "source": [
    "X_train= tokenizer.texts_to_sequences(lst_corpus)"
   ]
  },
  {
   "cell_type": "code",
   "execution_count": 41,
   "metadata": {
    "id": "jrI1gUIWDlFM"
   },
   "outputs": [],
   "source": [
    "arr=[]\n",
    "arr=[len(x) for x in corpus if len(x)<500]"
   ]
  },
  {
   "cell_type": "code",
   "execution_count": 42,
   "metadata": {
    "colab": {
     "base_uri": "https://localhost:8080/",
     "height": 265
    },
    "id": "4rlCzdbUDrIL",
    "outputId": "88ded455-593c-49a1-c1f7-f1fb68111c73"
   },
   "outputs": [
    {
     "data": {
      "image/png": "[encoded data removed]",
      "text/plain": [
       "<Figure size 432x288 with 1 Axes>"
      ]
     },
     "metadata": {
      "needs_background": "light",
      "tags": []
     },
     "output_type": "display_data"
    }
   ],
   "source": [
    "plt.hist(arr,bins=100)\n",
    "plt.show()"
   ]
  },
  {
   "cell_type": "code",
   "execution_count": 43,
   "metadata": {
    "id": "b193836d"
   },
   "outputs": [],
   "source": [
    "max_length=100\n",
    "X_train=pad_sequences(X_train,maxlen=max_length,padding='post')"
   ]
  },
  {
   "cell_type": "code",
   "execution_count": 44,
   "metadata": {
    "colab": {
     "base_uri": "https://localhost:8080/"
    },
    "id": "95132ca6",
    "outputId": "0925f9b6-3a6d-42cb-f134-63854642d47b"
   },
   "outputs": [
    {
     "data": {
      "text/plain": [
       "((10750, 100), (10750,))"
      ]
     },
     "execution_count": 44,
     "metadata": {
      "tags": []
     },
     "output_type": "execute_result"
    }
   ],
   "source": [
    "X_train.shape,y_train.shape"
   ]
  },
  {
   "cell_type": "code",
   "execution_count": 45,
   "metadata": {
    "id": "gjsMZBInG-JM"
   },
   "outputs": [],
   "source": [
    "corpus=cleanText(X_test)\n",
    "\n",
    "lst_corpus_test = []\n",
    "for string in corpus:\n",
    "    lst_words = string.split()\n",
    "    lst_grams = [\" \".join(lst_words[i:i+1]) for i in range(0, \n",
    "                 len(lst_words), 1)]\n",
    "    lst_corpus_test.append(lst_grams)\n",
    "\n",
    "X_test = tokenizer.texts_to_sequences(lst_corpus_test)\n",
    "\n",
    "X_test=pad_sequences(X_test,maxlen=max_length,padding='post')"
   ]
  },
  {
   "cell_type": "code",
   "execution_count": 46,
   "metadata": {
    "colab": {
     "base_uri": "https://localhost:8080/"
    },
    "id": "3Aim9Gb1UTvK",
    "outputId": "7330b5fe-dd75-40ad-fcaa-1081b39f8bc8"
   },
   "outputs": [
    {
     "name": "stdout",
     "output_type": "stream",
     "text": [
      "4608\n",
      "10750\n"
     ]
    }
   ],
   "source": [
    "print(len(corpus))\n",
    "print(len(lst_corpus))"
   ]
  },
  {
   "cell_type": "code",
   "execution_count": 47,
   "metadata": {
    "colab": {
     "base_uri": "https://localhost:8080/"
    },
    "id": "6S5M4rARMQS3",
    "outputId": "d01420a3-df73-4793-8838-6992b1ce4cd8"
   },
   "outputs": [
    {
     "data": {
      "text/plain": [
       "((4608, 100), (4608,))"
      ]
     },
     "execution_count": 47,
     "metadata": {
      "tags": []
     },
     "output_type": "execute_result"
    }
   ],
   "source": [
    "X_test.shape,y_test.shape"
   ]
  },
  {
   "cell_type": "code",
   "execution_count": 48,
   "metadata": {
    "id": "uyFNKPpHGDX1"
   },
   "outputs": [],
   "source": [
    "def pipeline(X_train, y_train, X_test, y_test,n,flag): \n",
    "   \n",
    "    results = {}\n",
    "    final_results = []\n",
    "    for num in n:  \n",
    "\n",
    "      wv_model = gensim.models.word2vec.Word2Vec(lst_corpus,size=num,window=4,min_count=1,sg=flag,iter=30)\n",
    "\n",
    "      embedding_dim = num\n",
    "      embedding_matrix = np.zeros((len(dic_vocabulary)+1, embedding_dim))\n",
    "      for word, i in tokenizer.word_index.items():\n",
    "        try:\n",
    "            embedding_matrix[i]=wv_model[word]\n",
    "        except:\n",
    "            pass\n",
    "\n",
    "      tensorflow.keras.backend.clear_session()\n",
    "\n",
    "      #LSTM\n",
    "      model=Sequential()\n",
    "\n",
    "      model.add(layers.Embedding(input_dim=embedding_matrix.shape[0],output_dim=embedding_matrix.shape[1],weights=[embedding_matrix],input_length=max_length,trainable=False)) \n",
    "\n",
    "      model.add(layers.Bidirectional(layers.LSTM(100,return_sequences=True,dropout=0.2)))\n",
    "\n",
    "      model.add(SeqSelfAttention(attention_activation='sigmoid'))\n",
    "\n",
    "      model.add(layers.GlobalMaxPooling1D())\n",
    "\n",
    "      model.add(layers.Dense(128,activation='relu')) \n",
    "      model.add(layers.Dense(1,activation='sigmoid')) \n",
    "\n",
    "      model.compile(optimizer='adam', loss='binary_crossentropy', metrics=['accuracy'])\n",
    "\n",
    "      start=time()\n",
    "      model.fit(X_train,y_train,epochs=10)\n",
    "      end=time()\n",
    "      \n",
    "        \n",
    "      results['Algorithm'] = 'embedding'+str(num)\n",
    "\n",
    "      start = time() \n",
    "      predictions_test = model.predict(X_test)\n",
    "      predictions_test=[np.round(i) for i in predictions_test]\n",
    "      end = time()\n",
    "\n",
    "      results['Prediction Time'] = end - start\n",
    "\n",
    "      results['Accuracy'] = accuracy_score(y_test, predictions_test)\n",
    "\n",
    "      results['F1 Score'] = f1_score(y_test, predictions_test)\n",
    "      \n",
    "      results['AUC Score'] = roc_auc_score(y_test, predictions_test)\n",
    "\n",
    "      results['Precision'] = precision_score(y_test, predictions_test)\n",
    "\n",
    "      results['Recall'] = recall_score(y_test, predictions_test)\n",
    "\n",
    "      \n",
    "      final_results.append(results.copy())\n",
    "    return final_results"
   ]
  },
  {
   "cell_type": "code",
   "execution_count": 49,
   "metadata": {
    "id": "V7_SsxBNlp8H"
   },
   "outputs": [],
   "source": [
    "n=[50,100,150,200,250,300,350,400]"
   ]
  },
  {
   "cell_type": "markdown",
   "metadata": {
    "id": "CvWcTG0TlrUN"
   },
   "source": [
    "CBOW"
   ]
  },
  {
   "cell_type": "code",
   "execution_count": 50,
   "metadata": {
    "colab": {
     "base_uri": "https://localhost:8080/"
    },
    "id": "rAP19LRVMCYO",
    "outputId": "e74047e3-f94f-43e9-de35-feba0f88f1e8"
   },
   "outputs": [
    {
     "name": "stderr",
     "output_type": "stream",
     "text": [
      "/usr/local/lib/python3.7/dist-packages/ipykernel_launcher.py:13: DeprecationWarning: Call to deprecated `__getitem__` (Method will be removed in 4.0.0, use self.wv.__getitem__() instead).\n",
      "  del sys.path[0]\n"
     ]
    },
    {
     "name": "stdout",
     "output_type": "stream",
     "text": [
      "Epoch 1/10\n",
      "336/336 [==============================] - 9s 15ms/step - loss: 0.4303 - accuracy: 0.8216\n",
      "Epoch 2/10\n",
      "336/336 [==============================] - 5s 14ms/step - loss: 0.3800 - accuracy: 0.8431\n",
      "Epoch 3/10\n",
      "336/336 [==============================] - 5s 14ms/step - loss: 0.3391 - accuracy: 0.8634\n",
      "Epoch 4/10\n",
      "336/336 [==============================] - 5s 14ms/step - loss: 0.3048 - accuracy: 0.8812\n",
      "Epoch 5/10\n",
      "336/336 [==============================] - 5s 15ms/step - loss: 0.2802 - accuracy: 0.8881\n",
      "Epoch 6/10\n",
      "336/336 [==============================] - 5s 15ms/step - loss: 0.2493 - accuracy: 0.9030\n",
      "Epoch 7/10\n",
      "336/336 [==============================] - 5s 14ms/step - loss: 0.2238 - accuracy: 0.9160\n",
      "Epoch 8/10\n",
      "336/336 [==============================] - 5s 14ms/step - loss: 0.2033 - accuracy: 0.9206\n",
      "Epoch 9/10\n",
      "336/336 [==============================] - 5s 14ms/step - loss: 0.1871 - accuracy: 0.9298\n",
      "Epoch 10/10\n",
      "336/336 [==============================] - 5s 14ms/step - loss: 0.1673 - accuracy: 0.9373\n"
     ]
    },
    {
     "name": "stderr",
     "output_type": "stream",
     "text": [
      "/usr/local/lib/python3.7/dist-packages/ipykernel_launcher.py:13: DeprecationWarning: Call to deprecated `__getitem__` (Method will be removed in 4.0.0, use self.wv.__getitem__() instead).\n",
      "  del sys.path[0]\n"
     ]
    },
    {
     "name": "stdout",
     "output_type": "stream",
     "text": [
      "Epoch 1/10\n",
      "336/336 [==============================] - 8s 16ms/step - loss: 0.4329 - accuracy: 0.8151\n",
      "Epoch 2/10\n",
      "336/336 [==============================] - 5s 15ms/step - loss: 0.3700 - accuracy: 0.8496\n",
      "Epoch 3/10\n",
      "336/336 [==============================] - 5s 15ms/step - loss: 0.3238 - accuracy: 0.8724\n",
      "Epoch 4/10\n",
      "336/336 [==============================] - 5s 15ms/step - loss: 0.2820 - accuracy: 0.8891\n",
      "Epoch 5/10\n",
      "336/336 [==============================] - 5s 15ms/step - loss: 0.2541 - accuracy: 0.8997\n",
      "Epoch 6/10\n",
      "336/336 [==============================] - 5s 15ms/step - loss: 0.2294 - accuracy: 0.9114\n",
      "Epoch 7/10\n",
      "336/336 [==============================] - 5s 15ms/step - loss: 0.1984 - accuracy: 0.9233\n",
      "Epoch 8/10\n",
      "336/336 [==============================] - 5s 15ms/step - loss: 0.1786 - accuracy: 0.9348\n",
      "Epoch 9/10\n",
      "336/336 [==============================] - 5s 15ms/step - loss: 0.1567 - accuracy: 0.9421\n",
      "Epoch 10/10\n",
      "336/336 [==============================] - 5s 15ms/step - loss: 0.1398 - accuracy: 0.9513\n"
     ]
    },
    {
     "name": "stderr",
     "output_type": "stream",
     "text": [
      "/usr/local/lib/python3.7/dist-packages/ipykernel_launcher.py:13: DeprecationWarning: Call to deprecated `__getitem__` (Method will be removed in 4.0.0, use self.wv.__getitem__() instead).\n",
      "  del sys.path[0]\n"
     ]
    },
    {
     "name": "stdout",
     "output_type": "stream",
     "text": [
      "Epoch 1/10\n",
      "336/336 [==============================] - 8s 16ms/step - loss: 0.4240 - accuracy: 0.8246\n",
      "Epoch 2/10\n",
      "336/336 [==============================] - 5s 15ms/step - loss: 0.3680 - accuracy: 0.8511\n",
      "Epoch 3/10\n",
      "336/336 [==============================] - 5s 15ms/step - loss: 0.3189 - accuracy: 0.8727\n",
      "Epoch 4/10\n",
      "336/336 [==============================] - 5s 15ms/step - loss: 0.2721 - accuracy: 0.8958\n",
      "Epoch 5/10\n",
      "336/336 [==============================] - 5s 16ms/step - loss: 0.2344 - accuracy: 0.9080\n",
      "Epoch 6/10\n",
      "336/336 [==============================] - 5s 16ms/step - loss: 0.1996 - accuracy: 0.9263\n",
      "Epoch 7/10\n",
      "336/336 [==============================] - 5s 16ms/step - loss: 0.1722 - accuracy: 0.9372\n",
      "Epoch 8/10\n",
      "336/336 [==============================] - 5s 15ms/step - loss: 0.1487 - accuracy: 0.9468\n",
      "Epoch 9/10\n",
      "336/336 [==============================] - 5s 15ms/step - loss: 0.1295 - accuracy: 0.9550\n",
      "Epoch 10/10\n",
      "336/336 [==============================] - 5s 15ms/step - loss: 0.1206 - accuracy: 0.9570\n"
     ]
    },
    {
     "name": "stderr",
     "output_type": "stream",
     "text": [
      "/usr/local/lib/python3.7/dist-packages/ipykernel_launcher.py:13: DeprecationWarning: Call to deprecated `__getitem__` (Method will be removed in 4.0.0, use self.wv.__getitem__() instead).\n",
      "  del sys.path[0]\n"
     ]
    },
    {
     "name": "stdout",
     "output_type": "stream",
     "text": [
      "Epoch 1/10\n",
      "336/336 [==============================] - 8s 16ms/step - loss: 0.4332 - accuracy: 0.8225\n",
      "Epoch 2/10\n",
      "336/336 [==============================] - 5s 15ms/step - loss: 0.3667 - accuracy: 0.8520\n",
      "Epoch 3/10\n",
      "336/336 [==============================] - 5s 16ms/step - loss: 0.3085 - accuracy: 0.8795\n",
      "Epoch 4/10\n",
      "336/336 [==============================] - 5s 16ms/step - loss: 0.2583 - accuracy: 0.8996\n",
      "Epoch 5/10\n",
      "336/336 [==============================] - 5s 16ms/step - loss: 0.2190 - accuracy: 0.9181\n",
      "Epoch 6/10\n",
      "336/336 [==============================] - 5s 16ms/step - loss: 0.1872 - accuracy: 0.9320\n",
      "Epoch 7/10\n",
      "336/336 [==============================] - 5s 16ms/step - loss: 0.1588 - accuracy: 0.9444\n",
      "Epoch 8/10\n",
      "336/336 [==============================] - 5s 15ms/step - loss: 0.1341 - accuracy: 0.9538\n",
      "Epoch 9/10\n",
      "336/336 [==============================] - 5s 16ms/step - loss: 0.1171 - accuracy: 0.9576\n",
      "Epoch 10/10\n",
      "336/336 [==============================] - 5s 16ms/step - loss: 0.1010 - accuracy: 0.9658\n"
     ]
    },
    {
     "name": "stderr",
     "output_type": "stream",
     "text": [
      "/usr/local/lib/python3.7/dist-packages/ipykernel_launcher.py:13: DeprecationWarning: Call to deprecated `__getitem__` (Method will be removed in 4.0.0, use self.wv.__getitem__() instead).\n",
      "  del sys.path[0]\n"
     ]
    },
    {
     "name": "stdout",
     "output_type": "stream",
     "text": [
      "Epoch 1/10\n",
      "336/336 [==============================] - 8s 16ms/step - loss: 0.4250 - accuracy: 0.8218\n",
      "Epoch 2/10\n",
      "336/336 [==============================] - 5s 16ms/step - loss: 0.3469 - accuracy: 0.8616\n",
      "Epoch 3/10\n",
      "336/336 [==============================] - 5s 16ms/step - loss: 0.2896 - accuracy: 0.8878\n",
      "Epoch 4/10\n",
      "336/336 [==============================] - 5s 16ms/step - loss: 0.2503 - accuracy: 0.9067\n",
      "Epoch 5/10\n",
      "336/336 [==============================] - 5s 16ms/step - loss: 0.2134 - accuracy: 0.9207\n",
      "Epoch 6/10\n",
      "336/336 [==============================] - 5s 16ms/step - loss: 0.1820 - accuracy: 0.9345\n",
      "Epoch 7/10\n",
      "336/336 [==============================] - 5s 16ms/step - loss: 0.1599 - accuracy: 0.9429\n",
      "Epoch 8/10\n",
      "336/336 [==============================] - 5s 16ms/step - loss: 0.1331 - accuracy: 0.9540\n",
      "Epoch 9/10\n",
      "336/336 [==============================] - 5s 16ms/step - loss: 0.1216 - accuracy: 0.9569\n",
      "Epoch 10/10\n",
      "336/336 [==============================] - 5s 16ms/step - loss: 0.1019 - accuracy: 0.9645\n"
     ]
    },
    {
     "name": "stderr",
     "output_type": "stream",
     "text": [
      "/usr/local/lib/python3.7/dist-packages/ipykernel_launcher.py:13: DeprecationWarning: Call to deprecated `__getitem__` (Method will be removed in 4.0.0, use self.wv.__getitem__() instead).\n",
      "  del sys.path[0]\n"
     ]
    },
    {
     "name": "stdout",
     "output_type": "stream",
     "text": [
      "Epoch 1/10\n",
      "336/336 [==============================] - 8s 16ms/step - loss: 0.4294 - accuracy: 0.8218\n",
      "Epoch 2/10\n",
      "336/336 [==============================] - 5s 16ms/step - loss: 0.3570 - accuracy: 0.8575\n",
      "Epoch 3/10\n",
      "336/336 [==============================] - 6s 16ms/step - loss: 0.2952 - accuracy: 0.8872\n",
      "Epoch 4/10\n",
      "336/336 [==============================] - 5s 16ms/step - loss: 0.2542 - accuracy: 0.9038\n",
      "Epoch 5/10\n",
      "336/336 [==============================] - 5s 16ms/step - loss: 0.2166 - accuracy: 0.9197\n",
      "Epoch 6/10\n",
      "336/336 [==============================] - 5s 16ms/step - loss: 0.1832 - accuracy: 0.9348\n",
      "Epoch 7/10\n",
      "336/336 [==============================] - 5s 16ms/step - loss: 0.1600 - accuracy: 0.9442\n",
      "Epoch 8/10\n",
      "336/336 [==============================] - 5s 16ms/step - loss: 0.1342 - accuracy: 0.9541\n",
      "Epoch 9/10\n",
      "336/336 [==============================] - 6s 16ms/step - loss: 0.1165 - accuracy: 0.9607\n",
      "Epoch 10/10\n",
      "336/336 [==============================] - 5s 16ms/step - loss: 0.0985 - accuracy: 0.9669\n"
     ]
    },
    {
     "name": "stderr",
     "output_type": "stream",
     "text": [
      "/usr/local/lib/python3.7/dist-packages/ipykernel_launcher.py:13: DeprecationWarning: Call to deprecated `__getitem__` (Method will be removed in 4.0.0, use self.wv.__getitem__() instead).\n",
      "  del sys.path[0]\n"
     ]
    },
    {
     "name": "stdout",
     "output_type": "stream",
     "text": [
      "Epoch 1/10\n",
      "336/336 [==============================] - 9s 17ms/step - loss: 0.4275 - accuracy: 0.8254\n",
      "Epoch 2/10\n",
      "336/336 [==============================] - 6s 17ms/step - loss: 0.3634 - accuracy: 0.8553\n",
      "Epoch 3/10\n",
      "336/336 [==============================] - 6s 17ms/step - loss: 0.3051 - accuracy: 0.8811\n",
      "Epoch 4/10\n",
      "336/336 [==============================] - 6s 17ms/step - loss: 0.2605 - accuracy: 0.8980\n",
      "Epoch 5/10\n",
      "336/336 [==============================] - 6s 17ms/step - loss: 0.2234 - accuracy: 0.9159\n",
      "Epoch 6/10\n",
      "336/336 [==============================] - 6s 17ms/step - loss: 0.1914 - accuracy: 0.9316\n",
      "Epoch 7/10\n",
      "336/336 [==============================] - 6s 17ms/step - loss: 0.1745 - accuracy: 0.9345\n",
      "Epoch 8/10\n",
      "336/336 [==============================] - 6s 17ms/step - loss: 0.1376 - accuracy: 0.9480\n",
      "Epoch 9/10\n",
      "336/336 [==============================] - 6s 17ms/step - loss: 0.1166 - accuracy: 0.9580\n",
      "Epoch 10/10\n",
      "336/336 [==============================] - 6s 17ms/step - loss: 0.0971 - accuracy: 0.9651\n"
     ]
    },
    {
     "name": "stderr",
     "output_type": "stream",
     "text": [
      "/usr/local/lib/python3.7/dist-packages/ipykernel_launcher.py:13: DeprecationWarning: Call to deprecated `__getitem__` (Method will be removed in 4.0.0, use self.wv.__getitem__() instead).\n",
      "  del sys.path[0]\n"
     ]
    },
    {
     "name": "stdout",
     "output_type": "stream",
     "text": [
      "Epoch 1/10\n",
      "336/336 [==============================] - 9s 17ms/step - loss: 0.4262 - accuracy: 0.8252\n",
      "Epoch 2/10\n",
      "336/336 [==============================] - 6s 17ms/step - loss: 0.3503 - accuracy: 0.8599\n",
      "Epoch 3/10\n",
      "336/336 [==============================] - 6s 17ms/step - loss: 0.2957 - accuracy: 0.8856\n",
      "Epoch 4/10\n",
      "336/336 [==============================] - 6s 17ms/step - loss: 0.2462 - accuracy: 0.9077\n",
      "Epoch 5/10\n",
      "336/336 [==============================] - 6s 17ms/step - loss: 0.2091 - accuracy: 0.9244\n",
      "Epoch 6/10\n",
      "336/336 [==============================] - 6s 17ms/step - loss: 0.1766 - accuracy: 0.9382\n",
      "Epoch 7/10\n",
      "336/336 [==============================] - 6s 17ms/step - loss: 0.1494 - accuracy: 0.9498\n",
      "Epoch 8/10\n",
      "336/336 [==============================] - 6s 17ms/step - loss: 0.1265 - accuracy: 0.9570\n",
      "Epoch 9/10\n",
      "336/336 [==============================] - 6s 17ms/step - loss: 0.1058 - accuracy: 0.9647\n",
      "Epoch 10/10\n",
      "336/336 [==============================] - 6s 17ms/step - loss: 0.0939 - accuracy: 0.9677\n"
     ]
    }
   ],
   "source": [
    "re = pipeline(X_train, y_train, X_test, y_test,n,0)\n",
    "results = pd.DataFrame(re)\n",
    "results = results.reindex(columns = ['Algorithm', 'Accuracy', 'Precision', 'Recall', 'F1 Score','AUC Score', 'Prediction Time'])"
   ]
  },
  {
   "cell_type": "code",
   "execution_count": 51,
   "metadata": {
    "colab": {
     "base_uri": "https://localhost:8080/",
     "height": 296
    },
    "id": "11F8ZNzlwVYC",
    "outputId": "c4810845-d164-440d-b1c2-b4c7872ccfae"
   },
   "outputs": [
    {
     "data": {
      "text/html": [
       "<div>\n",
       "<style scoped>\n",
       "    .dataframe tbody tr th:only-of-type {\n",
       "        vertical-align: middle;\n",
       "    }\n",
       "\n",
       "    .dataframe tbody tr th {\n",
       "        vertical-align: top;\n",
       "    }\n",
       "\n",
       "    .dataframe thead th {\n",
       "        text-align: right;\n",
       "    }\n",
       "</style>\n",
       "<table border=\"1\" class=\"dataframe\">\n",
       "  <thead>\n",
       "    <tr style=\"text-align: right;\">\n",
       "      <th></th>\n",
       "      <th>Algorithm</th>\n",
       "      <th>Accuracy</th>\n",
       "      <th>Precision</th>\n",
       "      <th>Recall</th>\n",
       "      <th>F1 Score</th>\n",
       "      <th>AUC Score</th>\n",
       "      <th>Prediction Time</th>\n",
       "    </tr>\n",
       "  </thead>\n",
       "  <tbody>\n",
       "    <tr>\n",
       "      <th>0</th>\n",
       "      <td>embedding50</td>\n",
       "      <td>0.911458</td>\n",
       "      <td>0.846477</td>\n",
       "      <td>0.754452</td>\n",
       "      <td>0.797820</td>\n",
       "      <td>0.856610</td>\n",
       "      <td>1.324256</td>\n",
       "    </tr>\n",
       "    <tr>\n",
       "      <th>1</th>\n",
       "      <td>embedding100</td>\n",
       "      <td>0.916667</td>\n",
       "      <td>0.882419</td>\n",
       "      <td>0.738519</td>\n",
       "      <td>0.804082</td>\n",
       "      <td>0.854433</td>\n",
       "      <td>1.423176</td>\n",
       "    </tr>\n",
       "    <tr>\n",
       "      <th>2</th>\n",
       "      <td>embedding150</td>\n",
       "      <td>0.919054</td>\n",
       "      <td>0.815455</td>\n",
       "      <td>0.840675</td>\n",
       "      <td>0.827873</td>\n",
       "      <td>0.891673</td>\n",
       "      <td>1.460490</td>\n",
       "    </tr>\n",
       "    <tr>\n",
       "      <th>3</th>\n",
       "      <td>embedding200</td>\n",
       "      <td>0.921875</td>\n",
       "      <td>0.880517</td>\n",
       "      <td>0.766635</td>\n",
       "      <td>0.819639</td>\n",
       "      <td>0.867644</td>\n",
       "      <td>1.582442</td>\n",
       "    </tr>\n",
       "    <tr>\n",
       "      <th>4</th>\n",
       "      <td>embedding250</td>\n",
       "      <td>0.922526</td>\n",
       "      <td>0.910880</td>\n",
       "      <td>0.737582</td>\n",
       "      <td>0.815122</td>\n",
       "      <td>0.857918</td>\n",
       "      <td>2.091518</td>\n",
       "    </tr>\n",
       "    <tr>\n",
       "      <th>5</th>\n",
       "      <td>embedding300</td>\n",
       "      <td>0.927734</td>\n",
       "      <td>0.871457</td>\n",
       "      <td>0.806935</td>\n",
       "      <td>0.837956</td>\n",
       "      <td>0.885535</td>\n",
       "      <td>1.479873</td>\n",
       "    </tr>\n",
       "    <tr>\n",
       "      <th>6</th>\n",
       "      <td>embedding350</td>\n",
       "      <td>0.929253</td>\n",
       "      <td>0.851852</td>\n",
       "      <td>0.840675</td>\n",
       "      <td>0.846226</td>\n",
       "      <td>0.898310</td>\n",
       "      <td>2.068149</td>\n",
       "    </tr>\n",
       "    <tr>\n",
       "      <th>7</th>\n",
       "      <td>embedding400</td>\n",
       "      <td>0.909288</td>\n",
       "      <td>0.781440</td>\n",
       "      <td>0.844424</td>\n",
       "      <td>0.811712</td>\n",
       "      <td>0.886629</td>\n",
       "      <td>1.636795</td>\n",
       "    </tr>\n",
       "  </tbody>\n",
       "</table>\n",
       "</div>"
      ],
      "text/plain": [
       "      Algorithm  Accuracy  Precision  ...  F1 Score  AUC Score  Prediction Time\n",
       "0   embedding50  0.911458   0.846477  ...  0.797820   0.856610         1.324256\n",
       "1  embedding100  0.916667   0.882419  ...  0.804082   0.854433         1.423176\n",
       "2  embedding150  0.919054   0.815455  ...  0.827873   0.891673         1.460490\n",
       "3  embedding200  0.921875   0.880517  ...  0.819639   0.867644         1.582442\n",
       "4  embedding250  0.922526   0.910880  ...  0.815122   0.857918         2.091518\n",
       "5  embedding300  0.927734   0.871457  ...  0.837956   0.885535         1.479873\n",
       "6  embedding350  0.929253   0.851852  ...  0.846226   0.898310         2.068149\n",
       "7  embedding400  0.909288   0.781440  ...  0.811712   0.886629         1.636795\n",
       "\n",
       "[8 rows x 7 columns]"
      ]
     },
     "execution_count": 51,
     "metadata": {
      "tags": []
     },
     "output_type": "execute_result"
    }
   ],
   "source": [
    "results"
   ]
  },
  {
   "cell_type": "code",
   "execution_count": 52,
   "metadata": {
    "id": "scsssMTcwdJN"
   },
   "outputs": [],
   "source": [
    "y1=results['AUC Score']"
   ]
  },
  {
   "cell_type": "code",
   "execution_count": 53,
   "metadata": {
    "colab": {
     "base_uri": "https://localhost:8080/",
     "height": 296
    },
    "id": "twTKYt-AMP2N",
    "outputId": "e61c0772-07cf-4684-b4dd-f580e214a1b2"
   },
   "outputs": [
    {
     "data": {
      "text/html": [
       "<div>\n",
       "<style scoped>\n",
       "    .dataframe tbody tr th:only-of-type {\n",
       "        vertical-align: middle;\n",
       "    }\n",
       "\n",
       "    .dataframe tbody tr th {\n",
       "        vertical-align: top;\n",
       "    }\n",
       "\n",
       "    .dataframe thead th {\n",
       "        text-align: right;\n",
       "    }\n",
       "</style>\n",
       "<table border=\"1\" class=\"dataframe\">\n",
       "  <thead>\n",
       "    <tr style=\"text-align: right;\">\n",
       "      <th></th>\n",
       "      <th>Algorithm</th>\n",
       "      <th>Accuracy</th>\n",
       "      <th>Precision</th>\n",
       "      <th>Recall</th>\n",
       "      <th>F1 Score</th>\n",
       "      <th>AUC Score</th>\n",
       "      <th>Prediction Time</th>\n",
       "    </tr>\n",
       "  </thead>\n",
       "  <tbody>\n",
       "    <tr>\n",
       "      <th>0</th>\n",
       "      <td>embedding350</td>\n",
       "      <td>0.929253</td>\n",
       "      <td>0.851852</td>\n",
       "      <td>0.840675</td>\n",
       "      <td>0.846226</td>\n",
       "      <td>0.898310</td>\n",
       "      <td>2.068149</td>\n",
       "    </tr>\n",
       "    <tr>\n",
       "      <th>1</th>\n",
       "      <td>embedding150</td>\n",
       "      <td>0.919054</td>\n",
       "      <td>0.815455</td>\n",
       "      <td>0.840675</td>\n",
       "      <td>0.827873</td>\n",
       "      <td>0.891673</td>\n",
       "      <td>1.460490</td>\n",
       "    </tr>\n",
       "    <tr>\n",
       "      <th>2</th>\n",
       "      <td>embedding400</td>\n",
       "      <td>0.909288</td>\n",
       "      <td>0.781440</td>\n",
       "      <td>0.844424</td>\n",
       "      <td>0.811712</td>\n",
       "      <td>0.886629</td>\n",
       "      <td>1.636795</td>\n",
       "    </tr>\n",
       "    <tr>\n",
       "      <th>3</th>\n",
       "      <td>embedding300</td>\n",
       "      <td>0.927734</td>\n",
       "      <td>0.871457</td>\n",
       "      <td>0.806935</td>\n",
       "      <td>0.837956</td>\n",
       "      <td>0.885535</td>\n",
       "      <td>1.479873</td>\n",
       "    </tr>\n",
       "    <tr>\n",
       "      <th>4</th>\n",
       "      <td>embedding200</td>\n",
       "      <td>0.921875</td>\n",
       "      <td>0.880517</td>\n",
       "      <td>0.766635</td>\n",
       "      <td>0.819639</td>\n",
       "      <td>0.867644</td>\n",
       "      <td>1.582442</td>\n",
       "    </tr>\n",
       "    <tr>\n",
       "      <th>5</th>\n",
       "      <td>embedding250</td>\n",
       "      <td>0.922526</td>\n",
       "      <td>0.910880</td>\n",
       "      <td>0.737582</td>\n",
       "      <td>0.815122</td>\n",
       "      <td>0.857918</td>\n",
       "      <td>2.091518</td>\n",
       "    </tr>\n",
       "    <tr>\n",
       "      <th>6</th>\n",
       "      <td>embedding50</td>\n",
       "      <td>0.911458</td>\n",
       "      <td>0.846477</td>\n",
       "      <td>0.754452</td>\n",
       "      <td>0.797820</td>\n",
       "      <td>0.856610</td>\n",
       "      <td>1.324256</td>\n",
       "    </tr>\n",
       "    <tr>\n",
       "      <th>7</th>\n",
       "      <td>embedding100</td>\n",
       "      <td>0.916667</td>\n",
       "      <td>0.882419</td>\n",
       "      <td>0.738519</td>\n",
       "      <td>0.804082</td>\n",
       "      <td>0.854433</td>\n",
       "      <td>1.423176</td>\n",
       "    </tr>\n",
       "  </tbody>\n",
       "</table>\n",
       "</div>"
      ],
      "text/plain": [
       "      Algorithm  Accuracy  Precision  ...  F1 Score  AUC Score  Prediction Time\n",
       "0  embedding350  0.929253   0.851852  ...  0.846226   0.898310         2.068149\n",
       "1  embedding150  0.919054   0.815455  ...  0.827873   0.891673         1.460490\n",
       "2  embedding400  0.909288   0.781440  ...  0.811712   0.886629         1.636795\n",
       "3  embedding300  0.927734   0.871457  ...  0.837956   0.885535         1.479873\n",
       "4  embedding200  0.921875   0.880517  ...  0.819639   0.867644         1.582442\n",
       "5  embedding250  0.922526   0.910880  ...  0.815122   0.857918         2.091518\n",
       "6   embedding50  0.911458   0.846477  ...  0.797820   0.856610         1.324256\n",
       "7  embedding100  0.916667   0.882419  ...  0.804082   0.854433         1.423176\n",
       "\n",
       "[8 rows x 7 columns]"
      ]
     },
     "execution_count": 53,
     "metadata": {
      "tags": []
     },
     "output_type": "execute_result"
    }
   ],
   "source": [
    "results.sort_values(by = 'AUC Score', inplace = True, ascending = False)\n",
    "results.reset_index(drop = True)"
   ]
  },
  {
   "cell_type": "markdown",
   "metadata": {
    "id": "zFEgZzYznJwT"
   },
   "source": [
    "SKIP GRAM"
   ]
  },
  {
   "cell_type": "code",
   "execution_count": 54,
   "metadata": {
    "colab": {
     "base_uri": "https://localhost:8080/"
    },
    "id": "j2HUW8VLnIXt",
    "outputId": "59c168dd-4317-4105-af96-c800731e3b57"
   },
   "outputs": [
    {
     "name": "stderr",
     "output_type": "stream",
     "text": [
      "/usr/local/lib/python3.7/dist-packages/ipykernel_launcher.py:13: DeprecationWarning: Call to deprecated `__getitem__` (Method will be removed in 4.0.0, use self.wv.__getitem__() instead).\n",
      "  del sys.path[0]\n"
     ]
    },
    {
     "name": "stdout",
     "output_type": "stream",
     "text": [
      "Epoch 1/10\n",
      "336/336 [==============================] - 8s 15ms/step - loss: 0.4411 - accuracy: 0.8194\n",
      "Epoch 2/10\n",
      "336/336 [==============================] - 5s 14ms/step - loss: 0.3746 - accuracy: 0.8522\n",
      "Epoch 3/10\n",
      "336/336 [==============================] - 5s 14ms/step - loss: 0.3435 - accuracy: 0.8641\n",
      "Epoch 4/10\n",
      "336/336 [==============================] - 5s 14ms/step - loss: 0.3202 - accuracy: 0.8748\n",
      "Epoch 5/10\n",
      "336/336 [==============================] - 5s 14ms/step - loss: 0.2851 - accuracy: 0.8882\n",
      "Epoch 6/10\n",
      "336/336 [==============================] - 5s 15ms/step - loss: 0.2542 - accuracy: 0.9006\n",
      "Epoch 7/10\n",
      "336/336 [==============================] - 5s 15ms/step - loss: 0.2387 - accuracy: 0.9055\n",
      "Epoch 8/10\n",
      "336/336 [==============================] - 5s 14ms/step - loss: 0.2131 - accuracy: 0.9174\n",
      "Epoch 9/10\n",
      "336/336 [==============================] - 5s 14ms/step - loss: 0.1960 - accuracy: 0.9262\n",
      "Epoch 10/10\n",
      "336/336 [==============================] - 5s 14ms/step - loss: 0.1875 - accuracy: 0.9282\n"
     ]
    },
    {
     "name": "stderr",
     "output_type": "stream",
     "text": [
      "/usr/local/lib/python3.7/dist-packages/ipykernel_launcher.py:13: DeprecationWarning: Call to deprecated `__getitem__` (Method will be removed in 4.0.0, use self.wv.__getitem__() instead).\n",
      "  del sys.path[0]\n"
     ]
    },
    {
     "name": "stdout",
     "output_type": "stream",
     "text": [
      "Epoch 1/10\n",
      "336/336 [==============================] - 8s 15ms/step - loss: 0.4350 - accuracy: 0.8173\n",
      "Epoch 2/10\n",
      "336/336 [==============================] - 5s 15ms/step - loss: 0.3626 - accuracy: 0.8507\n",
      "Epoch 3/10\n",
      "336/336 [==============================] - 5s 15ms/step - loss: 0.3056 - accuracy: 0.8806\n",
      "Epoch 4/10\n",
      "336/336 [==============================] - 5s 15ms/step - loss: 0.2564 - accuracy: 0.9014\n",
      "Epoch 5/10\n",
      "336/336 [==============================] - 5s 15ms/step - loss: 0.2221 - accuracy: 0.9141\n",
      "Epoch 6/10\n",
      "336/336 [==============================] - 5s 15ms/step - loss: 0.1951 - accuracy: 0.9288\n",
      "Epoch 7/10\n",
      "336/336 [==============================] - 5s 15ms/step - loss: 0.1744 - accuracy: 0.9364\n",
      "Epoch 8/10\n",
      "336/336 [==============================] - 5s 15ms/step - loss: 0.1492 - accuracy: 0.9427\n",
      "Epoch 9/10\n",
      "336/336 [==============================] - 5s 15ms/step - loss: 0.1344 - accuracy: 0.9529\n",
      "Epoch 10/10\n",
      "336/336 [==============================] - 5s 15ms/step - loss: 0.1220 - accuracy: 0.9557\n"
     ]
    },
    {
     "name": "stderr",
     "output_type": "stream",
     "text": [
      "/usr/local/lib/python3.7/dist-packages/ipykernel_launcher.py:13: DeprecationWarning: Call to deprecated `__getitem__` (Method will be removed in 4.0.0, use self.wv.__getitem__() instead).\n",
      "  del sys.path[0]\n"
     ]
    },
    {
     "name": "stdout",
     "output_type": "stream",
     "text": [
      "Epoch 1/10\n",
      "336/336 [==============================] - 8s 16ms/step - loss: 0.4244 - accuracy: 0.8232\n",
      "Epoch 2/10\n",
      "336/336 [==============================] - 5s 16ms/step - loss: 0.3497 - accuracy: 0.8599\n",
      "Epoch 3/10\n",
      "336/336 [==============================] - 5s 15ms/step - loss: 0.2967 - accuracy: 0.8847\n",
      "Epoch 4/10\n",
      "336/336 [==============================] - 5s 16ms/step - loss: 0.2528 - accuracy: 0.9020\n",
      "Epoch 5/10\n",
      "336/336 [==============================] - 5s 16ms/step - loss: 0.2211 - accuracy: 0.9138\n",
      "Epoch 6/10\n",
      "336/336 [==============================] - 5s 16ms/step - loss: 0.2113 - accuracy: 0.9204\n",
      "Epoch 7/10\n",
      "336/336 [==============================] - 5s 16ms/step - loss: 0.1792 - accuracy: 0.9313\n",
      "Epoch 8/10\n",
      "336/336 [==============================] - 5s 15ms/step - loss: 0.1479 - accuracy: 0.9439\n",
      "Epoch 9/10\n",
      "336/336 [==============================] - 5s 15ms/step - loss: 0.1316 - accuracy: 0.9513\n",
      "Epoch 10/10\n",
      "336/336 [==============================] - 5s 15ms/step - loss: 0.1196 - accuracy: 0.9576\n"
     ]
    },
    {
     "name": "stderr",
     "output_type": "stream",
     "text": [
      "/usr/local/lib/python3.7/dist-packages/ipykernel_launcher.py:13: DeprecationWarning: Call to deprecated `__getitem__` (Method will be removed in 4.0.0, use self.wv.__getitem__() instead).\n",
      "  del sys.path[0]\n"
     ]
    },
    {
     "name": "stdout",
     "output_type": "stream",
     "text": [
      "Epoch 1/10\n",
      "336/336 [==============================] - 8s 16ms/step - loss: 0.4243 - accuracy: 0.8247\n",
      "Epoch 2/10\n",
      "336/336 [==============================] - 5s 16ms/step - loss: 0.3420 - accuracy: 0.8608\n",
      "Epoch 3/10\n",
      "336/336 [==============================] - 5s 15ms/step - loss: 0.2888 - accuracy: 0.8874\n",
      "Epoch 4/10\n",
      "336/336 [==============================] - 5s 15ms/step - loss: 0.2451 - accuracy: 0.9052\n",
      "Epoch 5/10\n",
      "336/336 [==============================] - 5s 16ms/step - loss: 0.2059 - accuracy: 0.9236\n",
      "Epoch 6/10\n",
      "336/336 [==============================] - 5s 16ms/step - loss: 0.1704 - accuracy: 0.9379\n",
      "Epoch 7/10\n",
      "336/336 [==============================] - 5s 16ms/step - loss: 0.1447 - accuracy: 0.9496\n",
      "Epoch 8/10\n",
      "336/336 [==============================] - 5s 16ms/step - loss: 0.1252 - accuracy: 0.9553\n",
      "Epoch 9/10\n",
      "336/336 [==============================] - 5s 16ms/step - loss: 0.1046 - accuracy: 0.9628\n",
      "Epoch 10/10\n",
      "336/336 [==============================] - 5s 16ms/step - loss: 0.0872 - accuracy: 0.9704\n"
     ]
    },
    {
     "name": "stderr",
     "output_type": "stream",
     "text": [
      "/usr/local/lib/python3.7/dist-packages/ipykernel_launcher.py:13: DeprecationWarning: Call to deprecated `__getitem__` (Method will be removed in 4.0.0, use self.wv.__getitem__() instead).\n",
      "  del sys.path[0]\n"
     ]
    },
    {
     "name": "stdout",
     "output_type": "stream",
     "text": [
      "Epoch 1/10\n",
      "336/336 [==============================] - 9s 16ms/step - loss: 0.4224 - accuracy: 0.8262\n",
      "Epoch 2/10\n",
      "336/336 [==============================] - 5s 16ms/step - loss: 0.3479 - accuracy: 0.8605\n",
      "Epoch 3/10\n",
      "336/336 [==============================] - 5s 16ms/step - loss: 0.2970 - accuracy: 0.8841\n",
      "Epoch 4/10\n",
      "336/336 [==============================] - 5s 16ms/step - loss: 0.2488 - accuracy: 0.9051\n",
      "Epoch 5/10\n",
      "336/336 [==============================] - 5s 16ms/step - loss: 0.2108 - accuracy: 0.9230\n",
      "Epoch 6/10\n",
      "336/336 [==============================] - 5s 16ms/step - loss: 0.1771 - accuracy: 0.9340\n",
      "Epoch 7/10\n",
      "336/336 [==============================] - 5s 16ms/step - loss: 0.1492 - accuracy: 0.9460\n",
      "Epoch 8/10\n",
      "336/336 [==============================] - 5s 16ms/step - loss: 0.1234 - accuracy: 0.9559\n",
      "Epoch 9/10\n",
      "336/336 [==============================] - 5s 16ms/step - loss: 0.1054 - accuracy: 0.9629\n",
      "Epoch 10/10\n",
      "336/336 [==============================] - 5s 16ms/step - loss: 0.0879 - accuracy: 0.9702\n"
     ]
    },
    {
     "name": "stderr",
     "output_type": "stream",
     "text": [
      "/usr/local/lib/python3.7/dist-packages/ipykernel_launcher.py:13: DeprecationWarning: Call to deprecated `__getitem__` (Method will be removed in 4.0.0, use self.wv.__getitem__() instead).\n",
      "  del sys.path[0]\n"
     ]
    },
    {
     "name": "stdout",
     "output_type": "stream",
     "text": [
      "Epoch 1/10\n",
      "336/336 [==============================] - 8s 16ms/step - loss: 0.4226 - accuracy: 0.8217\n",
      "Epoch 2/10\n",
      "336/336 [==============================] - 5s 16ms/step - loss: 0.3507 - accuracy: 0.8563\n",
      "Epoch 3/10\n",
      "336/336 [==============================] - 5s 16ms/step - loss: 0.2926 - accuracy: 0.8826\n",
      "Epoch 4/10\n",
      "336/336 [==============================] - 5s 16ms/step - loss: 0.2369 - accuracy: 0.9101\n",
      "Epoch 5/10\n",
      "336/336 [==============================] - 5s 16ms/step - loss: 0.1967 - accuracy: 0.9263\n",
      "Epoch 6/10\n",
      "336/336 [==============================] - 5s 16ms/step - loss: 0.1677 - accuracy: 0.9406\n",
      "Epoch 7/10\n",
      "336/336 [==============================] - 5s 16ms/step - loss: 0.1418 - accuracy: 0.9491\n",
      "Epoch 8/10\n",
      "336/336 [==============================] - 5s 16ms/step - loss: 0.1144 - accuracy: 0.9587\n",
      "Epoch 9/10\n",
      "336/336 [==============================] - 5s 16ms/step - loss: 0.0998 - accuracy: 0.9636\n",
      "Epoch 10/10\n",
      "336/336 [==============================] - 5s 16ms/step - loss: 0.0903 - accuracy: 0.9685\n"
     ]
    },
    {
     "name": "stderr",
     "output_type": "stream",
     "text": [
      "/usr/local/lib/python3.7/dist-packages/ipykernel_launcher.py:13: DeprecationWarning: Call to deprecated `__getitem__` (Method will be removed in 4.0.0, use self.wv.__getitem__() instead).\n",
      "  del sys.path[0]\n"
     ]
    },
    {
     "name": "stdout",
     "output_type": "stream",
     "text": [
      "Epoch 1/10\n",
      "336/336 [==============================] - 9s 17ms/step - loss: 0.4174 - accuracy: 0.8269\n",
      "Epoch 2/10\n",
      "336/336 [==============================] - 6s 16ms/step - loss: 0.3464 - accuracy: 0.8607\n",
      "Epoch 3/10\n",
      "336/336 [==============================] - 6s 16ms/step - loss: 0.2930 - accuracy: 0.8816\n",
      "Epoch 4/10\n",
      "336/336 [==============================] - 6s 16ms/step - loss: 0.2392 - accuracy: 0.9063\n",
      "Epoch 5/10\n",
      "336/336 [==============================] - 6s 17ms/step - loss: 0.2003 - accuracy: 0.9220\n",
      "Epoch 6/10\n",
      "336/336 [==============================] - 6s 16ms/step - loss: 0.1674 - accuracy: 0.9359\n",
      "Epoch 7/10\n",
      "336/336 [==============================] - 6s 17ms/step - loss: 0.1367 - accuracy: 0.9521\n",
      "Epoch 8/10\n",
      "336/336 [==============================] - 6s 16ms/step - loss: 0.1074 - accuracy: 0.9635\n",
      "Epoch 9/10\n",
      "336/336 [==============================] - 6s 16ms/step - loss: 0.0965 - accuracy: 0.9673\n",
      "Epoch 10/10\n",
      "336/336 [==============================] - 6s 17ms/step - loss: 0.0781 - accuracy: 0.9742\n"
     ]
    },
    {
     "name": "stderr",
     "output_type": "stream",
     "text": [
      "/usr/local/lib/python3.7/dist-packages/ipykernel_launcher.py:13: DeprecationWarning: Call to deprecated `__getitem__` (Method will be removed in 4.0.0, use self.wv.__getitem__() instead).\n",
      "  del sys.path[0]\n"
     ]
    },
    {
     "name": "stdout",
     "output_type": "stream",
     "text": [
      "Epoch 1/10\n",
      "336/336 [==============================] - 9s 17ms/step - loss: 0.4252 - accuracy: 0.8210\n",
      "Epoch 2/10\n",
      "336/336 [==============================] - 6s 17ms/step - loss: 0.3440 - accuracy: 0.8607\n",
      "Epoch 3/10\n",
      "336/336 [==============================] - 6s 17ms/step - loss: 0.2837 - accuracy: 0.8913\n",
      "Epoch 4/10\n",
      "336/336 [==============================] - 6s 17ms/step - loss: 0.2345 - accuracy: 0.9119\n",
      "Epoch 5/10\n",
      "336/336 [==============================] - 6s 17ms/step - loss: 0.1935 - accuracy: 0.9298\n",
      "Epoch 6/10\n",
      "336/336 [==============================] - 6s 17ms/step - loss: 0.1609 - accuracy: 0.9450\n",
      "Epoch 7/10\n",
      "336/336 [==============================] - 6s 17ms/step - loss: 0.1418 - accuracy: 0.9494\n",
      "Epoch 8/10\n",
      "336/336 [==============================] - 6s 17ms/step - loss: 0.1131 - accuracy: 0.9607\n",
      "Epoch 9/10\n",
      "336/336 [==============================] - 6s 17ms/step - loss: 0.1077 - accuracy: 0.9627\n",
      "Epoch 10/10\n",
      "336/336 [==============================] - 6s 17ms/step - loss: 0.0795 - accuracy: 0.9748\n"
     ]
    }
   ],
   "source": [
    "re = pipeline(X_train, y_train, X_test, y_test,n,1)\n",
    "results = pd.DataFrame(re)\n",
    "results = results.reindex(columns = ['Algorithm', 'Accuracy', 'Precision', 'Recall', 'F1 Score','AUC Score', 'Prediction Time'])"
   ]
  },
  {
   "cell_type": "code",
   "execution_count": 55,
   "metadata": {
    "colab": {
     "base_uri": "https://localhost:8080/",
     "height": 296
    },
    "id": "lCxzwSIowZI0",
    "outputId": "dbd02e03-6f64-4993-f964-0d19bd2a17e3"
   },
   "outputs": [
    {
     "data": {
      "text/html": [
       "<div>\n",
       "<style scoped>\n",
       "    .dataframe tbody tr th:only-of-type {\n",
       "        vertical-align: middle;\n",
       "    }\n",
       "\n",
       "    .dataframe tbody tr th {\n",
       "        vertical-align: top;\n",
       "    }\n",
       "\n",
       "    .dataframe thead th {\n",
       "        text-align: right;\n",
       "    }\n",
       "</style>\n",
       "<table border=\"1\" class=\"dataframe\">\n",
       "  <thead>\n",
       "    <tr style=\"text-align: right;\">\n",
       "      <th></th>\n",
       "      <th>Algorithm</th>\n",
       "      <th>Accuracy</th>\n",
       "      <th>Precision</th>\n",
       "      <th>Recall</th>\n",
       "      <th>F1 Score</th>\n",
       "      <th>AUC Score</th>\n",
       "      <th>Prediction Time</th>\n",
       "    </tr>\n",
       "  </thead>\n",
       "  <tbody>\n",
       "    <tr>\n",
       "      <th>0</th>\n",
       "      <td>embedding50</td>\n",
       "      <td>0.910156</td>\n",
       "      <td>0.861573</td>\n",
       "      <td>0.729147</td>\n",
       "      <td>0.789848</td>\n",
       "      <td>0.846923</td>\n",
       "      <td>1.866791</td>\n",
       "    </tr>\n",
       "    <tr>\n",
       "      <th>1</th>\n",
       "      <td>embedding100</td>\n",
       "      <td>0.922960</td>\n",
       "      <td>0.898210</td>\n",
       "      <td>0.752577</td>\n",
       "      <td>0.818970</td>\n",
       "      <td>0.863439</td>\n",
       "      <td>1.534702</td>\n",
       "    </tr>\n",
       "    <tr>\n",
       "      <th>2</th>\n",
       "      <td>embedding150</td>\n",
       "      <td>0.924913</td>\n",
       "      <td>0.944513</td>\n",
       "      <td>0.717901</td>\n",
       "      <td>0.815761</td>\n",
       "      <td>0.852596</td>\n",
       "      <td>2.035366</td>\n",
       "    </tr>\n",
       "    <tr>\n",
       "      <th>3</th>\n",
       "      <td>embedding200</td>\n",
       "      <td>0.927517</td>\n",
       "      <td>0.864677</td>\n",
       "      <td>0.814433</td>\n",
       "      <td>0.838803</td>\n",
       "      <td>0.888013</td>\n",
       "      <td>1.485646</td>\n",
       "    </tr>\n",
       "    <tr>\n",
       "      <th>4</th>\n",
       "      <td>embedding250</td>\n",
       "      <td>0.939670</td>\n",
       "      <td>0.886386</td>\n",
       "      <td>0.848172</td>\n",
       "      <td>0.866858</td>\n",
       "      <td>0.907707</td>\n",
       "      <td>1.465477</td>\n",
       "    </tr>\n",
       "    <tr>\n",
       "      <th>5</th>\n",
       "      <td>embedding300</td>\n",
       "      <td>0.930339</td>\n",
       "      <td>0.914444</td>\n",
       "      <td>0.771321</td>\n",
       "      <td>0.836807</td>\n",
       "      <td>0.874788</td>\n",
       "      <td>1.564173</td>\n",
       "    </tr>\n",
       "    <tr>\n",
       "      <th>6</th>\n",
       "      <td>embedding350</td>\n",
       "      <td>0.938802</td>\n",
       "      <td>0.917998</td>\n",
       "      <td>0.807873</td>\n",
       "      <td>0.859422</td>\n",
       "      <td>0.893064</td>\n",
       "      <td>1.623670</td>\n",
       "    </tr>\n",
       "    <tr>\n",
       "      <th>7</th>\n",
       "      <td>embedding400</td>\n",
       "      <td>0.937717</td>\n",
       "      <td>0.877176</td>\n",
       "      <td>0.850047</td>\n",
       "      <td>0.863398</td>\n",
       "      <td>0.907091</td>\n",
       "      <td>1.548944</td>\n",
       "    </tr>\n",
       "  </tbody>\n",
       "</table>\n",
       "</div>"
      ],
      "text/plain": [
       "      Algorithm  Accuracy  Precision  ...  F1 Score  AUC Score  Prediction Time\n",
       "0   embedding50  0.910156   0.861573  ...  0.789848   0.846923         1.866791\n",
       "1  embedding100  0.922960   0.898210  ...  0.818970   0.863439         1.534702\n",
       "2  embedding150  0.924913   0.944513  ...  0.815761   0.852596         2.035366\n",
       "3  embedding200  0.927517   0.864677  ...  0.838803   0.888013         1.485646\n",
       "4  embedding250  0.939670   0.886386  ...  0.866858   0.907707         1.465477\n",
       "5  embedding300  0.930339   0.914444  ...  0.836807   0.874788         1.564173\n",
       "6  embedding350  0.938802   0.917998  ...  0.859422   0.893064         1.623670\n",
       "7  embedding400  0.937717   0.877176  ...  0.863398   0.907091         1.548944\n",
       "\n",
       "[8 rows x 7 columns]"
      ]
     },
     "execution_count": 55,
     "metadata": {
      "tags": []
     },
     "output_type": "execute_result"
    }
   ],
   "source": [
    "results"
   ]
  },
  {
   "cell_type": "code",
   "execution_count": 56,
   "metadata": {
    "id": "aJP8HDk3wlvi"
   },
   "outputs": [],
   "source": [
    "y2=results['AUC Score']"
   ]
  },
  {
   "cell_type": "code",
   "execution_count": 57,
   "metadata": {
    "colab": {
     "base_uri": "https://localhost:8080/",
     "height": 296
    },
    "id": "iWcdrLi0wZI1",
    "outputId": "c14d1c27-b55d-49b9-e58a-28be0340ecd9"
   },
   "outputs": [
    {
     "data": {
      "text/html": [
       "<div>\n",
       "<style scoped>\n",
       "    .dataframe tbody tr th:only-of-type {\n",
       "        vertical-align: middle;\n",
       "    }\n",
       "\n",
       "    .dataframe tbody tr th {\n",
       "        vertical-align: top;\n",
       "    }\n",
       "\n",
       "    .dataframe thead th {\n",
       "        text-align: right;\n",
       "    }\n",
       "</style>\n",
       "<table border=\"1\" class=\"dataframe\">\n",
       "  <thead>\n",
       "    <tr style=\"text-align: right;\">\n",
       "      <th></th>\n",
       "      <th>Algorithm</th>\n",
       "      <th>Accuracy</th>\n",
       "      <th>Precision</th>\n",
       "      <th>Recall</th>\n",
       "      <th>F1 Score</th>\n",
       "      <th>AUC Score</th>\n",
       "      <th>Prediction Time</th>\n",
       "    </tr>\n",
       "  </thead>\n",
       "  <tbody>\n",
       "    <tr>\n",
       "      <th>0</th>\n",
       "      <td>embedding250</td>\n",
       "      <td>0.939670</td>\n",
       "      <td>0.886386</td>\n",
       "      <td>0.848172</td>\n",
       "      <td>0.866858</td>\n",
       "      <td>0.907707</td>\n",
       "      <td>1.465477</td>\n",
       "    </tr>\n",
       "    <tr>\n",
       "      <th>1</th>\n",
       "      <td>embedding400</td>\n",
       "      <td>0.937717</td>\n",
       "      <td>0.877176</td>\n",
       "      <td>0.850047</td>\n",
       "      <td>0.863398</td>\n",
       "      <td>0.907091</td>\n",
       "      <td>1.548944</td>\n",
       "    </tr>\n",
       "    <tr>\n",
       "      <th>2</th>\n",
       "      <td>embedding350</td>\n",
       "      <td>0.938802</td>\n",
       "      <td>0.917998</td>\n",
       "      <td>0.807873</td>\n",
       "      <td>0.859422</td>\n",
       "      <td>0.893064</td>\n",
       "      <td>1.623670</td>\n",
       "    </tr>\n",
       "    <tr>\n",
       "      <th>3</th>\n",
       "      <td>embedding200</td>\n",
       "      <td>0.927517</td>\n",
       "      <td>0.864677</td>\n",
       "      <td>0.814433</td>\n",
       "      <td>0.838803</td>\n",
       "      <td>0.888013</td>\n",
       "      <td>1.485646</td>\n",
       "    </tr>\n",
       "    <tr>\n",
       "      <th>4</th>\n",
       "      <td>embedding300</td>\n",
       "      <td>0.930339</td>\n",
       "      <td>0.914444</td>\n",
       "      <td>0.771321</td>\n",
       "      <td>0.836807</td>\n",
       "      <td>0.874788</td>\n",
       "      <td>1.564173</td>\n",
       "    </tr>\n",
       "    <tr>\n",
       "      <th>5</th>\n",
       "      <td>embedding100</td>\n",
       "      <td>0.922960</td>\n",
       "      <td>0.898210</td>\n",
       "      <td>0.752577</td>\n",
       "      <td>0.818970</td>\n",
       "      <td>0.863439</td>\n",
       "      <td>1.534702</td>\n",
       "    </tr>\n",
       "    <tr>\n",
       "      <th>6</th>\n",
       "      <td>embedding150</td>\n",
       "      <td>0.924913</td>\n",
       "      <td>0.944513</td>\n",
       "      <td>0.717901</td>\n",
       "      <td>0.815761</td>\n",
       "      <td>0.852596</td>\n",
       "      <td>2.035366</td>\n",
       "    </tr>\n",
       "    <tr>\n",
       "      <th>7</th>\n",
       "      <td>embedding50</td>\n",
       "      <td>0.910156</td>\n",
       "      <td>0.861573</td>\n",
       "      <td>0.729147</td>\n",
       "      <td>0.789848</td>\n",
       "      <td>0.846923</td>\n",
       "      <td>1.866791</td>\n",
       "    </tr>\n",
       "  </tbody>\n",
       "</table>\n",
       "</div>"
      ],
      "text/plain": [
       "      Algorithm  Accuracy  Precision  ...  F1 Score  AUC Score  Prediction Time\n",
       "0  embedding250  0.939670   0.886386  ...  0.866858   0.907707         1.465477\n",
       "1  embedding400  0.937717   0.877176  ...  0.863398   0.907091         1.548944\n",
       "2  embedding350  0.938802   0.917998  ...  0.859422   0.893064         1.623670\n",
       "3  embedding200  0.927517   0.864677  ...  0.838803   0.888013         1.485646\n",
       "4  embedding300  0.930339   0.914444  ...  0.836807   0.874788         1.564173\n",
       "5  embedding100  0.922960   0.898210  ...  0.818970   0.863439         1.534702\n",
       "6  embedding150  0.924913   0.944513  ...  0.815761   0.852596         2.035366\n",
       "7   embedding50  0.910156   0.861573  ...  0.789848   0.846923         1.866791\n",
       "\n",
       "[8 rows x 7 columns]"
      ]
     },
     "execution_count": 57,
     "metadata": {
      "tags": []
     },
     "output_type": "execute_result"
    }
   ],
   "source": [
    "results.sort_values(by = 'AUC Score', inplace = True, ascending = False)\n",
    "results.reset_index(drop = True)"
   ]
  },
  {
   "cell_type": "markdown",
   "metadata": {
    "id": "FEBsJ1JDwu3n"
   },
   "source": [
    "GRAPH"
   ]
  },
  {
   "cell_type": "code",
   "execution_count": 58,
   "metadata": {
    "colab": {
     "base_uri": "https://localhost:8080/"
    },
    "id": "SQiKBlngymH5",
    "outputId": "e61e11fb-2dd5-4202-f7d2-256fc03c3e8b"
   },
   "outputs": [
    {
     "data": {
      "text/plain": [
       "0    0.856610\n",
       "1    0.854433\n",
       "2    0.891673\n",
       "3    0.867644\n",
       "4    0.857918\n",
       "5    0.885535\n",
       "6    0.898310\n",
       "7    0.886629\n",
       "Name: AUC Score, dtype: float64"
      ]
     },
     "execution_count": 58,
     "metadata": {
      "tags": []
     },
     "output_type": "execute_result"
    }
   ],
   "source": [
    "y1"
   ]
  },
  {
   "cell_type": "code",
   "execution_count": 59,
   "metadata": {
    "colab": {
     "base_uri": "https://localhost:8080/"
    },
    "id": "X3_hXm0qynuY",
    "outputId": "9a1f3185-3222-4d15-d6d7-dec85c10bf41"
   },
   "outputs": [
    {
     "data": {
      "text/plain": [
       "0    0.846923\n",
       "1    0.863439\n",
       "2    0.852596\n",
       "3    0.888013\n",
       "4    0.907707\n",
       "5    0.874788\n",
       "6    0.893064\n",
       "7    0.907091\n",
       "Name: AUC Score, dtype: float64"
      ]
     },
     "execution_count": 59,
     "metadata": {
      "tags": []
     },
     "output_type": "execute_result"
    }
   ],
   "source": [
    "y2"
   ]
  },
  {
   "cell_type": "code",
   "execution_count": 60,
   "metadata": {
    "colab": {
     "base_uri": "https://localhost:8080/"
    },
    "id": "wocctiaXzFhf",
    "outputId": "24ecd0cf-d23f-4302-c5f4-4e115c6e5bc2"
   },
   "outputs": [
    {
     "data": {
      "text/plain": [
       "array([0.85661022, 0.85443329, 0.89167318, 0.86764417, 0.85791837,\n",
       "       0.88553488, 0.89830972, 0.88662864])"
      ]
     },
     "execution_count": 60,
     "metadata": {
      "tags": []
     },
     "output_type": "execute_result"
    }
   ],
   "source": [
    "y1=np.array(y1)\n",
    "y1"
   ]
  },
  {
   "cell_type": "code",
   "execution_count": 61,
   "metadata": {
    "colab": {
     "base_uri": "https://localhost:8080/"
    },
    "id": "sa_C_a-4zXuP",
    "outputId": "fbf35382-b335-4470-93a3-b4f36b5f595d"
   },
   "outputs": [
    {
     "data": {
      "text/plain": [
       "array([0.84692319, 0.86343918, 0.85259619, 0.88801288, 0.90770667,\n",
       "       0.8747881 , 0.89306364, 0.90709064])"
      ]
     },
     "execution_count": 61,
     "metadata": {
      "tags": []
     },
     "output_type": "execute_result"
    }
   ],
   "source": [
    "y2=np.array(y2)\n",
    "y2"
   ]
  },
  {
   "cell_type": "code",
   "execution_count": 62,
   "metadata": {
    "colab": {
     "base_uri": "https://localhost:8080/",
     "height": 296
    },
    "id": "6hdRhocaZiRD",
    "outputId": "a702105e-b2ea-423a-a861-399a0ff932ca"
   },
   "outputs": [
    {
     "data": {
      "image/png": "[encoded data removed]",
      "text/plain": [
       "<Figure size 432x288 with 1 Axes>"
      ]
     },
     "metadata": {
      "needs_background": "light",
      "tags": []
     },
     "output_type": "display_data"
    }
   ],
   "source": [
    "plt.plot(n,y1,label=\"CBOW\",marker='o')\n",
    "plt.plot(n,y2,label=\"SKIP GRAM\",marker='o')\n",
    "plt.axis([0,450,0.75,1.00])\n",
    "plt.xlabel('EMBEDDING_DIM')\n",
    "plt.ylabel('AUC-Score')\n",
    "plt.legend()\n",
    "plt.title('BiLSTM Attention AUC-Score For Different Embedding Dimensions')\n",
    "# plt.savefig('skipgram.png')\n",
    "plt.show()\n"
   ]
  },
  {
   "cell_type": "code",
   "execution_count": 62,
   "metadata": {
    "id": "RgHGcjnBzacE"
   },
   "outputs": [],
   "source": []
  }
 ],
 "metadata": {
  "accelerator": "GPU",
  "colab": {
   "collapsed_sections": [],
   "name": "formspring_word2vec_BiLSTM_Attention.ipynb",
   "provenance": []
  },
  "kernelspec": {
   "display_name": "Python 3",
   "language": "python",
   "name": "python3"
  },
  "language_info": {
   "codemirror_mode": {
    "name": "ipython",
    "version": 3
   },
   "file_extension": ".py",
   "mimetype": "text/x-python",
   "name": "python",
   "nbconvert_exporter": "python",
   "pygments_lexer": "ipython3",
   "version": "3.8.8"
  }
 },
 "nbformat": 4,
 "nbformat_minor": 1
}
